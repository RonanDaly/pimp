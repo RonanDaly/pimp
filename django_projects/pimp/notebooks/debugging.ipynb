{
 "cells": [
  {
   "cell_type": "code",
   "execution_count": 1,
   "metadata": {
    "collapsed": true
   },
   "outputs": [],
   "source": [
    "%load_ext autoreload\n",
    "%autoreload 2"
   ]
  },
  {
   "cell_type": "code",
   "execution_count": 2,
   "metadata": {
    "collapsed": true
   },
   "outputs": [],
   "source": [
    "from experiments.pipelines.pipeline_rpy2 import Rpy2Pipeline"
   ]
  },
  {
   "cell_type": "code",
   "execution_count": 3,
   "metadata": {
    "collapsed": false,
    "scrolled": false
   },
   "outputs": [
    {
     "name": "stderr",
     "output_type": "stream",
     "text": [
      "DEBUG 2017-02-08 12:08:08,024 utils.py:91 | (0.007) SET SQL_AUTO_IS_NULL = 0; args=None\n",
      "DEBUG 2017-02-08 12:08:08,027 utils.py:91 | (0.002) SELECT `experiments_analysis`.`id`, `experiments_analysis`.`created`, `experiments_analysis`.`submited`, `experiments_analysis`.`owner`, `experiments_analysis`.`experiment_id`, `experiments_analysis`.`params_id`, `experiments_analysis`.`status` FROM `experiments_analysis` WHERE `experiments_analysis`.`id` = 4 LIMIT 21; args=(4,)\n"
     ]
    }
   ],
   "source": [
    "analysis = Analysis.objects.get_or_create(id=4)[0]"
   ]
  },
  {
   "cell_type": "code",
   "execution_count": 4,
   "metadata": {
    "collapsed": false
   },
   "outputs": [
    {
     "name": "stderr",
     "output_type": "stream",
     "text": [
      "DEBUG 2017-02-08 12:08:10,527 utils.py:91 | (0.003) SELECT `projects_project`.`id`, `projects_project`.`title`, `projects_project`.`user_owner_id`, `projects_project`.`description`, `projects_project`.`created`, `projects_project`.`modified` FROM `projects_project` WHERE `projects_project`.`id` = 3 LIMIT 21; args=(3,)\n"
     ]
    }
   ],
   "source": [
    "project = Project.objects.get_or_create(id=3)[0]"
   ]
  },
  {
   "cell_type": "code",
   "execution_count": 5,
   "metadata": {
    "collapsed": false
   },
   "outputs": [
    {
     "name": "stderr",
     "output_type": "stream",
     "text": [
      "INFO 2017-02-08 12:08:12,803 pipeline_rpy2.py:46 | ******************************************\n",
      "INFO 2017-02-08 12:08:12,805 pipeline_rpy2.py:47 | Setup rpy2 connection\n",
      "INFO 2017-02-08 12:08:12,806 pipeline_rpy2.py:48 | ******************************************\n"
     ]
    },
    {
     "name": "stdout",
     "output_type": "stream",
     "text": [
      "[1] \"Initialising PuMP logging\"\n",
      "[1] \"PuMP log level set to DEBUG\""
     ]
    },
    {
     "name": "stderr",
     "output_type": "stream",
     "text": [
      "/home/pimp/pimp/venv/local/lib/python2.7/site-packages/rpy2/robjects/packages.py:63: UserWarning: Note: the specification for S3 class \"AsIs\" in package 'RJSONIO' seems equivalent to one from package 'BiocGenerics': not turning on duplicate class definitions for this class.\n",
      "\n",
      "  return _reval(expr)\n",
      "\n",
      "WARNING 2017-02-08 12:08:28,325 packages.py:63 | /home/pimp/pimp/venv/local/lib/python2.7/site-packages/rpy2/robjects/packages.py:63: UserWarning: Note: the specification for S3 class \"AsIs\" in package 'RJSONIO' seems equivalent to one from package 'BiocGenerics': not turning on duplicate class definitions for this class.\n",
      "\n",
      "  return _reval(expr)\n",
      "\n"
     ]
    },
    {
     "name": "stdout",
     "output_type": "stream",
     "text": [
      "\n",
      "2017-02-08 12:08:27 ERROR:pump.misc.initialisePuMPLogging:Logging at ERROR level\n",
      "2017-02-08 12:08:27 WARNING:pump.misc.initialisePuMPLogging:Logging at WARNING level\n",
      "2017-02-08 12:08:27 INFO:pump.misc.initialisePuMPLogging:Logging at INFO level\n",
      "2017-02-08 12:08:27 DEBUG:pump.misc.initialisePuMPLogging:Logging at DEBUG level\n",
      "2017-02-08 12:08:30 INFO:PeakML.Isotope.plotSamples:OS type: x86_64-pc-linux-gnu\n",
      "2017-02-08 12:08:30 INFO:PeakML.Isotope.plotSamples:Java parameters are: -Xmx512m\n",
      "2017-02-08 12:08:31 INFO:PeakML.Isotope.plotSamples:Using jar file /home/pimp/pimp/packrat/lib/x86_64-pc-linux-gnu/3.2.3/mzmatch.R/java/mzmatch-2.1-with-dependencies.jar\n",
      "2017-02-08 12:08:31 INFO:PeakML.Isotope.plotSamples:Using SWT file /home/pimp/pimp/packrat/lib/x86_64-pc-linux-gnu/3.2.3/mzmatch.R/java/swt-4.5-gtk-linux-x86_64.jar\n",
      "[1] \"Initialising PiMP logging\"\n",
      "[1] \"PiMP log level set to DEBUG\"\n",
      "2017-02-08 12:08:31 ERROR:Pimp.extra.initialisePiMPLogging:Logging at ERROR level\n",
      "2017-02-08 12:08:31 WARNING:Pimp.extra.initialisePiMPLogging:Logging at WARNING level\n",
      "2017-02-08 12:08:31 INFO:Pimp.extra.initialisePiMPLogging:Logging at INFO level\n",
      "2017-02-08 12:08:31 DEBUG:Pimp.extra.initialisePiMPLogging:Logging at DEBUG level\n"
     ]
    },
    {
     "name": "stderr",
     "output_type": "stream",
     "text": [
      "DEBUG 2017-02-08 12:08:32,143 utils.py:91 | (0.003) SELECT `experiments_experiment`.`id`, `experiments_experiment`.`title`, `experiments_experiment`.`created`, `experiments_experiment`.`modified` FROM `experiments_experiment` WHERE `experiments_experiment`.`id` = 4 LIMIT 21; args=(4,)\n",
      "DEBUG 2017-02-08 12:08:32,173 utils.py:91 | (0.021) SELECT `fileupload_picture`.`file` FROM `fileupload_picture` INNER JOIN `fileupload_samplefilegroup` ON ( `fileupload_picture`.`id` = `fileupload_samplefilegroup`.`posdata_id` ) INNER JOIN `fileupload_sample` ON ( `fileupload_samplefilegroup`.`id` = `fileupload_sample`.`samplefile_id` ) WHERE (`fileupload_sample`.`id`) IN (SELECT DISTINCT U0.`id` FROM `fileupload_sample` U0 INNER JOIN `groups_sampleattribute` U1 ON ( U0.`id` = U1.`sample_id` ) INNER JOIN `groups_attribute` U2 ON ( U1.`attribute_id` = U2.`id` ) INNER JOIN `experiments_attributecomparison` U3 ON ( U2.`id` = U3.`attribute_id` ) INNER JOIN `experiments_comparison` U4 ON ( U3.`comparison_id` = U4.`id` ) WHERE U4.`experiment_id` = 4); args=(4,)\n",
      "DEBUG 2017-02-08 12:08:32,177 utils.py:91 | (0.002) SELECT `fileupload_picture`.`file` FROM `fileupload_picture` INNER JOIN `fileupload_samplefilegroup` ON ( `fileupload_picture`.`id` = `fileupload_samplefilegroup`.`negdata_id` ) INNER JOIN `fileupload_sample` ON ( `fileupload_samplefilegroup`.`id` = `fileupload_sample`.`samplefile_id` ) WHERE (`fileupload_sample`.`id`) IN (SELECT DISTINCT U0.`id` FROM `fileupload_sample` U0 INNER JOIN `groups_sampleattribute` U1 ON ( U0.`id` = U1.`sample_id` ) INNER JOIN `groups_attribute` U2 ON ( U1.`attribute_id` = U2.`id` ) INNER JOIN `experiments_attributecomparison` U3 ON ( U2.`id` = U3.`attribute_id` ) INNER JOIN `experiments_comparison` U4 ON ( U3.`comparison_id` = U4.`id` ) WHERE U4.`experiment_id` = 4); args=(4,)\n",
      "DEBUG 2017-02-08 12:08:32,189 utils.py:91 | (0.008) SELECT `groups_group`.`name`, `groups_attribute`.`name`, `fileupload_sample`.`name` FROM `groups_group` LEFT OUTER JOIN `groups_attribute` ON ( `groups_group`.`id` = `groups_attribute`.`group_id` ) LEFT OUTER JOIN `groups_sampleattribute` ON ( `groups_attribute`.`id` = `groups_sampleattribute`.`attribute_id` ) LEFT OUTER JOIN `fileupload_sample` ON ( `groups_sampleattribute`.`sample_id` = `fileupload_sample`.`id` ) WHERE `groups_group`.`id` IN (SELECT DISTINCT U0.`id` FROM `groups_group` U0 INNER JOIN `groups_attribute` U1 ON ( U0.`id` = U1.`group_id` ) INNER JOIN `experiments_attributecomparison` U2 ON ( U1.`id` = U2.`attribute_id` ) INNER JOIN `experiments_comparison` U3 ON ( U2.`comparison_id` = U3.`id` ) WHERE U3.`experiment_id` = 4); args=(4,)\n",
      "DEBUG 2017-02-08 12:08:32,254 utils.py:91 | (0.008) SELECT `fileupload_projfile`.`file` FROM `fileupload_calibrationsample` INNER JOIN `groups_projfileattribute` ON ( `fileupload_calibrationsample`.`id` = `groups_projfileattribute`.`calibrationsample_id` ) INNER JOIN `groups_attribute` ON ( `groups_projfileattribute`.`attribute_id` = `groups_attribute`.`id` ) LEFT OUTER JOIN `fileupload_standardfilegroup` ON ( `fileupload_calibrationsample`.`standardFile_id` = `fileupload_standardfilegroup`.`id` ) LEFT OUTER JOIN `fileupload_projfile` ON ( `fileupload_standardfilegroup`.`data_id` = `fileupload_projfile`.`id` ) WHERE (`fileupload_calibrationsample`.`project_id` = 3 AND `groups_attribute`.`name` = 'standard'); args=(3, 'standard')\n",
      "DEBUG 2017-02-08 12:08:32,259 utils.py:91 | (0.001) SELECT `experiments_comparison`.`id`, `experiments_comparison`.`name`, `experiments_attributecomparison`.`attribute_id`, `groups_group`.`name`, `groups_attribute`.`name`, `experiments_attributecomparison`.`group` FROM `experiments_comparison` LEFT OUTER JOIN `experiments_attributecomparison` ON ( `experiments_comparison`.`id` = `experiments_attributecomparison`.`comparison_id` ) LEFT OUTER JOIN `groups_attribute` ON ( `experiments_attributecomparison`.`attribute_id` = `groups_attribute`.`id` ) LEFT OUTER JOIN `groups_group` ON ( `groups_attribute`.`group_id` = `groups_group`.`id` ) WHERE `experiments_comparison`.`experiment_id` = 4; args=(4,)\n"
     ]
    },
    {
     "name": "stdout",
     "output_type": "stream",
     "text": [
      "2017-02-08 12:08:32 INFO:PeakML.Isotope.plotSamples:OS type: x86_64-pc-linux-gnu\n",
      "2017-02-08 12:08:32 INFO:PeakML.Isotope.plotSamples:Java parameters are: -Xmx8192m\n",
      "2017-02-08 12:08:32 INFO:PeakML.Isotope.plotSamples:Using jar file /home/pimp/pimp/packrat/lib/x86_64-pc-linux-gnu/3.2.3/mzmatch.R/java/mzmatch-2.1-with-dependencies.jar\n",
      "2017-02-08 12:08:32 INFO:PeakML.Isotope.plotSamples:Using SWT file /home/pimp/pimp/packrat/lib/x86_64-pc-linux-gnu/3.2.3/mzmatch.R/java/swt-4.5-gtk-linux-x86_64.jar\n"
     ]
    },
    {
     "name": "stderr",
     "output_type": "stream",
     "text": [
      "DEBUG 2017-02-08 12:08:32,294 utils.py:91 | (0.024) SELECT `experiments_database`.`name` FROM `experiments_database` INNER JOIN `experiments_params_databases` ON ( `experiments_database`.`id` = `experiments_params_databases`.`database_id` ) INNER JOIN `experiments_params` ON ( `experiments_params_databases`.`params_id` = `experiments_params`.`id` ) INNER JOIN `experiments_analysis` ON ( `experiments_params`.`id` = `experiments_analysis`.`params_id` ) WHERE `experiments_analysis`.`id` = 4; args=(4,)\n"
     ]
    }
   ],
   "source": [
    "pipeline = Rpy2Pipeline(analysis, project, False)"
   ]
  },
  {
   "cell_type": "code",
   "execution_count": 6,
   "metadata": {
    "collapsed": false
   },
   "outputs": [
    {
     "name": "stderr",
     "output_type": "stream",
     "text": [
      "INFO 2017-02-08 12:08:34,624 pipeline_rpy2.py:90 | Data dir: /home/pimp/media/projects\n",
      "INFO 2017-02-08 12:08:34,625 pipeline_rpy2.py:91 | Project dir: /home/pimp/media/projects/3\n"
     ]
    },
    {
     "data": {
      "text/plain": [
       "'/home/pimp/media/projects/3'"
      ]
     },
     "execution_count": 6,
     "metadata": {},
     "output_type": "execute_result"
    }
   ],
   "source": [
    "pipeline.get_pimp_wd(project.id)"
   ]
  },
  {
   "cell_type": "code",
   "execution_count": 7,
   "metadata": {
    "collapsed": false
   },
   "outputs": [
    {
     "name": "stderr",
     "output_type": "stream",
     "text": [
      "INFO 2017-02-08 12:08:37,051 pipeline_rpy2.py:90 | Data dir: /home/pimp/media/projects\n",
      "INFO 2017-02-08 12:08:37,055 pipeline_rpy2.py:91 | Project dir: /home/pimp/media/projects/3\n"
     ]
    }
   ],
   "source": [
    "pipeline.working_dir = pipeline.get_pimp_wd(project.id)"
   ]
  },
  {
   "cell_type": "code",
   "execution_count": 9,
   "metadata": {
    "collapsed": false
   },
   "outputs": [
    {
     "name": "stderr",
     "output_type": "stream",
     "text": [
      "DEBUG 2017-02-08 12:09:29,251 pipeline_rpy2.py:101 | all_files [u'samples/POS/CAM2.mzXML', u'samples/POS/CAM3.mzXML', u'samples/POS/CAM4.mzXML', u'samples/POS/CAM5.mzXML', u'samples/POS/CAM6.mzXML', u'samples/POS/CAM1.mzXML', u'samples/POS/MO1.mzXML', u'samples/POS/MO2.mzXML', u'samples/POS/MO3.mzXML', u'samples/POS/SAM1.mzXML', u'samples/POS/SAM2.mzXML', u'samples/POS/SAM3.mzXML', u'samples/POS/SAM4.mzXML', u'samples/POS/SAM5.mzXML', u'samples/POS/SAM6.mzXML', u'samples/POS/SCC6.mzXML', u'samples/POS/SCC1.mzXML', u'samples/POS/SCC2.mzXML', u'samples/POS/SCC3.mzXML', u'samples/POS/SCC4.mzXML', u'samples/POS/SCC5.mzXML', u'samples/NEG/CAM2.mzXML', u'samples/NEG/CAM3.mzXML', u'samples/NEG/CAM4.mzXML', u'samples/NEG/CAM5.mzXML', u'samples/NEG/CAM6.mzXML', u'samples/NEG/CAM1.mzXML', u'samples/NEG/MO1.mzXML', u'samples/NEG/MO2.mzXML', u'samples/NEG/MO3.mzXML', u'samples/NEG/SAM1.mzXML', u'samples/NEG/SAM2.mzXML', u'samples/NEG/SAM3.mzXML', u'samples/NEG/SAM4.mzXML', u'samples/NEG/SAM5.mzXML', u'samples/NEG/SAM6.mzXML', u'samples/NEG/SCC6.mzXML', u'samples/NEG/SCC1.mzXML', u'samples/NEG/SCC2.mzXML', u'samples/NEG/SCC3.mzXML', u'samples/NEG/SCC4.mzXML', u'samples/NEG/SCC5.mzXML']\n",
      "DEBUG 2017-02-08 12:09:29,253 pipeline_rpy2.py:102 | working_dir /home/pimp/media/projects/3\n"
     ]
    },
    {
     "name": "stdout",
     "output_type": "stream",
     "text": [
      "unique_files = set([u'SCC2', u'SAM6', u'CAM3', u'CAM2', u'CAM1', u'SCC4', u'CAM6', u'CAM5', u'CAM4', u'SCC3', u'MO3', u'SCC1', u'SCC6', u'SCC5', u'MO2', u'SAM3', u'SAM2', u'SAM1', u'MO1', u'SAM5', u'SAM4']), len = 21\n",
      "level = CAC, files = [u'CAC1', u'CAC2', u'CAC3', u'CAC4', u'CAC5', u'CAC6']\n"
     ]
    },
    {
     "ename": "AssertionError",
     "evalue": "",
     "output_type": "error",
     "traceback": [
      "\u001b[0;31m\u001b[0m",
      "\u001b[0;31mAssertionError\u001b[0mTraceback (most recent call last)",
      "\u001b[0;32m<ipython-input-9-4f95dd383435>\u001b[0m in \u001b[0;36m<module>\u001b[0;34m()\u001b[0m\n\u001b[0;32m----> 1\u001b[0;31m \u001b[0mpipeline\u001b[0m\u001b[0;34m.\u001b[0m\u001b[0mvalidate_input\u001b[0m\u001b[0;34m(\u001b[0m\u001b[0;34m)\u001b[0m\u001b[0;34m\u001b[0m\u001b[0m\n\u001b[0m",
      "\u001b[0;32m/home/pimp/pimp/django_projects/pimp/experiments/pipelines/pipeline_rpy2.py\u001b[0m in \u001b[0;36mvalidate_input\u001b[0;34m(self)\u001b[0m\n\u001b[1;32m    127\u001b[0m                 \u001b[0;32mprint\u001b[0m \u001b[0;34m'level = %s, files = %s'\u001b[0m \u001b[0;34m%\u001b[0m \u001b[0;34m(\u001b[0m\u001b[0mlevel\u001b[0m\u001b[0;34m,\u001b[0m \u001b[0mfiles\u001b[0m\u001b[0;34m)\u001b[0m\u001b[0;34m\u001b[0m\u001b[0m\n\u001b[1;32m    128\u001b[0m                 \u001b[0;32mfor\u001b[0m \u001b[0mf\u001b[0m \u001b[0;32min\u001b[0m \u001b[0mfiles\u001b[0m\u001b[0;34m:\u001b[0m\u001b[0;34m\u001b[0m\u001b[0m\n\u001b[0;32m--> 129\u001b[0;31m                     \u001b[0;32massert\u001b[0m \u001b[0mf\u001b[0m \u001b[0;32min\u001b[0m \u001b[0munique_files\u001b[0m\u001b[0;34m\u001b[0m\u001b[0m\n\u001b[0m\u001b[1;32m    130\u001b[0m \u001b[0;34m\u001b[0m\u001b[0m\n\u001b[1;32m    131\u001b[0m     \u001b[0;32mdef\u001b[0m \u001b[0mget_analysis_params\u001b[0m\u001b[0;34m(\u001b[0m\u001b[0mself\u001b[0m\u001b[0;34m,\u001b[0m \u001b[0manalysis_id\u001b[0m\u001b[0;34m)\u001b[0m\u001b[0;34m:\u001b[0m\u001b[0;34m\u001b[0m\u001b[0m\n",
      "\u001b[0;31mAssertionError\u001b[0m: "
     ]
    }
   ],
   "source": [
    "pipeline.validate_input()"
   ]
  },
  {
   "cell_type": "code",
   "execution_count": 10,
   "metadata": {
    "collapsed": false
   },
   "outputs": [
    {
     "name": "stderr",
     "output_type": "stream",
     "text": [
      "DEBUG 2017-02-08 12:10:40,139 utils.py:91 | (0.001) SELECT `fileupload_picture`.`file` FROM `fileupload_picture` INNER JOIN `fileupload_samplefilegroup` ON ( `fileupload_picture`.`id` = `fileupload_samplefilegroup`.`posdata_id` ) INNER JOIN `fileupload_sample` ON ( `fileupload_samplefilegroup`.`id` = `fileupload_sample`.`samplefile_id` ) WHERE (`fileupload_sample`.`id`) IN (SELECT DISTINCT U0.`id` FROM `fileupload_sample` U0 INNER JOIN `groups_sampleattribute` U1 ON ( U0.`id` = U1.`sample_id` ) INNER JOIN `groups_attribute` U2 ON ( U1.`attribute_id` = U2.`id` ) INNER JOIN `experiments_attributecomparison` U3 ON ( U2.`id` = U3.`attribute_id` ) INNER JOIN `experiments_comparison` U4 ON ( U3.`comparison_id` = U4.`id` ) WHERE U4.`experiment_id` = 4); args=(4,)\n",
      "DEBUG 2017-02-08 12:10:40,143 utils.py:91 | (0.002) SELECT `fileupload_picture`.`file` FROM `fileupload_picture` INNER JOIN `fileupload_samplefilegroup` ON ( `fileupload_picture`.`id` = `fileupload_samplefilegroup`.`negdata_id` ) INNER JOIN `fileupload_sample` ON ( `fileupload_samplefilegroup`.`id` = `fileupload_sample`.`samplefile_id` ) WHERE (`fileupload_sample`.`id`) IN (SELECT DISTINCT U0.`id` FROM `fileupload_sample` U0 INNER JOIN `groups_sampleattribute` U1 ON ( U0.`id` = U1.`sample_id` ) INNER JOIN `groups_attribute` U2 ON ( U1.`attribute_id` = U2.`id` ) INNER JOIN `experiments_attributecomparison` U3 ON ( U2.`id` = U3.`attribute_id` ) INNER JOIN `experiments_comparison` U4 ON ( U3.`comparison_id` = U4.`id` ) WHERE U4.`experiment_id` = 4); args=(4,)\n"
     ]
    },
    {
     "data": {
      "text/plain": [
       "{'negative': [u'samples/NEG/CAM2.mzXML',\n",
       "  u'samples/NEG/CAM3.mzXML',\n",
       "  u'samples/NEG/CAM4.mzXML',\n",
       "  u'samples/NEG/CAM5.mzXML',\n",
       "  u'samples/NEG/CAM6.mzXML',\n",
       "  u'samples/NEG/CAM1.mzXML',\n",
       "  u'samples/NEG/MO1.mzXML',\n",
       "  u'samples/NEG/MO2.mzXML',\n",
       "  u'samples/NEG/MO3.mzXML',\n",
       "  u'samples/NEG/SAM1.mzXML',\n",
       "  u'samples/NEG/SAM2.mzXML',\n",
       "  u'samples/NEG/SAM3.mzXML',\n",
       "  u'samples/NEG/SAM4.mzXML',\n",
       "  u'samples/NEG/SAM5.mzXML',\n",
       "  u'samples/NEG/SAM6.mzXML',\n",
       "  u'samples/NEG/SCC6.mzXML',\n",
       "  u'samples/NEG/SCC1.mzXML',\n",
       "  u'samples/NEG/SCC2.mzXML',\n",
       "  u'samples/NEG/SCC3.mzXML',\n",
       "  u'samples/NEG/SCC4.mzXML',\n",
       "  u'samples/NEG/SCC5.mzXML'],\n",
       " 'positive': [u'samples/POS/CAM2.mzXML',\n",
       "  u'samples/POS/CAM3.mzXML',\n",
       "  u'samples/POS/CAM4.mzXML',\n",
       "  u'samples/POS/CAM5.mzXML',\n",
       "  u'samples/POS/CAM6.mzXML',\n",
       "  u'samples/POS/CAM1.mzXML',\n",
       "  u'samples/POS/MO1.mzXML',\n",
       "  u'samples/POS/MO2.mzXML',\n",
       "  u'samples/POS/MO3.mzXML',\n",
       "  u'samples/POS/SAM1.mzXML',\n",
       "  u'samples/POS/SAM2.mzXML',\n",
       "  u'samples/POS/SAM3.mzXML',\n",
       "  u'samples/POS/SAM4.mzXML',\n",
       "  u'samples/POS/SAM5.mzXML',\n",
       "  u'samples/POS/SAM6.mzXML',\n",
       "  u'samples/POS/SCC6.mzXML',\n",
       "  u'samples/POS/SCC1.mzXML',\n",
       "  u'samples/POS/SCC2.mzXML',\n",
       "  u'samples/POS/SCC3.mzXML',\n",
       "  u'samples/POS/SCC4.mzXML',\n",
       "  u'samples/POS/SCC5.mzXML']}"
      ]
     },
     "execution_count": 10,
     "metadata": {},
     "output_type": "execute_result"
    }
   ],
   "source": [
    "pipeline.metadata.get_files()"
   ]
  },
  {
   "cell_type": "code",
   "execution_count": 12,
   "metadata": {
    "collapsed": true
   },
   "outputs": [],
   "source": [
    "experiment_id = pipeline.metadata.experiment.id"
   ]
  },
  {
   "cell_type": "code",
   "execution_count": 16,
   "metadata": {
    "collapsed": false
   },
   "outputs": [],
   "source": [
    "from fileupload.models import Sample"
   ]
  },
  {
   "cell_type": "code",
   "execution_count": 21,
   "metadata": {
    "collapsed": false
   },
   "outputs": [
    {
     "name": "stderr",
     "output_type": "stream",
     "text": [
      "DEBUG 2017-02-08 12:25:14,169 utils.py:91 | (0.005) SELECT `experiments_comparison`.`id`, `experiments_comparison`.`name`, `experiments_comparison`.`description`, `experiments_comparison`.`experiment_id` FROM `experiments_comparison` WHERE `experiments_comparison`.`id` IN (5, 6, 7) LIMIT 21; args=(5, 6, 7)\n"
     ]
    },
    {
     "name": "stdout",
     "output_type": "stream",
     "text": [
      "[<Comparison: comparison_1>, <Comparison: comparison_2>, <Comparison: comparison_3>]\n"
     ]
    }
   ],
   "source": [
    "comparisons = Comparison.objects.filter(id__in = [5, 6, 7])"
   ]
  },
  {
   "cell_type": "code",
   "execution_count": 24,
   "metadata": {
    "collapsed": false
   },
   "outputs": [
    {
     "name": "stderr",
     "output_type": "stream",
     "text": [
      "DEBUG 2017-02-08 12:26:22,543 utils.py:91 | (0.001) SELECT `groups_attribute`.`id`, `groups_attribute`.`name`, `groups_attribute`.`group_id`, `groups_attribute`.`created`, `groups_attribute`.`modified`, `groups_attribute`.`ticgroup_id` FROM `groups_attribute` INNER JOIN `experiments_attributecomparison` ON ( `groups_attribute`.`id` = `experiments_attributecomparison`.`attribute_id` ) WHERE `experiments_attributecomparison`.`comparison_id` = 5 LIMIT 21; args=(5,)\n",
      "DEBUG 2017-02-08 12:26:22,546 utils.py:91 | (0.001) SELECT `groups_group`.`id`, `groups_group`.`name`, `groups_group`.`created`, `groups_group`.`modified` FROM `groups_group` WHERE `groups_group`.`id` = 9 LIMIT 21; args=(9,)\n",
      "DEBUG 2017-02-08 12:26:22,549 utils.py:91 | (0.001) SELECT `groups_group`.`id`, `groups_group`.`name`, `groups_group`.`created`, `groups_group`.`modified` FROM `groups_group` WHERE `groups_group`.`id` = 9 LIMIT 21; args=(9,)\n",
      "DEBUG 2017-02-08 12:26:22,555 utils.py:91 | (0.001) SELECT `groups_attribute`.`id`, `groups_attribute`.`name`, `groups_attribute`.`group_id`, `groups_attribute`.`created`, `groups_attribute`.`modified`, `groups_attribute`.`ticgroup_id` FROM `groups_attribute` INNER JOIN `experiments_attributecomparison` ON ( `groups_attribute`.`id` = `experiments_attributecomparison`.`attribute_id` ) WHERE `experiments_attributecomparison`.`comparison_id` = 6 LIMIT 21; args=(6,)\n",
      "DEBUG 2017-02-08 12:26:22,558 utils.py:91 | (0.001) SELECT `groups_group`.`id`, `groups_group`.`name`, `groups_group`.`created`, `groups_group`.`modified` FROM `groups_group` WHERE `groups_group`.`id` = 9 LIMIT 21; args=(9,)\n",
      "DEBUG 2017-02-08 12:26:22,561 utils.py:91 | (0.000) SELECT `groups_group`.`id`, `groups_group`.`name`, `groups_group`.`created`, `groups_group`.`modified` FROM `groups_group` WHERE `groups_group`.`id` = 9 LIMIT 21; args=(9,)\n",
      "DEBUG 2017-02-08 12:26:22,565 utils.py:91 | (0.001) SELECT `groups_attribute`.`id`, `groups_attribute`.`name`, `groups_attribute`.`group_id`, `groups_attribute`.`created`, `groups_attribute`.`modified`, `groups_attribute`.`ticgroup_id` FROM `groups_attribute` INNER JOIN `experiments_attributecomparison` ON ( `groups_attribute`.`id` = `experiments_attributecomparison`.`attribute_id` ) WHERE `experiments_attributecomparison`.`comparison_id` = 7 LIMIT 21; args=(7,)\n",
      "DEBUG 2017-02-08 12:26:22,569 utils.py:91 | (0.001) SELECT `groups_group`.`id`, `groups_group`.`name`, `groups_group`.`created`, `groups_group`.`modified` FROM `groups_group` WHERE `groups_group`.`id` = 9 LIMIT 21; args=(9,)\n",
      "DEBUG 2017-02-08 12:26:22,573 utils.py:91 | (0.001) SELECT `groups_group`.`id`, `groups_group`.`name`, `groups_group`.`created`, `groups_group`.`modified` FROM `groups_group` WHERE `groups_group`.`id` = 9 LIMIT 21; args=(9,)\n"
     ]
    },
    {
     "name": "stdout",
     "output_type": "stream",
     "text": [
      "[<Attribute: CAM (Jeni_Biofilms_Nov3)>, <Attribute: MED (Jeni_Biofilms_Nov3)>]\n",
      "[<Attribute: SAM (Jeni_Biofilms_Nov3)>, <Attribute: MED (Jeni_Biofilms_Nov3)>]\n",
      "[<Attribute: SCC (Jeni_Biofilms_Nov3)>, <Attribute: MED (Jeni_Biofilms_Nov3)>]\n"
     ]
    }
   ],
   "source": [
    "for c in comparisons:\n",
    "    print c.attribute.all()"
   ]
  },
  {
   "cell_type": "code",
   "execution_count": 17,
   "metadata": {
    "collapsed": false,
    "scrolled": true
   },
   "outputs": [],
   "source": [
    "samples = Sample.objects.filter(attribute__comparison__experiment = experiment_id).distinct()"
   ]
  },
  {
   "cell_type": "code",
   "execution_count": 19,
   "metadata": {
    "collapsed": false
   },
   "outputs": [
    {
     "name": "stderr",
     "output_type": "stream",
     "text": [
      "DEBUG 2017-02-08 12:13:55,484 utils.py:91 | (0.001) SELECT DISTINCT `fileupload_sample`.`id`, `fileupload_sample`.`name`, `fileupload_sample`.`project_id`, `fileupload_sample`.`samplefile_id` FROM `fileupload_sample` INNER JOIN `groups_sampleattribute` ON ( `fileupload_sample`.`id` = `groups_sampleattribute`.`sample_id` ) INNER JOIN `groups_attribute` ON ( `groups_sampleattribute`.`attribute_id` = `groups_attribute`.`id` ) INNER JOIN `experiments_attributecomparison` ON ( `groups_attribute`.`id` = `experiments_attributecomparison`.`attribute_id` ) INNER JOIN `experiments_comparison` ON ( `experiments_attributecomparison`.`comparison_id` = `experiments_comparison`.`id` ) WHERE `experiments_comparison`.`experiment_id` = 4; args=(4,)\n"
     ]
    },
    {
     "name": "stdout",
     "output_type": "stream",
     "text": [
      "CAM2.mzXML\n",
      "CAM3.mzXML\n",
      "CAM4.mzXML\n",
      "CAM5.mzXML\n",
      "CAM6.mzXML\n",
      "CAM1.mzXML\n",
      "MO1.mzXML\n",
      "MO2.mzXML\n",
      "MO3.mzXML\n",
      "SAM1.mzXML\n",
      "SAM2.mzXML\n",
      "SAM3.mzXML\n",
      "SAM4.mzXML\n",
      "SAM5.mzXML\n",
      "SAM6.mzXML\n",
      "SCC6.mzXML\n",
      "SCC1.mzXML\n",
      "SCC2.mzXML\n",
      "SCC3.mzXML\n",
      "SCC4.mzXML\n",
      "SCC5.mzXML\n"
     ]
    }
   ],
   "source": [
    "for samp in samples:\n",
    "    print samp"
   ]
  },
  {
   "cell_type": "code",
   "execution_count": 26,
   "metadata": {
    "collapsed": false
   },
   "outputs": [
    {
     "name": "stdout",
     "output_type": "stream",
     "text": [
      "level = CAC, files = [u'CAC1', u'CAC2', u'CAC3', u'CAC4', u'CAC5', u'CAC6']\n",
      "level = CAM, files = [u'CAM2', u'CAM3', u'CAM4', u'CAM5', u'CAM6', u'CAM1']\n",
      "level = SAC, files = [u'SAC1', u'SAC2', u'SAC3', u'SAC4', u'SAC5', u'SAC6']\n",
      "level = SAM, files = [u'SAM1', u'SAM2', u'SAM3', u'SAM4', u'SAM5', u'SAM6']\n",
      "level = SCC, files = [u'SCC6', u'SCC1', u'SCC2', u'SCC3', u'SCC4', u'SCC5']\n",
      "level = SCM, files = [u'SCM1', u'SCM2', u'SCM3', u'SCM4', u'SCM5', u'SCM6']\n",
      "level = MED, files = [u'MO1', u'MO2', u'MO3']\n"
     ]
    }
   ],
   "source": [
    "for factor in pipeline.metadata.groups:\n",
    "    for level in factor.levels:\n",
    "        files = factor.level_files[level]\n",
    "        print 'level = %s, files = %s' % (level, files)\n",
    "#         for f in files:\n",
    "#             assert f in unique_files        \n"
   ]
  },
  {
   "cell_type": "code",
   "execution_count": null,
   "metadata": {
    "collapsed": true
   },
   "outputs": [],
   "source": []
  }
 ],
 "metadata": {
  "kernelspec": {
   "display_name": "Django Shell-Plus",
   "language": "python",
   "name": "django_extensions"
  }
 },
 "nbformat": 4,
 "nbformat_minor": 2
}
