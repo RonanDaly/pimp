{
 "cells": [
  {
   "cell_type": "markdown",
   "metadata": {},
   "source": [
    "# Restart Analysis"
   ]
  },
  {
   "cell_type": "code",
   "execution_count": 1,
   "metadata": {
    "collapsed": false
   },
   "outputs": [],
   "source": [
    "%load_ext autoreload\n",
    "%autoreload 2"
   ]
  },
  {
   "cell_type": "code",
   "execution_count": 2,
   "metadata": {
    "collapsed": true
   },
   "outputs": [],
   "source": [
    "import rpy2.robjects as robjects\n",
    "import multiprocessing\n",
    "from experiments.pipelines.pipeline_rpy2 import Rpy2Pipeline"
   ]
  },
  {
   "cell_type": "markdown",
   "metadata": {},
   "source": [
    "## Load analysis and project"
   ]
  },
  {
   "cell_type": "code",
   "execution_count": 3,
   "metadata": {
    "collapsed": true
   },
   "outputs": [],
   "source": [
    "project_id = 10\n",
    "analysis_id = 38"
   ]
  },
  {
   "cell_type": "code",
   "execution_count": 4,
   "metadata": {
    "collapsed": false,
    "scrolled": true
   },
   "outputs": [
    {
     "name": "stderr",
     "output_type": "stream",
     "text": [
      "DEBUG 2017-03-04 07:40:25,605 utils.py:91 | (0.006) SET SQL_AUTO_IS_NULL = 0; args=None\n",
      "DEBUG 2017-03-04 07:40:25,607 utils.py:91 | (0.001) SELECT `projects_project`.`id`, `projects_project`.`title`, `projects_project`.`user_owner_id`, `projects_project`.`description`, `projects_project`.`created`, `projects_project`.`modified` FROM `projects_project` WHERE `projects_project`.`id` = 10 LIMIT 21; args=(10,)\n"
     ]
    }
   ],
   "source": [
    "project = Project.objects.get_or_create(id=project_id)[0]"
   ]
  },
  {
   "cell_type": "code",
   "execution_count": 5,
   "metadata": {
    "collapsed": false,
    "scrolled": false
   },
   "outputs": [
    {
     "name": "stderr",
     "output_type": "stream",
     "text": [
      "DEBUG 2017-03-04 07:40:28,240 utils.py:91 | (0.001) SELECT `experiments_analysis`.`id`, `experiments_analysis`.`created`, `experiments_analysis`.`submited`, `experiments_analysis`.`owner`, `experiments_analysis`.`experiment_id`, `experiments_analysis`.`params_id`, `experiments_analysis`.`status` FROM `experiments_analysis` WHERE `experiments_analysis`.`id` = 38 LIMIT 21; args=(38,)\n"
     ]
    }
   ],
   "source": [
    "analysis = Analysis.objects.get_or_create(id=analysis_id)[0]"
   ]
  },
  {
   "cell_type": "code",
   "execution_count": 6,
   "metadata": {
    "collapsed": false
   },
   "outputs": [
    {
     "name": "stdout",
     "output_type": "stream",
     "text": [
      "Processing\n"
     ]
    }
   ],
   "source": [
    "print analysis.status"
   ]
  },
  {
   "cell_type": "code",
   "execution_count": 7,
   "metadata": {
    "collapsed": false
   },
   "outputs": [
    {
     "name": "stderr",
     "output_type": "stream",
     "text": [
      "DEBUG 2017-03-04 07:40:33,412 utils.py:91 | (0.001) UPDATE `experiments_analysis` SET `created` = '2017-02-28 20:27:40', `submited` = '2017-02-28 23:27:35', `owner` = 'admin', `experiment_id` = 17, `params_id` = 27, `status` = 'Ready' WHERE `experiments_analysis`.`id` = 38; args=(u'2017-02-28 20:27:40', u'2017-02-28 23:27:35', u'admin', 17, 27, 'Ready', 38)\n"
     ]
    }
   ],
   "source": [
    "analysis.status = 'Ready'\n",
    "analysis.save()"
   ]
  },
  {
   "cell_type": "code",
   "execution_count": 8,
   "metadata": {
    "collapsed": false
   },
   "outputs": [
    {
     "name": "stderr",
     "output_type": "stream",
     "text": [
      "DEBUG 2017-03-04 07:40:37,751 utils.py:91 | (0.002) SELECT `experiments_database`.`id` FROM `experiments_database` WHERE NOT (`experiments_database`.`name` = 'standards') LIMIT 21; args=('standards',)\n"
     ]
    },
    {
     "name": "stdout",
     "output_type": "stream",
     "text": [
      "[1L, 2L, 3L, 4L]\n"
     ]
    }
   ],
   "source": [
    "databases_ids = Database.objects.all().exclude(name='standards').values_list('id', flat=True)\n",
    "print databases_ids"
   ]
  },
  {
   "cell_type": "code",
   "execution_count": 9,
   "metadata": {
    "collapsed": false
   },
   "outputs": [
    {
     "name": "stderr",
     "output_type": "stream",
     "text": [
      "DEBUG 2017-03-04 07:41:05,105 utils.py:91 | (0.000) INSERT INTO `experiments_params` (`id`) VALUES (DEFAULT); args=[]\n",
      "DEBUG 2017-03-04 07:41:05,109 utils.py:91 | (0.001) SELECT `experiments_params`.`id` FROM `experiments_params` WHERE `experiments_params`.`id` = 27 LIMIT 21; args=(27,)\n",
      "DEBUG 2017-03-04 07:41:05,115 utils.py:91 | (0.001) SELECT `experiments_parameter`.`id`, `experiments_parameter`.`name`, `experiments_parameter`.`value`, `experiments_parameter`.`state` FROM `experiments_parameter` INNER JOIN `experiments_params_param` ON ( `experiments_parameter`.`id` = `experiments_params_param`.`parameter_id` ) WHERE `experiments_params_param`.`params_id` = 27; args=(27,)\n",
      "DEBUG 2017-03-04 07:41:05,119 utils.py:91 | (0.001) INSERT INTO `experiments_parameter` (`name`, `value`, `state`) VALUES ('iqr', '0.5000000000', 0); args=[u'iqr', u'0.5000000000', False]\n",
      "DEBUG 2017-03-04 07:41:05,123 utils.py:91 | (0.001) SELECT `experiments_params_param`.`parameter_id` FROM `experiments_params_param` WHERE (`experiments_params_param`.`params_id` = 28 AND `experiments_params_param`.`parameter_id` IN (209)); args=(28, 209)\n",
      "DEBUG 2017-03-04 07:41:05,127 utils.py:91 | (0.001) INSERT INTO `experiments_params_param` (`params_id`, `parameter_id`) VALUES (28, 209); args=(28, 209)\n",
      "DEBUG 2017-03-04 07:41:05,132 utils.py:91 | (0.000) INSERT INTO `experiments_parameter` (`name`, `value`, `state`) VALUES ('rsd', '0.5000000000', 1); args=[u'rsd', u'0.5000000000', True]\n",
      "DEBUG 2017-03-04 07:41:05,137 utils.py:91 | (0.001) SELECT `experiments_params_param`.`parameter_id` FROM `experiments_params_param` WHERE (`experiments_params_param`.`params_id` = 28 AND `experiments_params_param`.`parameter_id` IN (210)); args=(28, 210)\n",
      "DEBUG 2017-03-04 07:41:05,141 utils.py:91 | (0.001) INSERT INTO `experiments_params_param` (`params_id`, `parameter_id`) VALUES (28, 210); args=(28, 210)\n",
      "DEBUG 2017-03-04 07:41:05,147 utils.py:91 | (0.001) INSERT INTO `experiments_parameter` (`name`, `value`, `state`) VALUES ('noise', '0.8000000000', 1); args=[u'noise', u'0.8000000000', True]\n",
      "DEBUG 2017-03-04 07:41:05,154 utils.py:91 | (0.001) SELECT `experiments_params_param`.`parameter_id` FROM `experiments_params_param` WHERE (`experiments_params_param`.`params_id` = 28 AND `experiments_params_param`.`parameter_id` IN (211)); args=(28, 211)\n",
      "DEBUG 2017-03-04 07:41:05,161 utils.py:91 | (0.001) INSERT INTO `experiments_params_param` (`params_id`, `parameter_id`) VALUES (28, 211); args=(28, 211)\n",
      "DEBUG 2017-03-04 07:41:05,167 utils.py:91 | (0.001) INSERT INTO `experiments_parameter` (`name`, `value`, `state`) VALUES ('ppm', '3.0000000000', 1); args=[u'ppm', u'3.0000000000', True]\n",
      "DEBUG 2017-03-04 07:41:05,174 utils.py:91 | (0.001) SELECT `experiments_params_param`.`parameter_id` FROM `experiments_params_param` WHERE (`experiments_params_param`.`params_id` = 28 AND `experiments_params_param`.`parameter_id` IN (212)); args=(28, 212)\n",
      "DEBUG 2017-03-04 07:41:05,177 utils.py:91 | (0.001) INSERT INTO `experiments_params_param` (`params_id`, `parameter_id`) VALUES (28, 212); args=(28, 212)\n",
      "DEBUG 2017-03-04 07:41:05,184 utils.py:91 | (0.001) INSERT INTO `experiments_parameter` (`name`, `value`, `state`) VALUES ('mindetections', '3.0000000000', 1); args=[u'mindetections', u'3.0000000000', True]\n",
      "DEBUG 2017-03-04 07:41:05,188 utils.py:91 | (0.000) SELECT `experiments_params_param`.`parameter_id` FROM `experiments_params_param` WHERE (`experiments_params_param`.`params_id` = 28 AND `experiments_params_param`.`parameter_id` IN (213)); args=(28, 213)\n",
      "DEBUG 2017-03-04 07:41:05,191 utils.py:91 | (0.001) INSERT INTO `experiments_params_param` (`params_id`, `parameter_id`) VALUES (28, 213); args=(28, 213)\n",
      "DEBUG 2017-03-04 07:41:05,195 utils.py:91 | (0.000) INSERT INTO `experiments_parameter` (`name`, `value`, `state`) VALUES ('minintensity', '5000.0000000000', 1); args=[u'minintensity', u'5000.0000000000', True]\n",
      "DEBUG 2017-03-04 07:41:05,199 utils.py:91 | (0.001) SELECT `experiments_params_param`.`parameter_id` FROM `experiments_params_param` WHERE (`experiments_params_param`.`params_id` = 28 AND `experiments_params_param`.`parameter_id` IN (214)); args=(28, 214)\n",
      "DEBUG 2017-03-04 07:41:05,202 utils.py:91 | (0.000) INSERT INTO `experiments_params_param` (`params_id`, `parameter_id`) VALUES (28, 214); args=(28, 214)\n",
      "DEBUG 2017-03-04 07:41:05,206 utils.py:91 | (0.000) INSERT INTO `experiments_parameter` (`name`, `value`, `state`) VALUES ('rtwindow', '0.0500000000', 1); args=[u'rtwindow', u'0.0500000000', True]\n",
      "DEBUG 2017-03-04 07:41:05,210 utils.py:91 | (0.000) SELECT `experiments_params_param`.`parameter_id` FROM `experiments_params_param` WHERE (`experiments_params_param`.`params_id` = 28 AND `experiments_params_param`.`parameter_id` IN (215)); args=(28, 215)\n",
      "DEBUG 2017-03-04 07:41:05,213 utils.py:91 | (0.000) INSERT INTO `experiments_params_param` (`params_id`, `parameter_id`) VALUES (28, 215); args=(28, 215)\n",
      "DEBUG 2017-03-04 07:41:05,217 utils.py:91 | (0.000) INSERT INTO `experiments_parameter` (`name`, `value`, `state`) VALUES ('rt.alignment', NULL, 1); args=[u'rt.alignment', None, True]\n",
      "DEBUG 2017-03-04 07:41:05,220 utils.py:91 | (0.000) SELECT `experiments_params_param`.`parameter_id` FROM `experiments_params_param` WHERE (`experiments_params_param`.`params_id` = 28 AND `experiments_params_param`.`parameter_id` IN (216)); args=(28, 216)\n",
      "DEBUG 2017-03-04 07:41:05,223 utils.py:91 | (0.001) INSERT INTO `experiments_params_param` (`params_id`, `parameter_id`) VALUES (28, 216); args=(28, 216)\n",
      "DEBUG 2017-03-04 07:41:05,230 utils.py:91 | (0.002) SELECT `experiments_database`.`id`, `experiments_database`.`name` FROM `experiments_database` INNER JOIN `experiments_params_databases` ON ( `experiments_database`.`id` = `experiments_params_databases`.`database_id` ) WHERE `experiments_params_databases`.`params_id` = 27; args=(27,)\n",
      "DEBUG 2017-03-04 07:41:05,235 utils.py:91 | (0.000) SELECT `experiments_params_databases`.`database_id` FROM `experiments_params_databases` WHERE (`experiments_params_databases`.`params_id` = 28 AND `experiments_params_databases`.`database_id` IN (1)); args=(28, 1)\n",
      "DEBUG 2017-03-04 07:41:05,237 utils.py:91 | (0.000) INSERT INTO `experiments_params_databases` (`params_id`, `database_id`) VALUES (28, 1); args=(28, 1)\n",
      "DEBUG 2017-03-04 07:41:05,243 utils.py:91 | (0.000) SELECT `experiments_params_databases`.`database_id` FROM `experiments_params_databases` WHERE (`experiments_params_databases`.`params_id` = 28 AND `experiments_params_databases`.`database_id` IN (2)); args=(28, 2)\n",
      "DEBUG 2017-03-04 07:41:05,245 utils.py:91 | (0.000) INSERT INTO `experiments_params_databases` (`params_id`, `database_id`) VALUES (28, 2); args=(28, 2)\n",
      "DEBUG 2017-03-04 07:41:05,251 utils.py:91 | (0.000) SELECT `experiments_params_databases`.`database_id` FROM `experiments_params_databases` WHERE (`experiments_params_databases`.`params_id` = 28 AND `experiments_params_databases`.`database_id` IN (3)); args=(28, 3)\n",
      "DEBUG 2017-03-04 07:41:05,253 utils.py:91 | (0.000) INSERT INTO `experiments_params_databases` (`params_id`, `database_id`) VALUES (28, 3); args=(28, 3)\n",
      "DEBUG 2017-03-04 07:41:05,259 utils.py:91 | (0.000) SELECT `experiments_params_databases`.`database_id` FROM `experiments_params_databases` WHERE (`experiments_params_databases`.`params_id` = 28 AND `experiments_params_databases`.`database_id` IN (4)); args=(28, 4)\n",
      "DEBUG 2017-03-04 07:41:05,261 utils.py:91 | (0.000) INSERT INTO `experiments_params_databases` (`params_id`, `database_id`) VALUES (28, 4); args=(28, 4)\n"
     ]
    },
    {
     "name": "stdout",
     "output_type": "stream",
     "text": [
      "201 Parameter object\n",
      "202 Parameter object\n",
      "203 Parameter object\n",
      "204 Parameter object\n",
      "205 Parameter object\n",
      "206 Parameter object\n",
      "207 Parameter object\n",
      "208 Parameter object\n",
      "1 kegg\n",
      "2 hmdb\n",
      "3 lipidmaps\n",
      "4 standard\n"
     ]
    }
   ],
   "source": [
    "new_params = Params()\n",
    "new_params.save()\n",
    "\n",
    "for p in analysis.params.param.all():\n",
    "    print p.id, p\n",
    "    new_p = Parameter(state=p.state, name=p.name, value=p.value)\n",
    "    new_p.save()\n",
    "    new_params.param.add(new_p)    \n",
    "    \n",
    "for db in analysis.params.databases.all():\n",
    "    print db.id, db\n",
    "    new_params.databases.add(db.id)"
   ]
  },
  {
   "cell_type": "markdown",
   "metadata": {},
   "source": [
    "### Creates a copy of an existing analysis"
   ]
  },
  {
   "cell_type": "code",
   "execution_count": 10,
   "metadata": {
    "collapsed": false
   },
   "outputs": [
    {
     "name": "stderr",
     "output_type": "stream",
     "text": [
      "DEBUG 2017-03-04 07:43:19,423 utils.py:91 | (0.001) SELECT `experiments_experiment`.`id`, `experiments_experiment`.`title`, `experiments_experiment`.`created`, `experiments_experiment`.`modified` FROM `experiments_experiment` WHERE `experiments_experiment`.`id` = 17 LIMIT 21; args=(17,)\n"
     ]
    },
    {
     "name": "stdout",
     "output_type": "stream",
     "text": [
      "38 17 Params object admin Ready\n"
     ]
    }
   ],
   "source": [
    "print analysis.id, analysis.experiment.id, analysis.params, analysis.owner, analysis.status"
   ]
  },
  {
   "cell_type": "code",
   "execution_count": 11,
   "metadata": {
    "collapsed": false
   },
   "outputs": [
    {
     "name": "stdout",
     "output_type": "stream",
     "text": [
      "Params object\n"
     ]
    }
   ],
   "source": [
    "print analysis.params"
   ]
  },
  {
   "cell_type": "code",
   "execution_count": 12,
   "metadata": {
    "collapsed": false,
    "scrolled": true
   },
   "outputs": [
    {
     "name": "stderr",
     "output_type": "stream",
     "text": [
      "DEBUG 2017-03-04 07:43:23,717 utils.py:91 | (0.000) INSERT INTO `experiments_analysis` (`created`, `submited`, `owner`, `experiment_id`, `params_id`, `status`) VALUES ('2017-03-04 07:43:23', NULL, 'admin', 17, 28, 'Ready'); args=[u'2017-03-04 07:43:23', None, u'admin', 17, 28, 'Ready']\n"
     ]
    }
   ],
   "source": [
    "copy_analysis = Analysis.objects.create(\n",
    "    owner = analysis.owner,\n",
    "    experiment = analysis.experiment,\n",
    "    params = new_params,\n",
    "    status = 'Ready'\n",
    ")"
   ]
  },
  {
   "cell_type": "code",
   "execution_count": 13,
   "metadata": {
    "collapsed": false
   },
   "outputs": [
    {
     "name": "stderr",
     "output_type": "stream",
     "text": [
      "DEBUG 2017-03-04 07:43:27,516 utils.py:91 | (0.001) SELECT `experiments_parameter`.`id`, `experiments_parameter`.`name`, `experiments_parameter`.`value`, `experiments_parameter`.`state` FROM `experiments_parameter` INNER JOIN `experiments_params_param` ON ( `experiments_parameter`.`id` = `experiments_params_param`.`parameter_id` ) WHERE `experiments_params_param`.`params_id` = 28; args=(28,)\n",
      "DEBUG 2017-03-04 07:43:27,524 utils.py:91 | (0.001) SELECT `experiments_database`.`id`, `experiments_database`.`name` FROM `experiments_database` INNER JOIN `experiments_params_databases` ON ( `experiments_database`.`id` = `experiments_params_databases`.`database_id` ) WHERE `experiments_params_databases`.`params_id` = 28; args=(28,)\n"
     ]
    },
    {
     "name": "stdout",
     "output_type": "stream",
     "text": [
      "209 Parameter object\n",
      "210 Parameter object\n",
      "211 Parameter object\n",
      "212 Parameter object\n",
      "213 Parameter object\n",
      "214 Parameter object\n",
      "215 Parameter object\n",
      "216 Parameter object\n",
      "1 kegg\n",
      "2 hmdb\n",
      "3 lipidmaps\n",
      "4 standard\n"
     ]
    }
   ],
   "source": [
    "for p in copy_analysis.params.param.all():\n",
    "    print p.id, p\n",
    "    \n",
    "for db in copy_analysis.params.databases.all():\n",
    "    print db.id, db"
   ]
  },
  {
   "cell_type": "code",
   "execution_count": 14,
   "metadata": {
    "collapsed": false
   },
   "outputs": [
    {
     "name": "stdout",
     "output_type": "stream",
     "text": [
      "39 17 Params object admin Ready\n"
     ]
    }
   ],
   "source": [
    "print copy_analysis.id, copy_analysis.experiment.id, copy_analysis.params, copy_analysis.owner, copy_analysis.status"
   ]
  },
  {
   "cell_type": "code",
   "execution_count": 15,
   "metadata": {
    "collapsed": false,
    "scrolled": false
   },
   "outputs": [
    {
     "name": "stderr",
     "output_type": "stream",
     "text": [
      "INFO 2017-03-04 07:43:34,390 pipeline_rpy2.py:50 | ******************************************\n",
      "INFO 2017-03-04 07:43:34,392 pipeline_rpy2.py:51 | Setup rpy2 connection\n",
      "INFO 2017-03-04 07:43:34,393 pipeline_rpy2.py:52 | ******************************************\n"
     ]
    },
    {
     "name": "stdout",
     "output_type": "stream",
     "text": [
      "[1] \"Initialising PuMP logging\"\n",
      "[1] \"PuMP log level set to DEBUG\"\n"
     ]
    },
    {
     "name": "stderr",
     "output_type": "stream",
     "text": [
      "/home/pimp/pimp/venv/local/lib/python2.7/site-packages/rpy2/robjects/packages.py:63: UserWarning: Note: the specification for S3 class \"AsIs\" in package 'RJSONIO' seems equivalent to one from package 'BiocGenerics': not turning on duplicate class definitions for this class.\n",
      "\n",
      "  return _reval(expr)\n",
      "\n",
      "WARNING 2017-03-04 07:43:41,807 packages.py:63 | /home/pimp/pimp/venv/local/lib/python2.7/site-packages/rpy2/robjects/packages.py:63: UserWarning: Note: the specification for S3 class \"AsIs\" in package 'RJSONIO' seems equivalent to one from package 'BiocGenerics': not turning on duplicate class definitions for this class.\n",
      "\n",
      "  return _reval(expr)\n",
      "\n",
      "DEBUG 2017-03-04 07:43:43,107 utils.py:91 | (0.003) SELECT `fileupload_picture`.`file` FROM `fileupload_picture` INNER JOIN `fileupload_samplefilegroup` ON ( `fileupload_picture`.`id` = `fileupload_samplefilegroup`.`posdata_id` ) INNER JOIN `fileupload_sample` ON ( `fileupload_samplefilegroup`.`id` = `fileupload_sample`.`samplefile_id` ) WHERE (`fileupload_sample`.`id`) IN (SELECT DISTINCT U0.`id` FROM `fileupload_sample` U0 INNER JOIN `groups_sampleattribute` U1 ON ( U0.`id` = U1.`sample_id` ) INNER JOIN `groups_attribute` U2 ON ( U1.`attribute_id` = U2.`id` ) INNER JOIN `experiments_attributecomparison` U3 ON ( U2.`id` = U3.`attribute_id` ) INNER JOIN `experiments_comparison` U4 ON ( U3.`comparison_id` = U4.`id` ) WHERE U4.`experiment_id` = 17); args=(17,)\n",
      "DEBUG 2017-03-04 07:43:43,110 utils.py:91 | (0.001) SELECT `fileupload_picture`.`file` FROM `fileupload_picture` INNER JOIN `fileupload_samplefilegroup` ON ( `fileupload_picture`.`id` = `fileupload_samplefilegroup`.`negdata_id` ) INNER JOIN `fileupload_sample` ON ( `fileupload_samplefilegroup`.`id` = `fileupload_sample`.`samplefile_id` ) WHERE (`fileupload_sample`.`id`) IN (SELECT DISTINCT U0.`id` FROM `fileupload_sample` U0 INNER JOIN `groups_sampleattribute` U1 ON ( U0.`id` = U1.`sample_id` ) INNER JOIN `groups_attribute` U2 ON ( U1.`attribute_id` = U2.`id` ) INNER JOIN `experiments_attributecomparison` U3 ON ( U2.`id` = U3.`attribute_id` ) INNER JOIN `experiments_comparison` U4 ON ( U3.`comparison_id` = U4.`id` ) WHERE U4.`experiment_id` = 17); args=(17,)\n",
      "DEBUG 2017-03-04 07:43:43,118 utils.py:91 | (0.004) SELECT `groups_group`.`name`, `groups_attribute`.`name`, `fileupload_sample`.`name` FROM `groups_group` LEFT OUTER JOIN `groups_attribute` ON ( `groups_group`.`id` = `groups_attribute`.`group_id` ) LEFT OUTER JOIN `groups_sampleattribute` ON ( `groups_attribute`.`id` = `groups_sampleattribute`.`attribute_id` ) LEFT OUTER JOIN `fileupload_sample` ON ( `groups_sampleattribute`.`sample_id` = `fileupload_sample`.`id` ) WHERE `groups_group`.`id` IN (SELECT DISTINCT U0.`id` FROM `groups_group` U0 INNER JOIN `groups_attribute` U1 ON ( U0.`id` = U1.`group_id` ) INNER JOIN `experiments_attributecomparison` U2 ON ( U1.`id` = U2.`attribute_id` ) INNER JOIN `experiments_comparison` U3 ON ( U2.`comparison_id` = U3.`id` ) WHERE U3.`experiment_id` = 17); args=(17,)\n"
     ]
    },
    {
     "name": "stdout",
     "output_type": "stream",
     "text": [
      "2017-03-04 07:43:41 ERROR:pump.misc.initialisePuMPLogging:Logging at ERROR level\n",
      "2017-03-04 07:43:41 WARNING:pump.misc.initialisePuMPLogging:Logging at WARNING level\n",
      "2017-03-04 07:43:41 INFO:pump.misc.initialisePuMPLogging:Logging at INFO level\n",
      "2017-03-04 07:43:41 DEBUG:pump.misc.initialisePuMPLogging:Logging at DEBUG level\n",
      "2017-03-04 07:43:42 INFO:PeakML.Isotope.plotSamples:OS type: x86_64-pc-linux-gnu\n",
      "2017-03-04 07:43:42 INFO:PeakML.Isotope.plotSamples:Java parameters are: -Xmx8192m\n",
      "2017-03-04 07:43:42 INFO:PeakML.Isotope.plotSamples:Using jar file /home/pimp/pimp/packrat/lib/x86_64-pc-linux-gnu/3.2.3/mzmatch.R/java/mzmatch-2.1-with-dependencies.jar\n",
      "2017-03-04 07:43:42 INFO:PeakML.Isotope.plotSamples:Using SWT file /home/pimp/pimp/packrat/lib/x86_64-pc-linux-gnu/3.2.3/mzmatch.R/java/swt-4.5-gtk-linux-x86_64.jar\n",
      "[1] \"Initialising PiMP logging\"\n",
      "[1] \"PiMP log level set to DEBUG\"\n",
      "2017-03-04 07:43:42 ERROR:Pimp.extra.initialisePiMPLogging:Logging at ERROR level\n",
      "2017-03-04 07:43:42 WARNING:Pimp.extra.initialisePiMPLogging:Logging at WARNING level\n",
      "2017-03-04 07:43:42 INFO:Pimp.extra.initialisePiMPLogging:Logging at INFO level\n",
      "2017-03-04 07:43:42 DEBUG:Pimp.extra.initialisePiMPLogging:Logging at DEBUG level\n"
     ]
    },
    {
     "name": "stderr",
     "output_type": "stream",
     "text": [
      "DEBUG 2017-03-04 07:43:43,140 utils.py:91 | (0.004) SELECT `fileupload_projfile`.`file` FROM `fileupload_calibrationsample` INNER JOIN `groups_projfileattribute` ON ( `fileupload_calibrationsample`.`id` = `groups_projfileattribute`.`calibrationsample_id` ) INNER JOIN `groups_attribute` ON ( `groups_projfileattribute`.`attribute_id` = `groups_attribute`.`id` ) LEFT OUTER JOIN `fileupload_standardfilegroup` ON ( `fileupload_calibrationsample`.`standardFile_id` = `fileupload_standardfilegroup`.`id` ) LEFT OUTER JOIN `fileupload_projfile` ON ( `fileupload_standardfilegroup`.`data_id` = `fileupload_projfile`.`id` ) WHERE (`fileupload_calibrationsample`.`project_id` = 10 AND `groups_attribute`.`name` = 'standard'); args=(10, 'standard')\n",
      "DEBUG 2017-03-04 07:43:43,146 utils.py:91 | (0.001) SELECT `experiments_comparison`.`id`, `experiments_comparison`.`name`, `experiments_attributecomparison`.`attribute_id`, `groups_group`.`name`, `groups_attribute`.`name`, `experiments_attributecomparison`.`group` FROM `experiments_comparison` LEFT OUTER JOIN `experiments_attributecomparison` ON ( `experiments_comparison`.`id` = `experiments_attributecomparison`.`comparison_id` ) LEFT OUTER JOIN `groups_attribute` ON ( `experiments_attributecomparison`.`attribute_id` = `groups_attribute`.`id` ) LEFT OUTER JOIN `groups_group` ON ( `groups_attribute`.`group_id` = `groups_group`.`id` ) WHERE `experiments_comparison`.`experiment_id` = 17; args=(17,)\n",
      "DEBUG 2017-03-04 07:43:43,152 utils.py:91 | (0.001) SELECT `experiments_database`.`name` FROM `experiments_database` INNER JOIN `experiments_params_databases` ON ( `experiments_database`.`id` = `experiments_params_databases`.`database_id` ) INNER JOIN `experiments_params` ON ( `experiments_params_databases`.`params_id` = `experiments_params`.`id` ) INNER JOIN `experiments_analysis` ON ( `experiments_params`.`id` = `experiments_analysis`.`params_id` ) WHERE `experiments_analysis`.`id` = 39; args=(39,)\n",
      "DEBUG 2017-03-04 07:43:43,156 utils.py:91 | (0.001) UPDATE `experiments_analysis` SET `status` = 'Processing' WHERE `experiments_analysis`.`id` = 39; args=('Processing', 39)\n",
      "INFO 2017-03-04 07:43:43,160 helpers.py:16 | Data dir: /home/pimp/media/projects\n",
      "INFO 2017-03-04 07:43:43,163 helpers.py:17 | Project dir: /home/pimp/media/projects/10\n",
      "DEBUG 2017-03-04 07:43:43,166 pipeline_rpy2.py:90 | all_files [u'samples/POS/Beer_2_full1.mzXML', u'samples/POS/Beer_2_full2.mzXML', u'samples/POS/Beer_1_full1.mzXML', u'samples/POS/Beer_1_full2.mzXML', u'samples/NEG/Beer_2_full1.mzXML', u'samples/NEG/Beer_2_full2.mzXML', u'samples/NEG/Beer_1_full1.mzXML', u'samples/NEG/Beer_1_full2.mzXML']\n",
      "DEBUG 2017-03-04 07:43:43,169 pipeline_rpy2.py:91 | working_dir /home/pimp/media/projects/10\n",
      "/home/pimp/pimp/venv/local/lib/python2.7/site-packages/rpy2/robjects/functions.py:106: UserWarning: Loading required package: RUnit\n",
      "\n",
      "  res = super(Function, self).__call__(*new_args, **new_kwargs)\n",
      "\n",
      "WARNING 2017-03-04 07:43:43,258 functions.py:106 | /home/pimp/pimp/venv/local/lib/python2.7/site-packages/rpy2/robjects/functions.py:106: UserWarning: Loading required package: RUnit\n",
      "\n",
      "  res = super(Function, self).__call__(*new_args, **new_kwargs)\n",
      "\n",
      "/home/pimp/pimp/venv/local/lib/python2.7/site-packages/rpy2/robjects/functions.py:106: UserWarning: Loading required package: DBI\n",
      "\n",
      "  res = super(Function, self).__call__(*new_args, **new_kwargs)\n",
      "\n",
      "WARNING 2017-03-04 07:43:43,402 functions.py:106 | /home/pimp/pimp/venv/local/lib/python2.7/site-packages/rpy2/robjects/functions.py:106: UserWarning: Loading required package: DBI\n",
      "\n",
      "  res = super(Function, self).__call__(*new_args, **new_kwargs)\n",
      "\n"
     ]
    },
    {
     "name": "stdout",
     "output_type": "stream",
     "text": [
      "2017-03-04 07:43:43 INFO:Pimp.extra.setPiMPLoggerAnalysisID:Setting analysis ID in logger to 39\n",
      "2017-03-04 07:43:43 39:INFO:Pimp.extra.setPiMPLoggerAnalysisID:Analysis id set\n"
     ]
    },
    {
     "name": "stderr",
     "output_type": "stream",
     "text": [
      "/home/pimp/pimp/venv/local/lib/python2.7/site-packages/rpy2/robjects/functions.py:106: UserWarning: Setting analysis directory to: analysis_39\n",
      "\n",
      "  res = super(Function, self).__call__(*new_args, **new_kwargs)\n",
      "\n",
      "WARNING 2017-03-04 07:43:43,871 functions.py:106 | /home/pimp/pimp/venv/local/lib/python2.7/site-packages/rpy2/robjects/functions.py:106: UserWarning: Setting analysis directory to: analysis_39\n",
      "\n",
      "  res = super(Function, self).__call__(*new_args, **new_kwargs)\n",
      "\n"
     ]
    },
    {
     "name": "stdout",
     "output_type": "stream",
     "text": [
      "2017-03-04 07:43:43 39:INFO:Pimp.getAnalysisParams:Setting params\n",
      "2017-03-04 07:43:43 39:DEBUG:Pimp.getAnalysisParams:Name: iqr Value: 0.5\n",
      "2017-03-04 07:43:43 39:DEBUG:Pimp.getAnalysisParams:Name: rsd Value: 0.5\n",
      "2017-03-04 07:43:43 39:DEBUG:Pimp.getAnalysisParams:Name: noise Value: 0.8\n",
      "2017-03-04 07:43:43 39:DEBUG:Pimp.getAnalysisParams:Name: ppm Value: 3\n",
      "2017-03-04 07:43:43 39:DEBUG:Pimp.getAnalysisParams:Name: mindetections Value: 3\n",
      "2017-03-04 07:43:43 39:DEBUG:Pimp.getAnalysisParams:Name: minintensity Value: 5000\n",
      "2017-03-04 07:43:43 39:DEBUG:Pimp.getAnalysisParams:Name: rtwindow Value: 0.05\n",
      "2017-03-04 07:43:43 39:DEBUG:Pimp.getAnalysisParams:Name: rt.alignment Value: NA\n",
      "2017-03-04 07:43:43 39:INFO:Pimp.extra.setPiMPLoggerAnalysisID:Setting analysis ID in logger to 39\n",
      "2017-03-04 07:43:43 39:INFO:Pimp.extra.setPiMPLoggerAnalysisID:Analysis id set\n",
      "2017-03-04 07:43:43 39:INFO:Pimp.createAnalysisDir:Setting working dir to /home/pimp/media/projects/10:\n",
      "2017-03-04 07:43:43 39:INFO:Pimp.createAnalysisDir:Analysis dir created at analysis_39\n",
      "2017-03-04 07:43:43 39:INFO:Pimp.generateStdXml:Setting working directory to /home/pimp/media/projects/10\n"
     ]
    }
   ],
   "source": [
    "pipeline = Rpy2Pipeline(copy_analysis, project)"
   ]
  },
  {
   "cell_type": "code",
   "execution_count": 16,
   "metadata": {
    "collapsed": false,
    "scrolled": true
   },
   "outputs": [
    {
     "name": "stderr",
     "output_type": "stream",
     "text": [
      "INFO 2017-03-04 07:43:46,104 pipeline_rpy2.py:242 | Processing positive polarity\n",
      "INFO 2017-03-04 07:43:46,107 pipeline_rpy2.py:619 | Creating /home/pimp/media/projects/10/analysis_39/positive\n",
      "INFO 2017-03-04 07:43:46,112 pipeline_rpy2.py:619 | Creating /home/pimp/media/projects/10/analysis_39/positive/combined\n",
      "INFO 2017-03-04 07:43:46,114 pipeline_rpy2.py:127 | ------------------------------------------\n",
      "INFO 2017-03-04 07:43:46,115 pipeline_rpy2.py:128 | positive /home/pimp/media/projects/10/analysis_39/positive /home/pimp/media/projects/10/analysis_39/positive/combined\n",
      "INFO 2017-03-04 07:43:46,117 pipeline_rpy2.py:129 | ------------------------------------------\n",
      "DEBUG 2017-03-04 07:43:46,118 pipeline_rpy2.py:132 | Input for peak detection and RT correction [u'samples/POS/Beer_2_full1.mzXML', u'samples/POS/Beer_2_full2.mzXML', u'samples/POS/Beer_1_full1.mzXML', u'samples/POS/Beer_1_full2.mzXML']\n",
      "/home/pimp/pimp/venv/local/lib/python2.7/site-packages/rpy2/robjects/functions.py:106: UserWarning: \n",
      "Attaching package: 'snow'\n",
      "\n",
      "\n",
      "  res = super(Function, self).__call__(*new_args, **new_kwargs)\n",
      "\n",
      "WARNING 2017-03-04 07:43:46,210 functions.py:106 | /home/pimp/pimp/venv/local/lib/python2.7/site-packages/rpy2/robjects/functions.py:106: UserWarning: \n",
      "Attaching package: 'snow'\n",
      "\n",
      "\n",
      "  res = super(Function, self).__call__(*new_args, **new_kwargs)\n",
      "\n",
      "/home/pimp/pimp/venv/local/lib/python2.7/site-packages/rpy2/robjects/functions.py:106: UserWarning: The following objects are masked from 'package:BiocGenerics':\n",
      "\n",
      "    clusterApply, clusterApplyLB, clusterCall, clusterEvalQ,\n",
      "    clusterExport, clusterMap, clusterSplit, parApply, parCapply,\n",
      "    parLapply, parRapply, parSapply\n",
      "\n",
      "\n",
      "  res = super(Function, self).__call__(*new_args, **new_kwargs)\n",
      "\n",
      "WARNING 2017-03-04 07:43:46,214 functions.py:106 | /home/pimp/pimp/venv/local/lib/python2.7/site-packages/rpy2/robjects/functions.py:106: UserWarning: The following objects are masked from 'package:BiocGenerics':\n",
      "\n",
      "    clusterApply, clusterApplyLB, clusterCall, clusterEvalQ,\n",
      "    clusterExport, clusterMap, clusterSplit, parApply, parCapply,\n",
      "    parLapply, parRapply, parSapply\n",
      "\n",
      "\n",
      "  res = super(Function, self).__call__(*new_args, **new_kwargs)\n",
      "\n",
      "/home/pimp/pimp/venv/local/lib/python2.7/site-packages/rpy2/robjects/functions.py:106: UserWarning: The following objects are masked from 'package:parallel':\n",
      "\n",
      "    clusterApply, clusterApplyLB, clusterCall, clusterEvalQ,\n",
      "    clusterExport, clusterMap, clusterSplit, makeCluster, parApply,\n",
      "    parCapply, parLapply, parRapply, parSapply, splitIndices,\n",
      "    stopCluster\n",
      "\n",
      "\n",
      "  res = super(Function, self).__call__(*new_args, **new_kwargs)\n",
      "\n",
      "WARNING 2017-03-04 07:43:46,222 functions.py:106 | /home/pimp/pimp/venv/local/lib/python2.7/site-packages/rpy2/robjects/functions.py:106: UserWarning: The following objects are masked from 'package:parallel':\n",
      "\n",
      "    clusterApply, clusterApplyLB, clusterCall, clusterEvalQ,\n",
      "    clusterExport, clusterMap, clusterSplit, makeCluster, parApply,\n",
      "    parCapply, parLapply, parRapply, parSapply, splitIndices,\n",
      "    stopCluster\n",
      "\n",
      "\n",
      "  res = super(Function, self).__call__(*new_args, **new_kwargs)\n",
      "\n"
     ]
    },
    {
     "name": "stdout",
     "output_type": "stream",
     "text": [
      "Starting snow cluster with 8 local sockets.\n",
      "Detecting features in file # 1 : Beer_2_full1.mzXML \n",
      "Detecting features in file # 2 : Beer_2_full2.mzXML \n",
      "Detecting features in file # 3 : Beer_1_full1.mzXML \n",
      "Detecting features in file # 4 : Beer_1_full2.mzXML \n",
      "center sample:  "
     ]
    },
    {
     "name": "stderr",
     "output_type": "stream",
     "text": [
      "DEBUG 2017-03-04 07:48:33,345 pipeline_rpy2.py:464 | Now creating /home/pimp/media/projects/10/analysis_39/positive/Beer_1_full1.peakml\n"
     ]
    },
    {
     "name": "stdout",
     "output_type": "stream",
     "text": [
      "Beer_1_full2 \n",
      "Processing: Beer_2_full1  Beer_2_full2  Beer_1_full1  \n",
      "2017-03-04 07:48:34 39:INFO:PeakML.xcms.write.SingleInstance:positive\n",
      "2017-03-04 07:48:34 39:INFO:PeakML.xcms.write.SingleInstance:retrieving raw data\n"
     ]
    },
    {
     "name": "stderr",
     "output_type": "stream",
     "text": [
      "DEBUG 2017-03-04 07:48:57,457 pipeline_rpy2.py:464 | Now creating /home/pimp/media/projects/10/analysis_39/positive/Beer_1_full2.peakml\n",
      "DEBUG 2017-03-04 07:49:28,610 pipeline_rpy2.py:464 | Now creating /home/pimp/media/projects/10/analysis_39/positive/Beer_2_full1.peakml\n"
     ]
    },
    {
     "name": "stdout",
     "output_type": "stream",
     "text": [
      "2017-03-04 07:48:34 39:INFO:PeakML.xcms.write.SingleInstance:- /home/pimp/media/projects/10/samples/POS/Beer_1_full1.mzXML\n",
      "2017-03-04 07:48:57 39:INFO::11539 peaks exported.\n",
      "2017-03-04 07:48:58 39:INFO:PeakML.xcms.write.SingleInstance:positive\n",
      "2017-03-04 07:48:58 39:INFO:PeakML.xcms.write.SingleInstance:retrieving raw data\n",
      "2017-03-04 07:48:58 39:INFO:PeakML.xcms.write.SingleInstance:- /home/pimp/media/projects/10/samples/POS/Beer_1_full2.mzXML\n",
      "2017-03-04 07:49:28 39:INFO::11471 peaks exported.\n",
      "2017-03-04 07:49:29 39:INFO:PeakML.xcms.write.SingleInstance:positive\n",
      "2017-03-04 07:49:29 39:INFO:PeakML.xcms.write.SingleInstance:retrieving raw data\n",
      "2017-03-04 07:49:29 39:INFO:PeakML.xcms.write.SingleInstance:- /home/pimp/media/projects/10/samples/POS/Beer_2_full1.mzXML\n"
     ]
    },
    {
     "name": "stderr",
     "output_type": "stream",
     "text": [
      "DEBUG 2017-03-04 07:49:55,083 pipeline_rpy2.py:464 | Now creating /home/pimp/media/projects/10/analysis_39/positive/Beer_2_full2.peakml\n"
     ]
    },
    {
     "name": "stdout",
     "output_type": "stream",
     "text": [
      "2017-03-04 07:49:55 39:INFO::11382 peaks exported.\n"
     ]
    },
    {
     "name": "stderr",
     "output_type": "stream",
     "text": [
      "DEBUG 2017-03-04 07:50:21,268 utils.py:91 | (0.000) SET SQL_AUTO_IS_NULL = 0; args=None\n",
      "DEBUG 2017-03-04 07:50:21,276 utils.py:91 | (0.006) SELECT `groups_group`.`name`, `groups_attribute`.`name`, `fileupload_sample`.`name` FROM `groups_group` LEFT OUTER JOIN `groups_attribute` ON ( `groups_group`.`id` = `groups_attribute`.`group_id` ) LEFT OUTER JOIN `groups_sampleattribute` ON ( `groups_attribute`.`id` = `groups_sampleattribute`.`attribute_id` ) LEFT OUTER JOIN `fileupload_sample` ON ( `groups_sampleattribute`.`sample_id` = `fileupload_sample`.`id` ) WHERE `groups_group`.`id` IN (SELECT U0.`id` FROM `groups_group` U0 INNER JOIN `groups_attribute` U1 ON ( U0.`id` = U1.`group_id` ) INNER JOIN `groups_sampleattribute` U2 ON ( U1.`id` = U2.`attribute_id` ) INNER JOIN `fileupload_sample` U3 ON ( U2.`sample_id` = U3.`id` ) WHERE U3.`project_id` = 10); args=(10,)\n",
      "DEBUG 2017-03-04 07:50:21,284 pipeline_rpy2.py:477 | [beer_taste with 2 levels]\n",
      "DEBUG 2017-03-04 07:50:21,285 pipeline_rpy2.py:480 | beer_taste\n",
      "DEBUG 2017-03-04 07:50:21,286 pipeline_rpy2.py:482 | - taste_good [u'Beer_1_full1', u'Beer_1_full2']\n",
      "DEBUG 2017-03-04 07:50:21,288 pipeline_rpy2.py:482 | - taste_bad [u'Beer_2_full1', u'Beer_2_full2']\n",
      "DEBUG 2017-03-04 07:50:21,289 pipeline_rpy2.py:485 | (2,)\n",
      "DEBUG 2017-03-04 07:50:21,296 utils.py:91 | (0.000) SET SQL_AUTO_IS_NULL = 0; args=None\n",
      "DEBUG 2017-03-04 07:50:21,299 utils.py:91 | (0.002) SELECT `fileupload_picture`.`file` FROM `fileupload_picture` INNER JOIN `fileupload_samplefilegroup` ON ( `fileupload_picture`.`id` = `fileupload_samplefilegroup`.`posdata_id` ) INNER JOIN `fileupload_sample` ON ( `fileupload_samplefilegroup`.`id` = `fileupload_sample`.`samplefile_id` ) WHERE (`fileupload_sample`.`id`) IN (SELECT DISTINCT U0.`id` FROM `fileupload_sample` U0 INNER JOIN `groups_sampleattribute` U1 ON ( U0.`id` = U1.`sample_id` ) INNER JOIN `groups_attribute` U2 ON ( U1.`attribute_id` = U2.`id` ) INNER JOIN `experiments_attributecomparison` U3 ON ( U2.`id` = U3.`attribute_id` ) INNER JOIN `experiments_comparison` U4 ON ( U3.`comparison_id` = U4.`id` ) WHERE U4.`experiment_id` = 17); args=(17,)\n",
      "DEBUG 2017-03-04 07:50:21,302 utils.py:91 | (0.001) SELECT `fileupload_picture`.`file` FROM `fileupload_picture` INNER JOIN `fileupload_samplefilegroup` ON ( `fileupload_picture`.`id` = `fileupload_samplefilegroup`.`negdata_id` ) INNER JOIN `fileupload_sample` ON ( `fileupload_samplefilegroup`.`id` = `fileupload_sample`.`samplefile_id` ) WHERE (`fileupload_sample`.`id`) IN (SELECT DISTINCT U0.`id` FROM `fileupload_sample` U0 INNER JOIN `groups_sampleattribute` U1 ON ( U0.`id` = U1.`sample_id` ) INNER JOIN `groups_attribute` U2 ON ( U1.`attribute_id` = U2.`id` ) INNER JOIN `experiments_attributecomparison` U3 ON ( U2.`id` = U3.`attribute_id` ) INNER JOIN `experiments_comparison` U4 ON ( U3.`comparison_id` = U4.`id` ) WHERE U4.`experiment_id` = 17); args=(17,)\n",
      "DEBUG 2017-03-04 07:50:21,304 pipeline_rpy2.py:495 | -1 None root : set([u'Beer_2_full1', u'Beer_2_full2', u'Beer_1_full2', u'Beer_1_full1']) at []\n",
      "0 beer_taste with 2 levels taste_good : set([u'Beer_1_full2', u'Beer_1_full1']) at [0]\n",
      "0 beer_taste with 2 levels taste_bad : set([u'Beer_2_full1', u'Beer_2_full2']) at [1]\n",
      "\n"
     ]
    },
    {
     "name": "stdout",
     "output_type": "stream",
     "text": [
      "2017-03-04 07:49:55 39:INFO:PeakML.xcms.write.SingleInstance:positive\n",
      "2017-03-04 07:49:55 39:INFO:PeakML.xcms.write.SingleInstance:retrieving raw data\n",
      "2017-03-04 07:49:55 39:INFO:PeakML.xcms.write.SingleInstance:- /home/pimp/media/projects/10/samples/POS/Beer_2_full2.mzXML\n",
      "2017-03-04 07:50:21 39:INFO::12014 peaks exported.\n"
     ]
    },
    {
     "name": "stderr",
     "output_type": "stream",
     "text": [
      "INFO 2017-03-04 07:50:21,771 pipeline_rpy2.py:281 | Processing /home/pimp/media/projects/10/analysis_39/positive/combined/group_0\n",
      "INFO 2017-03-04 07:50:44,532 pipeline_rpy2.py:281 | Processing /home/pimp/media/projects/10/analysis_39/positive/combined/group_1\n"
     ]
    },
    {
     "name": "stdout",
     "output_type": "stream",
     "text": [
      "2017-03-04 07:50:21 39:INFO:PuMP.callToArgList.dispatchCall:mzmatch.ipeak.Combine -i /home/pimp/media/projects/10/analysis_39/positive/combined/group_0/Beer_1_full2.peakml,/home/pimp/media/projects/10/analysis_39/positive/combined/group_0/Beer_1_full1.peakml -o /home/pimp/media/projects/10/analysis_39/positive/combined/group_0.peakml -label group_0 -ppm 3 -rtwindow 30 -combination set\n",
      "2017-03-04 07:50:44 39:INFO:PuMP.callToArgList.dispatchCall:mzmatch.ipeak.Combine -i /home/pimp/media/projects/10/analysis_39/positive/combined/group_1/Beer_2_full1.peakml,/home/pimp/media/projects/10/analysis_39/positive/combined/group_1/Beer_2_full2.peakml -o /home/pimp/media/projects/10/analysis_39/positive/combined/group_1.peakml -label group_1 -ppm 3 -rtwindow 30 -combination set\n"
     ]
    },
    {
     "name": "stderr",
     "output_type": "stream",
     "text": [
      "DEBUG 2017-03-04 07:51:04,783 pipeline_rpy2.py:141 | combined groups = ['/home/pimp/media/projects/10/analysis_39/positive/combined/group_0.peakml', '/home/pimp/media/projects/10/analysis_39/positive/combined/group_1.peakml']\n",
      "DEBUG 2017-03-04 07:51:38,068 pipeline_rpy2.py:145 | filtered groups = ['/home/pimp/media/projects/10/analysis_39/positive/combined/group_0_rsd.peakml', '/home/pimp/media/projects/10/analysis_39/positive/combined/group_1_rsd.peakml']\n"
     ]
    },
    {
     "name": "stdout",
     "output_type": "stream",
     "text": [
      "2017-03-04 07:51:04 39:INFO:PuMP.callToArgList.dispatchCall:mzmatch.ipeak.filter.RSDFilter -i /home/pimp/media/projects/10/analysis_39/positive/combined/group_0.peakml -o /home/pimp/media/projects/10/analysis_39/positive/combined/group_0_rsd.peakml -rejected /home/pimp/media/projects/10/analysis_39/positive/combined/group_0_rsdrej.peakml -rsd 0.5\n",
      "2017-03-04 07:51:21 39:INFO:PuMP.callToArgList.dispatchCall:mzmatch.ipeak.filter.RSDFilter -i /home/pimp/media/projects/10/analysis_39/positive/combined/group_1.peakml -o /home/pimp/media/projects/10/analysis_39/positive/combined/group_1_rsd.peakml -rejected /home/pimp/media/projects/10/analysis_39/positive/combined/group_1_rsdrej.peakml -rsd 0.5\n",
      "2017-03-04 07:51:38 39:INFO:PuMP.callToArgList.dispatchCall:mzmatch.ipeak.Combine -i /home/pimp/media/projects/10/analysis_39/positive/combined/group_0_rsd.peakml,/home/pimp/media/projects/10/analysis_39/positive/combined/group_1_rsd.peakml -o /home/pimp/media/projects/10/analysis_39/positive/final_combined.peakml -label  -ppm 3 -rtwindow 30 -combination set\n"
     ]
    },
    {
     "name": "stderr",
     "output_type": "stream",
     "text": [
      "DEBUG 2017-03-04 07:51:54,503 pipeline_rpy2.py:149 | combined final = /home/pimp/media/projects/10/analysis_39/positive/final_combined.peakml\n"
     ]
    },
    {
     "name": "stdout",
     "output_type": "stream",
     "text": [
      "2017-03-04 07:51:54 39:INFO:PuMP.callToArgList.dispatchCall:mzmatch.ipeak.filter.NoiseFilter -i /home/pimp/media/projects/10/analysis_39/positive/final_combined.peakml -o /home/pimp/media/projects/10/analysis_39/positive/final_combined_nf.peakml -codadw 0.8\n",
      "2017-03-04 07:52:05 39:INFO:PuMP.callToArgList.dispatchCall:mzmatch.ipeak.filter.SimpleFilter -i /home/pimp/media/projects/10/analysis_39/positive/final_combined_nf.peakml -o /home/pimp/media/projects/10/analysis_39/positive/final.combined_sf.peakml -ppm 3 -mindetections 3 -minintensity 5000\n"
     ]
    },
    {
     "name": "stderr",
     "output_type": "stream",
     "text": [
      "DEBUG 2017-03-04 07:52:13,651 pipeline_rpy2.py:152 | filter final = /home/pimp/media/projects/10/analysis_39/positive/final.combined_sf.peakml\n"
     ]
    },
    {
     "name": "stdout",
     "output_type": "stream",
     "text": [
      "2017-03-04 07:52:14 39:INFO:PeakML.Methods.getRawDataPaths:Raw data file located at: /home/pimp/media/projects/10/samples/POS/Beer_1_full2.mzXML,/home/pimp/media/projects/10/samples/POS/Beer_1_full1.mzXML,/home/pimp/media/projects/10/samples/POS/Beer_2_full1.mzXML,/home/pimp/media/projects/10/samples/POS/Beer_2_full2.mzXML\n"
     ]
    },
    {
     "name": "stderr",
     "output_type": "stream",
     "text": [
      "DEBUG 2017-03-04 07:53:18,473 pipeline_rpy2.py:156 | gap-filled = /home/pimp/media/projects/10/analysis_39/positive/final_combined_gapfilled.peakml\n"
     ]
    },
    {
     "name": "stdout",
     "output_type": "stream",
     "text": [
      "2017-03-04 07:52:14 39:INFO:PeakML.Methods.getChromData:Loading peakML file in memory (it can take some time, sorry)\n",
      "2017-03-04 07:52:17 39:INFO:PeakML.Methods.getChromData:Done in: 2.43700000000001 s\n",
      "2017-03-04 07:52:24 39:INFO:PeakML.Methods.getPeakData:Extracting peak data from PeakMl file,\n",
      "2017-03-04 07:52:29 39:INFO:PeakML.Methods.getPeakData:Peak data created in 4.74900000000002 s\n",
      "2017-03-04 07:52:37 39:INFO:PeakML.GapFiller:Working on file: /home/pimp/media/projects/10/samples/POS/Beer_1_full2.mzXML\n",
      "2017-03-04 07:52:45 39:INFO:PeakML.GapFiller:Working on file: /home/pimp/media/projects/10/samples/POS/Beer_1_full1.mzXML\n",
      "2017-03-04 07:52:53 39:INFO:PeakML.GapFiller:Working on file: /home/pimp/media/projects/10/samples/POS/Beer_2_full1.mzXML\n",
      "2017-03-04 07:53:02 39:INFO:PeakML.GapFiller:Working on file: /home/pimp/media/projects/10/samples/POS/Beer_2_full2.mzXML\n",
      "2017-03-04 07:53:18 39:INFO:PuMP.callToArgList.dispatchCall:mzmatch.ipeak.sort.RelatedPeaks -i /home/pimp/media/projects/10/analysis_39/positive/final_combined_gapfilled.peakml -o /home/pimp/media/projects/10/analysis_39/positive/final_combined_related.peakml -basepeaks /home/pimp/media/projects/10/analysis_39/positive/final_combined_basepeaks.peakml -ppm 3 -rtwindow 30\n"
     ]
    },
    {
     "name": "stderr",
     "output_type": "stream",
     "text": [
      "DEBUG 2017-03-04 07:53:27,620 pipeline_rpy2.py:160 | related peaks = /home/pimp/media/projects/10/analysis_39/positive/final_combined_related.peakml /home/pimp/media/projects/10/analysis_39/positive/final_combined_basepeaks.peakml\n",
      "DEBUG 2017-03-04 07:53:27,622 pipeline_rpy2.py:164 | identification databases [1] \"/home/pimp/pimp/packrat/lib/x86_64-pc-linux-gnu/3.2.3/PiMP/dbs/hmdb.xml\"     \n",
      "[2] \"/home/pimp/pimp/packrat/lib/x86_64-pc-linux-gnu/3.2.3/PiMP/dbs/kegg.xml\"     \n",
      "[3] \"/home/pimp/pimp/packrat/lib/x86_64-pc-linux-gnu/3.2.3/PiMP/dbs/lipidmaps.xml\"\n",
      "\n",
      "DEBUG 2017-03-04 07:53:27,626 pipeline_rpy2.py:165 | identification groups [('group_0', (0,), 'taste_good', [u'Beer_1_full2', u'Beer_1_full1'], '/home/pimp/media/projects/10/analysis_39/positive/combined/group_0'), ('group_1', (1,), 'taste_bad', [u'Beer_2_full1', u'Beer_2_full2'], '/home/pimp/media/projects/10/analysis_39/positive/combined/group_1')]\n",
      "INFO 2017-03-04 07:53:27,630 pipeline_rpy2.py:378 | /home/pimp/media/projects/10/analysis_39/stds_db.xml is not found, setting stds.xml.db to NULL\n"
     ]
    },
    {
     "name": "stdout",
     "output_type": "stream",
     "text": [
      "2017-03-04 07:53:27 39:INFO:PuMP.callToArgList.dispatchCall:mzmatch.ipeak.util.Identify -i analysis_39/positive/final_combined_related.peakml -o analysis_39/positive/final_combined_related_identified_hmdb.peakml -ppm 3 -databases /home/pimp/pimp/packrat/lib/x86_64-pc-linux-gnu/3.2.3/PiMP/dbs/hmdb.xml -rtwindowrelative FALSE -adducts M+H,M+ACN+Na,M+Na,M+K,M+ACN+H\n",
      "2017-03-04 07:54:01 39:INFO:PuMP.callToArgList.dispatchCall:mzmatch.ipeak.convert.ConvertToText -i analysis_39/positive/final_combined_related_identified_hmdb.peakml -o analysis_39/positive/mzmatch_output_hmdb.txt -annotations identification,ppm,adduct,relation.id,relation.ship,codadw,charge\n",
      "2017-03-04 07:54:04 39:INFO:PuMP.callToArgList.dispatchCall:mzmatch.ipeak.util.Identify -i analysis_39/positive/final_combined_related.peakml -o analysis_39/positive/final_combined_related_identified_kegg.peakml -ppm 3 -databases /home/pimp/pimp/packrat/lib/x86_64-pc-linux-gnu/3.2.3/PiMP/dbs/kegg.xml -rtwindowrelative FALSE -adducts M+H,M+ACN+Na,M+Na,M+K,M+ACN+H\n"
     ]
    },
    {
     "name": "stderr",
     "output_type": "stream",
     "text": [
      "INFO 2017-03-04 07:54:56,308 pipeline_rpy2.py:242 | Processing negative polarity\n",
      "INFO 2017-03-04 07:54:56,312 pipeline_rpy2.py:619 | Creating /home/pimp/media/projects/10/analysis_39/negative\n",
      "INFO 2017-03-04 07:54:56,316 pipeline_rpy2.py:619 | Creating /home/pimp/media/projects/10/analysis_39/negative/combined\n",
      "INFO 2017-03-04 07:54:56,319 pipeline_rpy2.py:127 | ------------------------------------------\n",
      "INFO 2017-03-04 07:54:56,320 pipeline_rpy2.py:128 | negative /home/pimp/media/projects/10/analysis_39/negative /home/pimp/media/projects/10/analysis_39/negative/combined\n",
      "INFO 2017-03-04 07:54:56,321 pipeline_rpy2.py:129 | ------------------------------------------\n",
      "DEBUG 2017-03-04 07:54:56,322 pipeline_rpy2.py:132 | Input for peak detection and RT correction [u'samples/NEG/Beer_2_full1.mzXML', u'samples/NEG/Beer_2_full2.mzXML', u'samples/NEG/Beer_1_full1.mzXML', u'samples/NEG/Beer_1_full2.mzXML']\n"
     ]
    },
    {
     "name": "stdout",
     "output_type": "stream",
     "text": [
      "2017-03-04 07:54:21 39:INFO:PuMP.callToArgList.dispatchCall:mzmatch.ipeak.convert.ConvertToText -i analysis_39/positive/final_combined_related_identified_kegg.peakml -o analysis_39/positive/mzmatch_output_kegg.txt -annotations identification,ppm,adduct,relation.id,relation.ship,codadw,charge\n",
      "2017-03-04 07:54:24 39:INFO:PuMP.callToArgList.dispatchCall:mzmatch.ipeak.util.Identify -i analysis_39/positive/final_combined_related.peakml -o analysis_39/positive/final_combined_related_identified_lipidmaps.peakml -ppm 3 -databases /home/pimp/pimp/packrat/lib/x86_64-pc-linux-gnu/3.2.3/PiMP/dbs/lipidmaps.xml -rtwindowrelative FALSE -adducts M+H,M+ACN+Na,M+Na,M+K,M+ACN+H\n",
      "2017-03-04 07:54:52 39:INFO:PuMP.callToArgList.dispatchCall:mzmatch.ipeak.convert.ConvertToText -i analysis_39/positive/final_combined_related_identified_lipidmaps.peakml -o analysis_39/positive/mzmatch_output_lipidmaps.txt -annotations identification,ppm,adduct,relation.id,relation.ship,codadw,charge\n",
      "Starting snow cluster with 8 local sockets.\n",
      "Detecting features in file # 1 : Beer_2_full1.mzXML \n",
      "Detecting features in file # 2 : Beer_2_full2.mzXML \n",
      "Detecting features in file # 3 : Beer_1_full1.mzXML \n",
      "Detecting features in file # 4 : Beer_1_full2.mzXML \n",
      "center sample:  Beer_2_full1 \n",
      "Processing: "
     ]
    },
    {
     "name": "stderr",
     "output_type": "stream",
     "text": [
      "DEBUG 2017-03-04 08:02:47,018 pipeline_rpy2.py:464 | Now creating /home/pimp/media/projects/10/analysis_39/negative/Beer_1_full1.peakml\n"
     ]
    },
    {
     "name": "stdout",
     "output_type": "stream",
     "text": [
      "Beer_2_full2  Beer_1_full1  Beer_1_full2  \n"
     ]
    },
    {
     "name": "stderr",
     "output_type": "stream",
     "text": [
      "DEBUG 2017-03-04 08:03:04,438 pipeline_rpy2.py:464 | Now creating /home/pimp/media/projects/10/analysis_39/negative/Beer_1_full2.peakml\n"
     ]
    },
    {
     "name": "stdout",
     "output_type": "stream",
     "text": [
      "2017-03-04 08:02:47 39:INFO:PeakML.xcms.write.SingleInstance:negative\n",
      "2017-03-04 08:02:47 39:INFO:PeakML.xcms.write.SingleInstance:retrieving raw data\n",
      "2017-03-04 08:02:47 39:INFO:PeakML.xcms.write.SingleInstance:- /home/pimp/media/projects/10/samples/NEG/Beer_1_full1.mzXML\n",
      "2017-03-04 08:03:04 39:INFO::7273 peaks exported.\n",
      "2017-03-04 08:03:04 39:INFO:PeakML.xcms.write.SingleInstance:negative\n",
      "2017-03-04 08:03:05 39:INFO:PeakML.xcms.write.SingleInstance:retrieving raw data\n",
      "2017-03-04 08:03:05 39:INFO:PeakML.xcms.write.SingleInstance:- /home/pimp/media/projects/10/samples/NEG/Beer_1_full2.mzXML\n"
     ]
    },
    {
     "name": "stderr",
     "output_type": "stream",
     "text": [
      "DEBUG 2017-03-04 08:03:21,006 pipeline_rpy2.py:464 | Now creating /home/pimp/media/projects/10/analysis_39/negative/Beer_2_full1.peakml\n"
     ]
    },
    {
     "name": "stdout",
     "output_type": "stream",
     "text": [
      "2017-03-04 08:03:21 39:INFO::7630 peaks exported.\n"
     ]
    },
    {
     "name": "stderr",
     "output_type": "stream",
     "text": [
      "DEBUG 2017-03-04 08:03:41,821 pipeline_rpy2.py:464 | Now creating /home/pimp/media/projects/10/analysis_39/negative/Beer_2_full2.peakml\n"
     ]
    },
    {
     "name": "stdout",
     "output_type": "stream",
     "text": [
      "2017-03-04 08:03:21 39:INFO:PeakML.xcms.write.SingleInstance:negative\n",
      "2017-03-04 08:03:21 39:INFO:PeakML.xcms.write.SingleInstance:retrieving raw data\n",
      "2017-03-04 08:03:21 39:INFO:PeakML.xcms.write.SingleInstance:- /home/pimp/media/projects/10/samples/NEG/Beer_2_full1.mzXML\n",
      "2017-03-04 08:03:41 39:INFO::7415 peaks exported.\n"
     ]
    },
    {
     "name": "stderr",
     "output_type": "stream",
     "text": [
      "DEBUG 2017-03-04 08:03:59,926 utils.py:91 | (0.018) SELECT `groups_group`.`name`, `groups_attribute`.`name`, `fileupload_sample`.`name` FROM `groups_group` LEFT OUTER JOIN `groups_attribute` ON ( `groups_group`.`id` = `groups_attribute`.`group_id` ) LEFT OUTER JOIN `groups_sampleattribute` ON ( `groups_attribute`.`id` = `groups_sampleattribute`.`attribute_id` ) LEFT OUTER JOIN `fileupload_sample` ON ( `groups_sampleattribute`.`sample_id` = `fileupload_sample`.`id` ) WHERE `groups_group`.`id` IN (SELECT U0.`id` FROM `groups_group` U0 INNER JOIN `groups_attribute` U1 ON ( U0.`id` = U1.`group_id` ) INNER JOIN `groups_sampleattribute` U2 ON ( U1.`id` = U2.`attribute_id` ) INNER JOIN `fileupload_sample` U3 ON ( U2.`sample_id` = U3.`id` ) WHERE U3.`project_id` = 10); args=(10,)\n",
      "DEBUG 2017-03-04 08:03:59,957 pipeline_rpy2.py:477 | [beer_taste with 2 levels]\n",
      "DEBUG 2017-03-04 08:03:59,958 pipeline_rpy2.py:480 | beer_taste\n",
      "DEBUG 2017-03-04 08:03:59,960 pipeline_rpy2.py:482 | - taste_good [u'Beer_1_full1', u'Beer_1_full2']\n",
      "DEBUG 2017-03-04 08:03:59,962 pipeline_rpy2.py:482 | - taste_bad [u'Beer_2_full1', u'Beer_2_full2']\n",
      "DEBUG 2017-03-04 08:03:59,964 pipeline_rpy2.py:485 | (2,)\n",
      "DEBUG 2017-03-04 08:03:59,982 utils.py:91 | (0.000) SET SQL_AUTO_IS_NULL = 0; args=None\n",
      "DEBUG 2017-03-04 08:03:59,992 utils.py:91 | (0.008) SELECT `fileupload_picture`.`file` FROM `fileupload_picture` INNER JOIN `fileupload_samplefilegroup` ON ( `fileupload_picture`.`id` = `fileupload_samplefilegroup`.`posdata_id` ) INNER JOIN `fileupload_sample` ON ( `fileupload_samplefilegroup`.`id` = `fileupload_sample`.`samplefile_id` ) WHERE (`fileupload_sample`.`id`) IN (SELECT DISTINCT U0.`id` FROM `fileupload_sample` U0 INNER JOIN `groups_sampleattribute` U1 ON ( U0.`id` = U1.`sample_id` ) INNER JOIN `groups_attribute` U2 ON ( U1.`attribute_id` = U2.`id` ) INNER JOIN `experiments_attributecomparison` U3 ON ( U2.`id` = U3.`attribute_id` ) INNER JOIN `experiments_comparison` U4 ON ( U3.`comparison_id` = U4.`id` ) WHERE U4.`experiment_id` = 17); args=(17,)\n",
      "DEBUG 2017-03-04 08:03:59,996 utils.py:91 | (0.001) SELECT `fileupload_picture`.`file` FROM `fileupload_picture` INNER JOIN `fileupload_samplefilegroup` ON ( `fileupload_picture`.`id` = `fileupload_samplefilegroup`.`negdata_id` ) INNER JOIN `fileupload_sample` ON ( `fileupload_samplefilegroup`.`id` = `fileupload_sample`.`samplefile_id` ) WHERE (`fileupload_sample`.`id`) IN (SELECT DISTINCT U0.`id` FROM `fileupload_sample` U0 INNER JOIN `groups_sampleattribute` U1 ON ( U0.`id` = U1.`sample_id` ) INNER JOIN `groups_attribute` U2 ON ( U1.`attribute_id` = U2.`id` ) INNER JOIN `experiments_attributecomparison` U3 ON ( U2.`id` = U3.`attribute_id` ) INNER JOIN `experiments_comparison` U4 ON ( U3.`comparison_id` = U4.`id` ) WHERE U4.`experiment_id` = 17); args=(17,)\n",
      "DEBUG 2017-03-04 08:03:59,997 pipeline_rpy2.py:495 | -1 None root : set([u'Beer_2_full1', u'Beer_2_full2', u'Beer_1_full2', u'Beer_1_full1']) at []\n",
      "0 beer_taste with 2 levels taste_good : set([u'Beer_1_full2', u'Beer_1_full1']) at [0]\n",
      "0 beer_taste with 2 levels taste_bad : set([u'Beer_2_full1', u'Beer_2_full2']) at [1]\n",
      "\n"
     ]
    },
    {
     "name": "stdout",
     "output_type": "stream",
     "text": [
      "2017-03-04 08:03:42 39:INFO:PeakML.xcms.write.SingleInstance:negative\n",
      "2017-03-04 08:03:42 39:INFO:PeakML.xcms.write.SingleInstance:retrieving raw data\n",
      "2017-03-04 08:03:42 39:INFO:PeakML.xcms.write.SingleInstance:- /home/pimp/media/projects/10/samples/NEG/Beer_2_full2.mzXML\n",
      "2017-03-04 08:03:59 39:INFO::8094 peaks exported.\n"
     ]
    },
    {
     "name": "stderr",
     "output_type": "stream",
     "text": [
      "INFO 2017-03-04 08:04:00,485 pipeline_rpy2.py:281 | Processing /home/pimp/media/projects/10/analysis_39/negative/combined/group_0\n",
      "INFO 2017-03-04 08:04:13,595 pipeline_rpy2.py:281 | Processing /home/pimp/media/projects/10/analysis_39/negative/combined/group_1\n"
     ]
    },
    {
     "name": "stdout",
     "output_type": "stream",
     "text": [
      "2017-03-04 08:04:00 39:INFO:PuMP.callToArgList.dispatchCall:mzmatch.ipeak.Combine -i /home/pimp/media/projects/10/analysis_39/negative/combined/group_0/Beer_1_full2.peakml,/home/pimp/media/projects/10/analysis_39/negative/combined/group_0/Beer_1_full1.peakml -o /home/pimp/media/projects/10/analysis_39/negative/combined/group_0.peakml -label group_0 -ppm 3 -rtwindow 30 -combination set\n",
      "2017-03-04 08:04:13 39:INFO:PuMP.callToArgList.dispatchCall:mzmatch.ipeak.Combine -i /home/pimp/media/projects/10/analysis_39/negative/combined/group_1/Beer_2_full1.peakml,/home/pimp/media/projects/10/analysis_39/negative/combined/group_1/Beer_2_full2.peakml -o /home/pimp/media/projects/10/analysis_39/negative/combined/group_1.peakml -label group_1 -ppm 3 -rtwindow 30 -combination set\n"
     ]
    },
    {
     "name": "stderr",
     "output_type": "stream",
     "text": [
      "DEBUG 2017-03-04 08:04:25,507 pipeline_rpy2.py:141 | combined groups = ['/home/pimp/media/projects/10/analysis_39/negative/combined/group_0.peakml', '/home/pimp/media/projects/10/analysis_39/negative/combined/group_1.peakml']\n",
      "DEBUG 2017-03-04 08:04:49,837 pipeline_rpy2.py:145 | filtered groups = ['/home/pimp/media/projects/10/analysis_39/negative/combined/group_0_rsd.peakml', '/home/pimp/media/projects/10/analysis_39/negative/combined/group_1_rsd.peakml']\n"
     ]
    },
    {
     "name": "stdout",
     "output_type": "stream",
     "text": [
      "2017-03-04 08:04:25 39:INFO:PuMP.callToArgList.dispatchCall:mzmatch.ipeak.filter.RSDFilter -i /home/pimp/media/projects/10/analysis_39/negative/combined/group_0.peakml -o /home/pimp/media/projects/10/analysis_39/negative/combined/group_0_rsd.peakml -rejected /home/pimp/media/projects/10/analysis_39/negative/combined/group_0_rsdrej.peakml -rsd 0.5\n",
      "2017-03-04 08:04:36 39:INFO:PuMP.callToArgList.dispatchCall:mzmatch.ipeak.filter.RSDFilter -i /home/pimp/media/projects/10/analysis_39/negative/combined/group_1.peakml -o /home/pimp/media/projects/10/analysis_39/negative/combined/group_1_rsd.peakml -rejected /home/pimp/media/projects/10/analysis_39/negative/combined/group_1_rsdrej.peakml -rsd 0.5\n"
     ]
    },
    {
     "name": "stderr",
     "output_type": "stream",
     "text": [
      "DEBUG 2017-03-04 08:05:04,337 pipeline_rpy2.py:149 | combined final = /home/pimp/media/projects/10/analysis_39/negative/final_combined.peakml\n",
      "DEBUG 2017-03-04 08:05:20,689 pipeline_rpy2.py:152 | filter final = /home/pimp/media/projects/10/analysis_39/negative/final.combined_sf.peakml\n"
     ]
    },
    {
     "name": "stdout",
     "output_type": "stream",
     "text": [
      "2017-03-04 08:04:49 39:INFO:PuMP.callToArgList.dispatchCall:mzmatch.ipeak.Combine -i /home/pimp/media/projects/10/analysis_39/negative/combined/group_0_rsd.peakml,/home/pimp/media/projects/10/analysis_39/negative/combined/group_1_rsd.peakml -o /home/pimp/media/projects/10/analysis_39/negative/final_combined.peakml -label  -ppm 3 -rtwindow 30 -combination set\n",
      "2017-03-04 08:05:04 39:INFO:PuMP.callToArgList.dispatchCall:mzmatch.ipeak.filter.NoiseFilter -i /home/pimp/media/projects/10/analysis_39/negative/final_combined.peakml -o /home/pimp/media/projects/10/analysis_39/negative/final_combined_nf.peakml -codadw 0.8\n",
      "2017-03-04 08:05:13 39:INFO:PuMP.callToArgList.dispatchCall:mzmatch.ipeak.filter.SimpleFilter -i /home/pimp/media/projects/10/analysis_39/negative/final_combined_nf.peakml -o /home/pimp/media/projects/10/analysis_39/negative/final.combined_sf.peakml -ppm 3 -mindetections 3 -minintensity 5000\n",
      "2017-03-04 08:05:21 39:INFO:PeakML.Methods.getRawDataPaths:Raw data file located at: /home/pimp/media/projects/10/samples/NEG/Beer_1_full2.mzXML,/home/pimp/media/projects/10/samples/NEG/Beer_1_full1.mzXML,/home/pimp/media/projects/10/samples/NEG/Beer_2_full1.mzXML,/home/pimp/media/projects/10/samples/NEG/Beer_2_full2.mzXML\n",
      "2017-03-04 08:05:21 39:INFO:PeakML.Methods.getChromData:Loading peakML file in memory (it can take some time, sorry)\n",
      "2017-03-04 08:05:23 39:INFO:PeakML.Methods.getChromData:Done in: 1.81900000000019 s\n",
      "2017-03-04 08:05:29 39:INFO:PeakML.Methods.getPeakData:Extracting peak data from PeakMl file,\n",
      "2017-03-04 08:05:32 39:INFO:PeakML.Methods.getPeakData:Peak data created in 2.79900000000021 s\n",
      "2017-03-04 08:05:37 39:INFO:PeakML.GapFiller:Working on file: /home/pimp/media/projects/10/samples/NEG/Beer_1_full2.mzXML\n",
      "2017-03-04 08:05:42 39:INFO:PeakML.GapFiller:Working on file: /home/pimp/media/projects/10/samples/NEG/Beer_1_full1.mzXML\n",
      "2017-03-04 08:05:46 39:INFO:PeakML.GapFiller:Working on file: /home/pimp/media/projects/10/samples/NEG/Beer_2_full1.mzXML\n",
      "2017-03-04 08:05:51 39:INFO:PeakML.GapFiller:Working on file: /home/pimp/media/projects/10/samples/NEG/Beer_2_full2.mzXML\n"
     ]
    },
    {
     "name": "stderr",
     "output_type": "stream",
     "text": [
      "DEBUG 2017-03-04 08:06:02,073 pipeline_rpy2.py:156 | gap-filled = /home/pimp/media/projects/10/analysis_39/negative/final_combined_gapfilled.peakml\n",
      "DEBUG 2017-03-04 08:06:08,993 pipeline_rpy2.py:160 | related peaks = /home/pimp/media/projects/10/analysis_39/negative/final_combined_related.peakml /home/pimp/media/projects/10/analysis_39/negative/final_combined_basepeaks.peakml\n",
      "DEBUG 2017-03-04 08:06:08,995 pipeline_rpy2.py:164 | identification databases [1] \"/home/pimp/pimp/packrat/lib/x86_64-pc-linux-gnu/3.2.3/PiMP/dbs/hmdb.xml\"     \n",
      "[2] \"/home/pimp/pimp/packrat/lib/x86_64-pc-linux-gnu/3.2.3/PiMP/dbs/kegg.xml\"     \n",
      "[3] \"/home/pimp/pimp/packrat/lib/x86_64-pc-linux-gnu/3.2.3/PiMP/dbs/lipidmaps.xml\"\n",
      "\n",
      "DEBUG 2017-03-04 08:06:08,996 pipeline_rpy2.py:165 | identification groups [('group_0', (0,), 'taste_good', [u'Beer_1_full2', u'Beer_1_full1'], '/home/pimp/media/projects/10/analysis_39/negative/combined/group_0'), ('group_1', (1,), 'taste_bad', [u'Beer_2_full1', u'Beer_2_full2'], '/home/pimp/media/projects/10/analysis_39/negative/combined/group_1')]\n",
      "INFO 2017-03-04 08:06:09,001 pipeline_rpy2.py:378 | /home/pimp/media/projects/10/analysis_39/stds_db.xml is not found, setting stds.xml.db to NULL\n"
     ]
    },
    {
     "name": "stdout",
     "output_type": "stream",
     "text": [
      "2017-03-04 08:06:02 39:INFO:PuMP.callToArgList.dispatchCall:mzmatch.ipeak.sort.RelatedPeaks -i /home/pimp/media/projects/10/analysis_39/negative/final_combined_gapfilled.peakml -o /home/pimp/media/projects/10/analysis_39/negative/final_combined_related.peakml -basepeaks /home/pimp/media/projects/10/analysis_39/negative/final_combined_basepeaks.peakml -ppm 3 -rtwindow 30\n"
     ]
    },
    {
     "name": "stderr",
     "output_type": "stream",
     "text": [
      "DEBUG 2017-03-04 08:07:42,857 utils.py:91 | (0.006) SELECT `groups_group`.`name`, `groups_attribute`.`name`, `fileupload_sample`.`name` FROM `groups_group` LEFT OUTER JOIN `groups_attribute` ON ( `groups_group`.`id` = `groups_attribute`.`group_id` ) LEFT OUTER JOIN `groups_sampleattribute` ON ( `groups_attribute`.`id` = `groups_sampleattribute`.`attribute_id` ) LEFT OUTER JOIN `fileupload_sample` ON ( `groups_sampleattribute`.`sample_id` = `fileupload_sample`.`id` ) WHERE `groups_group`.`id` IN (SELECT DISTINCT U0.`id` FROM `groups_group` U0 INNER JOIN `groups_attribute` U1 ON ( U0.`id` = U1.`group_id` ) INNER JOIN `experiments_attributecomparison` U2 ON ( U1.`id` = U2.`attribute_id` ) INNER JOIN `experiments_comparison` U3 ON ( U2.`comparison_id` = U3.`id` ) WHERE U3.`experiment_id` = 17); args=(17,)\n"
     ]
    },
    {
     "name": "stdout",
     "output_type": "stream",
     "text": [
      "2017-03-04 08:06:09 39:INFO:PuMP.callToArgList.dispatchCall:mzmatch.ipeak.util.Identify -i analysis_39/negative/final_combined_related.peakml -o analysis_39/negative/final_combined_related_identified_hmdb.peakml -ppm 3 -databases /home/pimp/pimp/packrat/lib/x86_64-pc-linux-gnu/3.2.3/PiMP/dbs/hmdb.xml -rtwindowrelative FALSE -adducts M-H,M-ACN+Na,M-Na,M-K,M-ACN+H\n",
      "2017-03-04 08:06:49 39:INFO:PuMP.callToArgList.dispatchCall:mzmatch.ipeak.convert.ConvertToText -i analysis_39/negative/final_combined_related_identified_hmdb.peakml -o analysis_39/negative/mzmatch_output_hmdb.txt -annotations identification,ppm,adduct,relation.id,relation.ship,codadw,charge\n",
      "2017-03-04 08:06:52 39:INFO:PuMP.callToArgList.dispatchCall:mzmatch.ipeak.util.Identify -i analysis_39/negative/final_combined_related.peakml -o analysis_39/negative/final_combined_related_identified_kegg.peakml -ppm 3 -databases /home/pimp/pimp/packrat/lib/x86_64-pc-linux-gnu/3.2.3/PiMP/dbs/kegg.xml -rtwindowrelative FALSE -adducts M-H,M-ACN+Na,M-Na,M-K,M-ACN+H\n",
      "2017-03-04 08:07:07 39:INFO:PuMP.callToArgList.dispatchCall:mzmatch.ipeak.convert.ConvertToText -i analysis_39/negative/final_combined_related_identified_kegg.peakml -o analysis_39/negative/mzmatch_output_kegg.txt -annotations identification,ppm,adduct,relation.id,relation.ship,codadw,charge\n",
      "2017-03-04 08:07:10 39:INFO:PuMP.callToArgList.dispatchCall:mzmatch.ipeak.util.Identify -i analysis_39/negative/final_combined_related.peakml -o analysis_39/negative/final_combined_related_identified_lipidmaps.peakml -ppm 3 -databases /home/pimp/pimp/packrat/lib/x86_64-pc-linux-gnu/3.2.3/PiMP/dbs/lipidmaps.xml -rtwindowrelative FALSE -adducts M-H,M-ACN+Na,M-Na,M-K,M-ACN+H\n",
      "2017-03-04 08:07:40 39:INFO:PuMP.callToArgList.dispatchCall:mzmatch.ipeak.convert.ConvertToText -i analysis_39/negative/final_combined_related_identified_lipidmaps.peakml -o analysis_39/negative/mzmatch_output_lipidmaps.txt -annotations identification,ppm,adduct,relation.id,relation.ship,codadw,charge\n",
      "2017-03-04 08:07:43 39:INFO:Pimp.extra.setPiMPLoggerAnalysisID:Setting analysis ID in logger to 39\n"
     ]
    },
    {
     "name": "stderr",
     "output_type": "stream",
     "text": [
      "/home/pimp/pimp/venv/local/lib/python2.7/site-packages/rpy2/robjects/functions.py:106: UserWarning: XML Reports\n",
      "\n",
      "  res = super(Function, self).__call__(*new_args, **new_kwargs)\n",
      "\n",
      "WARNING 2017-03-06 14:15:43,721 functions.py:106 | /home/pimp/pimp/venv/local/lib/python2.7/site-packages/rpy2/robjects/functions.py:106: UserWarning: XML Reports\n",
      "\n",
      "  res = super(Function, self).__call__(*new_args, **new_kwargs)\n",
      "\n",
      "/home/pimp/pimp/venv/local/lib/python2.7/site-packages/rpy2/robjects/functions.py:106: UserWarning: Writing group information...\n",
      "\n",
      "  res = super(Function, self).__call__(*new_args, **new_kwargs)\n",
      "\n",
      "WARNING 2017-03-06 14:15:44,287 functions.py:106 | /home/pimp/pimp/venv/local/lib/python2.7/site-packages/rpy2/robjects/functions.py:106: UserWarning: Writing group information...\n",
      "\n",
      "  res = super(Function, self).__call__(*new_args, **new_kwargs)\n",
      "\n",
      "/home/pimp/pimp/venv/local/lib/python2.7/site-packages/rpy2/robjects/functions.py:106: UserWarning: Writing comparison information...\n",
      "\n",
      "  res = super(Function, self).__call__(*new_args, **new_kwargs)\n",
      "\n",
      "WARNING 2017-03-06 14:15:44,320 functions.py:106 | /home/pimp/pimp/venv/local/lib/python2.7/site-packages/rpy2/robjects/functions.py:106: UserWarning: Writing comparison information...\n",
      "\n",
      "  res = super(Function, self).__call__(*new_args, **new_kwargs)\n",
      "\n",
      "/home/pimp/pimp/venv/local/lib/python2.7/site-packages/rpy2/robjects/functions.py:106: UserWarning: Writing parameter information...\n",
      "\n",
      "  res = super(Function, self).__call__(*new_args, **new_kwargs)\n",
      "\n",
      "WARNING 2017-03-06 14:15:44,330 functions.py:106 | /home/pimp/pimp/venv/local/lib/python2.7/site-packages/rpy2/robjects/functions.py:106: UserWarning: Writing parameter information...\n",
      "\n",
      "  res = super(Function, self).__call__(*new_args, **new_kwargs)\n",
      "\n",
      "/home/pimp/pimp/venv/local/lib/python2.7/site-packages/rpy2/robjects/functions.py:106: UserWarning: Writing peak information...\n",
      "\n",
      "  res = super(Function, self).__call__(*new_args, **new_kwargs)\n",
      "\n",
      "WARNING 2017-03-06 14:15:44,354 functions.py:106 | /home/pimp/pimp/venv/local/lib/python2.7/site-packages/rpy2/robjects/functions.py:106: UserWarning: Writing peak information...\n",
      "\n",
      "  res = super(Function, self).__call__(*new_args, **new_kwargs)\n",
      "\n"
     ]
    },
    {
     "name": "stdout",
     "output_type": "stream",
     "text": [
      "2017-03-04 08:07:43 39:INFO:Pimp.extra.setPiMPLoggerAnalysisID:Analysis id set\n",
      "2017-03-04 08:07:43 39:INFO:Pimp.runStats:Two polarities exist\n",
      "2017-03-04 08:07:43 39:DEBUG:Pimp.runStats:Positive names: Mass,RT,Beer_1_full2,Beer_1_full1,Beer_2_full1,Beer_2_full2,relation.id,relation.ship,codadw,charge,hmdb_identification,hmdb_ppm,hmdb_adduct,kegg_identification,kegg_ppm,kegg_adduct,lipidmaps_identification,lipidmaps_ppm,lipidmaps_adduct,polarity\n",
      "2017-03-04 08:07:43 39:DEBUG:Pimp.runStats:Negative names: Mass,RT,Beer_1_full2,Beer_1_full1,Beer_2_full1,Beer_2_full2,relation.id,relation.ship,codadw,charge,hmdb_identification,hmdb_ppm,hmdb_adduct,kegg_identification,kegg_ppm,kegg_adduct,lipidmaps_identification,lipidmaps_ppm,lipidmaps_adduct,polarity\n",
      "2017-03-04 08:07:43 39:INFO:Pimp.runStats:isEqualNames: TRUE\n",
      "2017-03-06 14:15:43 39:INFO:Pimp.runStats:Getting database connection\n",
      "2017-03-06 14:15:43 39:INFO:Pimp.runStats:Saving Pimp.exportToXML.Robj_fixture\n",
      "2017-03-06 14:15:44 39:INFO:Pimp.exportToXML:Exporting to XML\n"
     ]
    },
    {
     "name": "stderr",
     "output_type": "stream",
     "text": [
      "/home/pimp/pimp/venv/local/lib/python2.7/site-packages/rpy2/robjects/functions.py:106: UserWarning: Writing pathway information...\n",
      "\n",
      "  res = super(Function, self).__call__(*new_args, **new_kwargs)\n",
      "\n",
      "WARNING 2017-03-06 14:20:37,227 functions.py:106 | /home/pimp/pimp/venv/local/lib/python2.7/site-packages/rpy2/robjects/functions.py:106: UserWarning: Writing pathway information...\n",
      "\n",
      "  res = super(Function, self).__call__(*new_args, **new_kwargs)\n",
      "\n",
      "DEBUG 2017-03-06 14:20:42,469 pipeline_rpy2.py:253 | xml_file_path is /home/pimp/media/projects/10/analysis_39/analysis_39.xml\n"
     ]
    }
   ],
   "source": [
    "xml_file_path = pipeline.run_pipeline()"
   ]
  },
  {
   "cell_type": "markdown",
   "metadata": {
    "collapsed": true
   },
   "source": [
    "### Delete analysis"
   ]
  },
  {
   "cell_type": "code",
   "execution_count": 74,
   "metadata": {
    "collapsed": false
   },
   "outputs": [
    {
     "name": "stderr",
     "output_type": "stream",
     "text": [
      "DEBUG 2017-02-27 17:11:21,063 utils.py:91 | (0.001) SELECT `experiments_analysis`.`id`, `experiments_analysis`.`created`, `experiments_analysis`.`submited`, `experiments_analysis`.`owner`, `experiments_analysis`.`experiment_id`, `experiments_analysis`.`params_id`, `experiments_analysis`.`status` FROM `experiments_analysis` WHERE `experiments_analysis`.`id` = 26 LIMIT 21; args=(26,)\n",
      "DEBUG 2017-02-27 17:11:21,066 utils.py:91 | (0.001) SELECT `data_dataset`.`id`, `data_dataset`.`created`, `data_dataset`.`analysis_id` FROM `data_dataset` WHERE `data_dataset`.`analysis_id` IN (26); args=(26,)\n"
     ]
    },
    {
     "name": "stdout",
     "output_type": "stream",
     "text": [
      "26\n",
      "{}\n"
     ]
    }
   ],
   "source": [
    "from django.db.models.deletion import Collector\n",
    "\n",
    "analysis_id = 26\n",
    "analysis = Analysis.objects.get(id=analysis_id)\n",
    "collector = Collector({})\n",
    "collector.collect([analysis])\n",
    "print analysis.id\n",
    "print collector.dependencies"
   ]
  },
  {
   "cell_type": "code",
   "execution_count": 17,
   "metadata": {
    "collapsed": false
   },
   "outputs": [
    {
     "name": "stderr",
     "output_type": "stream",
     "text": [
      "DEBUG 2017-03-07 02:22:56,753 utils.py:91 | (0.000) SET SQL_AUTO_IS_NULL = 0; args=None\n",
      "DEBUG 2017-03-07 02:22:56,768 utils.py:91 | (0.011) SELECT `experiments_analysis`.`id`, `experiments_analysis`.`created`, `experiments_analysis`.`submited`, `experiments_analysis`.`owner`, `experiments_analysis`.`experiment_id`, `experiments_analysis`.`params_id`, `experiments_analysis`.`status` FROM `experiments_analysis` WHERE `experiments_analysis`.`params_id` IN (27); args=(27,)\n",
      "DEBUG 2017-03-07 02:22:56,892 utils.py:91 | (0.069) SELECT `data_dataset`.`id`, `data_dataset`.`created`, `data_dataset`.`analysis_id` FROM `data_dataset` WHERE `data_dataset`.`analysis_id` IN (38); args=(38,)\n",
      "DEBUG 2017-03-07 02:22:56,913 utils.py:91 | (0.018) DELETE FROM `experiments_params_param` WHERE `experiments_params_param`.`params_id` IN (27); args=(27,)\n",
      "DEBUG 2017-03-07 02:22:56,954 utils.py:91 | (0.039) DELETE FROM `experiments_params_databases` WHERE `experiments_params_databases`.`params_id` IN (27); args=(27,)\n",
      "DEBUG 2017-03-07 02:22:56,974 utils.py:91 | (0.013) DELETE FROM `frank_pimpanalysisfrankfs` WHERE `frank_pimpanalysisfrankfs`.`pimp_analysis_id` IN (38); args=(38,)\n",
      "DEBUG 2017-03-07 02:22:56,980 utils.py:91 | (0.003) DELETE FROM `experiments_analysis` WHERE `experiments_analysis`.`id` IN (38); args=(38,)\n",
      "DEBUG 2017-03-07 02:22:56,992 utils.py:91 | (0.008) DELETE FROM `experiments_params` WHERE `experiments_params`.`id` IN (27); args=(27,)\n"
     ]
    }
   ],
   "source": [
    "# deleting the params will cascade to the analysis and the dataset\n",
    "analysis.params.delete()"
   ]
  },
  {
   "cell_type": "code",
   "execution_count": 19,
   "metadata": {
    "collapsed": false
   },
   "outputs": [
    {
     "name": "stderr",
     "output_type": "stream",
     "text": [
      "DEBUG 2017-03-07 02:23:56,356 utils.py:91 | (0.001) SELECT `experiments_analysis`.`id`, `experiments_analysis`.`created`, `experiments_analysis`.`submited`, `experiments_analysis`.`owner`, `experiments_analysis`.`experiment_id`, `experiments_analysis`.`params_id`, `experiments_analysis`.`status` FROM `experiments_analysis` WHERE `experiments_analysis`.`experiment_id` = 17; args=(17,)\n"
     ]
    }
   ],
   "source": [
    "experiment = analysis.experiment\n",
    "if len(experiment.analysis_set.all()) == 0:\n",
    "    experiment.delete()"
   ]
  },
  {
   "cell_type": "code",
   "execution_count": null,
   "metadata": {
    "collapsed": true
   },
   "outputs": [],
   "source": []
  }
 ],
 "metadata": {
  "kernelspec": {
   "display_name": "Django Shell-Plus",
   "language": "python",
   "name": "django_extensions"
  },
  "language_info": {
   "codemirror_mode": {
    "name": "ipython",
    "version": 2
   },
   "file_extension": ".py",
   "mimetype": "text/x-python",
   "name": "python",
   "nbconvert_exporter": "python",
   "pygments_lexer": "ipython2",
   "version": "2.7.12"
  }
 },
 "nbformat": 4,
 "nbformat_minor": 1
}
