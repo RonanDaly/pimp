{
 "cells": [
  {
   "cell_type": "markdown",
   "metadata": {},
   "source": [
    "# Restart Analysis"
   ]
  },
  {
   "cell_type": "code",
   "execution_count": 1,
   "metadata": {
    "collapsed": false
   },
   "outputs": [],
   "source": [
    "%load_ext autoreload\n",
    "%autoreload 2"
   ]
  },
  {
   "cell_type": "code",
   "execution_count": 2,
   "metadata": {
    "collapsed": true
   },
   "outputs": [],
   "source": [
    "import rpy2.robjects as robjects\n",
    "import multiprocessing\n",
    "from experiments.pipelines.pipeline_rpy2 import Rpy2Pipeline"
   ]
  },
  {
   "cell_type": "markdown",
   "metadata": {},
   "source": [
    "## Load analysis and project"
   ]
  },
  {
   "cell_type": "code",
   "execution_count": 3,
   "metadata": {
    "collapsed": true
   },
   "outputs": [],
   "source": [
    "project_id = 6\n",
    "analysis_id = 7"
   ]
  },
  {
   "cell_type": "code",
   "execution_count": 4,
   "metadata": {
    "collapsed": false,
    "scrolled": true
   },
   "outputs": [
    {
     "name": "stderr",
     "output_type": "stream",
     "text": [
      "DEBUG 2017-02-24 21:12:14,612 utils.py:91 | (0.005) SET SQL_AUTO_IS_NULL = 0; args=None\n",
      "DEBUG 2017-02-24 21:12:14,635 utils.py:91 | (0.022) SELECT `projects_project`.`id`, `projects_project`.`title`, `projects_project`.`user_owner_id`, `projects_project`.`description`, `projects_project`.`created`, `projects_project`.`modified` FROM `projects_project` WHERE `projects_project`.`id` = 6 LIMIT 21; args=(6,)\n"
     ]
    }
   ],
   "source": [
    "project = Project.objects.get_or_create(id=project_id)[0]"
   ]
  },
  {
   "cell_type": "code",
   "execution_count": 5,
   "metadata": {
    "collapsed": false,
    "scrolled": false
   },
   "outputs": [
    {
     "name": "stderr",
     "output_type": "stream",
     "text": [
      "DEBUG 2017-02-24 21:12:16,133 utils.py:91 | (0.013) SELECT `experiments_analysis`.`id`, `experiments_analysis`.`created`, `experiments_analysis`.`submited`, `experiments_analysis`.`owner`, `experiments_analysis`.`experiment_id`, `experiments_analysis`.`params_id`, `experiments_analysis`.`status` FROM `experiments_analysis` WHERE `experiments_analysis`.`id` = 7 LIMIT 21; args=(7,)\n"
     ]
    }
   ],
   "source": [
    "analysis = Analysis.objects.get_or_create(id=analysis_id)[0]"
   ]
  },
  {
   "cell_type": "code",
   "execution_count": 6,
   "metadata": {
    "collapsed": false
   },
   "outputs": [
    {
     "name": "stdout",
     "output_type": "stream",
     "text": [
      "Ready\n"
     ]
    }
   ],
   "source": [
    "print analysis.status"
   ]
  },
  {
   "cell_type": "code",
   "execution_count": 7,
   "metadata": {
    "collapsed": false
   },
   "outputs": [
    {
     "name": "stderr",
     "output_type": "stream",
     "text": [
      "DEBUG 2017-02-24 21:12:59,965 utils.py:91 | (0.004) UPDATE `experiments_analysis` SET `created` = '2017-02-13 12:01:36', `submited` = '2017-02-14 17:34:01', `owner` = 'admin', `experiment_id` = 7, `params_id` = 7, `status` = 'Ready' WHERE `experiments_analysis`.`id` = 7; args=(u'2017-02-13 12:01:36', u'2017-02-14 17:34:01', u'admin', 7, 7, 'Ready', 7)\n"
     ]
    }
   ],
   "source": [
    "analysis.status = 'Ready'\n",
    "analysis.save()"
   ]
  },
  {
   "cell_type": "markdown",
   "metadata": {},
   "source": [
    "### Creates a copy of an existing analysis"
   ]
  },
  {
   "cell_type": "code",
   "execution_count": 15,
   "metadata": {
    "collapsed": false
   },
   "outputs": [
    {
     "name": "stdout",
     "output_type": "stream",
     "text": [
      "7 7 Params object admin Ready\n"
     ]
    }
   ],
   "source": [
    "print analysis.id, analysis.experiment.id, analysis.params, analysis.owner, analysis.status"
   ]
  },
  {
   "cell_type": "code",
   "execution_count": 11,
   "metadata": {
    "collapsed": false,
    "scrolled": true
   },
   "outputs": [
    {
     "name": "stderr",
     "output_type": "stream",
     "text": [
      "DEBUG 2017-02-24 21:18:51,877 utils.py:91 | (0.009) INSERT INTO `experiments_analysis` (`created`, `submited`, `owner`, `experiment_id`, `params_id`, `status`) VALUES ('2017-02-24 21:18:51', NULL, 'admin', 7, 7, 'Ready'); args=[u'2017-02-24 21:18:51', None, u'admin', 7, 7, 'Ready']\n"
     ]
    }
   ],
   "source": [
    "copy_analysis = Analysis.objects.create(\n",
    "    owner = analysis.owner,\n",
    "    experiment = analysis.experiment,\n",
    "    params = analysis.params,\n",
    "    status = 'Ready'\n",
    ")"
   ]
  },
  {
   "cell_type": "code",
   "execution_count": 14,
   "metadata": {
    "collapsed": false
   },
   "outputs": [
    {
     "name": "stdout",
     "output_type": "stream",
     "text": [
      "8 7 Params object admin Ready\n"
     ]
    }
   ],
   "source": [
    "print copy_analysis.id, copy_analysis.experiment.id, copy_analysis.params, copy_analysis.owner, copy_analysis.status"
   ]
  },
  {
   "cell_type": "code",
   "execution_count": 16,
   "metadata": {
    "collapsed": false
   },
   "outputs": [
    {
     "name": "stderr",
     "output_type": "stream",
     "text": [
      "INFO 2017-02-24 21:22:31,395 pipeline_rpy2.py:48 | ******************************************\n",
      "INFO 2017-02-24 21:22:31,396 pipeline_rpy2.py:49 | Setup rpy2 connection\n",
      "INFO 2017-02-24 21:22:31,397 pipeline_rpy2.py:50 | ******************************************\n"
     ]
    },
    {
     "name": "stdout",
     "output_type": "stream",
     "text": [
      "[1] \"Initialising PuMP logging\"\n",
      "[1] \"PuMP log level set to DEBUG\"\n",
      "2017-02-24 21:22:38 ERROR:pump.misc.initialisePuMPLogging:Logging at ERROR level\n",
      "2017-02-24 21:22:38 WARNING:pump.misc.initialisePuMPLogging:Logging at WARNING level\n",
      "2017-02-24 21:22:38 INFO:pump.misc.initialisePuMPLogging:Logging at INFO level\n",
      "2017-02-24 21:22:38 DEBUG:pump.misc.initialisePuMPLogging:Logging at DEBUG level\n"
     ]
    },
    {
     "name": "stderr",
     "output_type": "stream",
     "text": [
      "/home/pimp/pimp/venv/local/lib/python2.7/site-packages/rpy2/robjects/packages.py:63: UserWarning: Note: the specification for S3 class \"AsIs\" in package 'RJSONIO' seems equivalent to one from package 'BiocGenerics': not turning on duplicate class definitions for this class.\n",
      "\n",
      "  return _reval(expr)\n",
      "\n",
      "WARNING 2017-02-24 21:22:38,270 packages.py:63 | /home/pimp/pimp/venv/local/lib/python2.7/site-packages/rpy2/robjects/packages.py:63: UserWarning: Note: the specification for S3 class \"AsIs\" in package 'RJSONIO' seems equivalent to one from package 'BiocGenerics': not turning on duplicate class definitions for this class.\n",
      "\n",
      "  return _reval(expr)\n",
      "\n",
      "DEBUG 2017-02-24 21:22:39,641 utils.py:91 | (0.046) SELECT `fileupload_picture`.`file` FROM `fileupload_picture` INNER JOIN `fileupload_samplefilegroup` ON ( `fileupload_picture`.`id` = `fileupload_samplefilegroup`.`posdata_id` ) INNER JOIN `fileupload_sample` ON ( `fileupload_samplefilegroup`.`id` = `fileupload_sample`.`samplefile_id` ) WHERE (`fileupload_sample`.`id`) IN (SELECT DISTINCT U0.`id` FROM `fileupload_sample` U0 INNER JOIN `groups_sampleattribute` U1 ON ( U0.`id` = U1.`sample_id` ) INNER JOIN `groups_attribute` U2 ON ( U1.`attribute_id` = U2.`id` ) INNER JOIN `experiments_attributecomparison` U3 ON ( U2.`id` = U3.`attribute_id` ) INNER JOIN `experiments_comparison` U4 ON ( U3.`comparison_id` = U4.`id` ) WHERE U4.`experiment_id` = 7); args=(7,)\n",
      "DEBUG 2017-02-24 21:22:39,644 utils.py:91 | (0.001) SELECT `fileupload_picture`.`file` FROM `fileupload_picture` INNER JOIN `fileupload_samplefilegroup` ON ( `fileupload_picture`.`id` = `fileupload_samplefilegroup`.`negdata_id` ) INNER JOIN `fileupload_sample` ON ( `fileupload_samplefilegroup`.`id` = `fileupload_sample`.`samplefile_id` ) WHERE (`fileupload_sample`.`id`) IN (SELECT DISTINCT U0.`id` FROM `fileupload_sample` U0 INNER JOIN `groups_sampleattribute` U1 ON ( U0.`id` = U1.`sample_id` ) INNER JOIN `groups_attribute` U2 ON ( U1.`attribute_id` = U2.`id` ) INNER JOIN `experiments_attributecomparison` U3 ON ( U2.`id` = U3.`attribute_id` ) INNER JOIN `experiments_comparison` U4 ON ( U3.`comparison_id` = U4.`id` ) WHERE U4.`experiment_id` = 7); args=(7,)\n",
      "DEBUG 2017-02-24 21:22:39,658 utils.py:91 | (0.010) SELECT `groups_group`.`name`, `groups_attribute`.`name`, `fileupload_sample`.`name` FROM `groups_group` LEFT OUTER JOIN `groups_attribute` ON ( `groups_group`.`id` = `groups_attribute`.`group_id` ) LEFT OUTER JOIN `groups_sampleattribute` ON ( `groups_attribute`.`id` = `groups_sampleattribute`.`attribute_id` ) LEFT OUTER JOIN `fileupload_sample` ON ( `groups_sampleattribute`.`sample_id` = `fileupload_sample`.`id` ) WHERE `groups_group`.`id` IN (SELECT DISTINCT U0.`id` FROM `groups_group` U0 INNER JOIN `groups_attribute` U1 ON ( U0.`id` = U1.`group_id` ) INNER JOIN `experiments_attributecomparison` U2 ON ( U1.`id` = U2.`attribute_id` ) INNER JOIN `experiments_comparison` U3 ON ( U2.`comparison_id` = U3.`id` ) WHERE U3.`experiment_id` = 7); args=(7,)\n"
     ]
    },
    {
     "name": "stdout",
     "output_type": "stream",
     "text": [
      "2017-02-24 21:22:39 INFO:PeakML.Isotope.plotSamples:OS type: x86_64-pc-linux-gnu\n",
      "2017-02-24 21:22:39 INFO:PeakML.Isotope.plotSamples:Java parameters are: -Xmx8192m\n",
      "2017-02-24 21:22:39 INFO:PeakML.Isotope.plotSamples:Using jar file /home/pimp/pimp/packrat/lib/x86_64-pc-linux-gnu/3.2.3/mzmatch.R/java/mzmatch-2.1-with-dependencies.jar\n",
      "2017-02-24 21:22:39 INFO:PeakML.Isotope.plotSamples:Using SWT file /home/pimp/pimp/packrat/lib/x86_64-pc-linux-gnu/3.2.3/mzmatch.R/java/swt-4.5-gtk-linux-x86_64.jar\n",
      "[1] \"Initialising PiMP logging\"\n",
      "[1] \"PiMP log level set to DEBUG\"\n",
      "2017-02-24 21:22:39 ERROR:Pimp.extra.initialisePiMPLogging:Logging at ERROR level\n",
      "2017-02-24 21:22:39 WARNING:Pimp.extra.initialisePiMPLogging:Logging at WARNING level\n",
      "2017-02-24 21:22:39 INFO:Pimp.extra.initialisePiMPLogging:Logging at INFO level\n",
      "2017-02-24 21:22:39 DEBUG:Pimp.extra.initialisePiMPLogging:Logging at DEBUG level\n"
     ]
    },
    {
     "name": "stderr",
     "output_type": "stream",
     "text": [
      "DEBUG 2017-02-24 21:22:39,723 utils.py:91 | (0.041) SELECT `fileupload_projfile`.`file` FROM `fileupload_calibrationsample` INNER JOIN `groups_projfileattribute` ON ( `fileupload_calibrationsample`.`id` = `groups_projfileattribute`.`calibrationsample_id` ) INNER JOIN `groups_attribute` ON ( `groups_projfileattribute`.`attribute_id` = `groups_attribute`.`id` ) LEFT OUTER JOIN `fileupload_standardfilegroup` ON ( `fileupload_calibrationsample`.`standardFile_id` = `fileupload_standardfilegroup`.`id` ) LEFT OUTER JOIN `fileupload_projfile` ON ( `fileupload_standardfilegroup`.`data_id` = `fileupload_projfile`.`id` ) WHERE (`fileupload_calibrationsample`.`project_id` = 6 AND `groups_attribute`.`name` = 'standard'); args=(6, 'standard')\n",
      "DEBUG 2017-02-24 21:22:39,730 utils.py:91 | (0.001) SELECT `experiments_comparison`.`id`, `experiments_comparison`.`name`, `experiments_attributecomparison`.`attribute_id`, `groups_group`.`name`, `groups_attribute`.`name`, `experiments_attributecomparison`.`group` FROM `experiments_comparison` LEFT OUTER JOIN `experiments_attributecomparison` ON ( `experiments_comparison`.`id` = `experiments_attributecomparison`.`comparison_id` ) LEFT OUTER JOIN `groups_attribute` ON ( `experiments_attributecomparison`.`attribute_id` = `groups_attribute`.`id` ) LEFT OUTER JOIN `groups_group` ON ( `groups_attribute`.`group_id` = `groups_group`.`id` ) WHERE `experiments_comparison`.`experiment_id` = 7; args=(7,)\n",
      "DEBUG 2017-02-24 21:22:39,772 utils.py:91 | (0.032) SELECT `experiments_database`.`name` FROM `experiments_database` INNER JOIN `experiments_params_databases` ON ( `experiments_database`.`id` = `experiments_params_databases`.`database_id` ) INNER JOIN `experiments_params` ON ( `experiments_params_databases`.`params_id` = `experiments_params`.`id` ) INNER JOIN `experiments_analysis` ON ( `experiments_params`.`id` = `experiments_analysis`.`params_id` ) WHERE `experiments_analysis`.`id` = 8; args=(8,)\n",
      "DEBUG 2017-02-24 21:22:39,775 utils.py:91 | (0.001) UPDATE `experiments_analysis` SET `status` = 'Processing' WHERE `experiments_analysis`.`id` = 8; args=('Processing', 8)\n",
      "INFO 2017-02-24 21:22:39,780 pipeline_rpy2.py:89 | Data dir: /home/pimp/media/projects\n",
      "INFO 2017-02-24 21:22:39,783 pipeline_rpy2.py:90 | Project dir: /home/pimp/media/projects/6\n",
      "DEBUG 2017-02-24 21:22:39,786 pipeline_rpy2.py:100 | all_files [u'samples/POS/Beer_3_full1.mzXML', u'samples/POS/Beer_3_full2.mzXML', u'samples/POS/Beer_3_full3.mzXML', u'samples/POS/Beer_4_full1.mzXML', u'samples/POS/Beer_4_full2.mzXML', u'samples/POS/Beer_4_full3.mzXML', u'samples/POS/Beer_1_full1.mzXML', u'samples/POS/Beer_1_full2.mzXML', u'samples/POS/Beer_1_full3.mzXML', u'samples/POS/Beer_2_full1.mzXML', u'samples/POS/Beer_2_full2.mzXML', u'samples/POS/Beer_2_full3.mzXML', u'samples/NEG/Beer_3_full1.mzXML', u'samples/NEG/Beer_3_full2.mzXML', u'samples/NEG/Beer_3_full3.mzXML', u'samples/NEG/Beer_4_full1.mzXML', u'samples/NEG/Beer_4_full2.mzXML', u'samples/NEG/Beer_4_full3.mzXML', u'samples/NEG/Beer_1_full1.mzXML', u'samples/NEG/Beer_1_full2.mzXML', u'samples/NEG/Beer_1_full3.mzXML', u'samples/NEG/Beer_2_full1.mzXML', u'samples/NEG/Beer_2_full2.mzXML', u'samples/NEG/Beer_2_full3.mzXML']\n",
      "DEBUG 2017-02-24 21:22:39,788 pipeline_rpy2.py:101 | working_dir /home/pimp/media/projects/6\n",
      "/home/pimp/pimp/venv/local/lib/python2.7/site-packages/rpy2/robjects/functions.py:106: UserWarning: Loading required package: RUnit\n",
      "\n",
      "  res = super(Function, self).__call__(*new_args, **new_kwargs)\n",
      "\n",
      "WARNING 2017-02-24 21:22:39,857 functions.py:106 | /home/pimp/pimp/venv/local/lib/python2.7/site-packages/rpy2/robjects/functions.py:106: UserWarning: Loading required package: RUnit\n",
      "\n",
      "  res = super(Function, self).__call__(*new_args, **new_kwargs)\n",
      "\n",
      "/home/pimp/pimp/venv/local/lib/python2.7/site-packages/rpy2/robjects/functions.py:106: UserWarning: Loading required package: DBI\n",
      "\n",
      "  res = super(Function, self).__call__(*new_args, **new_kwargs)\n",
      "\n",
      "WARNING 2017-02-24 21:22:39,970 functions.py:106 | /home/pimp/pimp/venv/local/lib/python2.7/site-packages/rpy2/robjects/functions.py:106: UserWarning: Loading required package: DBI\n",
      "\n",
      "  res = super(Function, self).__call__(*new_args, **new_kwargs)\n",
      "\n"
     ]
    },
    {
     "name": "stdout",
     "output_type": "stream",
     "text": [
      "2017-02-24 21:22:39 INFO:Pimp.extra.setPiMPLoggerAnalysisID:Setting analysis ID in logger to 8\n",
      "2017-02-24 21:22:39 8:INFO:Pimp.extra.setPiMPLoggerAnalysisID:Analysis id set\n"
     ]
    },
    {
     "name": "stderr",
     "output_type": "stream",
     "text": [
      "/home/pimp/pimp/venv/local/lib/python2.7/site-packages/rpy2/robjects/functions.py:106: UserWarning: Setting analysis directory to: analysis_8\n",
      "\n",
      "  res = super(Function, self).__call__(*new_args, **new_kwargs)\n",
      "\n",
      "WARNING 2017-02-24 21:22:40,384 functions.py:106 | /home/pimp/pimp/venv/local/lib/python2.7/site-packages/rpy2/robjects/functions.py:106: UserWarning: Setting analysis directory to: analysis_8\n",
      "\n",
      "  res = super(Function, self).__call__(*new_args, **new_kwargs)\n",
      "\n"
     ]
    },
    {
     "name": "stdout",
     "output_type": "stream",
     "text": [
      "2017-02-24 21:22:40 8:INFO:Pimp.getAnalysisParams:Setting params\n",
      "2017-02-24 21:22:40 8:DEBUG:Pimp.getAnalysisParams:Name: iqr Value: 0.5\n",
      "2017-02-24 21:22:40 8:DEBUG:Pimp.getAnalysisParams:Name: rsd Value: 0.5\n",
      "2017-02-24 21:22:40 8:DEBUG:Pimp.getAnalysisParams:Name: noise Value: 0.8\n",
      "2017-02-24 21:22:40 8:DEBUG:Pimp.getAnalysisParams:Name: ppm Value: 3\n",
      "2017-02-24 21:22:40 8:DEBUG:Pimp.getAnalysisParams:Name: mindetections Value: 3\n",
      "2017-02-24 21:22:40 8:DEBUG:Pimp.getAnalysisParams:Name: minintensity Value: 5000\n",
      "2017-02-24 21:22:40 8:DEBUG:Pimp.getAnalysisParams:Name: rtwindow Value: 0.05\n",
      "2017-02-24 21:22:40 8:DEBUG:Pimp.getAnalysisParams:Name: rt.alignment Value: NA\n",
      "2017-02-24 21:22:40 8:INFO:Pimp.extra.setPiMPLoggerAnalysisID:Setting analysis ID in logger to 8\n",
      "2017-02-24 21:22:40 8:INFO:Pimp.extra.setPiMPLoggerAnalysisID:Analysis id set\n",
      "2017-02-24 21:22:40 8:INFO:Pimp.createAnalysisDir:Setting working dir to /home/pimp/media/projects/6:\n",
      "2017-02-24 21:22:40 8:INFO:Pimp.createAnalysisDir:Analysis dir created at analysis_8\n",
      "2017-02-24 21:22:40 8:INFO:Pimp.generateStdXml:Setting working directory to /home/pimp/media/projects/6\n",
      "2017-02-24 21:22:40 8:INFO:Pimp.stds.createAnnotationFile:Creating annotation file from calibration_samples/standard/Std1_1_20150422_150810.csv,calibration_samples/standard/Std2_1_20150422_150711.csv,calibration_samples/standard/Std3_1_20150422_150553.csv, outputting to analysis_8/stds_db.xml\n",
      "2017-02-24 21:22:40 8:INFO:Pimp.stds.createAnnotationFile.parseStandardsFiles:Parsing standards files\n",
      "2017-02-24 21:22:40 8:INFO:Pimp.stds.createAnnotationFile.determineFileParser:Parser for calibration_samples/standard/Std1_1_20150422_150810.csv is .parse.toxid.file\n",
      "2017-02-24 21:22:40 8:INFO:Pimp.stds.createAnnotationFile.parse.toxid.file:Parsing toxid file: calibration_samples/standard/Std1_1_20150422_150810.csv\n",
      "2017-02-24 21:22:40 8:INFO:Pimp.stds.createAnnotationFile.determineFileParser:Parser for calibration_samples/standard/Std2_1_20150422_150711.csv is .parse.toxid.file\n",
      "2017-02-24 21:22:40 8:INFO:Pimp.stds.createAnnotationFile.parse.toxid.file:Parsing toxid file: calibration_samples/standard/Std2_1_20150422_150711.csv\n",
      "2017-02-24 21:22:40 8:INFO:Pimp.stds.createAnnotationFile.determineFileParser:Parser for calibration_samples/standard/Std3_1_20150422_150553.csv is .parse.toxid.file\n",
      "2017-02-24 21:22:40 8:INFO:Pimp.stds.createAnnotationFile.parse.toxid.file:Parsing toxid file: calibration_samples/standard/Std3_1_20150422_150553.csv\n",
      "2017-02-24 21:22:40 8:INFO:Pimp.stds.createAnnotationFile:Matching names to standard2InChIKey database\n"
     ]
    }
   ],
   "source": [
    "pipeline = Rpy2Pipeline(copy_analysis, project)"
   ]
  },
  {
   "cell_type": "code",
   "execution_count": null,
   "metadata": {
    "collapsed": false,
    "scrolled": true
   },
   "outputs": [
    {
     "name": "stderr",
     "output_type": "stream",
     "text": [
      "INFO 2017-02-24 21:23:10,312 pipeline_rpy2.py:252 | Processing positive polarity\n",
      "INFO 2017-02-24 21:23:10,315 pipeline_rpy2.py:616 | Creating /home/pimp/media/projects/6/analysis_8/positive\n",
      "INFO 2017-02-24 21:23:10,318 pipeline_rpy2.py:616 | Creating /home/pimp/media/projects/6/analysis_8/positive/combined\n",
      "INFO 2017-02-24 21:23:10,321 pipeline_rpy2.py:137 | ------------------------------------------\n",
      "INFO 2017-02-24 21:23:10,322 pipeline_rpy2.py:138 | positive /home/pimp/media/projects/6/analysis_8/positive /home/pimp/media/projects/6/analysis_8/positive/combined\n",
      "INFO 2017-02-24 21:23:10,323 pipeline_rpy2.py:139 | ------------------------------------------\n",
      "DEBUG 2017-02-24 21:23:10,324 pipeline_rpy2.py:142 | Input for peak detection and RT correction [u'samples/POS/Beer_3_full1.mzXML', u'samples/POS/Beer_3_full2.mzXML', u'samples/POS/Beer_3_full3.mzXML', u'samples/POS/Beer_4_full1.mzXML', u'samples/POS/Beer_4_full2.mzXML', u'samples/POS/Beer_4_full3.mzXML', u'samples/POS/Beer_1_full1.mzXML', u'samples/POS/Beer_1_full2.mzXML', u'samples/POS/Beer_1_full3.mzXML', u'samples/POS/Beer_2_full1.mzXML', u'samples/POS/Beer_2_full2.mzXML', u'samples/POS/Beer_2_full3.mzXML']\n",
      "/home/pimp/pimp/venv/local/lib/python2.7/site-packages/rpy2/robjects/functions.py:106: UserWarning: \n",
      "Attaching package: 'snow'\n",
      "\n",
      "\n",
      "  res = super(Function, self).__call__(*new_args, **new_kwargs)\n",
      "\n",
      "WARNING 2017-02-24 21:23:10,393 functions.py:106 | /home/pimp/pimp/venv/local/lib/python2.7/site-packages/rpy2/robjects/functions.py:106: UserWarning: \n",
      "Attaching package: 'snow'\n",
      "\n",
      "\n",
      "  res = super(Function, self).__call__(*new_args, **new_kwargs)\n",
      "\n",
      "/home/pimp/pimp/venv/local/lib/python2.7/site-packages/rpy2/robjects/functions.py:106: UserWarning: The following objects are masked from 'package:BiocGenerics':\n",
      "\n",
      "    clusterApply, clusterApplyLB, clusterCall, clusterEvalQ,\n",
      "    clusterExport, clusterMap, clusterSplit, parApply, parCapply,\n",
      "    parLapply, parRapply, parSapply\n",
      "\n",
      "\n",
      "  res = super(Function, self).__call__(*new_args, **new_kwargs)\n",
      "\n",
      "WARNING 2017-02-24 21:23:10,397 functions.py:106 | /home/pimp/pimp/venv/local/lib/python2.7/site-packages/rpy2/robjects/functions.py:106: UserWarning: The following objects are masked from 'package:BiocGenerics':\n",
      "\n",
      "    clusterApply, clusterApplyLB, clusterCall, clusterEvalQ,\n",
      "    clusterExport, clusterMap, clusterSplit, parApply, parCapply,\n",
      "    parLapply, parRapply, parSapply\n",
      "\n",
      "\n",
      "  res = super(Function, self).__call__(*new_args, **new_kwargs)\n",
      "\n",
      "/home/pimp/pimp/venv/local/lib/python2.7/site-packages/rpy2/robjects/functions.py:106: UserWarning: The following objects are masked from 'package:parallel':\n",
      "\n",
      "    clusterApply, clusterApplyLB, clusterCall, clusterEvalQ,\n",
      "    clusterExport, clusterMap, clusterSplit, makeCluster, parApply,\n",
      "    parCapply, parLapply, parRapply, parSapply, splitIndices,\n",
      "    stopCluster\n",
      "\n",
      "\n",
      "  res = super(Function, self).__call__(*new_args, **new_kwargs)\n",
      "\n",
      "WARNING 2017-02-24 21:23:10,401 functions.py:106 | /home/pimp/pimp/venv/local/lib/python2.7/site-packages/rpy2/robjects/functions.py:106: UserWarning: The following objects are masked from 'package:parallel':\n",
      "\n",
      "    clusterApply, clusterApplyLB, clusterCall, clusterEvalQ,\n",
      "    clusterExport, clusterMap, clusterSplit, makeCluster, parApply,\n",
      "    parCapply, parLapply, parRapply, parSapply, splitIndices,\n",
      "    stopCluster\n",
      "\n",
      "\n",
      "  res = super(Function, self).__call__(*new_args, **new_kwargs)\n",
      "\n"
     ]
    },
    {
     "name": "stdout",
     "output_type": "stream",
     "text": [
      "Starting snow cluster with 8 local sockets.\n",
      "Detecting features in file # 1 : Beer_3_full1.mzXML \n",
      "Detecting features in file # 2 : Beer_3_full2.mzXML \n",
      "Detecting features in file # 3 : Beer_3_full3.mzXML \n",
      "Detecting features in file # 4 : Beer_4_full1.mzXML \n",
      "Detecting features in file # 5 : Beer_4_full2.mzXML \n",
      "Detecting features in file # 6 : Beer_4_full3.mzXML \n",
      "Detecting features in file # 7 : Beer_1_full1.mzXML \n"
     ]
    }
   ],
   "source": [
    "xml_file_path = pipeline.run_pipeline()"
   ]
  },
  {
   "cell_type": "markdown",
   "metadata": {
    "collapsed": true
   },
   "source": [
    "### Delete analysis"
   ]
  },
  {
   "cell_type": "code",
   "execution_count": 14,
   "metadata": {
    "collapsed": false
   },
   "outputs": [
    {
     "name": "stderr",
     "output_type": "stream",
     "text": [
      "DEBUG 2017-02-24 21:42:48,499 utils.py:91 | (0.001) SELECT `experiments_analysis`.`id`, `experiments_analysis`.`created`, `experiments_analysis`.`submited`, `experiments_analysis`.`owner`, `experiments_analysis`.`experiment_id`, `experiments_analysis`.`params_id`, `experiments_analysis`.`status` FROM `experiments_analysis` WHERE `experiments_analysis`.`id` = 5 LIMIT 21; args=(5,)\n",
      "DEBUG 2017-02-24 21:42:48,503 utils.py:91 | (0.001) SELECT `data_dataset`.`id`, `data_dataset`.`created`, `data_dataset`.`analysis_id` FROM `data_dataset` WHERE `data_dataset`.`analysis_id` IN (5); args=(5,)\n",
      "DEBUG 2017-02-24 21:42:48,532 utils.py:91 | (0.026) SELECT `data_peak`.`id`, `data_peak`.`dataset_id`, `data_peak`.`secondaryId`, `data_peak`.`mass`, `data_peak`.`rt`, `data_peak`.`polarity`, `data_peak`.`type` FROM `data_peak` WHERE `data_peak`.`dataset_id` IN (4) ORDER BY `data_peak`.`secondaryId` ASC; args=(4,)\n",
      "DEBUG 2017-02-24 21:42:48,633 utils.py:91 | (0.053) SELECT `compound_compound`.`id`, `compound_compound`.`secondaryId`, `compound_compound`.`peak_id`, `compound_compound`.`formula`, `compound_compound`.`inchikey`, `compound_compound`.`ppm`, `compound_compound`.`adduct`, `compound_compound`.`identified` FROM `compound_compound` WHERE `compound_compound`.`peak_id` IN (16425, 16426, 16427, 16428, 16429, 16430, 16431, 16432, 16433, 16434, 16435, 16436, 16437, 16438, 16439, 16440, 16441, 16442, 16443, 16444, 16445, 16446, 16447, 16448, 16449, 16450, 16451, 16452, 16453, 16454, 16455, 16456, 16457, 16458, 16459, 16460, 16461, 16462, 16463, 16464, 16465, 16466, 16467, 16468, 16469, 16470, 16471, 16472, 16473, 16474, 16475, 16476, 16477, 16478, 16479, 16480, 16481, 16482, 16483, 16484, 16485, 16486, 16487, 16488, 16489, 16490, 16491, 16492, 16493, 16494, 16495, 16496, 16497, 16498, 16499, 16500, 16501, 16502, 16503, 16504, 16505, 16506, 16507, 16508, 16509, 16510, 16511, 16512, 16513, 16514, 16515, 16516, 16517, 16518, 16519, 16520, 16521, 16522, 16523, 16524, 16525, 16526, 16527, 16528, 16529, 16530, 16531, 16532, 16533, 16534, 16535, 16536, 16537, 16538, 16539, 16540, 16541, 16542, 16543, 16544, 16545, 16546, 16547, 16548, 16549, 16550, 16551, 16552, 16553, 16554, 16555, 16556, 16557, 16558, 16559, 16560, 16561, 16562, 16563, 16564, 16565, 16566, 16567, 16568, 16569, 16570, 16571, 16572, 16573, 16574, 16575, 16576, 16577, 16578, 16579, 16580, 16581, 16582, 16583, 16584, 16585, 16586, 16587, 16588, 16589, 16590, 16591, 16592, 16593, 16594, 16595, 16596, 16597, 16598, 16599, 16600, 16601, 16602, 16603, 16604, 16605, 16606, 16607, 16608, 16609, 16610, 16611, 16612, 16613, 16614, 16615, 16616, 16617, 16618, 16619, 16620, 16621, 16622, 16623, 16624, 16625, 16626, 16627, 16628, 16629, 16630, 16631, 16632, 16633, 16634, 16635, 16636, 16637, 16638, 16639, 16640, 16641, 16642, 16643, 16644, 16645, 16646, 16647, 16648, 16649, 16650, 16651, 16652, 16653, 16654, 16655, 16656, 16657, 16658, 16659, 16660, 16661, 16662, 16663, 16664, 16665, 16666, 16667, 16668, 16669, 16670, 16671, 16672, 16673, 16674, 16675, 16676, 16677, 16678, 16679, 16680, 16681, 16682, 16683, 16684, 16685, 16686, 16687, 16688, 16689, 16690, 16691, 16692, 16693, 16694, 16695, 16696, 16697, 16698, 16699, 16700, 16701, 16702, 16703, 16704, 16705, 16706, 16707, 16708, 16709, 16710, 16711, 16712, 16713, 16714, 16715, 16716, 16717, 16718, 16719, 16720, 16721, 16722, 16723, 16724, 16725, 16726, 16727, 16728, 16729, 16730, 16731, 16732, 16733, 16734, 16735, 16736, 16737, 16738, 16739, 16740, 16741, 16742, 16743, 16744, 16745, 16746, 16747, 16748, 16749, 16750, 16751, 16752, 16753, 16754, 16755, 16756, 16757, 16758, 16759, 16760, 16761, 16762, 16763, 16764, 16765, 16766, 16767, 16768, 16769, 16770, 16771, 16772, 16773, 16774, 16775, 16776, 16777, 16778, 16779, 16780, 16781, 16782, 16783, 16784, 16785, 16786, 16787, 16788, 16789, 16790, 16791, 16792, 16793, 16794, 16795, 16796, 16797, 16798, 16799, 16800, 16801, 16802, 16803, 16804, 16805, 16806, 16807, 16808, 16809, 16810, 16811, 16812, 16813, 16814, 16815, 16816, 16817, 16818, 16819, 16820, 16821, 16822, 16823, 16824, 16825, 16826, 16827, 16828, 16829, 16830, 16831, 16832, 16833, 16834, 16835, 16836, 16837, 16838, 16839, 16840, 16841, 16842, 16843, 16844, 16845, 16846, 16847, 16848, 16849, 16850, 16851, 16852, 16853, 16854, 16855, 16856, 16857, 16858, 16859, 16860, 16861, 16862, 16863, 16864, 16865, 16866, 16867, 16868, 16869, 16870, 16871, 16872, 16873, 16874, 16875, 16876, 16877, 16878, 16879, 16880, 16881, 16882, 16883, 16884, 16885, 16886, 16887, 16888, 16889, 16890, 16891, 16892, 16893, 16894, 16895, 16896, 16897, 16898, 16899, 16900, 16901, 16902, 16903, 16904, 16905, 16906, 16907, 16908, 16909, 16910, 16911, 16912, 16913, 16914, 16915, 16916, 16917, 16918, 16919, 16920, 16921, 16922, 16923, 16924, 16925, 16926, 16927, 16928, 16929, 16930, 16931, 16932, 16933, 16934, 16935, 16936, 16937, 16938, 16939, 16940, 16941, 16942, 16943, 16944, 16945, 16946, 16947, 16948, 16949, 16950, 16951, 16952, 16953, 16954, 16955, 16956, 16957, 16958, 16959, 16960, 16961, 16962, 16963, 16964, 16965, 16966, 16967, 16968, 16969, 16970, 16971, 16972, 16973, 16974, 16975, 16976, 16977, 16978, 16979, 16980, 16981, 16982, 16983, 16984, 16985, 16986, 16987, 16988, 16989, 16990, 16991, 16992, 16993, 16994, 16995, 16996, 16997, 16998, 16999, 17000, 17001, 17002, 17003, 17004, 17005, 17006, 17007, 17008, 17009, 17010, 17011, 17012, 17013, 17014, 17015, 17016, 17017, 17018, 17019, 17020, 17021, 17022, 17023, 17024, 17025, 17026, 17027, 17028, 17029, 17030, 17031, 17032, 17033, 17034, 17035, 17036, 17037, 17038, 17039, 17040, 17041, 17042, 17043, 17044, 17045, 17046, 17047, 17048, 17049, 17050, 17051, 17052, 17053, 17054, 17055, 17056, 17057, 17058, 17059, 17060, 17061, 17062, 17063, 17064, 17065, 17066, 17067, 17068, 17069, 17070, 17071, 17072, 17073, 17074, 17075, 17076, 17077, 17078, 17079, 17080, 17081, 17082, 17083, 17084, 17085, 17086, 17087, 17088, 17089, 17090, 17091, 17092, 17093, 17094, 17095, 17096, 17097, 17098, 17099, 17100, 17101, 17102, 17103, 17104, 17105, 17106, 17107, 17108, 17109, 17110, 17111, 17112, 17113, 17114, 17115, 17116, 17117, 17118, 17119, 17120, 17121, 17122, 17123, 17124, 17125, 17126, 17127, 17128, 17129, 17130, 17131, 17132, 17133, 17134, 17135, 17136, 17137, 17138, 17139, 17140, 17141, 17142, 17143, 17144, 17145, 17146, 17147, 17148, 17149, 17150, 17151, 17152, 17153, 17154, 17155, 17156, 17157, 17158, 17159, 17160, 17161, 17162, 17163, 17164, 17165, 17166, 17167, 17168, 17169, 17170, 17171, 17172, 17173, 17174, 17175, 17176, 17177, 17178, 17179, 17180, 17181, 17182, 17183, 17184, 17185, 17186, 17187, 17188, 17189, 17190, 17191, 17192, 17193, 17194, 17195, 17196, 17197, 17198, 17199, 17200, 17201, 17202, 17203, 17204, 17205, 17206, 17207, 17208, 17209, 17210, 17211, 17212, 17213, 17214, 17215, 17216, 17217, 17218, 17219, 17220, 17221, 17222, 17223, 17224, 17225, 17226, 17227, 17228, 17229, 17230, 17231, 17232, 17233, 17234, 17235, 17236, 17237, 17238, 17239, 17240, 17241, 17242, 17243, 17244, 17245, 17246, 17247, 17248, 17249, 17250, 17251, 17252, 17253, 17254, 17255, 17256, 17257, 17258, 17259, 17260, 17261, 17262, 17263, 17264, 17265, 17266, 17267, 17268, 17269, 17270, 17271, 17272, 17273, 17274, 17275, 17276, 17277, 17278, 17279) ORDER BY `compound_compound`.`secondaryId` ASC; args=(16425, 16426, 16427, 16428, 16429, 16430, 16431, 16432, 16433, 16434, 16435, 16436, 16437, 16438, 16439, 16440, 16441, 16442, 16443, 16444, 16445, 16446, 16447, 16448, 16449, 16450, 16451, 16452, 16453, 16454, 16455, 16456, 16457, 16458, 16459, 16460, 16461, 16462, 16463, 16464, 16465, 16466, 16467, 16468, 16469, 16470, 16471, 16472, 16473, 16474, 16475, 16476, 16477, 16478, 16479, 16480, 16481, 16482, 16483, 16484, 16485, 16486, 16487, 16488, 16489, 16490, 16491, 16492, 16493, 16494, 16495, 16496, 16497, 16498, 16499, 16500, 16501, 16502, 16503, 16504, 16505, 16506, 16507, 16508, 16509, 16510, 16511, 16512, 16513, 16514, 16515, 16516, 16517, 16518, 16519, 16520, 16521, 16522, 16523, 16524, 16525, 16526, 16527, 16528, 16529, 16530, 16531, 16532, 16533, 16534, 16535, 16536, 16537, 16538, 16539, 16540, 16541, 16542, 16543, 16544, 16545, 16546, 16547, 16548, 16549, 16550, 16551, 16552, 16553, 16554, 16555, 16556, 16557, 16558, 16559, 16560, 16561, 16562, 16563, 16564, 16565, 16566, 16567, 16568, 16569, 16570, 16571, 16572, 16573, 16574, 16575, 16576, 16577, 16578, 16579, 16580, 16581, 16582, 16583, 16584, 16585, 16586, 16587, 16588, 16589, 16590, 16591, 16592, 16593, 16594, 16595, 16596, 16597, 16598, 16599, 16600, 16601, 16602, 16603, 16604, 16605, 16606, 16607, 16608, 16609, 16610, 16611, 16612, 16613, 16614, 16615, 16616, 16617, 16618, 16619, 16620, 16621, 16622, 16623, 16624, 16625, 16626, 16627, 16628, 16629, 16630, 16631, 16632, 16633, 16634, 16635, 16636, 16637, 16638, 16639, 16640, 16641, 16642, 16643, 16644, 16645, 16646, 16647, 16648, 16649, 16650, 16651, 16652, 16653, 16654, 16655, 16656, 16657, 16658, 16659, 16660, 16661, 16662, 16663, 16664, 16665, 16666, 16667, 16668, 16669, 16670, 16671, 16672, 16673, 16674, 16675, 16676, 16677, 16678, 16679, 16680, 16681, 16682, 16683, 16684, 16685, 16686, 16687, 16688, 16689, 16690, 16691, 16692, 16693, 16694, 16695, 16696, 16697, 16698, 16699, 16700, 16701, 16702, 16703, 16704, 16705, 16706, 16707, 16708, 16709, 16710, 16711, 16712, 16713, 16714, 16715, 16716, 16717, 16718, 16719, 16720, 16721, 16722, 16723, 16724, 16725, 16726, 16727, 16728, 16729, 16730, 16731, 16732, 16733, 16734, 16735, 16736, 16737, 16738, 16739, 16740, 16741, 16742, 16743, 16744, 16745, 16746, 16747, 16748, 16749, 16750, 16751, 16752, 16753, 16754, 16755, 16756, 16757, 16758, 16759, 16760, 16761, 16762, 16763, 16764, 16765, 16766, 16767, 16768, 16769, 16770, 16771, 16772, 16773, 16774, 16775, 16776, 16777, 16778, 16779, 16780, 16781, 16782, 16783, 16784, 16785, 16786, 16787, 16788, 16789, 16790, 16791, 16792, 16793, 16794, 16795, 16796, 16797, 16798, 16799, 16800, 16801, 16802, 16803, 16804, 16805, 16806, 16807, 16808, 16809, 16810, 16811, 16812, 16813, 16814, 16815, 16816, 16817, 16818, 16819, 16820, 16821, 16822, 16823, 16824, 16825, 16826, 16827, 16828, 16829, 16830, 16831, 16832, 16833, 16834, 16835, 16836, 16837, 16838, 16839, 16840, 16841, 16842, 16843, 16844, 16845, 16846, 16847, 16848, 16849, 16850, 16851, 16852, 16853, 16854, 16855, 16856, 16857, 16858, 16859, 16860, 16861, 16862, 16863, 16864, 16865, 16866, 16867, 16868, 16869, 16870, 16871, 16872, 16873, 16874, 16875, 16876, 16877, 16878, 16879, 16880, 16881, 16882, 16883, 16884, 16885, 16886, 16887, 16888, 16889, 16890, 16891, 16892, 16893, 16894, 16895, 16896, 16897, 16898, 16899, 16900, 16901, 16902, 16903, 16904, 16905, 16906, 16907, 16908, 16909, 16910, 16911, 16912, 16913, 16914, 16915, 16916, 16917, 16918, 16919, 16920, 16921, 16922, 16923, 16924, 16925, 16926, 16927, 16928, 16929, 16930, 16931, 16932, 16933, 16934, 16935, 16936, 16937, 16938, 16939, 16940, 16941, 16942, 16943, 16944, 16945, 16946, 16947, 16948, 16949, 16950, 16951, 16952, 16953, 16954, 16955, 16956, 16957, 16958, 16959, 16960, 16961, 16962, 16963, 16964, 16965, 16966, 16967, 16968, 16969, 16970, 16971, 16972, 16973, 16974, 16975, 16976, 16977, 16978, 16979, 16980, 16981, 16982, 16983, 16984, 16985, 16986, 16987, 16988, 16989, 16990, 16991, 16992, 16993, 16994, 16995, 16996, 16997, 16998, 16999, 17000, 17001, 17002, 17003, 17004, 17005, 17006, 17007, 17008, 17009, 17010, 17011, 17012, 17013, 17014, 17015, 17016, 17017, 17018, 17019, 17020, 17021, 17022, 17023, 17024, 17025, 17026, 17027, 17028, 17029, 17030, 17031, 17032, 17033, 17034, 17035, 17036, 17037, 17038, 17039, 17040, 17041, 17042, 17043, 17044, 17045, 17046, 17047, 17048, 17049, 17050, 17051, 17052, 17053, 17054, 17055, 17056, 17057, 17058, 17059, 17060, 17061, 17062, 17063, 17064, 17065, 17066, 17067, 17068, 17069, 17070, 17071, 17072, 17073, 17074, 17075, 17076, 17077, 17078, 17079, 17080, 17081, 17082, 17083, 17084, 17085, 17086, 17087, 17088, 17089, 17090, 17091, 17092, 17093, 17094, 17095, 17096, 17097, 17098, 17099, 17100, 17101, 17102, 17103, 17104, 17105, 17106, 17107, 17108, 17109, 17110, 17111, 17112, 17113, 17114, 17115, 17116, 17117, 17118, 17119, 17120, 17121, 17122, 17123, 17124, 17125, 17126, 17127, 17128, 17129, 17130, 17131, 17132, 17133, 17134, 17135, 17136, 17137, 17138, 17139, 17140, 17141, 17142, 17143, 17144, 17145, 17146, 17147, 17148, 17149, 17150, 17151, 17152, 17153, 17154, 17155, 17156, 17157, 17158, 17159, 17160, 17161, 17162, 17163, 17164, 17165, 17166, 17167, 17168, 17169, 17170, 17171, 17172, 17173, 17174, 17175, 17176, 17177, 17178, 17179, 17180, 17181, 17182, 17183, 17184, 17185, 17186, 17187, 17188, 17189, 17190, 17191, 17192, 17193, 17194, 17195, 17196, 17197, 17198, 17199, 17200, 17201, 17202, 17203, 17204, 17205, 17206, 17207, 17208, 17209, 17210, 17211, 17212, 17213, 17214, 17215, 17216, 17217, 17218, 17219, 17220, 17221, 17222, 17223, 17224, 17225, 17226, 17227, 17228, 17229, 17230, 17231, 17232, 17233, 17234, 17235, 17236, 17237, 17238, 17239, 17240, 17241, 17242, 17243, 17244, 17245, 17246, 17247, 17248, 17249, 17250, 17251, 17252, 17253, 17254, 17255, 17256, 17257, 17258, 17259, 17260, 17261, 17262, 17263, 17264, 17265, 17266, 17267, 17268, 17269, 17270, 17271, 17272, 17273, 17274, 17275, 17276, 17277, 17278, 17279)\n"
     ]
    },
    {
     "name": "stdout",
     "output_type": "stream",
     "text": [
      "5\n",
      "{<class 'experiments.models.Analysis'>: set([<class 'data.models.Dataset'>]), <class 'data.models.Peak'>: set([<class 'compound.models.Compound'>]), <class 'data.models.Dataset'>: set([<class 'data.models.Peak'>])}\n"
     ]
    }
   ],
   "source": [
    "from django.db.models.deletion import Collector\n",
    "\n",
    "analysis_id = 5\n",
    "analysis = Analysis.objects.get(id=analysis_id)\n",
    "collector = Collector({})\n",
    "collector.collect([analysis])\n",
    "print analysis.id\n",
    "print collector.dependencies"
   ]
  }
 ],
 "metadata": {
  "kernelspec": {
   "display_name": "Django Shell-Plus",
   "language": "python",
   "name": "django_extensions"
  },
  "language_info": {
   "codemirror_mode": {
    "name": "ipython",
    "version": 2
   },
   "file_extension": ".py",
   "mimetype": "text/x-python",
   "name": "python",
   "nbconvert_exporter": "python",
   "pygments_lexer": "ipython2",
   "version": "2.7.12"
  }
 },
 "nbformat": 4,
 "nbformat_minor": 1
}
