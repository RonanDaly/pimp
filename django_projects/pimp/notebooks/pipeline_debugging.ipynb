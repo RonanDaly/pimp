{
 "cells": [
  {
   "cell_type": "markdown",
   "metadata": {},
   "source": [
    "# Notebook to run through all the steps in the pipeline"
   ]
  },
  {
   "cell_type": "markdown",
   "metadata": {},
   "source": [
    "Very useful for debugging"
   ]
  },
  {
   "cell_type": "code",
   "execution_count": 1,
   "metadata": {
    "collapsed": false
   },
   "outputs": [],
   "source": [
    "%load_ext autoreload\n",
    "%autoreload 2"
   ]
  },
  {
   "cell_type": "code",
   "execution_count": 2,
   "metadata": {
    "collapsed": true
   },
   "outputs": [],
   "source": [
    "import rpy2.robjects as robjects\n",
    "import multiprocessing\n",
    "from experiments.pipelines.pipeline_rpy2 import Rpy2Pipeline"
   ]
  },
  {
   "cell_type": "markdown",
   "metadata": {},
   "source": [
    "## Load analysis and project"
   ]
  },
  {
   "cell_type": "code",
   "execution_count": 3,
   "metadata": {
    "collapsed": true
   },
   "outputs": [],
   "source": [
    "project_id = 10\n",
    "analysis_id = 38"
   ]
  },
  {
   "cell_type": "code",
   "execution_count": 4,
   "metadata": {
    "collapsed": false,
    "scrolled": true
   },
   "outputs": [
    {
     "name": "stderr",
     "output_type": "stream",
     "text": [
      "DEBUG 2017-03-04 07:30:10,186 utils.py:91 | (0.009) SET SQL_AUTO_IS_NULL = 0; args=None\n",
      "DEBUG 2017-03-04 07:30:10,190 utils.py:91 | (0.003) SELECT `projects_project`.`id`, `projects_project`.`title`, `projects_project`.`user_owner_id`, `projects_project`.`description`, `projects_project`.`created`, `projects_project`.`modified` FROM `projects_project` WHERE `projects_project`.`id` = 10 LIMIT 21; args=(10,)\n"
     ]
    }
   ],
   "source": [
    "project = Project.objects.get_or_create(id=project_id)[0]"
   ]
  },
  {
   "cell_type": "code",
   "execution_count": 5,
   "metadata": {
    "collapsed": false,
    "scrolled": false
   },
   "outputs": [
    {
     "name": "stderr",
     "output_type": "stream",
     "text": [
      "DEBUG 2017-03-04 07:30:12,140 utils.py:91 | (0.004) SELECT `experiments_analysis`.`id`, `experiments_analysis`.`created`, `experiments_analysis`.`submited`, `experiments_analysis`.`owner`, `experiments_analysis`.`experiment_id`, `experiments_analysis`.`params_id`, `experiments_analysis`.`status` FROM `experiments_analysis` WHERE `experiments_analysis`.`id` = 38 LIMIT 21; args=(38,)\n"
     ]
    }
   ],
   "source": [
    "analysis = Analysis.objects.get_or_create(id=analysis_id)[0]"
   ]
  },
  {
   "cell_type": "code",
   "execution_count": 6,
   "metadata": {
    "collapsed": false
   },
   "outputs": [
    {
     "name": "stderr",
     "output_type": "stream",
     "text": [
      "DEBUG 2017-03-04 07:30:14,231 utils.py:91 | (0.001) UPDATE `experiments_analysis` SET `created` = '2017-02-28 20:27:40', `submited` = '2017-02-28 23:27:35', `owner` = 'admin', `experiment_id` = 17, `params_id` = 27, `status` = 'Ready' WHERE `experiments_analysis`.`id` = 38; args=(u'2017-02-28 20:27:40', u'2017-02-28 23:27:35', u'admin', 17, 27, 'Ready', 38)\n"
     ]
    },
    {
     "name": "stdout",
     "output_type": "stream",
     "text": [
      "Processing\n"
     ]
    }
   ],
   "source": [
    "print analysis.status\n",
    "analysis.status = 'Ready'\n",
    "analysis.save()"
   ]
  },
  {
   "cell_type": "markdown",
   "metadata": {},
   "source": [
    "## Create pipeline object"
   ]
  },
  {
   "cell_type": "code",
   "execution_count": 7,
   "metadata": {
    "collapsed": false,
    "scrolled": true
   },
   "outputs": [
    {
     "name": "stderr",
     "output_type": "stream",
     "text": [
      "INFO 2017-03-04 07:30:16,608 pipeline_rpy2.py:50 | ******************************************\n",
      "INFO 2017-03-04 07:30:16,609 pipeline_rpy2.py:51 | Setup rpy2 connection\n",
      "INFO 2017-03-04 07:30:16,611 pipeline_rpy2.py:52 | ******************************************\n"
     ]
    },
    {
     "name": "stdout",
     "output_type": "stream",
     "text": [
      "[1] \"Initialising PuMP logging\"\n"
     ]
    },
    {
     "name": "stderr",
     "output_type": "stream",
     "text": [
      "/home/pimp/pimp/venv/local/lib/python2.7/site-packages/rpy2/robjects/packages.py:63: UserWarning: Note: the specification for S3 class \"AsIs\" in package 'RJSONIO' seems equivalent to one from package 'BiocGenerics': not turning on duplicate class definitions for this class.\n",
      "\n",
      "  return _reval(expr)\n",
      "\n",
      "WARNING 2017-03-04 07:30:26,103 packages.py:63 | /home/pimp/pimp/venv/local/lib/python2.7/site-packages/rpy2/robjects/packages.py:63: UserWarning: Note: the specification for S3 class \"AsIs\" in package 'RJSONIO' seems equivalent to one from package 'BiocGenerics': not turning on duplicate class definitions for this class.\n",
      "\n",
      "  return _reval(expr)\n",
      "\n",
      "DEBUG 2017-03-04 07:30:27,907 utils.py:91 | (0.002) SELECT `experiments_experiment`.`id`, `experiments_experiment`.`title`, `experiments_experiment`.`created`, `experiments_experiment`.`modified` FROM `experiments_experiment` WHERE `experiments_experiment`.`id` = 17 LIMIT 21; args=(17,)\n",
      "DEBUG 2017-03-04 07:30:27,926 utils.py:91 | (0.012) SELECT `fileupload_picture`.`file` FROM `fileupload_picture` INNER JOIN `fileupload_samplefilegroup` ON ( `fileupload_picture`.`id` = `fileupload_samplefilegroup`.`posdata_id` ) INNER JOIN `fileupload_sample` ON ( `fileupload_samplefilegroup`.`id` = `fileupload_sample`.`samplefile_id` ) WHERE (`fileupload_sample`.`id`) IN (SELECT DISTINCT U0.`id` FROM `fileupload_sample` U0 INNER JOIN `groups_sampleattribute` U1 ON ( U0.`id` = U1.`sample_id` ) INNER JOIN `groups_attribute` U2 ON ( U1.`attribute_id` = U2.`id` ) INNER JOIN `experiments_attributecomparison` U3 ON ( U2.`id` = U3.`attribute_id` ) INNER JOIN `experiments_comparison` U4 ON ( U3.`comparison_id` = U4.`id` ) WHERE U4.`experiment_id` = 17); args=(17,)\n",
      "DEBUG 2017-03-04 07:30:27,930 utils.py:91 | (0.001) SELECT `fileupload_picture`.`file` FROM `fileupload_picture` INNER JOIN `fileupload_samplefilegroup` ON ( `fileupload_picture`.`id` = `fileupload_samplefilegroup`.`negdata_id` ) INNER JOIN `fileupload_sample` ON ( `fileupload_samplefilegroup`.`id` = `fileupload_sample`.`samplefile_id` ) WHERE (`fileupload_sample`.`id`) IN (SELECT DISTINCT U0.`id` FROM `fileupload_sample` U0 INNER JOIN `groups_sampleattribute` U1 ON ( U0.`id` = U1.`sample_id` ) INNER JOIN `groups_attribute` U2 ON ( U1.`attribute_id` = U2.`id` ) INNER JOIN `experiments_attributecomparison` U3 ON ( U2.`id` = U3.`attribute_id` ) INNER JOIN `experiments_comparison` U4 ON ( U3.`comparison_id` = U4.`id` ) WHERE U4.`experiment_id` = 17); args=(17,)\n",
      "DEBUG 2017-03-04 07:30:27,942 utils.py:91 | (0.005) SELECT `groups_group`.`name`, `groups_attribute`.`name`, `fileupload_sample`.`name` FROM `groups_group` LEFT OUTER JOIN `groups_attribute` ON ( `groups_group`.`id` = `groups_attribute`.`group_id` ) LEFT OUTER JOIN `groups_sampleattribute` ON ( `groups_attribute`.`id` = `groups_sampleattribute`.`attribute_id` ) LEFT OUTER JOIN `fileupload_sample` ON ( `groups_sampleattribute`.`sample_id` = `fileupload_sample`.`id` ) WHERE `groups_group`.`id` IN (SELECT DISTINCT U0.`id` FROM `groups_group` U0 INNER JOIN `groups_attribute` U1 ON ( U0.`id` = U1.`group_id` ) INNER JOIN `experiments_attributecomparison` U2 ON ( U1.`id` = U2.`attribute_id` ) INNER JOIN `experiments_comparison` U3 ON ( U2.`comparison_id` = U3.`id` ) WHERE U3.`experiment_id` = 17); args=(17,)\n",
      "DEBUG 2017-03-04 07:30:27,988 utils.py:91 | (0.013) SELECT `fileupload_projfile`.`file` FROM `fileupload_calibrationsample` INNER JOIN `groups_projfileattribute` ON ( `fileupload_calibrationsample`.`id` = `groups_projfileattribute`.`calibrationsample_id` ) INNER JOIN `groups_attribute` ON ( `groups_projfileattribute`.`attribute_id` = `groups_attribute`.`id` ) LEFT OUTER JOIN `fileupload_standardfilegroup` ON ( `fileupload_calibrationsample`.`standardFile_id` = `fileupload_standardfilegroup`.`id` ) LEFT OUTER JOIN `fileupload_projfile` ON ( `fileupload_standardfilegroup`.`data_id` = `fileupload_projfile`.`id` ) WHERE (`fileupload_calibrationsample`.`project_id` = 10 AND `groups_attribute`.`name` = 'standard'); args=(10, 'standard')\n"
     ]
    },
    {
     "name": "stdout",
     "output_type": "stream",
     "text": [
      "[1] \"PuMP log level set to DEBUG\"\n",
      "2017-03-04 07:30:25 ERROR:pump.misc.initialisePuMPLogging:Logging at ERROR level\n",
      "2017-03-04 07:30:25 WARNING:pump.misc.initialisePuMPLogging:Logging at WARNING level\n",
      "2017-03-04 07:30:25 INFO:pump.misc.initialisePuMPLogging:Logging at INFO level\n",
      "2017-03-04 07:30:25 DEBUG:pump.misc.initialisePuMPLogging:Logging at DEBUG level\n",
      "2017-03-04 07:30:27 INFO:PeakML.Isotope.plotSamples:OS type: x86_64-pc-linux-gnu\n",
      "2017-03-04 07:30:27 INFO:PeakML.Isotope.plotSamples:Java parameters are: -Xmx8192m\n",
      "2017-03-04 07:30:27 INFO:PeakML.Isotope.plotSamples:Using jar file /home/pimp/pimp/packrat/lib/x86_64-pc-linux-gnu/3.2.3/mzmatch.R/java/mzmatch-2.1-with-dependencies.jar\n",
      "2017-03-04 07:30:27 INFO:PeakML.Isotope.plotSamples:Using SWT file /home/pimp/pimp/packrat/lib/x86_64-pc-linux-gnu/3.2.3/mzmatch.R/java/swt-4.5-gtk-linux-x86_64.jar\n",
      "[1] \"Initialising PiMP logging\"\n",
      "[1] \"PiMP log level set to DEBUG\"\n",
      "2017-03-04 07:30:27 ERROR:Pimp.extra.initialisePiMPLogging:Logging at ERROR level\n",
      "2017-03-04 07:30:27 WARNING:Pimp.extra.initialisePiMPLogging:Logging at WARNING level\n",
      "2017-03-04 07:30:27 INFO:Pimp.extra.initialisePiMPLogging:Logging at INFO level\n",
      "2017-03-04 07:30:27 DEBUG:Pimp.extra.initialisePiMPLogging:Logging at DEBUG level\n"
     ]
    },
    {
     "name": "stderr",
     "output_type": "stream",
     "text": [
      "DEBUG 2017-03-04 07:30:27,994 utils.py:91 | (0.001) SELECT `experiments_comparison`.`id`, `experiments_comparison`.`name`, `experiments_attributecomparison`.`attribute_id`, `groups_group`.`name`, `groups_attribute`.`name`, `experiments_attributecomparison`.`group` FROM `experiments_comparison` LEFT OUTER JOIN `experiments_attributecomparison` ON ( `experiments_comparison`.`id` = `experiments_attributecomparison`.`comparison_id` ) LEFT OUTER JOIN `groups_attribute` ON ( `experiments_attributecomparison`.`attribute_id` = `groups_attribute`.`id` ) LEFT OUTER JOIN `groups_group` ON ( `groups_attribute`.`group_id` = `groups_group`.`id` ) WHERE `experiments_comparison`.`experiment_id` = 17; args=(17,)\n",
      "DEBUG 2017-03-04 07:30:28,028 utils.py:91 | (0.015) SELECT `experiments_database`.`name` FROM `experiments_database` INNER JOIN `experiments_params_databases` ON ( `experiments_database`.`id` = `experiments_params_databases`.`database_id` ) INNER JOIN `experiments_params` ON ( `experiments_params_databases`.`params_id` = `experiments_params`.`id` ) INNER JOIN `experiments_analysis` ON ( `experiments_params`.`id` = `experiments_analysis`.`params_id` ) WHERE `experiments_analysis`.`id` = 38; args=(38,)\n",
      "DEBUG 2017-03-04 07:30:28,032 utils.py:91 | (0.001) UPDATE `experiments_analysis` SET `status` = 'Processing' WHERE `experiments_analysis`.`id` = 38; args=('Processing', 38)\n",
      "INFO 2017-03-04 07:30:28,036 helpers.py:16 | Data dir: /home/pimp/media/projects\n",
      "INFO 2017-03-04 07:30:28,038 helpers.py:17 | Project dir: /home/pimp/media/projects/10\n",
      "DEBUG 2017-03-04 07:30:28,040 pipeline_rpy2.py:90 | all_files [u'samples/POS/Beer_2_full1.mzXML', u'samples/POS/Beer_2_full2.mzXML', u'samples/POS/Beer_1_full1.mzXML', u'samples/POS/Beer_1_full2.mzXML', u'samples/NEG/Beer_2_full1.mzXML', u'samples/NEG/Beer_2_full2.mzXML', u'samples/NEG/Beer_1_full1.mzXML', u'samples/NEG/Beer_1_full2.mzXML']\n",
      "DEBUG 2017-03-04 07:30:28,041 pipeline_rpy2.py:91 | working_dir /home/pimp/media/projects/10\n",
      "/home/pimp/pimp/venv/local/lib/python2.7/site-packages/rpy2/robjects/functions.py:106: UserWarning: Loading required package: RUnit\n",
      "\n",
      "  res = super(Function, self).__call__(*new_args, **new_kwargs)\n",
      "\n",
      "WARNING 2017-03-04 07:30:28,119 functions.py:106 | /home/pimp/pimp/venv/local/lib/python2.7/site-packages/rpy2/robjects/functions.py:106: UserWarning: Loading required package: RUnit\n",
      "\n",
      "  res = super(Function, self).__call__(*new_args, **new_kwargs)\n",
      "\n",
      "/home/pimp/pimp/venv/local/lib/python2.7/site-packages/rpy2/robjects/functions.py:106: UserWarning: Loading required package: DBI\n",
      "\n",
      "  res = super(Function, self).__call__(*new_args, **new_kwargs)\n",
      "\n",
      "WARNING 2017-03-04 07:30:28,240 functions.py:106 | /home/pimp/pimp/venv/local/lib/python2.7/site-packages/rpy2/robjects/functions.py:106: UserWarning: Loading required package: DBI\n",
      "\n",
      "  res = super(Function, self).__call__(*new_args, **new_kwargs)\n",
      "\n"
     ]
    },
    {
     "name": "stdout",
     "output_type": "stream",
     "text": [
      "2017-03-04 07:30:28 INFO:Pimp.extra.setPiMPLoggerAnalysisID:Setting analysis ID in logger to 38\n",
      "2017-03-04 07:30:28 38:INFO:Pimp.extra.setPiMPLoggerAnalysisID:Analysis id set\n"
     ]
    },
    {
     "name": "stderr",
     "output_type": "stream",
     "text": [
      "/home/pimp/pimp/venv/local/lib/python2.7/site-packages/rpy2/robjects/functions.py:106: UserWarning: Setting analysis directory to: analysis_38\n",
      "\n",
      "  res = super(Function, self).__call__(*new_args, **new_kwargs)\n",
      "\n",
      "WARNING 2017-03-04 07:30:28,698 functions.py:106 | /home/pimp/pimp/venv/local/lib/python2.7/site-packages/rpy2/robjects/functions.py:106: UserWarning: Setting analysis directory to: analysis_38\n",
      "\n",
      "  res = super(Function, self).__call__(*new_args, **new_kwargs)\n",
      "\n"
     ]
    },
    {
     "name": "stdout",
     "output_type": "stream",
     "text": [
      "2017-03-04 07:30:28 38:INFO:Pimp.getAnalysisParams:Setting params\n",
      "2017-03-04 07:30:28 38:DEBUG:Pimp.getAnalysisParams:Name: iqr Value: 0.5\n",
      "2017-03-04 07:30:28 38:DEBUG:Pimp.getAnalysisParams:Name: rsd Value: 0.5\n",
      "2017-03-04 07:30:28 38:DEBUG:Pimp.getAnalysisParams:Name: noise Value: 0.8\n",
      "2017-03-04 07:30:28 38:DEBUG:Pimp.getAnalysisParams:Name: ppm Value: 3\n",
      "2017-03-04 07:30:28 38:DEBUG:Pimp.getAnalysisParams:Name: mindetections Value: 3\n",
      "2017-03-04 07:30:28 38:DEBUG:Pimp.getAnalysisParams:Name: minintensity Value: 5000\n",
      "2017-03-04 07:30:28 38:DEBUG:Pimp.getAnalysisParams:Name: rtwindow Value: 0.05\n",
      "2017-03-04 07:30:28 38:DEBUG:Pimp.getAnalysisParams:Name: rt.alignment Value: NA\n",
      "2017-03-04 07:30:28 38:INFO:Pimp.extra.setPiMPLoggerAnalysisID:Setting analysis ID in logger to 38\n",
      "2017-03-04 07:30:28 38:INFO:Pimp.extra.setPiMPLoggerAnalysisID:Analysis id set\n",
      "2017-03-04 07:30:28 38:INFO:Pimp.createAnalysisDir:Setting working dir to /home/pimp/media/projects/10:\n",
      "2017-03-04 07:30:28 38:INFO:Pimp.createAnalysisDir:Analysis dir created at analysis_38\n",
      "2017-03-04 07:30:28 38:INFO:Pimp.generateStdXml:Setting working directory to /home/pimp/media/projects/10\n"
     ]
    }
   ],
   "source": [
    "pipeline = Rpy2Pipeline(analysis, project)"
   ]
  },
  {
   "cell_type": "code",
   "execution_count": 8,
   "metadata": {
    "collapsed": true
   },
   "outputs": [],
   "source": [
    "# shortcut ..\n",
    "self = pipeline"
   ]
  },
  {
   "cell_type": "code",
   "execution_count": 9,
   "metadata": {
    "collapsed": true
   },
   "outputs": [],
   "source": [
    "xcms_params = self.get_value(self.pimp_params, 'xcms.params')\n",
    "mzmatch_params = self.get_value(self.pimp_params, 'mzmatch.params')\n",
    "peakml_params = self.get_value(self.pimp_params, 'peakml.params')\n",
    "mzmatch_outputs = self.get_value(self.pimp_params, 'mzmatch.outputs')\n",
    "mzmatch_filters = self.get_value(self.pimp_params, 'mzmatch.filters')\n",
    "n_slaves = multiprocessing.cpu_count()"
   ]
  },
  {
   "cell_type": "markdown",
   "metadata": {},
   "source": [
    "Here we only process the positive mode data"
   ]
  },
  {
   "cell_type": "code",
   "execution_count": 10,
   "metadata": {
    "collapsed": true
   },
   "outputs": [],
   "source": [
    "polarity = 'positive'"
   ]
  },
  {
   "cell_type": "code",
   "execution_count": 11,
   "metadata": {
    "collapsed": false
   },
   "outputs": [],
   "source": [
    "format_mzmatch_outputs = robjects.r['Pimp.getFormattedMzmatchOutputs']\n",
    "formatted_mzmatch_outputs = format_mzmatch_outputs(self.analysis.id, polarity, mzmatch_outputs)\n",
    "polarity_dir, combined_dir = self.create_input_directories(polarity, formatted_mzmatch_outputs)"
   ]
  },
  {
   "cell_type": "markdown",
   "metadata": {},
   "source": [
    "### Peak detection and RT correction"
   ]
  },
  {
   "cell_type": "code",
   "execution_count": 12,
   "metadata": {
    "collapsed": false
   },
   "outputs": [
    {
     "name": "stdout",
     "output_type": "stream",
     "text": [
      "[u'samples/POS/Beer_2_full1.mzXML', u'samples/POS/Beer_2_full2.mzXML', u'samples/POS/Beer_1_full1.mzXML', u'samples/POS/Beer_1_full2.mzXML']\n"
     ]
    }
   ],
   "source": [
    "print self.metadata.files[polarity]"
   ]
  },
  {
   "cell_type": "code",
   "execution_count": 13,
   "metadata": {
    "collapsed": false
   },
   "outputs": [
    {
     "name": "stderr",
     "output_type": "stream",
     "text": [
      "/home/pimp/pimp/venv/local/lib/python2.7/site-packages/rpy2/robjects/functions.py:106: UserWarning: \n",
      "Attaching package: 'snow'\n",
      "\n",
      "\n",
      "  res = super(Function, self).__call__(*new_args, **new_kwargs)\n",
      "\n",
      "WARNING 2017-02-28 20:44:53,759 functions.py:106 | /home/pimp/pimp/venv/local/lib/python2.7/site-packages/rpy2/robjects/functions.py:106: UserWarning: \n",
      "Attaching package: 'snow'\n",
      "\n",
      "\n",
      "  res = super(Function, self).__call__(*new_args, **new_kwargs)\n",
      "\n",
      "/home/pimp/pimp/venv/local/lib/python2.7/site-packages/rpy2/robjects/functions.py:106: UserWarning: The following objects are masked from 'package:BiocGenerics':\n",
      "\n",
      "    clusterApply, clusterApplyLB, clusterCall, clusterEvalQ,\n",
      "    clusterExport, clusterMap, clusterSplit, parApply, parCapply,\n",
      "    parLapply, parRapply, parSapply\n",
      "\n",
      "\n",
      "  res = super(Function, self).__call__(*new_args, **new_kwargs)\n",
      "\n",
      "WARNING 2017-02-28 20:44:53,764 functions.py:106 | /home/pimp/pimp/venv/local/lib/python2.7/site-packages/rpy2/robjects/functions.py:106: UserWarning: The following objects are masked from 'package:BiocGenerics':\n",
      "\n",
      "    clusterApply, clusterApplyLB, clusterCall, clusterEvalQ,\n",
      "    clusterExport, clusterMap, clusterSplit, parApply, parCapply,\n",
      "    parLapply, parRapply, parSapply\n",
      "\n",
      "\n",
      "  res = super(Function, self).__call__(*new_args, **new_kwargs)\n",
      "\n",
      "/home/pimp/pimp/venv/local/lib/python2.7/site-packages/rpy2/robjects/functions.py:106: UserWarning: The following objects are masked from 'package:parallel':\n",
      "\n",
      "    clusterApply, clusterApplyLB, clusterCall, clusterEvalQ,\n",
      "    clusterExport, clusterMap, clusterSplit, makeCluster, parApply,\n",
      "    parCapply, parLapply, parRapply, parSapply, splitIndices,\n",
      "    stopCluster\n",
      "\n",
      "\n",
      "  res = super(Function, self).__call__(*new_args, **new_kwargs)\n",
      "\n",
      "WARNING 2017-02-28 20:44:53,771 functions.py:106 | /home/pimp/pimp/venv/local/lib/python2.7/site-packages/rpy2/robjects/functions.py:106: UserWarning: The following objects are masked from 'package:parallel':\n",
      "\n",
      "    clusterApply, clusterApplyLB, clusterCall, clusterEvalQ,\n",
      "    clusterExport, clusterMap, clusterSplit, makeCluster, parApply,\n",
      "    parCapply, parLapply, parRapply, parSapply, splitIndices,\n",
      "    stopCluster\n",
      "\n",
      "\n",
      "  res = super(Function, self).__call__(*new_args, **new_kwargs)\n",
      "\n"
     ]
    },
    {
     "name": "stdout",
     "output_type": "stream",
     "text": [
      "Starting snow cluster with 8 local sockets.\n",
      "Detecting features in file # 1 : Beer_2_full1.mzXML \n",
      "Detecting features in file # 2 : Beer_2_full2.mzXML \n",
      "Detecting features in file # 3 : Beer_1_full1.mzXML \n",
      "Detecting features in file # 4 : Beer_1_full2.mzXML \n",
      "center sample:  Beer_1_full2"
     ]
    },
    {
     "name": "stderr",
     "output_type": "stream",
     "text": [
      "DEBUG 2017-02-28 20:49:44,297 pipeline_rpy2.py:454 | Now creating /home/pimp/media/projects/10/analysis_38/positive/Beer_1_full1.peakml\n"
     ]
    },
    {
     "name": "stdout",
     "output_type": "stream",
     "text": [
      " \n",
      "Processing: Beer_2_full1  Beer_2_full2  Beer_1_full1  \n"
     ]
    },
    {
     "name": "stderr",
     "output_type": "stream",
     "text": [
      "DEBUG 2017-02-28 20:50:10,090 pipeline_rpy2.py:454 | Now creating /home/pimp/media/projects/10/analysis_38/positive/Beer_1_full2.peakml\n"
     ]
    },
    {
     "name": "stdout",
     "output_type": "stream",
     "text": [
      "2017-02-28 20:49:45 38:INFO:PeakML.xcms.write.SingleInstance:positive\n",
      "2017-02-28 20:49:45 38:INFO:PeakML.xcms.write.SingleInstance:retrieving raw data\n",
      "2017-02-28 20:49:45 38:INFO:PeakML.xcms.write.SingleInstance:- /home/pimp/media/projects/10/samples/POS/Beer_1_full1.mzXML\n",
      "2017-02-28 20:50:10 38:INFO::11539 peaks exported.\n"
     ]
    },
    {
     "name": "stderr",
     "output_type": "stream",
     "text": [
      "DEBUG 2017-02-28 20:50:39,600 pipeline_rpy2.py:454 | Now creating /home/pimp/media/projects/10/analysis_38/positive/Beer_2_full1.peakml\n"
     ]
    },
    {
     "name": "stdout",
     "output_type": "stream",
     "text": [
      "2017-02-28 20:50:10 38:INFO:PeakML.xcms.write.SingleInstance:positive\n",
      "2017-02-28 20:50:10 38:INFO:PeakML.xcms.write.SingleInstance:retrieving raw data\n",
      "2017-02-28 20:50:10 38:INFO:PeakML.xcms.write.SingleInstance:- /home/pimp/media/projects/10/samples/POS/Beer_1_full2.mzXML\n",
      "2017-02-28 20:50:39 38:INFO::11471 peaks exported.\n"
     ]
    },
    {
     "name": "stderr",
     "output_type": "stream",
     "text": [
      "DEBUG 2017-02-28 20:51:05,716 pipeline_rpy2.py:454 | Now creating /home/pimp/media/projects/10/analysis_38/positive/Beer_2_full2.peakml\n"
     ]
    },
    {
     "name": "stdout",
     "output_type": "stream",
     "text": [
      "2017-02-28 20:50:40 38:INFO:PeakML.xcms.write.SingleInstance:positive\n",
      "2017-02-28 20:50:40 38:INFO:PeakML.xcms.write.SingleInstance:retrieving raw data\n",
      "2017-02-28 20:50:40 38:INFO:PeakML.xcms.write.SingleInstance:- /home/pimp/media/projects/10/samples/POS/Beer_2_full1.mzXML\n",
      "2017-02-28 20:51:05 38:INFO::11382 peaks exported.\n",
      "2017-02-28 20:51:06 38:INFO:PeakML.xcms.write.SingleInstance:positive\n",
      "2017-02-28 20:51:06 38:INFO:PeakML.xcms.write.SingleInstance:retrieving raw data\n",
      "2017-02-28 20:51:06 38:INFO:PeakML.xcms.write.SingleInstance:- /home/pimp/media/projects/10/samples/POS/Beer_2_full2.mzXML\n",
      "2017-02-28 20:51:31 38:INFO::12014 peaks exported.\n"
     ]
    }
   ],
   "source": [
    "self.create_peakml(polarity, polarity_dir, xcms_params, mzmatch_params,\n",
    "                   peakml_params, mzmatch_outputs, n_slaves)"
   ]
  },
  {
   "cell_type": "markdown",
   "metadata": {},
   "source": [
    "### Matching"
   ]
  },
  {
   "cell_type": "markdown",
   "metadata": {},
   "source": [
    "Generate groups for matching"
   ]
  },
  {
   "cell_type": "code",
   "execution_count": 12,
   "metadata": {
    "collapsed": false
   },
   "outputs": [
    {
     "name": "stderr",
     "output_type": "stream",
     "text": [
      "DEBUG 2017-03-04 07:30:38,676 utils.py:91 | (0.000) SET SQL_AUTO_IS_NULL = 0; args=None\n",
      "DEBUG 2017-03-04 07:30:38,688 utils.py:91 | (0.011) SELECT `groups_group`.`name`, `groups_attribute`.`name`, `fileupload_sample`.`name` FROM `groups_group` LEFT OUTER JOIN `groups_attribute` ON ( `groups_group`.`id` = `groups_attribute`.`group_id` ) LEFT OUTER JOIN `groups_sampleattribute` ON ( `groups_attribute`.`id` = `groups_sampleattribute`.`attribute_id` ) LEFT OUTER JOIN `fileupload_sample` ON ( `groups_sampleattribute`.`sample_id` = `fileupload_sample`.`id` ) WHERE `groups_group`.`id` IN (SELECT U0.`id` FROM `groups_group` U0 INNER JOIN `groups_attribute` U1 ON ( U0.`id` = U1.`group_id` ) INNER JOIN `groups_sampleattribute` U2 ON ( U1.`id` = U2.`attribute_id` ) INNER JOIN `fileupload_sample` U3 ON ( U2.`sample_id` = U3.`id` ) WHERE U3.`project_id` = 10); args=(10,)\n",
      "DEBUG 2017-03-04 07:30:38,696 pipeline_rpy2.py:477 | [beer_taste with 2 levels]\n",
      "DEBUG 2017-03-04 07:30:38,698 pipeline_rpy2.py:480 | beer_taste\n",
      "DEBUG 2017-03-04 07:30:38,699 pipeline_rpy2.py:482 | - taste_good [u'Beer_1_full1', u'Beer_1_full2']\n",
      "DEBUG 2017-03-04 07:30:38,701 pipeline_rpy2.py:482 | - taste_bad [u'Beer_2_full1', u'Beer_2_full2']\n",
      "DEBUG 2017-03-04 07:30:38,704 pipeline_rpy2.py:485 | (2,)\n",
      "DEBUG 2017-03-04 07:30:38,714 utils.py:91 | (0.000) SET SQL_AUTO_IS_NULL = 0; args=None\n",
      "DEBUG 2017-03-04 07:30:38,730 utils.py:91 | (0.014) SELECT `fileupload_picture`.`file` FROM `fileupload_picture` INNER JOIN `fileupload_samplefilegroup` ON ( `fileupload_picture`.`id` = `fileupload_samplefilegroup`.`posdata_id` ) INNER JOIN `fileupload_sample` ON ( `fileupload_samplefilegroup`.`id` = `fileupload_sample`.`samplefile_id` ) WHERE (`fileupload_sample`.`id`) IN (SELECT DISTINCT U0.`id` FROM `fileupload_sample` U0 INNER JOIN `groups_sampleattribute` U1 ON ( U0.`id` = U1.`sample_id` ) INNER JOIN `groups_attribute` U2 ON ( U1.`attribute_id` = U2.`id` ) INNER JOIN `experiments_attributecomparison` U3 ON ( U2.`id` = U3.`attribute_id` ) INNER JOIN `experiments_comparison` U4 ON ( U3.`comparison_id` = U4.`id` ) WHERE U4.`experiment_id` = 17); args=(17,)\n",
      "DEBUG 2017-03-04 07:30:38,735 utils.py:91 | (0.001) SELECT `fileupload_picture`.`file` FROM `fileupload_picture` INNER JOIN `fileupload_samplefilegroup` ON ( `fileupload_picture`.`id` = `fileupload_samplefilegroup`.`negdata_id` ) INNER JOIN `fileupload_sample` ON ( `fileupload_samplefilegroup`.`id` = `fileupload_sample`.`samplefile_id` ) WHERE (`fileupload_sample`.`id`) IN (SELECT DISTINCT U0.`id` FROM `fileupload_sample` U0 INNER JOIN `groups_sampleattribute` U1 ON ( U0.`id` = U1.`sample_id` ) INNER JOIN `groups_attribute` U2 ON ( U1.`attribute_id` = U2.`id` ) INNER JOIN `experiments_attributecomparison` U3 ON ( U2.`id` = U3.`attribute_id` ) INNER JOIN `experiments_comparison` U4 ON ( U3.`comparison_id` = U4.`id` ) WHERE U4.`experiment_id` = 17); args=(17,)\n",
      "DEBUG 2017-03-04 07:30:38,739 pipeline_rpy2.py:495 | -1 None root : set([u'Beer_2_full1', u'Beer_2_full2', u'Beer_1_full2', u'Beer_1_full1']) at []\n",
      "0 beer_taste with 2 levels taste_good : set([u'Beer_1_full2', u'Beer_1_full1']) at [0]\n",
      "0 beer_taste with 2 levels taste_bad : set([u'Beer_2_full1', u'Beer_2_full2']) at [1]\n",
      "\n"
     ]
    }
   ],
   "source": [
    "non_empty = self.generate_combinations(polarity, combined_dir)"
   ]
  },
  {
   "cell_type": "code",
   "execution_count": 15,
   "metadata": {
    "collapsed": false
   },
   "outputs": [
    {
     "name": "stdout",
     "output_type": "stream",
     "text": [
      "group_0 (0,) taste_good [u'Beer_1_full2', u'Beer_1_full1'] /home/pimp/media/projects/10/analysis_38/positive/combined/group_0\n",
      "group_1 (1,) taste_bad [u'Beer_2_full1', u'Beer_2_full2'] /home/pimp/media/projects/10/analysis_38/positive/combined/group_1\n"
     ]
    }
   ],
   "source": [
    "for group_label, index, description, files, abspath in non_empty:\n",
    "    print group_label, index, description, files, abspath"
   ]
  },
  {
   "cell_type": "markdown",
   "metadata": {},
   "source": [
    "Match peaks across samples in groups"
   ]
  },
  {
   "cell_type": "code",
   "execution_count": 16,
   "metadata": {
    "collapsed": false
   },
   "outputs": [
    {
     "name": "stderr",
     "output_type": "stream",
     "text": [
      "INFO 2017-02-28 20:51:37,670 pipeline_rpy2.py:281 | Processing /home/pimp/media/projects/10/analysis_38/positive/combined/group_0\n",
      "INFO 2017-02-28 20:51:59,719 pipeline_rpy2.py:281 | Processing /home/pimp/media/projects/10/analysis_38/positive/combined/group_1\n"
     ]
    },
    {
     "name": "stdout",
     "output_type": "stream",
     "text": [
      "2017-02-28 20:51:37 38:INFO:PuMP.callToArgList.dispatchCall:mzmatch.ipeak.Combine -i /home/pimp/media/projects/10/analysis_38/positive/combined/group_0/Beer_1_full2.peakml,/home/pimp/media/projects/10/analysis_38/positive/combined/group_0/Beer_1_full1.peakml -o /home/pimp/media/projects/10/analysis_38/positive/combined/group_0.peakml -label group_0 -ppm 3 -rtwindow 30 -combination set\n",
      "2017-02-28 20:51:59 38:INFO:PuMP.callToArgList.dispatchCall:mzmatch.ipeak.Combine -i /home/pimp/media/projects/10/analysis_38/positive/combined/group_1/Beer_2_full1.peakml,/home/pimp/media/projects/10/analysis_38/positive/combined/group_1/Beer_2_full2.peakml -o /home/pimp/media/projects/10/analysis_38/positive/combined/group_1.peakml -label group_1 -ppm 3 -rtwindow 30 -combination set\n"
     ]
    }
   ],
   "source": [
    "out_files = self.generate_peaksets(polarity_dir, combined_dir, non_empty, mzmatch_params)"
   ]
  },
  {
   "cell_type": "code",
   "execution_count": 17,
   "metadata": {
    "collapsed": false
   },
   "outputs": [
    {
     "name": "stdout",
     "output_type": "stream",
     "text": [
      "['/home/pimp/media/projects/10/analysis_38/positive/combined/group_0.peakml', '/home/pimp/media/projects/10/analysis_38/positive/combined/group_1.peakml']\n"
     ]
    }
   ],
   "source": [
    "print out_files"
   ]
  },
  {
   "cell_type": "markdown",
   "metadata": {},
   "source": [
    "Filter each group"
   ]
  },
  {
   "cell_type": "code",
   "execution_count": 18,
   "metadata": {
    "collapsed": false
   },
   "outputs": [
    {
     "name": "stdout",
     "output_type": "stream",
     "text": [
      "2017-02-28 20:52:23 38:INFO:PuMP.callToArgList.dispatchCall:mzmatch.ipeak.filter.RSDFilter -i /home/pimp/media/projects/10/analysis_38/positive/combined/group_0.peakml -o /home/pimp/media/projects/10/analysis_38/positive/combined/group_0_rsd.peakml -rejected /home/pimp/media/projects/10/analysis_38/positive/combined/group_0_rsdrej.peakml -rsd 0.5\n",
      "2017-02-28 20:52:42 38:INFO:PuMP.callToArgList.dispatchCall:mzmatch.ipeak.filter.RSDFilter -i /home/pimp/media/projects/10/analysis_38/positive/combined/group_1.peakml -o /home/pimp/media/projects/10/analysis_38/positive/combined/group_1_rsd.peakml -rejected /home/pimp/media/projects/10/analysis_38/positive/combined/group_1_rsdrej.peakml -rsd 0.5\n"
     ]
    }
   ],
   "source": [
    "out_files = self.filter_peaksets(out_files, mzmatch_params)"
   ]
  },
  {
   "cell_type": "code",
   "execution_count": 19,
   "metadata": {
    "collapsed": false
   },
   "outputs": [
    {
     "name": "stdout",
     "output_type": "stream",
     "text": [
      "['/home/pimp/media/projects/10/analysis_38/positive/combined/group_0_rsd.peakml', '/home/pimp/media/projects/10/analysis_38/positive/combined/group_1_rsd.peakml']\n"
     ]
    }
   ],
   "source": [
    "print out_files"
   ]
  },
  {
   "cell_type": "markdown",
   "metadata": {},
   "source": [
    "Final combine"
   ]
  },
  {
   "cell_type": "code",
   "execution_count": 20,
   "metadata": {
    "collapsed": false
   },
   "outputs": [
    {
     "name": "stdout",
     "output_type": "stream",
     "text": [
      "2017-02-28 20:53:06 38:INFO:PuMP.callToArgList.dispatchCall:mzmatch.ipeak.Combine -i /home/pimp/media/projects/10/analysis_38/positive/combined/group_0_rsd.peakml,/home/pimp/media/projects/10/analysis_38/positive/combined/group_1_rsd.peakml -o /home/pimp/media/projects/10/analysis_38/positive/final_combined.peakml -label  -ppm 3 -rtwindow 30 -combination set\n"
     ]
    }
   ],
   "source": [
    "out_file = self.combine_final(out_files, mzmatch_params, formatted_mzmatch_outputs)"
   ]
  },
  {
   "cell_type": "code",
   "execution_count": 21,
   "metadata": {
    "collapsed": false
   },
   "outputs": [
    {
     "name": "stdout",
     "output_type": "stream",
     "text": [
      "/home/pimp/media/projects/10/analysis_38/positive/final_combined.peakml\n"
     ]
    }
   ],
   "source": [
    "print out_file"
   ]
  },
  {
   "cell_type": "markdown",
   "metadata": {},
   "source": [
    "Final filter"
   ]
  },
  {
   "cell_type": "code",
   "execution_count": 22,
   "metadata": {
    "collapsed": false
   },
   "outputs": [
    {
     "name": "stdout",
     "output_type": "stream",
     "text": [
      "2017-02-28 20:53:27 38:INFO:PuMP.callToArgList.dispatchCall:mzmatch.ipeak.filter.NoiseFilter -i /home/pimp/media/projects/10/analysis_38/positive/final_combined.peakml -o /home/pimp/media/projects/10/analysis_38/positive/final_combined_nf.peakml -codadw 0.8\n",
      "2017-02-28 20:53:39 38:INFO:PuMP.callToArgList.dispatchCall:mzmatch.ipeak.filter.SimpleFilter -i /home/pimp/media/projects/10/analysis_38/positive/final_combined_nf.peakml -o /home/pimp/media/projects/10/analysis_38/positive/final.combined_sf.peakml -ppm 3 -mindetections 3 -minintensity 5000\n"
     ]
    }
   ],
   "source": [
    "out_file = self.filter_final(out_file, mzmatch_filters, mzmatch_params, formatted_mzmatch_outputs)"
   ]
  },
  {
   "cell_type": "code",
   "execution_count": 23,
   "metadata": {
    "collapsed": false
   },
   "outputs": [
    {
     "name": "stdout",
     "output_type": "stream",
     "text": [
      "/home/pimp/media/projects/10/analysis_38/positive/final.combined_sf.peakml\n"
     ]
    }
   ],
   "source": [
    "print out_file"
   ]
  },
  {
   "cell_type": "markdown",
   "metadata": {},
   "source": [
    "### Gap filling"
   ]
  },
  {
   "cell_type": "code",
   "execution_count": 24,
   "metadata": {
    "collapsed": false
   },
   "outputs": [
    {
     "name": "stdout",
     "output_type": "stream",
     "text": [
      "2017-02-28 20:53:52 38:INFO:PeakML.Methods.getRawDataPaths:Raw data file located at: /home/pimp/media/projects/10/samples/POS/Beer_1_full2.mzXML,/home/pimp/media/projects/10/samples/POS/Beer_1_full1.mzXML,/home/pimp/media/projects/10/samples/POS/Beer_2_full1.mzXML,/home/pimp/media/projects/10/samples/POS/Beer_2_full2.mzXML\n",
      "2017-02-28 20:53:53 38:INFO:PeakML.Methods.getChromData:Loading peakML file in memory (it can take some time, sorry)\n",
      "2017-02-28 20:53:57 38:INFO:PeakML.Methods.getChromData:Done in: 3.44399999999996 s\n",
      "2017-02-28 20:54:08 38:INFO:PeakML.Methods.getPeakData:Extracting peak data from PeakMl file,\n",
      "2017-02-28 20:54:13 38:INFO:PeakML.Methods.getPeakData:Peak data created in 5.149 s\n",
      "2017-02-28 20:54:21 38:INFO:PeakML.GapFiller:Working on file: /home/pimp/media/projects/10/samples/POS/Beer_1_full2.mzXML\n",
      "2017-02-28 20:54:30 38:INFO:PeakML.GapFiller:Working on file: /home/pimp/media/projects/10/samples/POS/Beer_1_full1.mzXML\n",
      "2017-02-28 20:54:39 38:INFO:PeakML.GapFiller:Working on file: /home/pimp/media/projects/10/samples/POS/Beer_2_full1.mzXML\n",
      "2017-02-28 20:54:48 38:INFO:PeakML.GapFiller:Working on file: /home/pimp/media/projects/10/samples/POS/Beer_2_full2.mzXML\n"
     ]
    }
   ],
   "source": [
    "out_file = self.gap_filling(out_file, peakml_params, formatted_mzmatch_outputs)"
   ]
  },
  {
   "cell_type": "code",
   "execution_count": 25,
   "metadata": {
    "collapsed": false
   },
   "outputs": [
    {
     "name": "stdout",
     "output_type": "stream",
     "text": [
      "/home/pimp/media/projects/10/analysis_38/positive/final_combined_gapfilled.peakml\n"
     ]
    }
   ],
   "source": [
    "print out_file"
   ]
  },
  {
   "cell_type": "markdown",
   "metadata": {},
   "source": [
    "### Related peaks"
   ]
  },
  {
   "cell_type": "code",
   "execution_count": 26,
   "metadata": {
    "collapsed": false
   },
   "outputs": [
    {
     "name": "stdout",
     "output_type": "stream",
     "text": [
      "2017-02-28 20:55:10 38:INFO:PuMP.callToArgList.dispatchCall:mzmatch.ipeak.sort.RelatedPeaks -i /home/pimp/media/projects/10/analysis_38/positive/final_combined_gapfilled.peakml -o /home/pimp/media/projects/10/analysis_38/positive/final_combined_related.peakml -basepeaks /home/pimp/media/projects/10/analysis_38/positive/final_combined_basepeaks.peakml -ppm 3 -rtwindow 30\n"
     ]
    }
   ],
   "source": [
    "out_file, basepeak_file = self.related_peaks(out_file, mzmatch_params, formatted_mzmatch_outputs)"
   ]
  },
  {
   "cell_type": "code",
   "execution_count": null,
   "metadata": {
    "collapsed": false
   },
   "outputs": [
    {
     "name": "stdout",
     "output_type": "stream",
     "text": [
      "/home/pimp/media/projects/10/analysis_38/positive/final_combined_related.peakml\n",
      "/home/pimp/media/projects/10/analysis_38/positive/final_combined_basepeaks.peakml\n"
     ]
    }
   ],
   "source": [
    "print out_file\n",
    "print basepeak_file"
   ]
  },
  {
   "cell_type": "code",
   "execution_count": 13,
   "metadata": {
    "collapsed": true
   },
   "outputs": [],
   "source": [
    "out_file = '/home/pimp/media/projects/10/analysis_38/positive/final_combined_related.peakml'\n",
    "basepeak_file = '/home/pimp/media/projects/10/analysis_38/positive/final_combined_basepeaks.peakml'"
   ]
  },
  {
   "cell_type": "code",
   "execution_count": 15,
   "metadata": {
    "collapsed": true
   },
   "outputs": [],
   "source": [
    "databases = self.r_dbs"
   ]
  },
  {
   "cell_type": "markdown",
   "metadata": {},
   "source": [
    "### Identification"
   ]
  },
  {
   "cell_type": "code",
   "execution_count": 16,
   "metadata": {
    "collapsed": false
   },
   "outputs": [
    {
     "name": "stderr",
     "output_type": "stream",
     "text": [
      "INFO 2017-03-04 07:34:22,060 pipeline_rpy2.py:378 | /home/pimp/media/projects/10/analysis_38/stds_db.xml is not found, setting stds.xml.db to NULL\n"
     ]
    },
    {
     "name": "stdout",
     "output_type": "stream",
     "text": [
      "2017-03-04 07:34:22 38:INFO:PuMP.callToArgList.dispatchCall:mzmatch.ipeak.util.Identify -i analysis_38/positive/final_combined_related.peakml -o analysis_38/positive/final_combined_related_identified_hmdb.peakml -ppm 3 -databases /home/pimp/pimp/packrat/lib/x86_64-pc-linux-gnu/3.2.3/PiMP/dbs/hmdb.xml -rtwindowrelative FALSE -adducts M+H,M+ACN+Na,M+Na,M+K,M+ACN+H\n",
      "2017-03-04 07:35:00 38:INFO:PuMP.callToArgList.dispatchCall:mzmatch.ipeak.convert.ConvertToText -i analysis_38/positive/final_combined_related_identified_hmdb.peakml -o analysis_38/positive/mzmatch_output_hmdb.txt -annotations identification,ppm,adduct,relation.id,relation.ship,codadw,charge\n",
      "2017-03-04 07:35:04 38:INFO:PuMP.callToArgList.dispatchCall:mzmatch.ipeak.util.Identify -i analysis_38/positive/final_combined_related.peakml -o analysis_38/positive/final_combined_related_identified_kegg.peakml -ppm 3 -databases /home/pimp/pimp/packrat/lib/x86_64-pc-linux-gnu/3.2.3/PiMP/dbs/kegg.xml -rtwindowrelative FALSE -adducts M+H,M+ACN+Na,M+Na,M+K,M+ACN+H\n",
      "2017-03-04 07:35:22 38:INFO:PuMP.callToArgList.dispatchCall:mzmatch.ipeak.convert.ConvertToText -i analysis_38/positive/final_combined_related_identified_kegg.peakml -o analysis_38/positive/mzmatch_output_kegg.txt -annotations identification,ppm,adduct,relation.id,relation.ship,codadw,charge\n",
      "2017-03-04 07:35:25 38:INFO:PuMP.callToArgList.dispatchCall:mzmatch.ipeak.util.Identify -i analysis_38/positive/final_combined_related.peakml -o analysis_38/positive/final_combined_related_identified_lipidmaps.peakml -ppm 3 -databases /home/pimp/pimp/packrat/lib/x86_64-pc-linux-gnu/3.2.3/PiMP/dbs/lipidmaps.xml -rtwindowrelative FALSE -adducts M+H,M+ACN+Na,M+Na,M+K,M+ACN+H\n",
      "2017-03-04 07:35:56 38:INFO:PuMP.callToArgList.dispatchCall:mzmatch.ipeak.convert.ConvertToText -i analysis_38/positive/final_combined_related_identified_lipidmaps.peakml -o analysis_38/positive/mzmatch_output_lipidmaps.txt -annotations identification,ppm,adduct,relation.id,relation.ship,codadw,charge\n"
     ]
    }
   ],
   "source": [
    "raw_data = self.identify(polarity, out_file, databases, non_empty, mzmatch_params, formatted_mzmatch_outputs)"
   ]
  },
  {
   "cell_type": "code",
   "execution_count": null,
   "metadata": {
    "collapsed": true
   },
   "outputs": [],
   "source": []
  }
 ],
 "metadata": {
  "kernelspec": {
   "display_name": "Django Shell-Plus",
   "language": "python",
   "name": "django_extensions"
  },
  "language_info": {
   "codemirror_mode": {
    "name": "ipython",
    "version": 2
   },
   "file_extension": ".py",
   "mimetype": "text/x-python",
   "name": "python",
   "nbconvert_exporter": "python",
   "pygments_lexer": "ipython2",
   "version": "2.7.12"
  }
 },
 "nbformat": 4,
 "nbformat_minor": 1
}
