{
 "cells": [
  {
   "cell_type": "markdown",
   "metadata": {},
   "source": [
    "# Experimental new pipeline"
   ]
  },
  {
   "cell_type": "code",
   "execution_count": 1,
   "metadata": {
    "collapsed": false
   },
   "outputs": [],
   "source": [
    "%load_ext autoreload\n",
    "%autoreload 2"
   ]
  },
  {
   "cell_type": "code",
   "execution_count": 2,
   "metadata": {
    "collapsed": true
   },
   "outputs": [],
   "source": [
    "import rpy2.robjects as robjects\n",
    "import multiprocessing\n",
    "import re\n",
    "import os\n",
    "\n",
    "import numpy as np\n",
    "import shutil\n",
    "\n",
    "from experiments.pipelines.pipeline_rpy2 import Rpy2Pipeline, Tree\n",
    "from pimp.settings import getString"
   ]
  },
  {
   "cell_type": "markdown",
   "metadata": {},
   "source": [
    "## Load analysis and project"
   ]
  },
  {
   "cell_type": "code",
   "execution_count": 3,
   "metadata": {
    "collapsed": false,
    "scrolled": false
   },
   "outputs": [
    {
     "name": "stderr",
     "output_type": "stream",
     "text": [
      "DEBUG 2016-09-20 23:40:35,189 utils.py:91 | (0.000) SET SQL_AUTO_IS_NULL = 0; args=None\n",
      "DEBUG 2016-09-20 23:40:35,191 utils.py:91 | (0.001) SELECT `experiments_analysis`.`id`, `experiments_analysis`.`created`, `experiments_analysis`.`submited`, `experiments_analysis`.`owner`, `experiments_analysis`.`experiment_id`, `experiments_analysis`.`params_id`, `experiments_analysis`.`status` FROM `experiments_analysis` WHERE `experiments_analysis`.`id` = 9 LIMIT 21; args=(9,)\n"
     ]
    }
   ],
   "source": [
    "analysis = Analysis.objects.get_or_create(id=9)[0]"
   ]
  },
  {
   "cell_type": "code",
   "execution_count": 4,
   "metadata": {
    "collapsed": false,
    "scrolled": true
   },
   "outputs": [
    {
     "name": "stderr",
     "output_type": "stream",
     "text": [
      "DEBUG 2016-09-20 23:40:35,538 utils.py:91 | (0.000) SELECT `projects_project`.`id`, `projects_project`.`title`, `projects_project`.`user_owner_id`, `projects_project`.`description`, `projects_project`.`created`, `projects_project`.`modified` FROM `projects_project` WHERE `projects_project`.`id` = 9 LIMIT 21; args=(9,)\n"
     ]
    }
   ],
   "source": [
    "project = Project.objects.get_or_create(id=9)[0]"
   ]
  },
  {
   "cell_type": "code",
   "execution_count": 5,
   "metadata": {
    "collapsed": false,
    "scrolled": true
   },
   "outputs": [
    {
     "name": "stdout",
     "output_type": "stream",
     "text": [
      "******************************************\n",
      "Setup rpy2 connection\n",
      "******************************************\n",
      "[1] \"Initialising PuMP logging\"\n",
      "[1] \"PuMP log level set to DEBUG\"\n",
      "2016-09-20 23:40:40 ERROR:pump.misc.initialisePuMPLogging:Logging at ERROR level\n",
      "2016-09-20 23:40:40 WARNING:pump.misc.initialisePuMPLogging:Logging at WARNING level\n",
      "2016-09-20 23:40:40 INFO:pump.misc.initialisePuMPLogging:Logging at INFO level\n",
      "2016-09-20 23:40:40 DEBUG:pump.misc.initialisePuMPLogging:Logging at DEBUG level\n",
      "2016-09-20 23:40:41 INFO:PeakML.Isotope.plotSamples:OS type: x86_64-apple-darwin15.5.0\n",
      "2016-09-20 23:40:41 INFO:PeakML.Isotope.plotSamples:Java parameters are: -Xmx512m\n",
      "2016-09-20 23:40:41 INFO:PeakML.Isotope.plotSamples:Using jar file /Users/joewandy/git/pimp/packrat/lib/x86_64-apple-darwin15.5.0/3.3.1/mzmatch.R/java/mzmatch-2.1-with-dependencies.jar\n",
      "2016-09-20 23:40:41 INFO:PeakML.Isotope.plotSamples:Using SWT file /Users/joewandy/git/pimp/packrat/lib/x86_64-apple-darwin15.5.0/3.3.1/mzmatch.R/java/swt-4.5-cocoa-macosx-x86_64.jar\n",
      "[1] \"Initialising PiMP logging\"\n",
      "[1] \"PiMP log level set to DEBUG\"\n",
      "2016-09-20 23:40:41 ERROR:Pimp.extra.initialisePiMPLogging:Logging at ERROR level\n",
      "2016-09-20 23:40:41 WARNING:Pimp.extra.initialisePiMPLogging:Logging at WARNING level\n",
      "2016-09-20 23:40:41 INFO:Pimp.extra.initialisePiMPLogging:Logging at INFO level\n",
      "2016-09-20 23:40:41 DEBUG:Pimp.extra.initialisePiMPLogging:Logging at DEBUG level\n",
      "2016-09-20 23:40:41 INFO:PeakML.Isotope.plotSamples:OS type: x86_64-apple-darwin15.5.0\n",
      "2016-09-20 23:40:41 INFO:PeakML.Isotope.plotSamples:Java parameters are: -Xmx8192m\n",
      "2016-09-20 23:40:41 INFO:PeakML.Isotope.plotSamples:Using jar file /Users/joewandy/git/pimp/packrat/lib/x86_64-apple-darwin15.5.0/3.3.1/mzmatch.R/java/mzmatch-2.1-with-dependencies.jar\n",
      "2016-09-20 23:40:41 INFO:PeakML.Isotope.plotSamples:Using SWT file /Users/joewandy/git/pimp/packrat/lib/x86_64-apple-darwin15.5.0/3.3.1/mzmatch.R/java/swt-4.5-cocoa-macosx-x86_64.jar\n"
     ]
    }
   ],
   "source": [
    "pipeline = Rpy2Pipeline(analysis, project, False)"
   ]
  },
  {
   "cell_type": "code",
   "execution_count": 6,
   "metadata": {
    "collapsed": false
   },
   "outputs": [
    {
     "name": "stderr",
     "output_type": "stream",
     "text": [
      "/Users/joewandy/git/pimp/venv/lib/python2.7/site-packages/rpy2/robjects/functions.py:106: UserWarning: Loading required package: RUnit\n",
      "\n",
      "  res = super(Function, self).__call__(*new_args, **new_kwargs)\n",
      "\n",
      "WARNING 2016-09-20 23:40:42,026 functions.py:106 | /Users/joewandy/git/pimp/venv/lib/python2.7/site-packages/rpy2/robjects/functions.py:106: UserWarning: Loading required package: RUnit\n",
      "\n",
      "  res = super(Function, self).__call__(*new_args, **new_kwargs)\n",
      "\n",
      "/Users/joewandy/git/pimp/venv/lib/python2.7/site-packages/rpy2/robjects/functions.py:106: UserWarning: Loading required package: DBI\n",
      "\n",
      "  res = super(Function, self).__call__(*new_args, **new_kwargs)\n",
      "\n",
      "WARNING 2016-09-20 23:40:42,051 functions.py:106 | /Users/joewandy/git/pimp/venv/lib/python2.7/site-packages/rpy2/robjects/functions.py:106: UserWarning: Loading required package: DBI\n",
      "\n",
      "  res = super(Function, self).__call__(*new_args, **new_kwargs)\n",
      "\n",
      "/Users/joewandy/git/pimp/venv/lib/python2.7/site-packages/rpy2/robjects/functions.py:106: UserWarning: Setting analysis directory to: analysis_9\n",
      "\n",
      "  res = super(Function, self).__call__(*new_args, **new_kwargs)\n",
      "\n"
     ]
    },
    {
     "name": "stdout",
     "output_type": "stream",
     "text": [
      "Setup called\n",
      "2016-09-20 23:40:41 INFO:Pimp.getPimpWd:Data dir: /Users/joewandy/git/pimp/django_projects/pimp_data/projects\n",
      "2016-09-20 23:40:42 INFO:Pimp.getPimpWd:Project dir: /Users/joewandy/git/pimp/django_projects/pimp_data/projects/9\n",
      "2016-09-20 23:40:42 INFO:Pimp.extra.setPiMPLoggerAnalysisID:Setting analysis ID in logger to 9\n",
      "2016-09-20 23:40:42 9:INFO:Pimp.extra.setPiMPLoggerAnalysisID:Analysis id set\n",
      "2016-09-20 23:40:42 9:INFO:Pimp.validateInput:Input validated correctly!\n",
      "2016-09-20 23:40:42 9:INFO:Pimp.extra.setPiMPLoggerAnalysisID:Setting analysis ID in logger to 9\n",
      "2016-09-20 23:40:42 9:INFO:Pimp.extra.setPiMPLoggerAnalysisID:Analysis id set\n",
      "2016-09-20 23:40:42 9:INFO:Pimp.getAnalysisParams:Setting params\n",
      "2016-09-20 23:40:42 9:DEBUG:Pimp.getAnalysisParams:Name: iqr Value: 0.5\n",
      "2016-09-20 23:40:42 9:DEBUG:Pimp.getAnalysisParams:Name: rsd Value: 0.5\n",
      "2016-09-20 23:40:42 9:DEBUG:Pimp.getAnalysisParams:Name: noise Value: 0.8\n",
      "2016-09-20 23:40:42 9:DEBUG:Pimp.getAnalysisParams:Name: ppm Value: 3\n",
      "2016-09-20 23:40:42 9:DEBUG:Pimp.getAnalysisParams:Name: mindetections Value: 3\n",
      "2016-09-20 23:40:42 9:DEBUG:Pimp.getAnalysisParams:Name: minintensity Value: 5000\n",
      "2016-09-20 23:40:42 9:DEBUG:Pimp.getAnalysisParams:Name: rtwindow Value: 0.05\n",
      "2016-09-20 23:40:42 9:DEBUG:Pimp.getAnalysisParams:Name: rt.alignment Value: NA\n",
      "2016-09-20 23:40:42 9:DEBUG:Pimp.getAnalysisParams:Name: noise Value: 0.8\n",
      "2016-09-20 23:40:42 9:DEBUG:Pimp.getAnalysisParams:Name: rtwindow Value: 0.05\n",
      "2016-09-20 23:40:42 9:INFO:Pimp.extra.setPiMPLoggerAnalysisID:Setting analysis ID in logger to 9\n",
      "2016-09-20 23:40:42 9:INFO:Pimp.extra.setPiMPLoggerAnalysisID:Analysis id set\n"
     ]
    },
    {
     "name": "stderr",
     "output_type": "stream",
     "text": [
      "WARNING 2016-09-20 23:40:42,296 functions.py:106 | /Users/joewandy/git/pimp/venv/lib/python2.7/site-packages/rpy2/robjects/functions.py:106: UserWarning: Setting analysis directory to: analysis_9\n",
      "\n",
      "  res = super(Function, self).__call__(*new_args, **new_kwargs)\n",
      "\n"
     ]
    },
    {
     "name": "stdout",
     "output_type": "stream",
     "text": [
      "2016-09-20 23:40:42 9:INFO:Pimp.createAnalysisDir:Analysis dir created at analysis_9\n",
      "2016-09-20 23:40:42 9:INFO:Pimp.stds.createAnnotationFile:Creating annotation file from calibration_samples/standard/Std1_1_20150422_150810.csv,calibration_samples/standard/Std2_1_20150422_150711.csv,calibration_samples/standard/Std3_1_20150422_150553.csv, outputting to analysis_9/stds_db.xml\n",
      "2016-09-20 23:40:42 9:INFO:Pimp.stds.createAnnotationFile.parseStandardsFiles:Parsing standards files\n",
      "2016-09-20 23:40:42 9:INFO:Pimp.stds.createAnnotationFile.determineFileParser:Parser for calibration_samples/standard/Std1_1_20150422_150810.csv is .parse.toxid.file\n",
      "2016-09-20 23:40:42 9:INFO:Pimp.stds.createAnnotationFile.parse.toxid.file:Parsing toxid file: calibration_samples/standard/Std1_1_20150422_150810.csv\n",
      "2016-09-20 23:40:42 9:INFO:Pimp.stds.createAnnotationFile.determineFileParser:Parser for calibration_samples/standard/Std2_1_20150422_150711.csv is .parse.toxid.file\n",
      "2016-09-20 23:40:42 9:INFO:Pimp.stds.createAnnotationFile.parse.toxid.file:Parsing toxid file: calibration_samples/standard/Std2_1_20150422_150711.csv\n",
      "2016-09-20 23:40:42 9:INFO:Pimp.stds.createAnnotationFile.determineFileParser:Parser for calibration_samples/standard/Std3_1_20150422_150553.csv is .parse.toxid.file\n",
      "2016-09-20 23:40:42 9:INFO:Pimp.stds.createAnnotationFile.parse.toxid.file:Parsing toxid file: calibration_samples/standard/Std3_1_20150422_150553.csv\n",
      "2016-09-20 23:40:42 9:INFO:Pimp.stds.createAnnotationFile:Matching names to standard2InChIKey database\n"
     ]
    }
   ],
   "source": [
    "pipeline.setup()"
   ]
  },
  {
   "cell_type": "code",
   "execution_count": 7,
   "metadata": {
    "collapsed": false
   },
   "outputs": [],
   "source": [
    "xcms_params = pipeline.get_value(pipeline.pimp_params, 'xcms.params')            \n",
    "mzmatch_params = pipeline.get_value(pipeline.pimp_params, 'mzmatch.params')\n",
    "peakml_params = pipeline.get_value(pipeline.pimp_params, 'peakml.params')\n",
    "mzmatch_outputs = pipeline.get_value(pipeline.pimp_params, 'mzmatch.outputs')\n",
    "mzmatch_filters = pipeline.get_value(pipeline.pimp_params, 'mzmatch.filters')\n",
    "n_slaves = multiprocessing.cpu_count()"
   ]
  },
  {
   "cell_type": "code",
   "execution_count": 8,
   "metadata": {
    "collapsed": false
   },
   "outputs": [
    {
     "name": "stdout",
     "output_type": "stream",
     "text": [
      "Creating /Users/joewandy/git/pimp/django_projects/pimp_data/projects/9/analysis_9/positive/combined\n"
     ]
    }
   ],
   "source": [
    "polarity = pipeline.metadata.files.keys()[0]\n",
    "format_mzmatch_outputs = robjects.r['Pimp.getFormattedMzmatchOutputs']\n",
    "formatted_mzmatch_outputs = format_mzmatch_outputs(pipeline.analysis.id, polarity, mzmatch_outputs)\n",
    "polarity_dir, combined_dir = pipeline.create_input_directories(polarity, formatted_mzmatch_outputs)"
   ]
  },
  {
   "cell_type": "code",
   "execution_count": 9,
   "metadata": {
    "collapsed": false
   },
   "outputs": [
    {
     "name": "stdout",
     "output_type": "stream",
     "text": [
      "positive\n",
      "$alignment.folder\n",
      "[1] \"analysis/%s/combined_rt.alignment\"\n",
      "\n",
      "$combined.folder\n",
      "[1] \"analysis/%s/combined\"\n",
      "\n",
      "$combined.rsd.filtered.folder\n",
      "[1] \"analysis/%s/combined_RSD_filtered\"\n",
      "\n",
      "$combined.rsd.rejected.folder\n",
      "[1] \"analysis/%s/combined_RSD_rejected\"\n",
      "\n",
      "$final.combined.peakml.file\n",
      "[1] \"analysis/%s/final_combined.peakml\"\n",
      "\n",
      "$final.combined.noise.filtered.file\n",
      "[1] \"analysis/%s/final_combined_nf.peakml\"\n",
      "\n",
      "$final.combined.simple.filtered.file\n",
      "[1] \"analysis/%s/final.combined_sf.peakml\"\n",
      "\n",
      "$final.combined.gapfilled.file\n",
      "[1] \"analysis/%s/final_combined_gapfilled.peakml\"\n",
      "\n",
      "$final.combined.related.file\n",
      "[1] \"analysis/%s/final_combined_related.peakml\"\n",
      "\n",
      "$final.combined.basepeaks.file\n",
      "[1] \"analysis/%s/final_combined_basepeaks.peakml\"\n",
      "\n",
      "$final.combined.related.id.file\n",
      "[1] \"analysis/%s/final_combined_related_identified.peakml\"\n",
      "\n",
      "$final.combined.related.stds.id.file\n",
      "[1] \"analysis/%s/final_combined_related_stds_identified.peakml\"\n",
      "\n",
      "$final.combined.basepeaks.id.file\n",
      "[1] \"analysis/%s/final_combined_basepeaks_identified.peakml\"\n",
      "\n",
      "$final.combined.related.id.txt\n",
      "[1] \"analysis/%s/mzmatch_output.txt\"\n",
      "\n",
      "$final.combined.related.stds.id.txt\n",
      "[1] \"analysis/%s/mzmatch_output_stds.txt\"\n",
      "\n",
      "$stds.xml.db\n",
      "[1] \"analysis/stds_db.xml\"\n",
      "\n",
      "$analysis.folder\n",
      "[1] \"analysis\"\n",
      "\n",
      "$polarity.folder\n",
      "[1] \"analysis/%s\"\n",
      "\n",
      "\n",
      "$alignment.folder\n",
      "[1] \"analysis_9/positive/combined_rt.alignment\"\n",
      "\n",
      "$combined.folder\n",
      "[1] \"analysis_9/positive/combined\"\n",
      "\n",
      "$combined.rsd.filtered.folder\n",
      "[1] \"analysis_9/positive/combined_RSD_filtered\"\n",
      "\n",
      "$combined.rsd.rejected.folder\n",
      "[1] \"analysis_9/positive/combined_RSD_rejected\"\n",
      "\n",
      "$final.combined.peakml.file\n",
      "[1] \"analysis_9/positive/final_combined.peakml\"\n",
      "\n",
      "$final.combined.noise.filtered.file\n",
      "[1] \"analysis_9/positive/final_combined_nf.peakml\"\n",
      "\n",
      "$final.combined.simple.filtered.file\n",
      "[1] \"analysis_9/positive/final.combined_sf.peakml\"\n",
      "\n",
      "$final.combined.gapfilled.file\n",
      "[1] \"analysis_9/positive/final_combined_gapfilled.peakml\"\n",
      "\n",
      "$final.combined.related.file\n",
      "[1] \"analysis_9/positive/final_combined_related.peakml\"\n",
      "\n",
      "$final.combined.basepeaks.file\n",
      "[1] \"analysis_9/positive/final_combined_basepeaks.peakml\"\n",
      "\n",
      "$final.combined.related.id.file\n",
      "[1] \"analysis_9/positive/final_combined_related_identified.peakml\"\n",
      "\n",
      "$final.combined.related.stds.id.file\n",
      "[1] \"analysis_9/positive/final_combined_related_stds_identified.peakml\"\n",
      "\n",
      "$final.combined.basepeaks.id.file\n",
      "[1] \"analysis_9/positive/final_combined_basepeaks_identified.peakml\"\n",
      "\n",
      "$final.combined.related.id.txt\n",
      "[1] \"analysis_9/positive/mzmatch_output.txt\"\n",
      "\n",
      "$final.combined.related.stds.id.txt\n",
      "[1] \"analysis_9/positive/mzmatch_output_stds.txt\"\n",
      "\n",
      "$stds.xml.db\n",
      "[1] \"analysis_9/stds_db.xml\"\n",
      "\n",
      "$analysis.folder\n",
      "[1] \"analysis_9\"\n",
      "\n",
      "$polarity.folder\n",
      "[1] \"analysis_9/positive\"\n",
      "\n",
      "\n"
     ]
    }
   ],
   "source": [
    "print polarity\n",
    "print mzmatch_outputs\n",
    "print formatted_mzmatch_outputs"
   ]
  },
  {
   "cell_type": "markdown",
   "metadata": {},
   "source": [
    "### Perform peak detection, rt alignment and generate peakml files"
   ]
  },
  {
   "cell_type": "code",
   "execution_count": 10,
   "metadata": {
    "collapsed": false,
    "scrolled": false
   },
   "outputs": [
    {
     "name": "stderr",
     "output_type": "stream",
     "text": [
      "/Users/joewandy/git/pimp/venv/lib/python2.7/site-packages/rpy2/robjects/functions.py:106: UserWarning: \n",
      "Attaching package: ‘snow’\n",
      "\n",
      "\n",
      "  res = super(Function, self).__call__(*new_args, **new_kwargs)\n",
      "\n",
      "WARNING 2016-09-20 10:40:52,354 functions.py:106 | /Users/joewandy/git/pimp/venv/lib/python2.7/site-packages/rpy2/robjects/functions.py:106: UserWarning: \n",
      "Attaching package: ‘snow’\n",
      "\n",
      "\n",
      "  res = super(Function, self).__call__(*new_args, **new_kwargs)\n",
      "\n",
      "/Users/joewandy/git/pimp/venv/lib/python2.7/site-packages/rpy2/robjects/functions.py:106: UserWarning: The following objects are masked from ‘package:BiocGenerics’:\n",
      "\n",
      "    clusterApply, clusterApplyLB, clusterCall, clusterEvalQ,\n",
      "    clusterExport, clusterMap, clusterSplit, parApply, parCapply,\n",
      "    parLapply, parRapply, parSapply\n",
      "\n",
      "\n",
      "  res = super(Function, self).__call__(*new_args, **new_kwargs)\n",
      "\n",
      "WARNING 2016-09-20 10:40:52,357 functions.py:106 | /Users/joewandy/git/pimp/venv/lib/python2.7/site-packages/rpy2/robjects/functions.py:106: UserWarning: The following objects are masked from ‘package:BiocGenerics’:\n",
      "\n",
      "    clusterApply, clusterApplyLB, clusterCall, clusterEvalQ,\n",
      "    clusterExport, clusterMap, clusterSplit, parApply, parCapply,\n",
      "    parLapply, parRapply, parSapply\n",
      "\n",
      "\n",
      "  res = super(Function, self).__call__(*new_args, **new_kwargs)\n",
      "\n",
      "/Users/joewandy/git/pimp/venv/lib/python2.7/site-packages/rpy2/robjects/functions.py:106: UserWarning: The following objects are masked from ‘package:parallel’:\n",
      "\n",
      "    clusterApply, clusterApplyLB, clusterCall, clusterEvalQ,\n",
      "    clusterExport, clusterMap, clusterSplit, makeCluster, parApply,\n",
      "    parCapply, parLapply, parRapply, parSapply, splitIndices,\n",
      "    stopCluster\n",
      "\n",
      "\n",
      "  res = super(Function, self).__call__(*new_args, **new_kwargs)\n",
      "\n",
      "WARNING 2016-09-20 10:40:52,362 functions.py:106 | /Users/joewandy/git/pimp/venv/lib/python2.7/site-packages/rpy2/robjects/functions.py:106: UserWarning: The following objects are masked from ‘package:parallel’:\n",
      "\n",
      "    clusterApply, clusterApplyLB, clusterCall, clusterEvalQ,\n",
      "    clusterExport, clusterMap, clusterSplit, makeCluster, parApply,\n",
      "    parCapply, parLapply, parRapply, parSapply, splitIndices,\n",
      "    stopCluster\n",
      "\n",
      "\n",
      "  res = super(Function, self).__call__(*new_args, **new_kwargs)\n",
      "\n"
     ]
    },
    {
     "name": "stdout",
     "output_type": "stream",
     "text": [
      "Starting snow cluster with 8 local sockets.\n",
      "Detecting features in file # 1 : Beer_4_full1.mzXML \n",
      "Detecting features in file # 2 : Beer_4_full2.mzXML \n",
      "Detecting features in file # 3 : Beer_4_full3.mzXML \n",
      "Detecting features in file # 4 : Beer_1_full1.mzXML \n",
      "Detecting features in file # 5 : Beer_1_full2.mzXML \n",
      "Detecting features in file # 6 : Beer_1_full3.mzXML \n",
      "Detecting features in file # 7 : Beer_2_full1.mzXML \n",
      "Detecting features in file # 8 : Beer_2_full2.mzXML \n",
      "Detecting features in file # 9 : Beer_2_full3.mzXML \n",
      "Detecting features in file # 10 : Beer_3_full1.mzXML \n",
      "Detecting features in file # 11 : Beer_3_full2.mzXML \n",
      "Detecting features in file # 12 : Beer_3_full3.mzXML \n",
      "center sample:  Beer_1_full2 \n",
      "Processing: Beer_4_full1  Beer_4_full2  Beer_4_full3  Beer_1_full1  Beer_1_full3  Beer_2_full1  Beer_2_full2  Beer_2_full3  Beer_3_full1  Beer_3_full2  Beer_3_full3  \n",
      "Now creating /Users/joewandy/git/pimp/django_projects/pimp_data/projects/9/analysis_9/positive/Beer_4_full1.peakml\n",
      "2016-09-20 10:51:30 9:INFO:PeakML.xcms.write.SingleInstance:positive\n",
      "2016-09-20 10:51:30 9:INFO:PeakML.xcms.write.SingleInstance:retrieving raw data\n",
      "2016-09-20 10:51:30 9:INFO:PeakML.xcms.write.SingleInstance:- /Users/joewandy/git/pimp/django_projects/pimp_data/projects/9/samples/POS/Beer_1_full1.mzXML\n",
      "2016-09-20 10:51:52 9:INFO::11539 peaks exported.\n",
      "Now creating /Users/joewandy/git/pimp/django_projects/pimp_data/projects/9/analysis_9/positive/Beer_4_full2.peakml\n",
      "2016-09-20 10:51:53 9:INFO:PeakML.xcms.write.SingleInstance:positive\n",
      "2016-09-20 10:51:53 9:INFO:PeakML.xcms.write.SingleInstance:retrieving raw data\n",
      "2016-09-20 10:51:53 9:INFO:PeakML.xcms.write.SingleInstance:- /Users/joewandy/git/pimp/django_projects/pimp_data/projects/9/samples/POS/Beer_1_full2.mzXML\n",
      "2016-09-20 10:52:17 9:INFO::11471 peaks exported.\n",
      "Now creating /Users/joewandy/git/pimp/django_projects/pimp_data/projects/9/analysis_9/positive/Beer_4_full3.peakml\n",
      "2016-09-20 10:52:18 9:INFO:PeakML.xcms.write.SingleInstance:positive\n",
      "2016-09-20 10:52:18 9:INFO:PeakML.xcms.write.SingleInstance:retrieving raw data\n",
      "2016-09-20 10:52:18 9:INFO:PeakML.xcms.write.SingleInstance:- /Users/joewandy/git/pimp/django_projects/pimp_data/projects/9/samples/POS/Beer_1_full3.mzXML\n",
      "2016-09-20 10:52:40 9:INFO::11522 peaks exported.\n",
      "Now creating /Users/joewandy/git/pimp/django_projects/pimp_data/projects/9/analysis_9/positive/Beer_1_full1.peakml\n",
      "2016-09-20 10:52:40 9:INFO:PeakML.xcms.write.SingleInstance:positive\n",
      "2016-09-20 10:52:40 9:INFO:PeakML.xcms.write.SingleInstance:retrieving raw data\n",
      "2016-09-20 10:52:40 9:INFO:PeakML.xcms.write.SingleInstance:- /Users/joewandy/git/pimp/django_projects/pimp_data/projects/9/samples/POS/Beer_2_full1.mzXML\n",
      "2016-09-20 10:53:01 9:INFO::11382 peaks exported.\n",
      "Now creating /Users/joewandy/git/pimp/django_projects/pimp_data/projects/9/analysis_9/positive/Beer_1_full2.peakml\n",
      "2016-09-20 10:53:02 9:INFO:PeakML.xcms.write.SingleInstance:positive\n",
      "2016-09-20 10:53:02 9:INFO:PeakML.xcms.write.SingleInstance:retrieving raw data\n",
      "2016-09-20 10:53:02 9:INFO:PeakML.xcms.write.SingleInstance:- /Users/joewandy/git/pimp/django_projects/pimp_data/projects/9/samples/POS/Beer_2_full2.mzXML\n",
      "2016-09-20 10:53:24 9:INFO::12014 peaks exported.\n",
      "Now creating /Users/joewandy/git/pimp/django_projects/pimp_data/projects/9/analysis_9/positive/Beer_1_full3.peakml\n",
      "2016-09-20 10:53:25 9:INFO:PeakML.xcms.write.SingleInstance:positive\n",
      "2016-09-20 10:53:25 9:INFO:PeakML.xcms.write.SingleInstance:retrieving raw data\n",
      "2016-09-20 10:53:25 9:INFO:PeakML.xcms.write.SingleInstance:- /Users/joewandy/git/pimp/django_projects/pimp_data/projects/9/samples/POS/Beer_2_full3.mzXML\n",
      "2016-09-20 10:53:48 9:INFO::12288 peaks exported.\n",
      "Now creating /Users/joewandy/git/pimp/django_projects/pimp_data/projects/9/analysis_9/positive/Beer_2_full1.peakml\n",
      "2016-09-20 10:53:48 9:INFO:PeakML.xcms.write.SingleInstance:positive\n",
      "2016-09-20 10:53:48 9:INFO:PeakML.xcms.write.SingleInstance:retrieving raw data\n",
      "2016-09-20 10:53:48 9:INFO:PeakML.xcms.write.SingleInstance:- /Users/joewandy/git/pimp/django_projects/pimp_data/projects/9/samples/POS/Beer_3_full1.mzXML\n",
      "2016-09-20 10:54:14 9:INFO::12153 peaks exported.\n",
      "Now creating /Users/joewandy/git/pimp/django_projects/pimp_data/projects/9/analysis_9/positive/Beer_2_full2.peakml\n",
      "2016-09-20 10:54:14 9:INFO:PeakML.xcms.write.SingleInstance:positive\n",
      "2016-09-20 10:54:14 9:INFO:PeakML.xcms.write.SingleInstance:retrieving raw data\n",
      "2016-09-20 10:54:14 9:INFO:PeakML.xcms.write.SingleInstance:- /Users/joewandy/git/pimp/django_projects/pimp_data/projects/9/samples/POS/Beer_3_full2.mzXML\n",
      "2016-09-20 10:54:37 9:INFO::12390 peaks exported.\n",
      "Now creating /Users/joewandy/git/pimp/django_projects/pimp_data/projects/9/analysis_9/positive/Beer_2_full3.peakml\n",
      "2016-09-20 10:54:38 9:INFO:PeakML.xcms.write.SingleInstance:positive\n",
      "2016-09-20 10:54:38 9:INFO:PeakML.xcms.write.SingleInstance:retrieving raw data\n",
      "2016-09-20 10:54:38 9:INFO:PeakML.xcms.write.SingleInstance:- /Users/joewandy/git/pimp/django_projects/pimp_data/projects/9/samples/POS/Beer_3_full3.mzXML\n",
      "2016-09-20 10:55:00 9:INFO::11874 peaks exported.\n",
      "Now creating /Users/joewandy/git/pimp/django_projects/pimp_data/projects/9/analysis_9/positive/Beer_3_full1.peakml\n",
      "2016-09-20 10:55:01 9:INFO:PeakML.xcms.write.SingleInstance:positive\n",
      "2016-09-20 10:55:01 9:INFO:PeakML.xcms.write.SingleInstance:retrieving raw data\n",
      "2016-09-20 10:55:01 9:INFO:PeakML.xcms.write.SingleInstance:- /Users/joewandy/git/pimp/django_projects/pimp_data/projects/9/samples/POS/Beer_4_full1.mzXML\n",
      "2016-09-20 10:55:23 9:INFO::11896 peaks exported.\n",
      "Now creating /Users/joewandy/git/pimp/django_projects/pimp_data/projects/9/analysis_9/positive/Beer_3_full2.peakml\n",
      "2016-09-20 10:55:24 9:INFO:PeakML.xcms.write.SingleInstance:positive\n",
      "2016-09-20 10:55:24 9:INFO:PeakML.xcms.write.SingleInstance:retrieving raw data\n",
      "2016-09-20 10:55:24 9:INFO:PeakML.xcms.write.SingleInstance:- /Users/joewandy/git/pimp/django_projects/pimp_data/projects/9/samples/POS/Beer_4_full2.mzXML\n",
      "2016-09-20 10:55:45 9:INFO::11729 peaks exported.\n",
      "Now creating /Users/joewandy/git/pimp/django_projects/pimp_data/projects/9/analysis_9/positive/Beer_3_full3.peakml\n",
      "2016-09-20 10:55:46 9:INFO:PeakML.xcms.write.SingleInstance:positive\n",
      "2016-09-20 10:55:46 9:INFO:PeakML.xcms.write.SingleInstance:retrieving raw data\n",
      "2016-09-20 10:55:46 9:INFO:PeakML.xcms.write.SingleInstance:- /Users/joewandy/git/pimp/django_projects/pimp_data/projects/9/samples/POS/Beer_4_full3.mzXML\n",
      "2016-09-20 10:56:06 9:INFO::10883 peaks exported.\n"
     ]
    }
   ],
   "source": [
    "pipeline.create_peakml(polarity, polarity_dir, \n",
    "                       xcms_params, mzmatch_params, peakml_params, formatted_mzmatch_outputs, n_slaves)            "
   ]
  },
  {
   "cell_type": "markdown",
   "metadata": {
    "collapsed": true
   },
   "source": [
    "### Group samples"
   ]
  },
  {
   "cell_type": "code",
   "execution_count": 10,
   "metadata": {
    "collapsed": false,
    "scrolled": false
   },
   "outputs": [
    {
     "name": "stdout",
     "output_type": "stream",
     "text": [
      "[beer_smell with 2 levels, beer_colour with 2 levels, beer_taste with 3 levels]\n",
      "beer_smell\n",
      " - smell_good ['Beer_1_full1', 'Beer_1_full2', 'Beer_1_full3', 'Beer_2_full1', 'Beer_2_full2', 'Beer_2_full3', 'Beer_3_full1', 'Beer_3_full2', 'Beer_3_full3']\n",
      " - smell_bad ['Beer_4_full1', 'Beer_4_full2', 'Beer_4_full3']\n",
      "beer_colour\n",
      " - colour_dark ['Beer_1_full1', 'Beer_1_full2', 'Beer_1_full3', 'Beer_2_full1', 'Beer_2_full2', 'Beer_2_full3']\n",
      " - colour_light ['Beer_3_full1', 'Beer_3_full2', 'Beer_3_full3', 'Beer_4_full1', 'Beer_4_full2', 'Beer_4_full3']\n",
      "beer_taste\n",
      " - taste_delicious ['Beer_1_full1', 'Beer_1_full2', 'Beer_1_full3', 'Beer_2_full1', 'Beer_2_full2', 'Beer_2_full3']\n",
      " - taste_okay ['Beer_3_full1', 'Beer_3_full2', 'Beer_3_full3']\n",
      " - taste_awful ['Beer_4_full1', 'Beer_4_full2', 'Beer_4_full3']\n",
      "(2, 2, 3)\n",
      "('group_0', (0, 0, 0), 'smell_good,colour_dark,taste_delicious', ['Beer_1_full2', 'Beer_1_full3', 'Beer_1_full1', 'Beer_2_full1', 'Beer_2_full3', 'Beer_2_full2'])\n",
      "('group_1', (0, 0, 1), 'smell_good,colour_dark,taste_okay', [])\n",
      "('group_2', (0, 0, 2), 'smell_good,colour_dark,taste_awful', [])\n",
      "('group_3', (0, 1, 0), 'smell_good,colour_light,taste_delicious', [])\n",
      "('group_4', (0, 1, 1), 'smell_good,colour_light,taste_okay', ['Beer_3_full1', 'Beer_3_full2', 'Beer_3_full3'])\n",
      "('group_5', (0, 1, 2), 'smell_good,colour_light,taste_awful', [])\n",
      "('group_6', (1, 0, 0), 'smell_bad,colour_dark,taste_delicious', [])\n",
      "('group_7', (1, 0, 1), 'smell_bad,colour_dark,taste_okay', [])\n",
      "('group_8', (1, 0, 2), 'smell_bad,colour_dark,taste_awful', [])\n",
      "('group_9', (1, 1, 0), 'smell_bad,colour_light,taste_delicious', [])\n",
      "('group_10', (1, 1, 1), 'smell_bad,colour_light,taste_okay', [])\n",
      "('group_11', (1, 1, 2), 'smell_bad,colour_light,taste_awful', ['Beer_4_full3', 'Beer_4_full2', 'Beer_4_full1'])\n",
      "Processing /Users/joewandy/git/pimp/django_projects/pimp_data/projects/9/analysis_9/positive/combined/group_0\n",
      "2016-09-20 23:41:01 9:INFO:PuMP.callToArgList.dispatchCall:mzmatch.ipeak.Combine -i /Users/joewandy/git/pimp/django_projects/pimp_data/projects/9/analysis_9/positive/combined/group_0/Beer_1_full1.peakml,/Users/joewandy/git/pimp/django_projects/pimp_data/projects/9/analysis_9/positive/combined/group_0/Beer_1_full2.peakml,/Users/joewandy/git/pimp/django_projects/pimp_data/projects/9/analysis_9/positive/combined/group_0/Beer_1_full3.peakml,/Users/joewandy/git/pimp/django_projects/pimp_data/projects/9/analysis_9/positive/combined/group_0/Beer_2_full1.peakml,/Users/joewandy/git/pimp/django_projects/pimp_data/projects/9/analysis_9/positive/combined/group_0/Beer_2_full2.peakml,/Users/joewandy/git/pimp/django_projects/pimp_data/projects/9/analysis_9/positive/combined/group_0/Beer_2_full3.peakml -o /Users/joewandy/git/pimp/django_projects/pimp_data/projects/9/analysis_9/positive/combined/group_0.peakml -label group_0 -ppm 3 -rtwindow 30 -combination set\n",
      "Nothing to combine in /Users/joewandy/git/pimp/django_projects/pimp_data/projects/9/analysis_9/positive/combined/group_1\n",
      "Nothing to combine in /Users/joewandy/git/pimp/django_projects/pimp_data/projects/9/analysis_9/positive/combined/group_2\n",
      "Nothing to combine in /Users/joewandy/git/pimp/django_projects/pimp_data/projects/9/analysis_9/positive/combined/group_3\n",
      "Processing /Users/joewandy/git/pimp/django_projects/pimp_data/projects/9/analysis_9/positive/combined/group_4\n",
      "2016-09-20 23:41:13 9:INFO:PuMP.callToArgList.dispatchCall:mzmatch.ipeak.Combine -i /Users/joewandy/git/pimp/django_projects/pimp_data/projects/9/analysis_9/positive/combined/group_4/Beer_3_full1.peakml,/Users/joewandy/git/pimp/django_projects/pimp_data/projects/9/analysis_9/positive/combined/group_4/Beer_3_full2.peakml,/Users/joewandy/git/pimp/django_projects/pimp_data/projects/9/analysis_9/positive/combined/group_4/Beer_3_full3.peakml -o /Users/joewandy/git/pimp/django_projects/pimp_data/projects/9/analysis_9/positive/combined/group_4.peakml -label group_4 -ppm 3 -rtwindow 30 -combination set\n",
      "Nothing to combine in /Users/joewandy/git/pimp/django_projects/pimp_data/projects/9/analysis_9/positive/combined/group_5\n",
      "Nothing to combine in /Users/joewandy/git/pimp/django_projects/pimp_data/projects/9/analysis_9/positive/combined/group_6\n",
      "Nothing to combine in /Users/joewandy/git/pimp/django_projects/pimp_data/projects/9/analysis_9/positive/combined/group_7\n",
      "Nothing to combine in /Users/joewandy/git/pimp/django_projects/pimp_data/projects/9/analysis_9/positive/combined/group_8\n",
      "Nothing to combine in /Users/joewandy/git/pimp/django_projects/pimp_data/projects/9/analysis_9/positive/combined/group_9\n",
      "Nothing to combine in /Users/joewandy/git/pimp/django_projects/pimp_data/projects/9/analysis_9/positive/combined/group_10\n",
      "Processing /Users/joewandy/git/pimp/django_projects/pimp_data/projects/9/analysis_9/positive/combined/group_11\n",
      "2016-09-20 23:41:19 9:INFO:PuMP.callToArgList.dispatchCall:mzmatch.ipeak.Combine -i /Users/joewandy/git/pimp/django_projects/pimp_data/projects/9/analysis_9/positive/combined/group_11/Beer_4_full1.peakml,/Users/joewandy/git/pimp/django_projects/pimp_data/projects/9/analysis_9/positive/combined/group_11/Beer_4_full2.peakml,/Users/joewandy/git/pimp/django_projects/pimp_data/projects/9/analysis_9/positive/combined/group_11/Beer_4_full3.peakml -o /Users/joewandy/git/pimp/django_projects/pimp_data/projects/9/analysis_9/positive/combined/group_11.peakml -label group_11 -ppm 3 -rtwindow 30 -combination set\n"
     ]
    }
   ],
   "source": [
    "r_combi = pipeline.generate_peaksets(polarity, polarity_dir, combined_dir, mzmatch_params)"
   ]
  },
  {
   "cell_type": "code",
   "execution_count": 11,
   "metadata": {
    "collapsed": false
   },
   "outputs": [
    {
     "name": "stdout",
     "output_type": "stream",
     "text": [
      "$group_0\n",
      "[1] \"Beer_1_full2\" \"Beer_1_full3\" \"Beer_1_full1\" \"Beer_2_full1\" \"Beer_2_full3\"\n",
      "[6] \"Beer_2_full2\"\n",
      "\n",
      "$group_11\n",
      "[1] \"Beer_4_full3\" \"Beer_4_full2\" \"Beer_4_full1\"\n",
      "\n",
      "$group_4\n",
      "[1] \"Beer_3_full1\" \"Beer_3_full2\" \"Beer_3_full3\"\n",
      "\n",
      "\n"
     ]
    }
   ],
   "source": [
    "print r_combi"
   ]
  },
  {
   "cell_type": "markdown",
   "metadata": {},
   "source": [
    "### Filter samples"
   ]
  },
  {
   "cell_type": "code",
   "execution_count": 12,
   "metadata": {
    "collapsed": false
   },
   "outputs": [
    {
     "name": "stdout",
     "output_type": "stream",
     "text": [
      "2016-09-20 23:41:30 9:INFO:PuMP.callToArgList.dispatchCall:mzmatch.ipeak.filter.RSDFilter -i /Users/joewandy/git/pimp/django_projects/pimp_data/projects/9/analysis_9/positive/combined/group_0.peakml -o /Users/joewandy/git/pimp/django_projects/pimp_data/projects/9/analysis_9/positive/combined/group_0_rsd.peakml -rejected /Users/joewandy/git/pimp/django_projects/pimp_data/projects/9/analysis_9/positive/combined/group_0_rsdrej.peakml -rsd 0.5\n",
      "2016-09-20 23:41:39 9:INFO:PuMP.callToArgList.dispatchCall:mzmatch.ipeak.filter.RSDFilter -i /Users/joewandy/git/pimp/django_projects/pimp_data/projects/9/analysis_9/positive/combined/group_11.peakml -o /Users/joewandy/git/pimp/django_projects/pimp_data/projects/9/analysis_9/positive/combined/group_11_rsd.peakml -rejected /Users/joewandy/git/pimp/django_projects/pimp_data/projects/9/analysis_9/positive/combined/group_11_rsdrej.peakml -rsd 0.5\n",
      "2016-09-20 23:41:43 9:INFO:PuMP.callToArgList.dispatchCall:mzmatch.ipeak.filter.RSDFilter -i /Users/joewandy/git/pimp/django_projects/pimp_data/projects/9/analysis_9/positive/combined/group_4.peakml -o /Users/joewandy/git/pimp/django_projects/pimp_data/projects/9/analysis_9/positive/combined/group_4_rsd.peakml -rejected /Users/joewandy/git/pimp/django_projects/pimp_data/projects/9/analysis_9/positive/combined/group_4_rsdrej.peakml -rsd 0.5\n"
     ]
    }
   ],
   "source": [
    "peaksets = pipeline.filter_peaksets(combined_dir, mzmatch_params)"
   ]
  },
  {
   "cell_type": "markdown",
   "metadata": {},
   "source": [
    "### Final group and filter"
   ]
  },
  {
   "cell_type": "code",
   "execution_count": 13,
   "metadata": {
    "collapsed": false
   },
   "outputs": [
    {
     "name": "stdout",
     "output_type": "stream",
     "text": [
      "2016-09-20 23:41:49 9:INFO:PuMP.callToArgList.dispatchCall:mzmatch.ipeak.Combine -i /Users/joewandy/git/pimp/django_projects/pimp_data/projects/9/analysis_9/positive/combined/group_0_rsd.peakml,/Users/joewandy/git/pimp/django_projects/pimp_data/projects/9/analysis_9/positive/combined/group_11_rsd.peakml,/Users/joewandy/git/pimp/django_projects/pimp_data/projects/9/analysis_9/positive/combined/group_4_rsd.peakml -o /Users/joewandy/git/pimp/django_projects/pimp_data/projects/9/analysis_9/positive/final_combined.peakml -label  -ppm 3 -rtwindow 30 -combination set\n"
     ]
    }
   ],
   "source": [
    "out_file = pipeline.combine_final(polarity, peaksets, mzmatch_params, formatted_mzmatch_outputs)            "
   ]
  },
  {
   "cell_type": "code",
   "execution_count": 14,
   "metadata": {
    "collapsed": false
   },
   "outputs": [
    {
     "name": "stdout",
     "output_type": "stream",
     "text": [
      "2016-09-20 23:41:55 9:INFO:PuMP.callToArgList.dispatchCall:mzmatch.ipeak.filter.NoiseFilter -i /Users/joewandy/git/pimp/django_projects/pimp_data/projects/9/analysis_9/positive/final_combined.peakml -o /Users/joewandy/git/pimp/django_projects/pimp_data/projects/9/analysis_9/positive/final_combined_nf.peakml -codadw 0.8\n",
      "2016-09-20 23:42:00 9:INFO:PuMP.callToArgList.dispatchCall:mzmatch.ipeak.filter.SimpleFilter -i /Users/joewandy/git/pimp/django_projects/pimp_data/projects/9/analysis_9/positive/final_combined_nf.peakml -o /Users/joewandy/git/pimp/django_projects/pimp_data/projects/9/analysis_9/positive/final.combined_sf.peakml -ppm 3 -mindetections 3 -minintensity 5000\n"
     ]
    }
   ],
   "source": [
    "out_file = pipeline.filter_final(polarity, out_file, mzmatch_filters, mzmatch_params, formatted_mzmatch_outputs)            "
   ]
  },
  {
   "cell_type": "markdown",
   "metadata": {},
   "source": [
    "### Gap filling and related peaks"
   ]
  },
  {
   "cell_type": "code",
   "execution_count": 15,
   "metadata": {
    "collapsed": false
   },
   "outputs": [
    {
     "name": "stdout",
     "output_type": "stream",
     "text": [
      "2016-09-20 23:42:06 9:INFO:PeakML.Methods.getRawDataPaths:Raw data file located at: /Users/joewandy/git/pimp/django_projects/pimp_data/projects/9/samples/POS/Beer_2_full1.mzXML,/Users/joewandy/git/pimp/django_projects/pimp_data/projects/9/samples/POS/Beer_2_full2.mzXML,/Users/joewandy/git/pimp/django_projects/pimp_data/projects/9/samples/POS/Beer_2_full3.mzXML,/Users/joewandy/git/pimp/django_projects/pimp_data/projects/9/samples/POS/Beer_3_full1.mzXML,/Users/joewandy/git/pimp/django_projects/pimp_data/projects/9/samples/POS/Beer_3_full2.mzXML,/Users/joewandy/git/pimp/django_projects/pimp_data/projects/9/samples/POS/Beer_3_full3.mzXML,/Users/joewandy/git/pimp/django_projects/pimp_data/projects/9/samples/POS/Beer_1_full1.mzXML,/Users/joewandy/git/pimp/django_projects/pimp_data/projects/9/samples/POS/Beer_1_full2.mzXML,/Users/joewandy/git/pimp/django_projects/pimp_data/projects/9/samples/POS/Beer_1_full3.mzXML,/Users/joewandy/git/pimp/django_projects/pimp_data/projects/9/samples/POS/Beer_4_full1.mzXML,/Users/joewandy/git/pimp/django_projects/pimp_data/projects/9/samples/POS/Beer_4_full2.mzXML,/Users/joewandy/git/pimp/django_projects/pimp_data/projects/9/samples/POS/Beer_4_full3.mzXML\n",
      "2016-09-20 23:42:08 9:INFO:PeakML.Methods.getChromData:Loading peakML file in memory (it can take some time, sorry)\n",
      "2016-09-20 23:42:10 9:INFO:PeakML.Methods.getChromData:Done in: 1.857 s\n",
      "2016-09-20 23:42:35 9:INFO:PeakML.Methods.getPeakData:Extracting peak data from PeakMl file,\n",
      "2016-09-20 23:42:56 9:INFO:PeakML.Methods.getPeakData:Peak data created in 20.771 s\n",
      "2016-09-20 23:43:25 9:INFO:PeakML.GapFiller:Working on file: /Users/joewandy/git/pimp/django_projects/pimp_data/projects/9/samples/POS/Beer_2_full1.mzXML\n",
      "2016-09-20 23:43:46 9:INFO:PeakML.GapFiller:Working on file: /Users/joewandy/git/pimp/django_projects/pimp_data/projects/9/samples/POS/Beer_2_full2.mzXML\n",
      "2016-09-20 23:44:07 9:INFO:PeakML.GapFiller:Working on file: /Users/joewandy/git/pimp/django_projects/pimp_data/projects/9/samples/POS/Beer_2_full3.mzXML\n",
      "2016-09-20 23:44:27 9:INFO:PeakML.GapFiller:Working on file: /Users/joewandy/git/pimp/django_projects/pimp_data/projects/9/samples/POS/Beer_3_full1.mzXML\n",
      "2016-09-20 23:44:48 9:INFO:PeakML.GapFiller:Working on file: /Users/joewandy/git/pimp/django_projects/pimp_data/projects/9/samples/POS/Beer_3_full2.mzXML\n",
      "2016-09-20 23:45:09 9:INFO:PeakML.GapFiller:Working on file: /Users/joewandy/git/pimp/django_projects/pimp_data/projects/9/samples/POS/Beer_3_full3.mzXML\n",
      "2016-09-20 23:45:29 9:INFO:PeakML.GapFiller:Working on file: /Users/joewandy/git/pimp/django_projects/pimp_data/projects/9/samples/POS/Beer_1_full1.mzXML\n",
      "2016-09-20 23:45:50 9:INFO:PeakML.GapFiller:Working on file: /Users/joewandy/git/pimp/django_projects/pimp_data/projects/9/samples/POS/Beer_1_full2.mzXML\n",
      "2016-09-20 23:46:10 9:INFO:PeakML.GapFiller:Working on file: /Users/joewandy/git/pimp/django_projects/pimp_data/projects/9/samples/POS/Beer_1_full3.mzXML\n",
      "2016-09-20 23:46:31 9:INFO:PeakML.GapFiller:Working on file: /Users/joewandy/git/pimp/django_projects/pimp_data/projects/9/samples/POS/Beer_4_full1.mzXML\n",
      "2016-09-20 23:46:51 9:INFO:PeakML.GapFiller:Working on file: /Users/joewandy/git/pimp/django_projects/pimp_data/projects/9/samples/POS/Beer_4_full2.mzXML\n",
      "2016-09-20 23:47:13 9:INFO:PeakML.GapFiller:Working on file: /Users/joewandy/git/pimp/django_projects/pimp_data/projects/9/samples/POS/Beer_4_full3.mzXML\n"
     ]
    }
   ],
   "source": [
    "out_file = pipeline.gap_filling(polarity, out_file, peakml_params, formatted_mzmatch_outputs)"
   ]
  },
  {
   "cell_type": "code",
   "execution_count": 16,
   "metadata": {
    "collapsed": false
   },
   "outputs": [
    {
     "name": "stdout",
     "output_type": "stream",
     "text": [
      "2016-09-20 23:48:04 9:INFO:PuMP.callToArgList.dispatchCall:mzmatch.ipeak.sort.RelatedPeaks -i /Users/joewandy/git/pimp/django_projects/pimp_data/projects/9/analysis_9/positive/final_combined_gapfilled.peakml -o /Users/joewandy/git/pimp/django_projects/pimp_data/projects/9/analysis_9/positive/final_combined_related.peakml -basepeaks /Users/joewandy/git/pimp/django_projects/pimp_data/projects/9/analysis_9/positive/final_combined_basepeaks.peakml -ppm 3 -rtwindow 30\n"
     ]
    }
   ],
   "source": [
    "out_file, basepeak_file = pipeline.related_peaks(polarity, out_file, mzmatch_params, formatted_mzmatch_outputs)"
   ]
  },
  {
   "cell_type": "markdown",
   "metadata": {},
   "source": [
    "### Identification"
   ]
  },
  {
   "cell_type": "code",
   "execution_count": 17,
   "metadata": {
    "collapsed": false
   },
   "outputs": [],
   "source": [
    "def identify(polarity, in_file, databases, groups, mzmatch_params, mzmatch_outputs):\n",
    "\n",
    "    args = {\n",
    "        'in_file'           : in_file,\n",
    "        'databases'         : databases,\n",
    "        'groups'            : groups,\n",
    "        'mzmatch.outputs'   : mzmatch_outputs,\n",
    "        'mzmatch.params'    : mzmatch_params,\n",
    "        'polarity'          : polarity\n",
    "    }\n",
    "\n",
    "    pimp_identify = robjects.r['Pimp.identify.metabolites']\n",
    "    raw_data = pimp_identify(**args)\n",
    "    return raw_data"
   ]
  },
  {
   "cell_type": "code",
   "execution_count": 18,
   "metadata": {
    "collapsed": false
   },
   "outputs": [
    {
     "name": "stdout",
     "output_type": "stream",
     "text": [
      "2016-09-20 23:48:52 9:INFO:PuMP.callToArgList.dispatchCall:mzmatch.ipeak.util.Identify -i analysis_9/positive/final_combined_related.peakml -o analysis_9/positive/final_combined_related_identified_hmdb.peakml -ppm 3 -databases /Users/joewandy/git/pimp/packrat/lib/x86_64-apple-darwin15.5.0/3.3.1/PiMP/dbs/hmdb.xml -rtwindowrelative FALSE -adducts M+H,M+ACN+Na,M+Na,M+K,M+ACN+H\n",
      "2016-09-20 23:49:10 9:INFO:PuMP.callToArgList.dispatchCall:mzmatch.ipeak.convert.ConvertToText -i analysis_9/positive/final_combined_related_identified_hmdb.peakml -o analysis_9/positive/mzmatch_output_hmdb.txt -annotations identification,ppm,adduct,relation.id,relation.ship,codadw,charge\n",
      "2016-09-20 23:49:15 9:INFO:PuMP.callToArgList.dispatchCall:mzmatch.ipeak.util.Identify -i analysis_9/positive/final_combined_related.peakml -o analysis_9/positive/final_combined_related_identified_kegg.peakml -ppm 3 -databases /Users/joewandy/git/pimp/packrat/lib/x86_64-apple-darwin15.5.0/3.3.1/PiMP/dbs/kegg.xml -rtwindowrelative FALSE -adducts M+H,M+ACN+Na,M+Na,M+K,M+ACN+H\n",
      "2016-09-20 23:49:29 9:INFO:PuMP.callToArgList.dispatchCall:mzmatch.ipeak.convert.ConvertToText -i analysis_9/positive/final_combined_related_identified_kegg.peakml -o analysis_9/positive/mzmatch_output_kegg.txt -annotations identification,ppm,adduct,relation.id,relation.ship,codadw,charge\n",
      "2016-09-20 23:49:35 9:INFO:PuMP.callToArgList.dispatchCall:mzmatch.ipeak.util.Identify -i analysis_9/positive/final_combined_related.peakml -o analysis_9/positive/final_combined_related_identified_lipidmaps.peakml -ppm 3 -databases /Users/joewandy/git/pimp/packrat/lib/x86_64-apple-darwin15.5.0/3.3.1/PiMP/dbs/lipidmaps.xml -rtwindowrelative FALSE -adducts M+H,M+ACN+Na,M+Na,M+K,M+ACN+H\n",
      "2016-09-20 23:49:51 9:INFO:PuMP.callToArgList.dispatchCall:mzmatch.ipeak.convert.ConvertToText -i analysis_9/positive/final_combined_related_identified_lipidmaps.peakml -o analysis_9/positive/mzmatch_output_lipidmaps.txt -annotations identification,ppm,adduct,relation.id,relation.ship,codadw,charge\n",
      "2016-09-20 23:49:56 9:INFO:PuMP.callToArgList.dispatchCall:mzmatch.ipeak.util.Identify -i analysis_9/positive/final_combined_related.peakml -o analysis_9/positive/final_combined_related_identified_stds_db.peakml -ppm 3 -databases analysis_9/stds_db.xml -rtwindow 0.05 -rtwindowrelative TRUE -adducts M+H\n",
      "2016-09-20 23:50:07 9:INFO:PuMP.callToArgList.dispatchCall:mzmatch.ipeak.convert.ConvertToText -i analysis_9/positive/final_combined_related_identified_stds_db.peakml -o analysis_9/positive/mzmatch_output_stds_db.txt -annotations identification,ppm,adduct,relation.id,relation.ship,codadw,charge\n"
     ]
    },
    {
     "data": {
      "text/plain": [
       "<DataFrame - Python:0x12db90a28 / R:0x7fd36d324030>\n",
       "[Float..., Float..., Float..., ..., StrVe..., StrVe..., StrVe...]\n",
       "  Mass: <class 'rpy2.robjects.vectors.FloatVector'>\n",
       "  <FloatVector - Python:0x10fa3cbd8 / R:0x7fd370499c00>\n",
       "[116.070550, 117.073840, 231.133876, ..., 250.891576, 272.032683, 161.998753]\n",
       "  RT: <class 'rpy2.robjects.vectors.FloatVector'>\n",
       "  <FloatVector - Python:0x12db9fb00 / R:0x7fd374286600>\n",
       "[577.986827, 577.987900, 577.479904, ..., 1305.231812, 1280.120056, 1254.700714]\n",
       "  Beer_2_full1: <class 'rpy2.robjects.vectors.FloatVector'>\n",
       "  <FloatVector - Python:0x12dc274d0 / R:0x7fd3742aec00>\n",
       "[2242759936.000000, 124503800.000000, 47604480.000000, ..., 31597.085938, 25455.828125, 19518.810547]\n",
       "  ...\n",
       "  Mass: <class 'rpy2.robjects.vectors.StrVector'>\n",
       "  <StrVector - Python:0x12dc09dd0 / R:0x7fd36c067000>\n",
       "[str, NA_character_, NA_character_, ..., NA_character_, NA_character_, NA_character_]\n",
       "  RT: <class 'rpy2.robjects.vectors.StrVector'>\n",
       "  <StrVector - Python:0x12dc0efc8 / R:0x7fd36c072200>\n",
       "[str, NA_character_, NA_character_, ..., NA_character_, NA_character_, NA_character_]\n",
       "  Beer_2_full1: <class 'rpy2.robjects.vectors.StrVector'>\n",
       "  <StrVector - Python:0x12dc0e1b8 / R:0x7fd370295c00>\n",
       "[str, str, str, ..., str, str, str]"
      ]
     },
     "execution_count": 18,
     "metadata": {},
     "output_type": "execute_result"
    }
   ],
   "source": [
    "out_file = '/Users/joewandy/git/pimp/django_projects/pimp_data/projects/9/analysis_9/pos/final_combined_related.peakml'\n",
    "databases = pipeline.metadata.r_dbs\n",
    "groups = r_combi\n",
    "identify(polarity, out_file, databases, groups, mzmatch_params, formatted_mzmatch_outputs)"
   ]
  },
  {
   "cell_type": "code",
   "execution_count": null,
   "metadata": {
    "collapsed": true
   },
   "outputs": [],
   "source": []
  }
 ],
 "metadata": {
  "kernelspec": {
   "display_name": "Django Shell-Plus",
   "language": "python",
   "name": "django_extensions"
  },
  "language_info": {
   "codemirror_mode": {
    "name": "ipython",
    "version": 2
   },
   "file_extension": ".py",
   "mimetype": "text/x-python",
   "name": "python",
   "nbconvert_exporter": "python",
   "pygments_lexer": "ipython2",
   "version": "2.7.10"
  }
 },
 "nbformat": 4,
 "nbformat_minor": 1
}
