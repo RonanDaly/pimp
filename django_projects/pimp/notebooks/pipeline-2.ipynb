{
 "cells": [
  {
   "cell_type": "markdown",
   "metadata": {},
   "source": [
    "# Experimental new pipeline"
   ]
  },
  {
   "cell_type": "code",
   "execution_count": 1,
   "metadata": {
    "collapsed": false
   },
   "outputs": [],
   "source": [
    "%load_ext autoreload\n",
    "%autoreload 2"
   ]
  },
  {
   "cell_type": "code",
   "execution_count": 2,
   "metadata": {
    "collapsed": true
   },
   "outputs": [],
   "source": [
    "import rpy2.robjects as robjects\n",
    "import multiprocessing\n",
    "import re\n",
    "import os\n",
    "\n",
    "import numpy as np\n",
    "import shutil\n",
    "\n",
    "from experiments.pipelines.pipeline_rpy2 import Rpy2Pipeline, Tree\n",
    "from pimp.settings import getString"
   ]
  },
  {
   "cell_type": "markdown",
   "metadata": {},
   "source": [
    "## Load analysis and project"
   ]
  },
  {
   "cell_type": "code",
   "execution_count": 3,
   "metadata": {
    "collapsed": false,
    "scrolled": false
   },
   "outputs": [
    {
     "name": "stderr",
     "output_type": "stream",
     "text": [
      "DEBUG 2016-09-19 14:53:05,517 utils.py:91 | (0.000) SET SQL_AUTO_IS_NULL = 0; args=None\n",
      "DEBUG 2016-09-19 14:53:05,518 utils.py:91 | (0.000) SELECT `experiments_analysis`.`id`, `experiments_analysis`.`created`, `experiments_analysis`.`submited`, `experiments_analysis`.`owner`, `experiments_analysis`.`experiment_id`, `experiments_analysis`.`params_id`, `experiments_analysis`.`status` FROM `experiments_analysis` WHERE `experiments_analysis`.`id` = 9 LIMIT 21; args=(9,)\n"
     ]
    }
   ],
   "source": [
    "analysis = Analysis.objects.get_or_create(id=9)[0]"
   ]
  },
  {
   "cell_type": "code",
   "execution_count": 4,
   "metadata": {
    "collapsed": false,
    "scrolled": true
   },
   "outputs": [
    {
     "name": "stderr",
     "output_type": "stream",
     "text": [
      "DEBUG 2016-09-19 14:53:05,543 utils.py:91 | (0.000) SELECT `projects_project`.`id`, `projects_project`.`title`, `projects_project`.`user_owner_id`, `projects_project`.`description`, `projects_project`.`created`, `projects_project`.`modified` FROM `projects_project` WHERE `projects_project`.`id` = 9 LIMIT 21; args=(9,)\n"
     ]
    }
   ],
   "source": [
    "project = Project.objects.get_or_create(id=9)[0]"
   ]
  },
  {
   "cell_type": "code",
   "execution_count": 5,
   "metadata": {
    "collapsed": false,
    "scrolled": true
   },
   "outputs": [
    {
     "name": "stdout",
     "output_type": "stream",
     "text": [
      "******************************************\n",
      "Setup rpy2 connection\n",
      "******************************************\n",
      "[1] \"Initialising PuMP logging\"\n",
      "[1] \"PuMP log level set to DEBUG\"\n",
      "2016-09-19 14:53:08 ERROR:pump.misc.initialisePuMPLogging:Logging at ERROR level\n",
      "2016-09-19 14:53:08 WARNING:pump.misc.initialisePuMPLogging:Logging at WARNING level\n",
      "2016-09-19 14:53:08 INFO:pump.misc.initialisePuMPLogging:Logging at INFO level\n",
      "2016-09-19 14:53:08 DEBUG:pump.misc.initialisePuMPLogging:Logging at DEBUG level\n",
      "2016-09-19 14:53:09 INFO:PeakML.Isotope.plotSamples:OS type: x86_64-apple-darwin15.5.0\n",
      "2016-09-19 14:53:09 INFO:PeakML.Isotope.plotSamples:Java parameters are: -Xmx512m\n",
      "2016-09-19 14:53:09 INFO:PeakML.Isotope.plotSamples:Using jar file /Users/joewandy/git/pimp/packrat/lib/x86_64-apple-darwin15.5.0/3.3.1/mzmatch.R/java/mzmatch-2.1-with-dependencies.jar\n",
      "2016-09-19 14:53:09 INFO:PeakML.Isotope.plotSamples:Using SWT file /Users/joewandy/git/pimp/packrat/lib/x86_64-apple-darwin15.5.0/3.3.1/mzmatch.R/java/swt-4.5-cocoa-macosx-x86_64.jar\n",
      "[1] \"Initialising PiMP logging\"\n",
      "[1] \"PiMP log level set to DEBUG\"\n",
      "2016-09-19 14:53:09 ERROR:Pimp.extra.initialisePiMPLogging:Logging at ERROR level\n",
      "2016-09-19 14:53:09 WARNING:Pimp.extra.initialisePiMPLogging:Logging at WARNING level\n",
      "2016-09-19 14:53:09 INFO:Pimp.extra.initialisePiMPLogging:Logging at INFO level\n",
      "2016-09-19 14:53:09 DEBUG:Pimp.extra.initialisePiMPLogging:Logging at DEBUG level\n",
      "2016-09-19 14:53:09 INFO:PeakML.Isotope.plotSamples:OS type: x86_64-apple-darwin15.5.0\n",
      "2016-09-19 14:53:09 INFO:PeakML.Isotope.plotSamples:Java parameters are: -Xmx8192m\n",
      "2016-09-19 14:53:09 INFO:PeakML.Isotope.plotSamples:Using jar file /Users/joewandy/git/pimp/packrat/lib/x86_64-apple-darwin15.5.0/3.3.1/mzmatch.R/java/mzmatch-2.1-with-dependencies.jar\n",
      "2016-09-19 14:53:09 INFO:PeakML.Isotope.plotSamples:Using SWT file /Users/joewandy/git/pimp/packrat/lib/x86_64-apple-darwin15.5.0/3.3.1/mzmatch.R/java/swt-4.5-cocoa-macosx-x86_64.jar\n"
     ]
    }
   ],
   "source": [
    "pipeline = Rpy2Pipeline(analysis, project, False)"
   ]
  },
  {
   "cell_type": "code",
   "execution_count": 6,
   "metadata": {
    "collapsed": false
   },
   "outputs": [
    {
     "name": "stderr",
     "output_type": "stream",
     "text": [
      "/Users/joewandy/git/pimp/venv/lib/python2.7/site-packages/rpy2/robjects/functions.py:106: UserWarning: Loading required package: RUnit\n",
      "\n",
      "  res = super(Function, self).__call__(*new_args, **new_kwargs)\n",
      "\n",
      "WARNING 2016-09-19 14:53:09,962 functions.py:106 | /Users/joewandy/git/pimp/venv/lib/python2.7/site-packages/rpy2/robjects/functions.py:106: UserWarning: Loading required package: RUnit\n",
      "\n",
      "  res = super(Function, self).__call__(*new_args, **new_kwargs)\n",
      "\n",
      "/Users/joewandy/git/pimp/venv/lib/python2.7/site-packages/rpy2/robjects/functions.py:106: UserWarning: Loading required package: DBI\n",
      "\n",
      "  res = super(Function, self).__call__(*new_args, **new_kwargs)\n",
      "\n",
      "WARNING 2016-09-19 14:53:09,989 functions.py:106 | /Users/joewandy/git/pimp/venv/lib/python2.7/site-packages/rpy2/robjects/functions.py:106: UserWarning: Loading required package: DBI\n",
      "\n",
      "  res = super(Function, self).__call__(*new_args, **new_kwargs)\n",
      "\n",
      "/Users/joewandy/git/pimp/venv/lib/python2.7/site-packages/rpy2/robjects/functions.py:106: UserWarning: Setting analysis directory to: analysis_9\n",
      "\n",
      "  res = super(Function, self).__call__(*new_args, **new_kwargs)\n",
      "\n"
     ]
    },
    {
     "name": "stdout",
     "output_type": "stream",
     "text": [
      "Setup called\n",
      "2016-09-19 14:53:09 INFO:Pimp.getPimpWd:Data dir: /Users/joewandy/git/pimp/django_projects/pimp_data/projects\n",
      "2016-09-19 14:53:09 INFO:Pimp.getPimpWd:Project dir: /Users/joewandy/git/pimp/django_projects/pimp_data/projects/9\n",
      "2016-09-19 14:53:09 INFO:Pimp.extra.setPiMPLoggerAnalysisID:Setting analysis ID in logger to 9\n",
      "2016-09-19 14:53:09 9:INFO:Pimp.extra.setPiMPLoggerAnalysisID:Analysis id set\n",
      "2016-09-19 14:53:09 9:INFO:Pimp.validateInput:Input validated correctly!\n",
      "2016-09-19 14:53:09 9:INFO:Pimp.extra.setPiMPLoggerAnalysisID:Setting analysis ID in logger to 9\n",
      "2016-09-19 14:53:09 9:INFO:Pimp.extra.setPiMPLoggerAnalysisID:Analysis id set\n",
      "2016-09-19 14:53:10 9:INFO:Pimp.getAnalysisParams:Setting params\n",
      "2016-09-19 14:53:10 9:DEBUG:Pimp.getAnalysisParams:Name: iqr Value: 0.5\n",
      "2016-09-19 14:53:10 9:DEBUG:Pimp.getAnalysisParams:Name: rsd Value: 0.5\n",
      "2016-09-19 14:53:10 9:DEBUG:Pimp.getAnalysisParams:Name: noise Value: 0.8\n",
      "2016-09-19 14:53:10 9:DEBUG:Pimp.getAnalysisParams:Name: ppm Value: 3\n",
      "2016-09-19 14:53:10 9:DEBUG:Pimp.getAnalysisParams:Name: mindetections Value: 3\n",
      "2016-09-19 14:53:10 9:DEBUG:Pimp.getAnalysisParams:Name: minintensity Value: 5000\n",
      "2016-09-19 14:53:10 9:DEBUG:Pimp.getAnalysisParams:Name: rtwindow Value: 0.05\n",
      "2016-09-19 14:53:10 9:DEBUG:Pimp.getAnalysisParams:Name: rt.alignment Value: NA\n",
      "2016-09-19 14:53:10 9:DEBUG:Pimp.getAnalysisParams:Name: noise Value: 0.8\n",
      "2016-09-19 14:53:10 9:DEBUG:Pimp.getAnalysisParams:Name: rtwindow Value: 0.05\n",
      "2016-09-19 14:53:10 9:INFO:Pimp.extra.setPiMPLoggerAnalysisID:Setting analysis ID in logger to 9\n",
      "2016-09-19 14:53:10 9:INFO:Pimp.extra.setPiMPLoggerAnalysisID:Analysis id set\n"
     ]
    },
    {
     "name": "stderr",
     "output_type": "stream",
     "text": [
      "WARNING 2016-09-19 14:53:10,222 functions.py:106 | /Users/joewandy/git/pimp/venv/lib/python2.7/site-packages/rpy2/robjects/functions.py:106: UserWarning: Setting analysis directory to: analysis_9\n",
      "\n",
      "  res = super(Function, self).__call__(*new_args, **new_kwargs)\n",
      "\n"
     ]
    },
    {
     "name": "stdout",
     "output_type": "stream",
     "text": [
      "2016-09-19 14:53:10 9:INFO:Pimp.createAnalysisDir:Analysis dir created at analysis_9\n",
      "2016-09-19 14:53:10 9:INFO:Pimp.stds.createAnnotationFile:Creating annotation file from calibration_samples/standard/Std1_1_20150422_150810.csv,calibration_samples/standard/Std2_1_20150422_150711.csv,calibration_samples/standard/Std3_1_20150422_150553.csv, outputting to analysis_9/stds_db.xml\n",
      "2016-09-19 14:53:10 9:INFO:Pimp.stds.createAnnotationFile.parseStandardsFiles:Parsing standards files\n",
      "2016-09-19 14:53:10 9:INFO:Pimp.stds.createAnnotationFile.determineFileParser:Parser for calibration_samples/standard/Std1_1_20150422_150810.csv is .parse.toxid.file\n",
      "2016-09-19 14:53:10 9:INFO:Pimp.stds.createAnnotationFile.parse.toxid.file:Parsing toxid file: calibration_samples/standard/Std1_1_20150422_150810.csv\n",
      "2016-09-19 14:53:10 9:INFO:Pimp.stds.createAnnotationFile.determineFileParser:Parser for calibration_samples/standard/Std2_1_20150422_150711.csv is .parse.toxid.file\n",
      "2016-09-19 14:53:10 9:INFO:Pimp.stds.createAnnotationFile.parse.toxid.file:Parsing toxid file: calibration_samples/standard/Std2_1_20150422_150711.csv\n",
      "2016-09-19 14:53:10 9:INFO:Pimp.stds.createAnnotationFile.determineFileParser:Parser for calibration_samples/standard/Std3_1_20150422_150553.csv is .parse.toxid.file\n",
      "2016-09-19 14:53:10 9:INFO:Pimp.stds.createAnnotationFile.parse.toxid.file:Parsing toxid file: calibration_samples/standard/Std3_1_20150422_150553.csv\n",
      "2016-09-19 14:53:10 9:INFO:Pimp.stds.createAnnotationFile:Matching names to standard2InChIKey database\n"
     ]
    }
   ],
   "source": [
    "pipeline.setup()"
   ]
  },
  {
   "cell_type": "code",
   "execution_count": 7,
   "metadata": {
    "collapsed": false
   },
   "outputs": [],
   "source": [
    "xcms_params = pipeline.get_value(pipeline.pimp_params, 'xcms.params')            \n",
    "mzmatch_params = pipeline.get_value(pipeline.pimp_params, 'mzmatch.params')\n",
    "peakml_params = pipeline.get_value(pipeline.pimp_params, 'peakml.params')\n",
    "mzmatch_outputs = pipeline.get_value(pipeline.pimp_params, 'mzmatch.outputs')\n",
    "mzmatch_filters = pipeline.get_value(pipeline.pimp_params, 'mzmatch.filters')\n",
    "n_slaves = multiprocessing.cpu_count()"
   ]
  },
  {
   "cell_type": "code",
   "execution_count": 8,
   "metadata": {
    "collapsed": false
   },
   "outputs": [
    {
     "name": "stdout",
     "output_type": "stream",
     "text": [
      "Creating /Users/joewandy/git/pimp/django_projects/pimp_data/projects/9/analysis_9/pos/combined\n",
      "positive /Users/joewandy/git/pimp/django_projects/pimp_data/projects/9/analysis_9/pos /Users/joewandy/git/pimp/django_projects/pimp_data/projects/9/analysis_9/pos/combined\n"
     ]
    }
   ],
   "source": [
    "polarity = pipeline.metadata.files.keys()[0]\n",
    "polarity_dir, combined_dir = pipeline.create_input_directories(polarity, mzmatch_outputs)\n",
    "print polarity, polarity_dir, combined_dir"
   ]
  },
  {
   "cell_type": "markdown",
   "metadata": {},
   "source": [
    "### Perform peak detection, rt alignment and generate peakml files"
   ]
  },
  {
   "cell_type": "code",
   "execution_count": 9,
   "metadata": {
    "collapsed": false,
    "scrolled": false
   },
   "outputs": [],
   "source": [
    "# pipeline.create_peakml(polarity, polarity_dir, \n",
    "#                        xcms_params, mzmatch_params, peakml_params, mzmatch_outputs, n_slaves)            "
   ]
  },
  {
   "cell_type": "markdown",
   "metadata": {
    "collapsed": true
   },
   "source": [
    "### Group samples"
   ]
  },
  {
   "cell_type": "code",
   "execution_count": 10,
   "metadata": {
    "collapsed": false,
    "scrolled": false
   },
   "outputs": [
    {
     "name": "stdout",
     "output_type": "stream",
     "text": [
      "[beer_smell with 2 levels, beer_colour with 2 levels, beer_taste with 3 levels]\n",
      "beer_smell\n",
      " - smell_good ['Beer_1_full1', 'Beer_1_full2', 'Beer_1_full3', 'Beer_2_full1', 'Beer_2_full2', 'Beer_2_full3', 'Beer_3_full1', 'Beer_3_full2', 'Beer_3_full3']\n",
      " - smell_bad ['Beer_4_full1', 'Beer_4_full2', 'Beer_4_full3']\n",
      "beer_colour\n",
      " - colour_dark ['Beer_1_full1', 'Beer_1_full2', 'Beer_1_full3', 'Beer_2_full1', 'Beer_2_full2', 'Beer_2_full3']\n",
      " - colour_light ['Beer_3_full1', 'Beer_3_full2', 'Beer_3_full3', 'Beer_4_full1', 'Beer_4_full2', 'Beer_4_full3']\n",
      "beer_taste\n",
      " - taste_delicious ['Beer_1_full1', 'Beer_1_full2', 'Beer_1_full3', 'Beer_2_full1', 'Beer_2_full2', 'Beer_2_full3']\n",
      " - taste_okay ['Beer_3_full1', 'Beer_3_full2', 'Beer_3_full3']\n",
      " - taste_awful ['Beer_4_full1', 'Beer_4_full2', 'Beer_4_full3']\n",
      "(2, 2, 3)\n",
      "('combi_0', (0, 0, 0), 'smell_good,colour_dark,taste_delicious', ['Beer_1_full2', 'Beer_1_full3', 'Beer_1_full1', 'Beer_2_full1', 'Beer_2_full3', 'Beer_2_full2'])\n",
      "('combi_1', (0, 0, 1), 'smell_good,colour_dark,taste_okay', [])\n",
      "('combi_2', (0, 0, 2), 'smell_good,colour_dark,taste_awful', [])\n",
      "('combi_3', (0, 1, 0), 'smell_good,colour_light,taste_delicious', [])\n",
      "('combi_4', (0, 1, 1), 'smell_good,colour_light,taste_okay', ['Beer_3_full1', 'Beer_3_full2', 'Beer_3_full3'])\n",
      "('combi_5', (0, 1, 2), 'smell_good,colour_light,taste_awful', [])\n",
      "('combi_6', (1, 0, 0), 'smell_bad,colour_dark,taste_delicious', [])\n",
      "('combi_7', (1, 0, 1), 'smell_bad,colour_dark,taste_okay', [])\n",
      "('combi_8', (1, 0, 2), 'smell_bad,colour_dark,taste_awful', [])\n",
      "('combi_9', (1, 1, 0), 'smell_bad,colour_light,taste_delicious', [])\n",
      "('combi_10', (1, 1, 1), 'smell_bad,colour_light,taste_okay', [])\n",
      "('combi_11', (1, 1, 2), 'smell_bad,colour_light,taste_awful', ['Beer_4_full3', 'Beer_4_full2', 'Beer_4_full1'])\n",
      "Processing /Users/joewandy/git/pimp/django_projects/pimp_data/projects/9/analysis_9/pos/combined/combi_0\n",
      "2016-09-19 14:53:12 9:INFO:PuMP.callToArgList.dispatchCall:mzmatch.ipeak.Combine -i /Users/joewandy/git/pimp/django_projects/pimp_data/projects/9/analysis_9/pos/combined/combi_0/Beer_1_full1.peakml,/Users/joewandy/git/pimp/django_projects/pimp_data/projects/9/analysis_9/pos/combined/combi_0/Beer_1_full2.peakml,/Users/joewandy/git/pimp/django_projects/pimp_data/projects/9/analysis_9/pos/combined/combi_0/Beer_1_full3.peakml,/Users/joewandy/git/pimp/django_projects/pimp_data/projects/9/analysis_9/pos/combined/combi_0/Beer_2_full1.peakml,/Users/joewandy/git/pimp/django_projects/pimp_data/projects/9/analysis_9/pos/combined/combi_0/Beer_2_full2.peakml,/Users/joewandy/git/pimp/django_projects/pimp_data/projects/9/analysis_9/pos/combined/combi_0/Beer_2_full3.peakml -o /Users/joewandy/git/pimp/django_projects/pimp_data/projects/9/analysis_9/pos/combined/combi_0.peakml -label combi_0 -ppm 3 -rtwindow 30 -combination set\n",
      "Nothing to combine in /Users/joewandy/git/pimp/django_projects/pimp_data/projects/9/analysis_9/pos/combined/combi_1\n",
      "Nothing to combine in /Users/joewandy/git/pimp/django_projects/pimp_data/projects/9/analysis_9/pos/combined/combi_2\n",
      "Nothing to combine in /Users/joewandy/git/pimp/django_projects/pimp_data/projects/9/analysis_9/pos/combined/combi_3\n",
      "Processing /Users/joewandy/git/pimp/django_projects/pimp_data/projects/9/analysis_9/pos/combined/combi_4\n",
      "2016-09-19 14:53:25 9:INFO:PuMP.callToArgList.dispatchCall:mzmatch.ipeak.Combine -i /Users/joewandy/git/pimp/django_projects/pimp_data/projects/9/analysis_9/pos/combined/combi_4/Beer_3_full1.peakml,/Users/joewandy/git/pimp/django_projects/pimp_data/projects/9/analysis_9/pos/combined/combi_4/Beer_3_full2.peakml,/Users/joewandy/git/pimp/django_projects/pimp_data/projects/9/analysis_9/pos/combined/combi_4/Beer_3_full3.peakml -o /Users/joewandy/git/pimp/django_projects/pimp_data/projects/9/analysis_9/pos/combined/combi_4.peakml -label combi_4 -ppm 3 -rtwindow 30 -combination set\n",
      "Nothing to combine in /Users/joewandy/git/pimp/django_projects/pimp_data/projects/9/analysis_9/pos/combined/combi_5\n",
      "Nothing to combine in /Users/joewandy/git/pimp/django_projects/pimp_data/projects/9/analysis_9/pos/combined/combi_6\n",
      "Nothing to combine in /Users/joewandy/git/pimp/django_projects/pimp_data/projects/9/analysis_9/pos/combined/combi_7\n",
      "Nothing to combine in /Users/joewandy/git/pimp/django_projects/pimp_data/projects/9/analysis_9/pos/combined/combi_8\n",
      "Nothing to combine in /Users/joewandy/git/pimp/django_projects/pimp_data/projects/9/analysis_9/pos/combined/combi_9\n",
      "Nothing to combine in /Users/joewandy/git/pimp/django_projects/pimp_data/projects/9/analysis_9/pos/combined/combi_10\n",
      "Processing /Users/joewandy/git/pimp/django_projects/pimp_data/projects/9/analysis_9/pos/combined/combi_11\n",
      "2016-09-19 14:53:30 9:INFO:PuMP.callToArgList.dispatchCall:mzmatch.ipeak.Combine -i /Users/joewandy/git/pimp/django_projects/pimp_data/projects/9/analysis_9/pos/combined/combi_11/Beer_4_full1.peakml,/Users/joewandy/git/pimp/django_projects/pimp_data/projects/9/analysis_9/pos/combined/combi_11/Beer_4_full2.peakml,/Users/joewandy/git/pimp/django_projects/pimp_data/projects/9/analysis_9/pos/combined/combi_11/Beer_4_full3.peakml -o /Users/joewandy/git/pimp/django_projects/pimp_data/projects/9/analysis_9/pos/combined/combi_11.peakml -label combi_11 -ppm 3 -rtwindow 30 -combination set\n"
     ]
    }
   ],
   "source": [
    "pipeline.generate_peaksets(polarity, polarity_dir, combined_dir, mzmatch_params)"
   ]
  },
  {
   "cell_type": "markdown",
   "metadata": {},
   "source": [
    "### Filter samples"
   ]
  },
  {
   "cell_type": "code",
   "execution_count": 11,
   "metadata": {
    "collapsed": false
   },
   "outputs": [
    {
     "name": "stdout",
     "output_type": "stream",
     "text": [
      "2016-09-19 14:53:36 9:INFO:PuMP.callToArgList.dispatchCall:mzmatch.ipeak.filter.RSDFilter -i /Users/joewandy/git/pimp/django_projects/pimp_data/projects/9/analysis_9/pos/combined/combi_0.peakml -o /Users/joewandy/git/pimp/django_projects/pimp_data/projects/9/analysis_9/pos/combined/combi_0_rsd.peakml -rejected /Users/joewandy/git/pimp/django_projects/pimp_data/projects/9/analysis_9/pos/combined/combi_0_rsdrej.peakml -rsd 0.5\n",
      "2016-09-19 14:53:45 9:INFO:PuMP.callToArgList.dispatchCall:mzmatch.ipeak.filter.RSDFilter -i /Users/joewandy/git/pimp/django_projects/pimp_data/projects/9/analysis_9/pos/combined/combi_11.peakml -o /Users/joewandy/git/pimp/django_projects/pimp_data/projects/9/analysis_9/pos/combined/combi_11_rsd.peakml -rejected /Users/joewandy/git/pimp/django_projects/pimp_data/projects/9/analysis_9/pos/combined/combi_11_rsdrej.peakml -rsd 0.5\n",
      "2016-09-19 14:53:49 9:INFO:PuMP.callToArgList.dispatchCall:mzmatch.ipeak.filter.RSDFilter -i /Users/joewandy/git/pimp/django_projects/pimp_data/projects/9/analysis_9/pos/combined/combi_4.peakml -o /Users/joewandy/git/pimp/django_projects/pimp_data/projects/9/analysis_9/pos/combined/combi_4_rsd.peakml -rejected /Users/joewandy/git/pimp/django_projects/pimp_data/projects/9/analysis_9/pos/combined/combi_4_rsdrej.peakml -rsd 0.5\n"
     ]
    }
   ],
   "source": [
    "peaksets = pipeline.filter_peaksets(combined_dir, mzmatch_params)"
   ]
  },
  {
   "cell_type": "markdown",
   "metadata": {},
   "source": [
    "### Final group and filter"
   ]
  },
  {
   "cell_type": "code",
   "execution_count": 12,
   "metadata": {
    "collapsed": false
   },
   "outputs": [
    {
     "name": "stdout",
     "output_type": "stream",
     "text": [
      "/Users/joewandy/git/pimp/django_projects/pimp_data/projects/9/analysis_9/pos/final_combined.peakml\n"
     ]
    }
   ],
   "source": [
    "final_combined_file = pipeline.get_formatted_value(mzmatch_outputs, 'final.combined.peakml.file', \n",
    "                                                   analysis_id=analysis.id, subst=polarity[0:3])  \n",
    "final_combined_file = os.path.abspath(final_combined_file)\n",
    "print final_combined_file"
   ]
  },
  {
   "cell_type": "code",
   "execution_count": 13,
   "metadata": {
    "collapsed": false
   },
   "outputs": [
    {
     "name": "stdout",
     "output_type": "stream",
     "text": [
      "2016-09-19 14:53:54 9:INFO:PuMP.callToArgList.dispatchCall:mzmatch.ipeak.Combine -i /Users/joewandy/git/pimp/django_projects/pimp_data/projects/9/analysis_9/pos/combined/combi_0_rsd.peakml,/Users/joewandy/git/pimp/django_projects/pimp_data/projects/9/analysis_9/pos/combined/combi_11_rsd.peakml,/Users/joewandy/git/pimp/django_projects/pimp_data/projects/9/analysis_9/pos/combined/combi_4_rsd.peakml -o /Users/joewandy/git/pimp/django_projects/pimp_data/projects/9/analysis_9/pos/final_combined.peakml -label  -ppm 3 -rtwindow 30 -combination set\n"
     ]
    }
   ],
   "source": [
    "pipeline.combine_final(peaksets, final_combined_file, mzmatch_params)"
   ]
  },
  {
   "cell_type": "code",
   "execution_count": 14,
   "metadata": {
    "collapsed": false
   },
   "outputs": [
    {
     "name": "stdout",
     "output_type": "stream",
     "text": [
      "2016-09-19 14:54:01 9:INFO:PuMP.callToArgList.dispatchCall:mzmatch.ipeak.filter.NoiseFilter -i /Users/joewandy/git/pimp/django_projects/pimp_data/projects/9/analysis_9/pos/final_combined.peakml -o /Users/joewandy/git/pimp/django_projects/pimp_data/projects/9/analysis_9/pos/final_combined_nf.peakml -codadw 0.8\n",
      "2016-09-19 14:54:06 9:INFO:PuMP.callToArgList.dispatchCall:mzmatch.ipeak.filter.SimpleFilter -i /Users/joewandy/git/pimp/django_projects/pimp_data/projects/9/analysis_9/pos/final_combined_nf.peakml -o /Users/joewandy/git/pimp/django_projects/pimp_data/projects/9/analysis_9/pos/final.combined_sf.peakml -ppm 3 -mindetections 3 -minintensity 5000\n"
     ]
    },
    {
     "data": {
      "text/plain": [
       "'/Users/joewandy/git/pimp/django_projects/pimp_data/projects/9/analysis_9/pos/final.combined_sf.peakml'"
      ]
     },
     "execution_count": 14,
     "metadata": {},
     "output_type": "execute_result"
    }
   ],
   "source": [
    "pipeline.filter_final(polarity, final_combined_file, mzmatch_filters, mzmatch_params, mzmatch_outputs)"
   ]
  },
  {
   "cell_type": "code",
   "execution_count": null,
   "metadata": {
    "collapsed": true
   },
   "outputs": [],
   "source": []
  }
 ],
 "metadata": {
  "kernelspec": {
   "display_name": "Django Shell-Plus",
   "language": "python",
   "name": "django_extensions"
  },
  "language_info": {
   "codemirror_mode": {
    "name": "ipython",
    "version": 2
   },
   "file_extension": ".py",
   "mimetype": "text/x-python",
   "name": "python",
   "nbconvert_exporter": "python",
   "pygments_lexer": "ipython2",
   "version": "2.7.10"
  }
 },
 "nbformat": 4,
 "nbformat_minor": 1
}
