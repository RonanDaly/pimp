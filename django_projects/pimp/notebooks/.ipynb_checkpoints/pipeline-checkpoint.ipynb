{
 "cells": [
  {
   "cell_type": "markdown",
   "metadata": {},
   "source": [
    "# Experimental new pipeline"
   ]
  },
  {
   "cell_type": "code",
   "execution_count": 1,
   "metadata": {
    "collapsed": true
   },
   "outputs": [],
   "source": [
    "%load_ext autoreload\n",
    "%autoreload 2"
   ]
  },
  {
   "cell_type": "code",
   "execution_count": 10,
   "metadata": {
    "collapsed": true
   },
   "outputs": [],
   "source": [
    "from experiments.pipelines.pipeline_rpy2 import Rpy2Pipeline\n",
    "import rpy2.robjects as robjects\n",
    "import multiprocessing"
   ]
  },
  {
   "cell_type": "markdown",
   "metadata": {},
   "source": [
    "## Load analysis and project"
   ]
  },
  {
   "cell_type": "code",
   "execution_count": 3,
   "metadata": {
    "collapsed": false,
    "scrolled": false
   },
   "outputs": [
    {
     "name": "stderr",
     "output_type": "stream",
     "text": [
      "DEBUG 2016-09-06 16:25:47,238 utils.py:91 | (0.000) SET SQL_AUTO_IS_NULL = 0; args=None\n",
      "DEBUG 2016-09-06 16:25:47,240 utils.py:91 | (0.000) SELECT `experiments_analysis`.`id`, `experiments_analysis`.`created`, `experiments_analysis`.`submited`, `experiments_analysis`.`owner`, `experiments_analysis`.`experiment_id`, `experiments_analysis`.`params_id`, `experiments_analysis`.`status` FROM `experiments_analysis` WHERE `experiments_analysis`.`id` = 9 LIMIT 21; args=(9,)\n"
     ]
    }
   ],
   "source": [
    "analysis = Analysis.objects.get_or_create(id=9)[0]"
   ]
  },
  {
   "cell_type": "code",
   "execution_count": 4,
   "metadata": {
    "collapsed": false
   },
   "outputs": [
    {
     "name": "stderr",
     "output_type": "stream",
     "text": [
      "DEBUG 2016-09-06 16:25:49,727 utils.py:91 | (0.001) SELECT `projects_project`.`id`, `projects_project`.`title`, `projects_project`.`user_owner_id`, `projects_project`.`description`, `projects_project`.`created`, `projects_project`.`modified` FROM `projects_project` WHERE `projects_project`.`id` = 9 LIMIT 21; args=(9,)\n"
     ]
    }
   ],
   "source": [
    "project = Project.objects.get_or_create(id=9)[0]"
   ]
  },
  {
   "cell_type": "code",
   "execution_count": 5,
   "metadata": {
    "collapsed": false,
    "scrolled": true
   },
   "outputs": [
    {
     "name": "stdout",
     "output_type": "stream",
     "text": [
      "******************************************\n",
      "Setup rpy2 connection\n",
      "******************************************\n",
      "[1] \"Initialising PuMP logging\"\n",
      "[1] \"PuMP log level set to DEBUG\"\n",
      "2016-09-06 16:25:55 ERROR:pump.misc.initialisePuMPLogging:Logging at ERROR level\n",
      "2016-09-06 16:25:55 WARNING:pump.misc.initialisePuMPLogging:Logging at WARNING level\n",
      "2016-09-06 16:25:55 INFO:pump.misc.initialisePuMPLogging:Logging at INFO level\n",
      "2016-09-06 16:25:55 DEBUG:pump.misc.initialisePuMPLogging:Logging at DEBUG level\n",
      "2016-09-06 16:25:56 INFO:PeakML.Isotope.plotSamples:OS type: x86_64-apple-darwin15.5.0\n",
      "2016-09-06 16:25:56 INFO:PeakML.Isotope.plotSamples:Java parameters are: -Xmx512m\n",
      "2016-09-06 16:25:56 INFO:PeakML.Isotope.plotSamples:Using jar file /Users/joewandy/git/pimp/packrat/lib/x86_64-apple-darwin15.5.0/3.3.1/mzmatch.R/java/mzmatch-2.1-with-dependencies.jar\n",
      "2016-09-06 16:25:56 INFO:PeakML.Isotope.plotSamples:Using SWT file /Users/joewandy/git/pimp/packrat/lib/x86_64-apple-darwin15.5.0/3.3.1/mzmatch.R/java/swt-4.5-cocoa-macosx-x86_64.jar\n",
      "[1] \"Initialising PiMP logging\"\n",
      "[1] \"PiMP log level set to DEBUG\"\n",
      "2016-09-06 16:25:56 ERROR:Pimp.extra.initialisePiMPLogging:Logging at ERROR level\n",
      "2016-09-06 16:25:56 WARNING:Pimp.extra.initialisePiMPLogging:Logging at WARNING level\n",
      "2016-09-06 16:25:56 INFO:Pimp.extra.initialisePiMPLogging:Logging at INFO level\n",
      "2016-09-06 16:25:56 DEBUG:Pimp.extra.initialisePiMPLogging:Logging at DEBUG level\n"
     ]
    }
   ],
   "source": [
    "pipeline = Rpy2Pipeline(analysis, project, False)"
   ]
  },
  {
   "cell_type": "code",
   "execution_count": 6,
   "metadata": {
    "collapsed": false
   },
   "outputs": [
    {
     "name": "stderr",
     "output_type": "stream",
     "text": [
      "/Users/joewandy/git/pimp/venv/lib/python2.7/site-packages/rpy2/robjects/functions.py:106: UserWarning: Loading required package: RUnit\n",
      "\n",
      "  res = super(Function, self).__call__(*new_args, **new_kwargs)\n",
      "\n",
      "WARNING 2016-09-06 16:25:58,581 functions.py:106 | /Users/joewandy/git/pimp/venv/lib/python2.7/site-packages/rpy2/robjects/functions.py:106: UserWarning: Loading required package: RUnit\n",
      "\n",
      "  res = super(Function, self).__call__(*new_args, **new_kwargs)\n",
      "\n",
      "/Users/joewandy/git/pimp/venv/lib/python2.7/site-packages/rpy2/robjects/functions.py:106: UserWarning: Loading required package: DBI\n",
      "\n",
      "  res = super(Function, self).__call__(*new_args, **new_kwargs)\n",
      "\n",
      "WARNING 2016-09-06 16:25:58,611 functions.py:106 | /Users/joewandy/git/pimp/venv/lib/python2.7/site-packages/rpy2/robjects/functions.py:106: UserWarning: Loading required package: DBI\n",
      "\n",
      "  res = super(Function, self).__call__(*new_args, **new_kwargs)\n",
      "\n",
      "/Users/joewandy/git/pimp/venv/lib/python2.7/site-packages/rpy2/robjects/functions.py:106: UserWarning: Setting analysis directory to: analysis_9\n",
      "\n",
      "  res = super(Function, self).__call__(*new_args, **new_kwargs)\n",
      "\n"
     ]
    },
    {
     "name": "stdout",
     "output_type": "stream",
     "text": [
      "Setup called\n",
      "2016-09-06 16:25:58 INFO:Pimp.getPimpWd:Data dir: /Users/joewandy/git/pimp/django_projects/pimp_data/projects\n",
      "2016-09-06 16:25:58 INFO:Pimp.getPimpWd:Project dir: /Users/joewandy/git/pimp/django_projects/pimp_data/projects/9\n",
      "2016-09-06 16:25:58 INFO:Pimp.extra.setPiMPLoggerAnalysisID:Setting analysis ID in logger to 9\n",
      "2016-09-06 16:25:58 9:INFO:Pimp.extra.setPiMPLoggerAnalysisID:Analysis id set\n",
      "2016-09-06 16:25:58 9:INFO:Pimp.validateInput:Input validated correctly!\n",
      "2016-09-06 16:25:58 9:INFO:Pimp.extra.setPiMPLoggerAnalysisID:Setting analysis ID in logger to 9\n",
      "2016-09-06 16:25:58 9:INFO:Pimp.extra.setPiMPLoggerAnalysisID:Analysis id set\n",
      "2016-09-06 16:25:58 9:INFO:Pimp.getAnalysisParams:Setting params\n",
      "2016-09-06 16:25:58 9:DEBUG:Pimp.getAnalysisParams:Name: iqr Value: 0.5\n",
      "2016-09-06 16:25:58 9:DEBUG:Pimp.getAnalysisParams:Name: rsd Value: 0.5\n",
      "2016-09-06 16:25:58 9:DEBUG:Pimp.getAnalysisParams:Name: noise Value: 0.8\n",
      "2016-09-06 16:25:58 9:DEBUG:Pimp.getAnalysisParams:Name: ppm Value: 3\n",
      "2016-09-06 16:25:58 9:DEBUG:Pimp.getAnalysisParams:Name: mindetections Value: 3\n",
      "2016-09-06 16:25:58 9:DEBUG:Pimp.getAnalysisParams:Name: minintensity Value: 5000\n",
      "2016-09-06 16:25:58 9:DEBUG:Pimp.getAnalysisParams:Name: rtwindow Value: 0.05\n",
      "2016-09-06 16:25:58 9:DEBUG:Pimp.getAnalysisParams:Name: rt.alignment Value: NA\n",
      "2016-09-06 16:25:58 9:DEBUG:Pimp.getAnalysisParams:Name: noise Value: 0.8\n",
      "2016-09-06 16:25:58 9:DEBUG:Pimp.getAnalysisParams:Name: rtwindow Value: 0.05\n",
      "2016-09-06 16:25:58 9:INFO:Pimp.extra.setPiMPLoggerAnalysisID:Setting analysis ID in logger to 9\n",
      "2016-09-06 16:25:58 9:INFO:Pimp.extra.setPiMPLoggerAnalysisID:Analysis id set\n"
     ]
    },
    {
     "name": "stderr",
     "output_type": "stream",
     "text": [
      "WARNING 2016-09-06 16:25:58,822 functions.py:106 | /Users/joewandy/git/pimp/venv/lib/python2.7/site-packages/rpy2/robjects/functions.py:106: UserWarning: Setting analysis directory to: analysis_9\n",
      "\n",
      "  res = super(Function, self).__call__(*new_args, **new_kwargs)\n",
      "\n"
     ]
    },
    {
     "name": "stdout",
     "output_type": "stream",
     "text": [
      "2016-09-06 16:25:58 9:INFO:Pimp.createAnalysisDir:Analysis dir created at analysis_9\n"
     ]
    }
   ],
   "source": [
    "pipeline.setup()"
   ]
  },
  {
   "cell_type": "markdown",
   "metadata": {},
   "source": [
    "## Peak detection"
   ]
  },
  {
   "cell_type": "code",
   "execution_count": 27,
   "metadata": {
    "collapsed": false
   },
   "outputs": [],
   "source": [
    "def get_value(params, key):\n",
    "    return params[params.names.index(key)]"
   ]
  },
  {
   "cell_type": "code",
   "execution_count": 25,
   "metadata": {
    "collapsed": false
   },
   "outputs": [],
   "source": [
    "params = pipeline.pimp_params\n",
    "xcms_params = params[params.names.index('xcms.params')]\n",
    "n_slaves = multiprocessing.cpu_count()-1\n",
    "positive_files = pipeline.metadata.files['positive']"
   ]
  },
  {
   "cell_type": "code",
   "execution_count": null,
   "metadata": {
    "collapsed": true
   },
   "outputs": [],
   "source": [
    "def peak_detection(files, xcms_params, n_slaves):\n",
    "\n",
    "    # collect the parameters\n",
    "    method = get_value(xcms_params, 'method')\n",
    "    ppm = get_value(xcms_params, 'ppm')\n",
    "    peakwidth = get_value(xcms_params, 'peakwidth')\n",
    "    snthresh = get_value(xcms_params, 'snthresh')\n",
    "    prefilter = get_value(xcms_params, 'prefilter')\n",
    "    integrate = get_value(xcms_params, 'integrate')\n",
    "    mzdiff = get_value(xcms_params, 'mzdiff')\n",
    "    # verbose.columns = get_value(xcms_params, 'verbose.columns')\n",
    "    fitgauss = get_value(xcms_params, 'fitgauss')\n",
    "\n",
    "    # call centwave\n",
    "    xcms_set = robjects.r['xcmsSet']    \n",
    "    xset = xcms_set(files, method=method, ppm=ppm, peakwidth=peakwidth,\n",
    "                   snthresh=snthresh, prefilter=prefilter, integrate=integrate,\n",
    "                   mzdiff=mzdiff, )\n",
    "    \n",
    "    \n",
    "    \n",
    "    "
   ]
  },
  {
   "cell_type": "code",
   "execution_count": 26,
   "metadata": {
    "collapsed": false
   },
   "outputs": [
    {
     "name": "stdout",
     "output_type": "stream",
     "text": [
      "$method\n",
      "[1] \"centWave\"\n",
      "\n",
      "$ppm\n",
      "[1] 3\n",
      "\n",
      "$peakwidth\n",
      "[1]   5 100\n",
      "\n",
      "$snthresh\n",
      "[1] 2\n",
      "\n",
      "$prefilter\n",
      "[1]   2 500\n",
      "\n",
      "$integrate\n",
      "[1] 1\n",
      "\n",
      "$mzdiff\n",
      "[1] 0.001\n",
      "\n",
      "$verbose.columns\n",
      "[1] TRUE\n",
      "\n",
      "$fitgauss\n",
      "[1] FALSE\n",
      "\n",
      "\n"
     ]
    }
   ],
   "source": [
    "print xcms_params"
   ]
  },
  {
   "cell_type": "code",
   "execution_count": null,
   "metadata": {
    "collapsed": true
   },
   "outputs": [],
   "source": []
  }
 ],
 "metadata": {
  "kernelspec": {
   "display_name": "Django Shell-Plus",
   "language": "python",
   "name": "django_extensions"
  },
  "language_info": {
   "codemirror_mode": {
    "name": "ipython",
    "version": 2
   },
   "file_extension": ".py",
   "mimetype": "text/x-python",
   "name": "python",
   "nbconvert_exporter": "python",
   "pygments_lexer": "ipython2",
   "version": "2.7.10"
  }
 },
 "nbformat": 4,
 "nbformat_minor": 1
}
