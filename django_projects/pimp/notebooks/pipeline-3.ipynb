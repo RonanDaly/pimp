{
 "cells": [
  {
   "cell_type": "markdown",
   "metadata": {},
   "source": [
    "# Experimental new pipeline"
   ]
  },
  {
   "cell_type": "code",
   "execution_count": 1,
   "metadata": {
    "collapsed": false
   },
   "outputs": [],
   "source": [
    "%load_ext autoreload\n",
    "%autoreload 2"
   ]
  },
  {
   "cell_type": "code",
   "execution_count": 2,
   "metadata": {
    "collapsed": true
   },
   "outputs": [],
   "source": [
    "from experiments.pipelines.pipeline_rpy2 import Rpy2Pipeline\n",
    "import multiprocessing"
   ]
  },
  {
   "cell_type": "markdown",
   "metadata": {},
   "source": [
    "## Load analysis and project"
   ]
  },
  {
   "cell_type": "code",
   "execution_count": 3,
   "metadata": {
    "collapsed": false,
    "scrolled": false
   },
   "outputs": [
    {
     "name": "stderr",
     "output_type": "stream",
     "text": [
      "DEBUG 2016-09-21 16:35:19,075 utils.py:91 | (0.000) SET SQL_AUTO_IS_NULL = 0; args=None\n",
      "DEBUG 2016-09-21 16:35:19,076 utils.py:91 | (0.000) SELECT `experiments_analysis`.`id`, `experiments_analysis`.`created`, `experiments_analysis`.`submited`, `experiments_analysis`.`owner`, `experiments_analysis`.`experiment_id`, `experiments_analysis`.`params_id`, `experiments_analysis`.`status` FROM `experiments_analysis` WHERE `experiments_analysis`.`id` = 1 LIMIT 21; args=(1,)\n"
     ]
    }
   ],
   "source": [
    "analysis = Analysis.objects.get_or_create(id=1)[0]"
   ]
  },
  {
   "cell_type": "code",
   "execution_count": 4,
   "metadata": {
    "collapsed": false,
    "scrolled": false
   },
   "outputs": [
    {
     "name": "stderr",
     "output_type": "stream",
     "text": [
      "DEBUG 2016-09-21 16:35:19,108 utils.py:91 | (0.000) SELECT `projects_project`.`id`, `projects_project`.`title`, `projects_project`.`user_owner_id`, `projects_project`.`description`, `projects_project`.`created`, `projects_project`.`modified` FROM `projects_project` WHERE `projects_project`.`id` = 1 LIMIT 21; args=(1,)\n"
     ]
    }
   ],
   "source": [
    "project = Project.objects.get_or_create(id=1)[0]"
   ]
  },
  {
   "cell_type": "markdown",
   "metadata": {},
   "source": [
    "## Get files etc"
   ]
  },
  {
   "cell_type": "code",
   "execution_count": 5,
   "metadata": {
    "collapsed": false
   },
   "outputs": [],
   "source": [
    "# experiment = analysis.experiment\n",
    "# print experiment.id, experiment"
   ]
  },
  {
   "cell_type": "code",
   "execution_count": 6,
   "metadata": {
    "collapsed": false
   },
   "outputs": [],
   "source": [
    "# comparisons = experiment.comparison_set.all()\n",
    "# for comparison in comparisons:\n",
    "#     print comparison, attributes\n",
    "#     attributes = Attribute.objects.filter(comparison__id = comparison.id)\n",
    "#     for attribute in attributes:\n",
    "#         samples = Sample.objects.filter(attribute__id = attribute.id)\n",
    "#         print samples"
   ]
  },
  {
   "cell_type": "markdown",
   "metadata": {},
   "source": [
    "## Start the pipeline"
   ]
  },
  {
   "cell_type": "code",
   "execution_count": 7,
   "metadata": {
    "collapsed": false,
    "scrolled": true
   },
   "outputs": [
    {
     "name": "stdout",
     "output_type": "stream",
     "text": [
      "******************************************\n",
      "Setup rpy2 connection\n",
      "******************************************\n",
      "[1] \"Initialising PuMP logging\"\n",
      "[1] \"PuMP log level set to DEBUG\"\n",
      "2016-09-21 16:35:22 ERROR:pump.misc.initialisePuMPLogging:Logging at ERROR level\n",
      "2016-09-21 16:35:22 WARNING:pump.misc.initialisePuMPLogging:Logging at WARNING level\n",
      "2016-09-21 16:35:22 INFO:pump.misc.initialisePuMPLogging:Logging at INFO level\n",
      "2016-09-21 16:35:22 DEBUG:pump.misc.initialisePuMPLogging:Logging at DEBUG level\n",
      "2016-09-21 16:35:23 INFO:PeakML.Isotope.plotSamples:OS type: x86_64-apple-darwin15.5.0\n",
      "2016-09-21 16:35:23 INFO:PeakML.Isotope.plotSamples:Java parameters are: -Xmx512m\n",
      "2016-09-21 16:35:23 INFO:PeakML.Isotope.plotSamples:Using jar file /Users/joewandy/git/pimp/packrat/lib/x86_64-apple-darwin15.5.0/3.3.1/mzmatch.R/java/mzmatch-2.1-with-dependencies.jar\n",
      "2016-09-21 16:35:23 INFO:PeakML.Isotope.plotSamples:Using SWT file /Users/joewandy/git/pimp/packrat/lib/x86_64-apple-darwin15.5.0/3.3.1/mzmatch.R/java/swt-4.5-cocoa-macosx-x86_64.jar\n",
      "[1] \"Initialising PiMP logging\"\n",
      "[1] \"PiMP log level set to DEBUG\"\n",
      "2016-09-21 16:35:23 ERROR:Pimp.extra.initialisePiMPLogging:Logging at ERROR level\n",
      "2016-09-21 16:35:23 WARNING:Pimp.extra.initialisePiMPLogging:Logging at WARNING level\n",
      "2016-09-21 16:35:23 INFO:Pimp.extra.initialisePiMPLogging:Logging at INFO level\n",
      "2016-09-21 16:35:23 DEBUG:Pimp.extra.initialisePiMPLogging:Logging at DEBUG level\n",
      "2016-09-21 16:35:23 INFO:PeakML.Isotope.plotSamples:OS type: x86_64-apple-darwin15.5.0\n",
      "2016-09-21 16:35:23 INFO:PeakML.Isotope.plotSamples:Java parameters are: -Xmx8192m\n",
      "2016-09-21 16:35:23 INFO:PeakML.Isotope.plotSamples:Using jar file /Users/joewandy/git/pimp/packrat/lib/x86_64-apple-darwin15.5.0/3.3.1/mzmatch.R/java/mzmatch-2.1-with-dependencies.jar\n",
      "2016-09-21 16:35:23 INFO:PeakML.Isotope.plotSamples:Using SWT file /Users/joewandy/git/pimp/packrat/lib/x86_64-apple-darwin15.5.0/3.3.1/mzmatch.R/java/swt-4.5-cocoa-macosx-x86_64.jar\n"
     ]
    }
   ],
   "source": [
    "pipeline = Rpy2Pipeline(analysis, project, False)"
   ]
  },
  {
   "cell_type": "code",
   "execution_count": 8,
   "metadata": {
    "collapsed": false
   },
   "outputs": [
    {
     "name": "stderr",
     "output_type": "stream",
     "text": [
      "/Users/joewandy/git/pimp/venv/lib/python2.7/site-packages/rpy2/robjects/functions.py:106: UserWarning: Loading required package: RUnit\n",
      "\n",
      "  res = super(Function, self).__call__(*new_args, **new_kwargs)\n",
      "\n",
      "WARNING 2016-09-21 16:35:23,957 functions.py:106 | /Users/joewandy/git/pimp/venv/lib/python2.7/site-packages/rpy2/robjects/functions.py:106: UserWarning: Loading required package: RUnit\n",
      "\n",
      "  res = super(Function, self).__call__(*new_args, **new_kwargs)\n",
      "\n",
      "/Users/joewandy/git/pimp/venv/lib/python2.7/site-packages/rpy2/robjects/functions.py:106: UserWarning: Loading required package: DBI\n",
      "\n",
      "  res = super(Function, self).__call__(*new_args, **new_kwargs)\n",
      "\n"
     ]
    },
    {
     "name": "stdout",
     "output_type": "stream",
     "text": [
      "Setup called\n",
      "2016-09-21 16:35:23 INFO:Pimp.getPimpWd:Data dir: /Users/joewandy/git/pimp/django_projects/pimp_data/projects\n",
      "2016-09-21 16:35:23 INFO:Pimp.getPimpWd:Project dir: /Users/joewandy/git/pimp/django_projects/pimp_data/projects/1\n",
      "2016-09-21 16:35:23 INFO:Pimp.extra.setPiMPLoggerAnalysisID:Setting analysis ID in logger to 1\n",
      "2016-09-21 16:35:23 1:INFO:Pimp.extra.setPiMPLoggerAnalysisID:Analysis id set\n",
      "2016-09-21 16:35:23 1:INFO:Pimp.validateInput:Input validated correctly!\n",
      "2016-09-21 16:35:23 1:INFO:Pimp.extra.setPiMPLoggerAnalysisID:Setting analysis ID in logger to 1\n",
      "2016-09-21 16:35:23 1:INFO:Pimp.extra.setPiMPLoggerAnalysisID:Analysis id set\n"
     ]
    },
    {
     "name": "stderr",
     "output_type": "stream",
     "text": [
      "WARNING 2016-09-21 16:35:23,983 functions.py:106 | /Users/joewandy/git/pimp/venv/lib/python2.7/site-packages/rpy2/robjects/functions.py:106: UserWarning: Loading required package: DBI\n",
      "\n",
      "  res = super(Function, self).__call__(*new_args, **new_kwargs)\n",
      "\n",
      "/Users/joewandy/git/pimp/venv/lib/python2.7/site-packages/rpy2/robjects/functions.py:106: UserWarning: Setting analysis directory to: analysis_1\n",
      "\n",
      "  res = super(Function, self).__call__(*new_args, **new_kwargs)\n",
      "\n"
     ]
    },
    {
     "name": "stdout",
     "output_type": "stream",
     "text": [
      "2016-09-21 16:35:24 1:INFO:Pimp.getAnalysisParams:Setting params\n",
      "2016-09-21 16:35:24 1:DEBUG:Pimp.getAnalysisParams:Name: iqr Value: 0.5\n",
      "2016-09-21 16:35:24 1:DEBUG:Pimp.getAnalysisParams:Name: rsd Value: 0.5\n",
      "2016-09-21 16:35:24 1:DEBUG:Pimp.getAnalysisParams:Name: noise Value: 0.8\n",
      "2016-09-21 16:35:24 1:DEBUG:Pimp.getAnalysisParams:Name: ppm Value: 3\n",
      "2016-09-21 16:35:24 1:DEBUG:Pimp.getAnalysisParams:Name: mindetections Value: 3\n",
      "2016-09-21 16:35:24 1:DEBUG:Pimp.getAnalysisParams:Name: minintensity Value: 5000\n",
      "2016-09-21 16:35:24 1:DEBUG:Pimp.getAnalysisParams:Name: rtwindow Value: 0.05\n",
      "2016-09-21 16:35:24 1:DEBUG:Pimp.getAnalysisParams:Name: rt.alignment Value: NA\n",
      "2016-09-21 16:35:24 1:DEBUG:Pimp.getAnalysisParams:Name: noise Value: 0.8\n",
      "2016-09-21 16:35:24 1:DEBUG:Pimp.getAnalysisParams:Name: rtwindow Value: 0.05\n",
      "2016-09-21 16:35:24 1:INFO:Pimp.extra.setPiMPLoggerAnalysisID:Setting analysis ID in logger to 1\n",
      "2016-09-21 16:35:24 1:INFO:Pimp.extra.setPiMPLoggerAnalysisID:Analysis id set\n"
     ]
    },
    {
     "name": "stderr",
     "output_type": "stream",
     "text": [
      "WARNING 2016-09-21 16:35:24,203 functions.py:106 | /Users/joewandy/git/pimp/venv/lib/python2.7/site-packages/rpy2/robjects/functions.py:106: UserWarning: Setting analysis directory to: analysis_1\n",
      "\n",
      "  res = super(Function, self).__call__(*new_args, **new_kwargs)\n",
      "\n"
     ]
    },
    {
     "name": "stdout",
     "output_type": "stream",
     "text": [
      "2016-09-21 16:35:24 1:INFO:Pimp.createAnalysisDir:Analysis dir created at analysis_1\n",
      "2016-09-21 16:35:24 1:INFO:Pimp.stds.createAnnotationFile:Creating annotation file from calibration_samples/standard/Std1_1_20150422_150810.csv,calibration_samples/standard/Std2_1_20150422_150711.csv,calibration_samples/standard/Std3_1_20150422_150553.csv, outputting to analysis_1/stds_db.xml\n",
      "2016-09-21 16:35:24 1:INFO:Pimp.stds.createAnnotationFile.parseStandardsFiles:Parsing standards files\n",
      "2016-09-21 16:35:24 1:INFO:Pimp.stds.createAnnotationFile.determineFileParser:Parser for calibration_samples/standard/Std1_1_20150422_150810.csv is .parse.toxid.file\n",
      "2016-09-21 16:35:24 1:INFO:Pimp.stds.createAnnotationFile.parse.toxid.file:Parsing toxid file: calibration_samples/standard/Std1_1_20150422_150810.csv\n",
      "2016-09-21 16:35:24 1:INFO:Pimp.stds.createAnnotationFile.determineFileParser:Parser for calibration_samples/standard/Std2_1_20150422_150711.csv is .parse.toxid.file\n",
      "2016-09-21 16:35:24 1:INFO:Pimp.stds.createAnnotationFile.parse.toxid.file:Parsing toxid file: calibration_samples/standard/Std2_1_20150422_150711.csv\n",
      "2016-09-21 16:35:24 1:INFO:Pimp.stds.createAnnotationFile.determineFileParser:Parser for calibration_samples/standard/Std3_1_20150422_150553.csv is .parse.toxid.file\n",
      "2016-09-21 16:35:24 1:INFO:Pimp.stds.createAnnotationFile.parse.toxid.file:Parsing toxid file: calibration_samples/standard/Std3_1_20150422_150553.csv\n",
      "2016-09-21 16:35:24 1:INFO:Pimp.stds.createAnnotationFile:Matching names to standard2InChIKey database\n"
     ]
    }
   ],
   "source": [
    "pipeline.setup()"
   ]
  },
  {
   "cell_type": "code",
   "execution_count": 9,
   "metadata": {
    "collapsed": false
   },
   "outputs": [],
   "source": [
    "xcms_params = pipeline.get_value(pipeline.pimp_params, 'xcms.params')            \n",
    "mzmatch_params = pipeline.get_value(pipeline.pimp_params, 'mzmatch.params')\n",
    "peakml_params = pipeline.get_value(pipeline.pimp_params, 'peakml.params')\n",
    "mzmatch_outputs = pipeline.get_value(pipeline.pimp_params, 'mzmatch.outputs')\n",
    "mzmatch_filters = pipeline.get_value(pipeline.pimp_params, 'mzmatch.filters')\n",
    "n_slaves = multiprocessing.cpu_count()"
   ]
  },
  {
   "cell_type": "code",
   "execution_count": 10,
   "metadata": {
    "collapsed": false
   },
   "outputs": [],
   "source": [
    "raw_data_dict = {}\n",
    "groups_dict = {}\n",
    "polarity_pos, polarity_neg = pipeline.metadata.files.keys()"
   ]
  },
  {
   "cell_type": "markdown",
   "metadata": {
    "collapsed": true
   },
   "source": [
    "## Process positive raw data"
   ]
  },
  {
   "cell_type": "code",
   "execution_count": 11,
   "metadata": {
    "collapsed": false,
    "scrolled": true
   },
   "outputs": [
    {
     "name": "stdout",
     "output_type": "stream",
     "text": [
      "Creating /Users/joewandy/git/pimp/django_projects/pimp_data/projects/1/analysis_1/positive/combined\n",
      "------------------------------------------------\n",
      "positive /Users/joewandy/git/pimp/django_projects/pimp_data/projects/1/analysis_1/positive /Users/joewandy/git/pimp/django_projects/pimp_data/projects/1/analysis_1/positive/combined\n",
      "------------------------------------------------\n",
      "[beer_smell with 2 levels, beer_colour with 2 levels, beer_taste with 3 levels]\n",
      "beer_smell\n",
      " - smell_good ['Beer_1_full1', 'Beer_1_full2', 'Beer_1_full3', 'Beer_2_full1', 'Beer_2_full2', 'Beer_2_full3', 'Beer_3_full1', 'Beer_3_full2', 'Beer_3_full3']\n",
      " - smell_bad ['Beer_4_full1', 'Beer_4_full2', 'Beer_4_full3']\n",
      "beer_colour\n",
      " - colour_dark ['Beer_1_full1', 'Beer_1_full2', 'Beer_1_full3', 'Beer_2_full1', 'Beer_2_full2', 'Beer_2_full3']\n",
      " - colour_light ['Beer_3_full1', 'Beer_3_full2', 'Beer_3_full3', 'Beer_4_full1', 'Beer_4_full2', 'Beer_4_full3']\n",
      "beer_taste\n",
      " - taste_delicious ['Beer_1_full1', 'Beer_1_full2', 'Beer_1_full3', 'Beer_2_full1', 'Beer_2_full2', 'Beer_2_full3']\n",
      " - taste_okay ['Beer_3_full1', 'Beer_3_full2', 'Beer_3_full3']\n",
      " - taste_awful ['Beer_4_full1', 'Beer_4_full2', 'Beer_4_full3']\n",
      "(2, 2, 3)\n",
      "('group_0', (0, 0, 0), 'smell_good,colour_dark,taste_delicious', ['Beer_1_full2', 'Beer_1_full3', 'Beer_1_full1', 'Beer_2_full1', 'Beer_2_full3', 'Beer_2_full2'])\n",
      "('group_1', (0, 0, 1), 'smell_good,colour_dark,taste_okay', [])\n",
      "('group_2', (0, 0, 2), 'smell_good,colour_dark,taste_awful', [])\n",
      "('group_3', (0, 1, 0), 'smell_good,colour_light,taste_delicious', [])\n",
      "('group_4', (0, 1, 1), 'smell_good,colour_light,taste_okay', ['Beer_3_full1', 'Beer_3_full2', 'Beer_3_full3'])\n",
      "('group_5', (0, 1, 2), 'smell_good,colour_light,taste_awful', [])\n",
      "('group_6', (1, 0, 0), 'smell_bad,colour_dark,taste_delicious', [])\n",
      "('group_7', (1, 0, 1), 'smell_bad,colour_dark,taste_okay', [])\n",
      "('group_8', (1, 0, 2), 'smell_bad,colour_dark,taste_awful', [])\n",
      "('group_9', (1, 1, 0), 'smell_bad,colour_light,taste_delicious', [])\n",
      "('group_10', (1, 1, 1), 'smell_bad,colour_light,taste_okay', [])\n",
      "('group_11', (1, 1, 2), 'smell_bad,colour_light,taste_awful', ['Beer_4_full3', 'Beer_4_full2', 'Beer_4_full1'])\n",
      "Processing /Users/joewandy/git/pimp/django_projects/pimp_data/projects/1/analysis_1/positive/combined/group_0\n",
      "2016-09-21 16:35:25 1:INFO:PuMP.callToArgList.dispatchCall:mzmatch.ipeak.Combine -i /Users/joewandy/git/pimp/django_projects/pimp_data/projects/1/analysis_1/positive/combined/group_0/Beer_1_full1.peakml,/Users/joewandy/git/pimp/django_projects/pimp_data/projects/1/analysis_1/positive/combined/group_0/Beer_1_full2.peakml,/Users/joewandy/git/pimp/django_projects/pimp_data/projects/1/analysis_1/positive/combined/group_0/Beer_1_full3.peakml,/Users/joewandy/git/pimp/django_projects/pimp_data/projects/1/analysis_1/positive/combined/group_0/Beer_2_full1.peakml,/Users/joewandy/git/pimp/django_projects/pimp_data/projects/1/analysis_1/positive/combined/group_0/Beer_2_full2.peakml,/Users/joewandy/git/pimp/django_projects/pimp_data/projects/1/analysis_1/positive/combined/group_0/Beer_2_full3.peakml -o /Users/joewandy/git/pimp/django_projects/pimp_data/projects/1/analysis_1/positive/combined/group_0.peakml -label group_0 -ppm 3 -rtwindow 30 -combination set\n",
      "Nothing to combine in /Users/joewandy/git/pimp/django_projects/pimp_data/projects/1/analysis_1/positive/combined/group_1\n",
      "Nothing to combine in /Users/joewandy/git/pimp/django_projects/pimp_data/projects/1/analysis_1/positive/combined/group_2\n",
      "Nothing to combine in /Users/joewandy/git/pimp/django_projects/pimp_data/projects/1/analysis_1/positive/combined/group_3\n",
      "Processing /Users/joewandy/git/pimp/django_projects/pimp_data/projects/1/analysis_1/positive/combined/group_4\n",
      "2016-09-21 16:35:40 1:INFO:PuMP.callToArgList.dispatchCall:mzmatch.ipeak.Combine -i /Users/joewandy/git/pimp/django_projects/pimp_data/projects/1/analysis_1/positive/combined/group_4/Beer_3_full1.peakml,/Users/joewandy/git/pimp/django_projects/pimp_data/projects/1/analysis_1/positive/combined/group_4/Beer_3_full2.peakml,/Users/joewandy/git/pimp/django_projects/pimp_data/projects/1/analysis_1/positive/combined/group_4/Beer_3_full3.peakml -o /Users/joewandy/git/pimp/django_projects/pimp_data/projects/1/analysis_1/positive/combined/group_4.peakml -label group_4 -ppm 3 -rtwindow 30 -combination set\n",
      "Nothing to combine in /Users/joewandy/git/pimp/django_projects/pimp_data/projects/1/analysis_1/positive/combined/group_5\n",
      "Nothing to combine in /Users/joewandy/git/pimp/django_projects/pimp_data/projects/1/analysis_1/positive/combined/group_6\n",
      "Nothing to combine in /Users/joewandy/git/pimp/django_projects/pimp_data/projects/1/analysis_1/positive/combined/group_7\n",
      "Nothing to combine in /Users/joewandy/git/pimp/django_projects/pimp_data/projects/1/analysis_1/positive/combined/group_8\n",
      "Nothing to combine in /Users/joewandy/git/pimp/django_projects/pimp_data/projects/1/analysis_1/positive/combined/group_9\n",
      "Nothing to combine in /Users/joewandy/git/pimp/django_projects/pimp_data/projects/1/analysis_1/positive/combined/group_10\n",
      "Processing /Users/joewandy/git/pimp/django_projects/pimp_data/projects/1/analysis_1/positive/combined/group_11\n",
      "2016-09-21 16:35:46 1:INFO:PuMP.callToArgList.dispatchCall:mzmatch.ipeak.Combine -i /Users/joewandy/git/pimp/django_projects/pimp_data/projects/1/analysis_1/positive/combined/group_11/Beer_4_full1.peakml,/Users/joewandy/git/pimp/django_projects/pimp_data/projects/1/analysis_1/positive/combined/group_11/Beer_4_full2.peakml,/Users/joewandy/git/pimp/django_projects/pimp_data/projects/1/analysis_1/positive/combined/group_11/Beer_4_full3.peakml -o /Users/joewandy/git/pimp/django_projects/pimp_data/projects/1/analysis_1/positive/combined/group_11.peakml -label group_11 -ppm 3 -rtwindow 30 -combination set\n",
      "2016-09-21 16:35:52 1:INFO:PuMP.callToArgList.dispatchCall:mzmatch.ipeak.filter.RSDFilter -i /Users/joewandy/git/pimp/django_projects/pimp_data/projects/1/analysis_1/positive/combined/group_0.peakml -o /Users/joewandy/git/pimp/django_projects/pimp_data/projects/1/analysis_1/positive/combined/group_0_rsd.peakml -rejected /Users/joewandy/git/pimp/django_projects/pimp_data/projects/1/analysis_1/positive/combined/group_0_rsdrej.peakml -rsd 0.5\n",
      "2016-09-21 16:36:01 1:INFO:PuMP.callToArgList.dispatchCall:mzmatch.ipeak.filter.RSDFilter -i /Users/joewandy/git/pimp/django_projects/pimp_data/projects/1/analysis_1/positive/combined/group_11.peakml -o /Users/joewandy/git/pimp/django_projects/pimp_data/projects/1/analysis_1/positive/combined/group_11_rsd.peakml -rejected /Users/joewandy/git/pimp/django_projects/pimp_data/projects/1/analysis_1/positive/combined/group_11_rsdrej.peakml -rsd 0.5\n",
      "2016-09-21 16:36:07 1:INFO:PuMP.callToArgList.dispatchCall:mzmatch.ipeak.filter.RSDFilter -i /Users/joewandy/git/pimp/django_projects/pimp_data/projects/1/analysis_1/positive/combined/group_4.peakml -o /Users/joewandy/git/pimp/django_projects/pimp_data/projects/1/analysis_1/positive/combined/group_4_rsd.peakml -rejected /Users/joewandy/git/pimp/django_projects/pimp_data/projects/1/analysis_1/positive/combined/group_4_rsdrej.peakml -rsd 0.5\n",
      "2016-09-21 16:36:12 1:INFO:PuMP.callToArgList.dispatchCall:mzmatch.ipeak.Combine -i /Users/joewandy/git/pimp/django_projects/pimp_data/projects/1/analysis_1/positive/combined/group_0_rsd.peakml,/Users/joewandy/git/pimp/django_projects/pimp_data/projects/1/analysis_1/positive/combined/group_11_rsd.peakml,/Users/joewandy/git/pimp/django_projects/pimp_data/projects/1/analysis_1/positive/combined/group_4_rsd.peakml -o /Users/joewandy/git/pimp/django_projects/pimp_data/projects/1/analysis_1/positive/final_combined.peakml -label  -ppm 3 -rtwindow 30 -combination set\n",
      "2016-09-21 16:36:18 1:INFO:PuMP.callToArgList.dispatchCall:mzmatch.ipeak.filter.NoiseFilter -i /Users/joewandy/git/pimp/django_projects/pimp_data/projects/1/analysis_1/positive/final_combined.peakml -o /Users/joewandy/git/pimp/django_projects/pimp_data/projects/1/analysis_1/positive/final_combined_nf.peakml -codadw 0.8\n",
      "2016-09-21 16:36:24 1:INFO:PuMP.callToArgList.dispatchCall:mzmatch.ipeak.filter.SimpleFilter -i /Users/joewandy/git/pimp/django_projects/pimp_data/projects/1/analysis_1/positive/final_combined_nf.peakml -o /Users/joewandy/git/pimp/django_projects/pimp_data/projects/1/analysis_1/positive/final.combined_sf.peakml -ppm 3 -mindetections 3 -minintensity 5000\n",
      "2016-09-21 16:36:28 1:INFO:PuMP.callToArgList.dispatchCall:mzmatch.ipeak.sort.RelatedPeaks -i /Users/joewandy/git/pimp/django_projects/pimp_data/projects/1/analysis_1/positive/final.combined_sf.peakml -o /Users/joewandy/git/pimp/django_projects/pimp_data/projects/1/analysis_1/positive/final_combined_related.peakml -basepeaks /Users/joewandy/git/pimp/django_projects/pimp_data/projects/1/analysis_1/positive/final_combined_basepeaks.peakml -ppm 3 -rtwindow 30\n",
      "2016-09-21 16:36:38 1:INFO:PuMP.callToArgList.dispatchCall:mzmatch.ipeak.util.Identify -i analysis_1/positive/final_combined_related.peakml -o analysis_1/positive/final_combined_related_identified_hmdb.peakml -ppm 3 -databases /Users/joewandy/git/pimp/packrat/lib/x86_64-apple-darwin15.5.0/3.3.1/PiMP/dbs/hmdb.xml -rtwindowrelative FALSE -adducts M+H,M+ACN+Na,M+Na,M+K,M+ACN+H\n",
      "2016-09-21 16:36:50 1:INFO:PuMP.callToArgList.dispatchCall:mzmatch.ipeak.convert.ConvertToText -i analysis_1/positive/final_combined_related_identified_hmdb.peakml -o analysis_1/positive/mzmatch_output_hmdb.txt -annotations identification,ppm,adduct,relation.id,relation.ship,codadw,charge\n",
      "2016-09-21 16:36:53 1:INFO:PuMP.callToArgList.dispatchCall:mzmatch.ipeak.util.Identify -i analysis_1/positive/final_combined_related.peakml -o analysis_1/positive/final_combined_related_identified_kegg.peakml -ppm 3 -databases /Users/joewandy/git/pimp/packrat/lib/x86_64-apple-darwin15.5.0/3.3.1/PiMP/dbs/kegg.xml -rtwindowrelative FALSE -adducts M+H,M+ACN+Na,M+Na,M+K,M+ACN+H\n",
      "2016-09-21 16:37:00 1:INFO:PuMP.callToArgList.dispatchCall:mzmatch.ipeak.convert.ConvertToText -i analysis_1/positive/final_combined_related_identified_kegg.peakml -o analysis_1/positive/mzmatch_output_kegg.txt -annotations identification,ppm,adduct,relation.id,relation.ship,codadw,charge\n",
      "2016-09-21 16:37:03 1:INFO:PuMP.callToArgList.dispatchCall:mzmatch.ipeak.util.Identify -i analysis_1/positive/final_combined_related.peakml -o analysis_1/positive/final_combined_related_identified_lipidmaps.peakml -ppm 3 -databases /Users/joewandy/git/pimp/packrat/lib/x86_64-apple-darwin15.5.0/3.3.1/PiMP/dbs/lipidmaps.xml -rtwindowrelative FALSE -adducts M+H,M+ACN+Na,M+Na,M+K,M+ACN+H\n",
      "2016-09-21 16:37:14 1:INFO:PuMP.callToArgList.dispatchCall:mzmatch.ipeak.convert.ConvertToText -i analysis_1/positive/final_combined_related_identified_lipidmaps.peakml -o analysis_1/positive/mzmatch_output_lipidmaps.txt -annotations identification,ppm,adduct,relation.id,relation.ship,codadw,charge\n",
      "2016-09-21 16:37:16 1:INFO:PuMP.callToArgList.dispatchCall:mzmatch.ipeak.util.Identify -i analysis_1/positive/final_combined_related.peakml -o analysis_1/positive/final_combined_related_identified_stds_db.peakml -ppm 3 -databases analysis_1/stds_db.xml -rtwindow 0.05 -rtwindowrelative TRUE -adducts M+H\n",
      "2016-09-21 16:37:22 1:INFO:PuMP.callToArgList.dispatchCall:mzmatch.ipeak.convert.ConvertToText -i analysis_1/positive/final_combined_related_identified_stds_db.peakml -o analysis_1/positive/mzmatch_output_stds_db.txt -annotations identification,ppm,adduct,relation.id,relation.ship,codadw,charge\n"
     ]
    }
   ],
   "source": [
    "raw_data_pos, groups_pos = pipeline.process_raw_data(polarity_pos, xcms_params, mzmatch_params, \n",
    "                                         peakml_params, mzmatch_outputs, mzmatch_filters, n_slaves)"
   ]
  },
  {
   "cell_type": "code",
   "execution_count": 12,
   "metadata": {
    "collapsed": false
   },
   "outputs": [],
   "source": [
    "raw_data_dict['positive'] = raw_data_pos\n",
    "groups_dict['positive'] = groups_pos"
   ]
  },
  {
   "cell_type": "markdown",
   "metadata": {},
   "source": [
    "## Process negative raw data"
   ]
  },
  {
   "cell_type": "code",
   "execution_count": 13,
   "metadata": {
    "collapsed": false
   },
   "outputs": [
    {
     "name": "stdout",
     "output_type": "stream",
     "text": [
      "Creating /Users/joewandy/git/pimp/django_projects/pimp_data/projects/1/analysis_1/negative/combined\n",
      "------------------------------------------------\n",
      "negative /Users/joewandy/git/pimp/django_projects/pimp_data/projects/1/analysis_1/negative /Users/joewandy/git/pimp/django_projects/pimp_data/projects/1/analysis_1/negative/combined\n",
      "------------------------------------------------\n",
      "[beer_smell with 2 levels, beer_colour with 2 levels, beer_taste with 3 levels]\n",
      "beer_smell\n",
      " - smell_good ['Beer_1_full1', 'Beer_1_full2', 'Beer_1_full3', 'Beer_2_full1', 'Beer_2_full2', 'Beer_2_full3', 'Beer_3_full1', 'Beer_3_full2', 'Beer_3_full3']\n",
      " - smell_bad ['Beer_4_full1', 'Beer_4_full2', 'Beer_4_full3']\n",
      "beer_colour\n",
      " - colour_dark ['Beer_1_full1', 'Beer_1_full2', 'Beer_1_full3', 'Beer_2_full1', 'Beer_2_full2', 'Beer_2_full3']\n",
      " - colour_light ['Beer_3_full1', 'Beer_3_full2', 'Beer_3_full3', 'Beer_4_full1', 'Beer_4_full2', 'Beer_4_full3']\n",
      "beer_taste\n",
      " - taste_delicious ['Beer_1_full1', 'Beer_1_full2', 'Beer_1_full3', 'Beer_2_full1', 'Beer_2_full2', 'Beer_2_full3']\n",
      " - taste_okay ['Beer_3_full1', 'Beer_3_full2', 'Beer_3_full3']\n",
      " - taste_awful ['Beer_4_full1', 'Beer_4_full2', 'Beer_4_full3']\n",
      "(2, 2, 3)\n",
      "('group_0', (0, 0, 0), 'smell_good,colour_dark,taste_delicious', ['Beer_1_full2', 'Beer_1_full3', 'Beer_1_full1', 'Beer_2_full1', 'Beer_2_full3', 'Beer_2_full2'])\n",
      "('group_1', (0, 0, 1), 'smell_good,colour_dark,taste_okay', [])\n",
      "('group_2', (0, 0, 2), 'smell_good,colour_dark,taste_awful', [])\n",
      "('group_3', (0, 1, 0), 'smell_good,colour_light,taste_delicious', [])\n",
      "('group_4', (0, 1, 1), 'smell_good,colour_light,taste_okay', ['Beer_3_full1', 'Beer_3_full2', 'Beer_3_full3'])\n",
      "('group_5', (0, 1, 2), 'smell_good,colour_light,taste_awful', [])\n",
      "('group_6', (1, 0, 0), 'smell_bad,colour_dark,taste_delicious', [])\n",
      "('group_7', (1, 0, 1), 'smell_bad,colour_dark,taste_okay', [])\n",
      "('group_8', (1, 0, 2), 'smell_bad,colour_dark,taste_awful', [])\n",
      "('group_9', (1, 1, 0), 'smell_bad,colour_light,taste_delicious', [])\n",
      "('group_10', (1, 1, 1), 'smell_bad,colour_light,taste_okay', [])\n",
      "('group_11', (1, 1, 2), 'smell_bad,colour_light,taste_awful', ['Beer_4_full3', 'Beer_4_full2', 'Beer_4_full1'])\n",
      "Processing /Users/joewandy/git/pimp/django_projects/pimp_data/projects/1/analysis_1/negative/combined/group_0\n",
      "2016-09-21 16:37:24 1:INFO:PuMP.callToArgList.dispatchCall:mzmatch.ipeak.Combine -i /Users/joewandy/git/pimp/django_projects/pimp_data/projects/1/analysis_1/negative/combined/group_0/Beer_1_full1.peakml,/Users/joewandy/git/pimp/django_projects/pimp_data/projects/1/analysis_1/negative/combined/group_0/Beer_1_full2.peakml,/Users/joewandy/git/pimp/django_projects/pimp_data/projects/1/analysis_1/negative/combined/group_0/Beer_1_full3.peakml,/Users/joewandy/git/pimp/django_projects/pimp_data/projects/1/analysis_1/negative/combined/group_0/Beer_2_full1.peakml,/Users/joewandy/git/pimp/django_projects/pimp_data/projects/1/analysis_1/negative/combined/group_0/Beer_2_full2.peakml,/Users/joewandy/git/pimp/django_projects/pimp_data/projects/1/analysis_1/negative/combined/group_0/Beer_2_full3.peakml -o /Users/joewandy/git/pimp/django_projects/pimp_data/projects/1/analysis_1/negative/combined/group_0.peakml -label group_0 -ppm 3 -rtwindow 30 -combination set\n",
      "Nothing to combine in /Users/joewandy/git/pimp/django_projects/pimp_data/projects/1/analysis_1/negative/combined/group_1\n",
      "Nothing to combine in /Users/joewandy/git/pimp/django_projects/pimp_data/projects/1/analysis_1/negative/combined/group_2\n",
      "Nothing to combine in /Users/joewandy/git/pimp/django_projects/pimp_data/projects/1/analysis_1/negative/combined/group_3\n",
      "Processing /Users/joewandy/git/pimp/django_projects/pimp_data/projects/1/analysis_1/negative/combined/group_4\n",
      "2016-09-21 16:37:33 1:INFO:PuMP.callToArgList.dispatchCall:mzmatch.ipeak.Combine -i /Users/joewandy/git/pimp/django_projects/pimp_data/projects/1/analysis_1/negative/combined/group_4/Beer_3_full1.peakml,/Users/joewandy/git/pimp/django_projects/pimp_data/projects/1/analysis_1/negative/combined/group_4/Beer_3_full2.peakml,/Users/joewandy/git/pimp/django_projects/pimp_data/projects/1/analysis_1/negative/combined/group_4/Beer_3_full3.peakml -o /Users/joewandy/git/pimp/django_projects/pimp_data/projects/1/analysis_1/negative/combined/group_4.peakml -label group_4 -ppm 3 -rtwindow 30 -combination set\n",
      "Nothing to combine in /Users/joewandy/git/pimp/django_projects/pimp_data/projects/1/analysis_1/negative/combined/group_5\n",
      "Nothing to combine in /Users/joewandy/git/pimp/django_projects/pimp_data/projects/1/analysis_1/negative/combined/group_6\n",
      "Nothing to combine in /Users/joewandy/git/pimp/django_projects/pimp_data/projects/1/analysis_1/negative/combined/group_7\n",
      "Nothing to combine in /Users/joewandy/git/pimp/django_projects/pimp_data/projects/1/analysis_1/negative/combined/group_8\n",
      "Nothing to combine in /Users/joewandy/git/pimp/django_projects/pimp_data/projects/1/analysis_1/negative/combined/group_9\n",
      "Nothing to combine in /Users/joewandy/git/pimp/django_projects/pimp_data/projects/1/analysis_1/negative/combined/group_10\n",
      "Processing /Users/joewandy/git/pimp/django_projects/pimp_data/projects/1/analysis_1/negative/combined/group_11\n",
      "2016-09-21 16:37:36 1:INFO:PuMP.callToArgList.dispatchCall:mzmatch.ipeak.Combine -i /Users/joewandy/git/pimp/django_projects/pimp_data/projects/1/analysis_1/negative/combined/group_11/Beer_4_full1.peakml,/Users/joewandy/git/pimp/django_projects/pimp_data/projects/1/analysis_1/negative/combined/group_11/Beer_4_full2.peakml,/Users/joewandy/git/pimp/django_projects/pimp_data/projects/1/analysis_1/negative/combined/group_11/Beer_4_full3.peakml -o /Users/joewandy/git/pimp/django_projects/pimp_data/projects/1/analysis_1/negative/combined/group_11.peakml -label group_11 -ppm 3 -rtwindow 30 -combination set\n",
      "2016-09-21 16:37:41 1:INFO:PuMP.callToArgList.dispatchCall:mzmatch.ipeak.filter.RSDFilter -i /Users/joewandy/git/pimp/django_projects/pimp_data/projects/1/analysis_1/negative/combined/group_0.peakml -o /Users/joewandy/git/pimp/django_projects/pimp_data/projects/1/analysis_1/negative/combined/group_0_rsd.peakml -rejected /Users/joewandy/git/pimp/django_projects/pimp_data/projects/1/analysis_1/negative/combined/group_0_rsdrej.peakml -rsd 0.5\n",
      "2016-09-21 16:37:47 1:INFO:PuMP.callToArgList.dispatchCall:mzmatch.ipeak.filter.RSDFilter -i /Users/joewandy/git/pimp/django_projects/pimp_data/projects/1/analysis_1/negative/combined/group_11.peakml -o /Users/joewandy/git/pimp/django_projects/pimp_data/projects/1/analysis_1/negative/combined/group_11_rsd.peakml -rejected /Users/joewandy/git/pimp/django_projects/pimp_data/projects/1/analysis_1/negative/combined/group_11_rsdrej.peakml -rsd 0.5\n",
      "2016-09-21 16:37:50 1:INFO:PuMP.callToArgList.dispatchCall:mzmatch.ipeak.filter.RSDFilter -i /Users/joewandy/git/pimp/django_projects/pimp_data/projects/1/analysis_1/negative/combined/group_4.peakml -o /Users/joewandy/git/pimp/django_projects/pimp_data/projects/1/analysis_1/negative/combined/group_4_rsd.peakml -rejected /Users/joewandy/git/pimp/django_projects/pimp_data/projects/1/analysis_1/negative/combined/group_4_rsdrej.peakml -rsd 0.5\n",
      "2016-09-21 16:37:54 1:INFO:PuMP.callToArgList.dispatchCall:mzmatch.ipeak.Combine -i /Users/joewandy/git/pimp/django_projects/pimp_data/projects/1/analysis_1/negative/combined/group_0_rsd.peakml,/Users/joewandy/git/pimp/django_projects/pimp_data/projects/1/analysis_1/negative/combined/group_11_rsd.peakml,/Users/joewandy/git/pimp/django_projects/pimp_data/projects/1/analysis_1/negative/combined/group_4_rsd.peakml -o /Users/joewandy/git/pimp/django_projects/pimp_data/projects/1/analysis_1/negative/final_combined.peakml -label  -ppm 3 -rtwindow 30 -combination set\n",
      "2016-09-21 16:37:59 1:INFO:PuMP.callToArgList.dispatchCall:mzmatch.ipeak.filter.NoiseFilter -i /Users/joewandy/git/pimp/django_projects/pimp_data/projects/1/analysis_1/negative/final_combined.peakml -o /Users/joewandy/git/pimp/django_projects/pimp_data/projects/1/analysis_1/negative/final_combined_nf.peakml -codadw 0.8\n",
      "2016-09-21 16:38:02 1:INFO:PuMP.callToArgList.dispatchCall:mzmatch.ipeak.filter.SimpleFilter -i /Users/joewandy/git/pimp/django_projects/pimp_data/projects/1/analysis_1/negative/final_combined_nf.peakml -o /Users/joewandy/git/pimp/django_projects/pimp_data/projects/1/analysis_1/negative/final.combined_sf.peakml -ppm 3 -mindetections 3 -minintensity 5000\n",
      "2016-09-21 16:38:06 1:INFO:PuMP.callToArgList.dispatchCall:mzmatch.ipeak.sort.RelatedPeaks -i /Users/joewandy/git/pimp/django_projects/pimp_data/projects/1/analysis_1/negative/final.combined_sf.peakml -o /Users/joewandy/git/pimp/django_projects/pimp_data/projects/1/analysis_1/negative/final_combined_related.peakml -basepeaks /Users/joewandy/git/pimp/django_projects/pimp_data/projects/1/analysis_1/negative/final_combined_basepeaks.peakml -ppm 3 -rtwindow 30\n",
      "2016-09-21 16:38:12 1:INFO:PuMP.callToArgList.dispatchCall:mzmatch.ipeak.util.Identify -i analysis_1/negative/final_combined_related.peakml -o analysis_1/negative/final_combined_related_identified_hmdb.peakml -ppm 3 -databases /Users/joewandy/git/pimp/packrat/lib/x86_64-apple-darwin15.5.0/3.3.1/PiMP/dbs/hmdb.xml -rtwindowrelative FALSE -adducts M-H,M-ACN+Na,M-Na,M-K,M-ACN+H\n",
      "2016-09-21 16:38:21 1:INFO:PuMP.callToArgList.dispatchCall:mzmatch.ipeak.convert.ConvertToText -i analysis_1/negative/final_combined_related_identified_hmdb.peakml -o analysis_1/negative/mzmatch_output_hmdb.txt -annotations identification,ppm,adduct,relation.id,relation.ship,codadw,charge\n",
      "2016-09-21 16:38:23 1:INFO:PuMP.callToArgList.dispatchCall:mzmatch.ipeak.util.Identify -i analysis_1/negative/final_combined_related.peakml -o analysis_1/negative/final_combined_related_identified_kegg.peakml -ppm 3 -databases /Users/joewandy/git/pimp/packrat/lib/x86_64-apple-darwin15.5.0/3.3.1/PiMP/dbs/kegg.xml -rtwindowrelative FALSE -adducts M-H,M-ACN+Na,M-Na,M-K,M-ACN+H\n",
      "2016-09-21 16:38:28 1:INFO:PuMP.callToArgList.dispatchCall:mzmatch.ipeak.convert.ConvertToText -i analysis_1/negative/final_combined_related_identified_kegg.peakml -o analysis_1/negative/mzmatch_output_kegg.txt -annotations identification,ppm,adduct,relation.id,relation.ship,codadw,charge\n",
      "2016-09-21 16:38:30 1:INFO:PuMP.callToArgList.dispatchCall:mzmatch.ipeak.util.Identify -i analysis_1/negative/final_combined_related.peakml -o analysis_1/negative/final_combined_related_identified_lipidmaps.peakml -ppm 3 -databases /Users/joewandy/git/pimp/packrat/lib/x86_64-apple-darwin15.5.0/3.3.1/PiMP/dbs/lipidmaps.xml -rtwindowrelative FALSE -adducts M-H,M-ACN+Na,M-Na,M-K,M-ACN+H\n",
      "2016-09-21 16:38:39 1:INFO:PuMP.callToArgList.dispatchCall:mzmatch.ipeak.convert.ConvertToText -i analysis_1/negative/final_combined_related_identified_lipidmaps.peakml -o analysis_1/negative/mzmatch_output_lipidmaps.txt -annotations identification,ppm,adduct,relation.id,relation.ship,codadw,charge\n",
      "2016-09-21 16:38:41 1:INFO:PuMP.callToArgList.dispatchCall:mzmatch.ipeak.util.Identify -i analysis_1/negative/final_combined_related.peakml -o analysis_1/negative/final_combined_related_identified_stds_db.peakml -ppm 3 -databases analysis_1/stds_db.xml -rtwindow 0.05 -rtwindowrelative TRUE -adducts M-H\n",
      "2016-09-21 16:38:44 1:INFO:PuMP.callToArgList.dispatchCall:mzmatch.ipeak.convert.ConvertToText -i analysis_1/negative/final_combined_related_identified_stds_db.peakml -o analysis_1/negative/mzmatch_output_stds_db.txt -annotations identification,ppm,adduct,relation.id,relation.ship,codadw,charge\n"
     ]
    }
   ],
   "source": [
    "raw_data_neg, groups_neg = pipeline.process_raw_data(polarity_neg, xcms_params, mzmatch_params, \n",
    "                                         peakml_params, mzmatch_outputs, mzmatch_filters, n_slaves)"
   ]
  },
  {
   "cell_type": "code",
   "execution_count": 14,
   "metadata": {
    "collapsed": true
   },
   "outputs": [],
   "source": [
    "raw_data_dict['negative'] = raw_data_neg\n",
    "groups_dict['negative'] = groups_neg"
   ]
  },
  {
   "cell_type": "markdown",
   "metadata": {},
   "source": [
    "### Run stats"
   ]
  },
  {
   "cell_type": "code",
   "execution_count": 15,
   "metadata": {
    "collapsed": false
   },
   "outputs": [
    {
     "name": "stdout",
     "output_type": "stream",
     "text": [
      "$group_0\n",
      "[1] \"Beer_1_full2\" \"Beer_1_full3\" \"Beer_1_full1\" \"Beer_2_full1\" \"Beer_2_full3\"\n",
      "[6] \"Beer_2_full2\"\n",
      "\n",
      "$group_11\n",
      "[1] \"Beer_4_full3\" \"Beer_4_full2\" \"Beer_4_full1\"\n",
      "\n",
      "$group_4\n",
      "[1] \"Beer_3_full1\" \"Beer_3_full2\" \"Beer_3_full3\"\n",
      "\n",
      "\n"
     ]
    }
   ],
   "source": [
    "print groups_dict['positive']"
   ]
  },
  {
   "cell_type": "code",
   "execution_count": 16,
   "metadata": {
    "collapsed": false
   },
   "outputs": [
    {
     "name": "stdout",
     "output_type": "stream",
     "text": [
      "$group_0\n",
      "[1] \"Beer_1_full2\" \"Beer_1_full3\" \"Beer_1_full1\" \"Beer_2_full1\" \"Beer_2_full3\"\n",
      "[6] \"Beer_2_full2\"\n",
      "\n",
      "$group_11\n",
      "[1] \"Beer_4_full3\" \"Beer_4_full2\" \"Beer_4_full1\"\n",
      "\n",
      "$group_4\n",
      "[1] \"Beer_3_full1\" \"Beer_3_full2\" \"Beer_3_full3\"\n",
      "\n",
      "\n"
     ]
    }
   ],
   "source": [
    "print groups_dict['negative']"
   ]
  },
  {
   "cell_type": "code",
   "execution_count": 17,
   "metadata": {
    "collapsed": false
   },
   "outputs": [
    {
     "name": "stdout",
     "output_type": "stream",
     "text": [
      "['Beer_1_full2', 'smell_good', 'colour_dark', 'taste_delicious', 'sample']\n",
      "['Beer_1_full3', 'smell_good', 'colour_dark', 'taste_delicious', 'sample']\n",
      "['Beer_3_full2', 'smell_good', 'colour_light', 'taste_okay', 'sample']\n",
      "['Beer_1_full1', 'smell_good', 'colour_dark', 'taste_delicious', 'sample']\n",
      "['Beer_3_full3', 'smell_good', 'colour_light', 'taste_okay', 'sample']\n",
      "['Beer_4_full3', 'smell_bad', 'colour_light', 'taste_awful', 'sample']\n",
      "['Beer_3_full1', 'smell_good', 'colour_light', 'taste_okay', 'sample']\n",
      "['Beer_4_full1', 'smell_bad', 'colour_light', 'taste_awful', 'sample']\n",
      "['Beer_2_full1', 'smell_good', 'colour_dark', 'taste_delicious', 'sample']\n",
      "['Beer_2_full3', 'smell_good', 'colour_dark', 'taste_delicious', 'sample']\n",
      "['Beer_2_full2', 'smell_good', 'colour_dark', 'taste_delicious', 'sample']\n",
      "['Beer_4_full2', 'smell_bad', 'colour_light', 'taste_awful', 'sample']\n"
     ]
    }
   ],
   "source": [
    "save_fixtures = True\n",
    "pipeline.run_stats(raw_data_dict, pipeline.analysis.id, groups_dict, pipeline.metadata.r_groups,\n",
    "                   pipeline.metadata.r_contrasts, pipeline.metadata.r_names, \n",
    "                   pipeline.metadata.r_databases, pipeline.metadata.r_dbs, \n",
    "                   mzmatch_outputs, save_fixtures, pipeline.working_dir)"
   ]
  },
  {
   "cell_type": "code",
   "execution_count": null,
   "metadata": {
    "collapsed": true
   },
   "outputs": [],
   "source": []
  }
 ],
 "metadata": {
  "kernelspec": {
   "display_name": "Django Shell-Plus",
   "language": "python",
   "name": "django_extensions"
  },
  "language_info": {
   "codemirror_mode": {
    "name": "ipython",
    "version": 2
   },
   "file_extension": ".py",
   "mimetype": "text/x-python",
   "name": "python",
   "nbconvert_exporter": "python",
   "pygments_lexer": "ipython2",
   "version": "2.7.10"
  }
 },
 "nbformat": 4,
 "nbformat_minor": 1
}
