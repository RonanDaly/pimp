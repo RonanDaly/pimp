{
 "cells": [
  {
   "cell_type": "markdown",
   "metadata": {},
   "source": [
    "# Experimental new pipeline"
   ]
  },
  {
   "cell_type": "code",
   "execution_count": 1,
   "metadata": {
    "collapsed": false
   },
   "outputs": [],
   "source": [
    "%load_ext autoreload\n",
    "%autoreload 2"
   ]
  },
  {
   "cell_type": "code",
   "execution_count": 2,
   "metadata": {
    "collapsed": true
   },
   "outputs": [],
   "source": [
    "from experiments.pipelines.pipeline_rpy2 import Rpy2Pipeline\n",
    "import multiprocessing"
   ]
  },
  {
   "cell_type": "markdown",
   "metadata": {},
   "source": [
    "## Load analysis and project"
   ]
  },
  {
   "cell_type": "code",
   "execution_count": 3,
   "metadata": {
    "collapsed": false,
    "scrolled": false
   },
   "outputs": [
    {
     "name": "stderr",
     "output_type": "stream",
     "text": [
      "DEBUG 2016-09-21 00:51:55,303 utils.py:91 | (0.000) SET SQL_AUTO_IS_NULL = 0; args=None\n",
      "DEBUG 2016-09-21 00:51:55,304 utils.py:91 | (0.000) SELECT `experiments_analysis`.`id`, `experiments_analysis`.`created`, `experiments_analysis`.`submited`, `experiments_analysis`.`owner`, `experiments_analysis`.`experiment_id`, `experiments_analysis`.`params_id`, `experiments_analysis`.`status` FROM `experiments_analysis` WHERE `experiments_analysis`.`id` = 9 LIMIT 21; args=(9,)\n"
     ]
    }
   ],
   "source": [
    "analysis = Analysis.objects.get_or_create(id=9)[0]"
   ]
  },
  {
   "cell_type": "code",
   "execution_count": 4,
   "metadata": {
    "collapsed": false,
    "scrolled": true
   },
   "outputs": [
    {
     "name": "stderr",
     "output_type": "stream",
     "text": [
      "DEBUG 2016-09-21 00:51:55,332 utils.py:91 | (0.000) SELECT `projects_project`.`id`, `projects_project`.`title`, `projects_project`.`user_owner_id`, `projects_project`.`description`, `projects_project`.`created`, `projects_project`.`modified` FROM `projects_project` WHERE `projects_project`.`id` = 9 LIMIT 21; args=(9,)\n"
     ]
    }
   ],
   "source": [
    "project = Project.objects.get_or_create(id=9)[0]"
   ]
  },
  {
   "cell_type": "code",
   "execution_count": 5,
   "metadata": {
    "collapsed": false,
    "scrolled": true
   },
   "outputs": [
    {
     "name": "stdout",
     "output_type": "stream",
     "text": [
      "******************************************\n",
      "Setup rpy2 connection\n",
      "******************************************\n",
      "[1] \"Initialising PuMP logging\"\n",
      "[1] \"PuMP log level set to DEBUG\"\n",
      "2016-09-21 00:51:59 ERROR:pump.misc.initialisePuMPLogging:Logging at ERROR level\n",
      "2016-09-21 00:51:59 WARNING:pump.misc.initialisePuMPLogging:Logging at WARNING level\n",
      "2016-09-21 00:51:59 INFO:pump.misc.initialisePuMPLogging:Logging at INFO level\n",
      "2016-09-21 00:51:59 DEBUG:pump.misc.initialisePuMPLogging:Logging at DEBUG level\n",
      "2016-09-21 00:51:59 INFO:PeakML.Isotope.plotSamples:OS type: x86_64-apple-darwin15.5.0\n",
      "2016-09-21 00:51:59 INFO:PeakML.Isotope.plotSamples:Java parameters are: -Xmx512m\n",
      "2016-09-21 00:51:59 INFO:PeakML.Isotope.plotSamples:Using jar file /Users/joewandy/git/pimp/packrat/lib/x86_64-apple-darwin15.5.0/3.3.1/mzmatch.R/java/mzmatch-2.1-with-dependencies.jar\n",
      "2016-09-21 00:51:59 INFO:PeakML.Isotope.plotSamples:Using SWT file /Users/joewandy/git/pimp/packrat/lib/x86_64-apple-darwin15.5.0/3.3.1/mzmatch.R/java/swt-4.5-cocoa-macosx-x86_64.jar\n",
      "[1] \"Initialising PiMP logging\"\n",
      "[1] \"PiMP log level set to DEBUG\"\n",
      "2016-09-21 00:51:59 ERROR:Pimp.extra.initialisePiMPLogging:Logging at ERROR level\n",
      "2016-09-21 00:51:59 WARNING:Pimp.extra.initialisePiMPLogging:Logging at WARNING level\n",
      "2016-09-21 00:51:59 INFO:Pimp.extra.initialisePiMPLogging:Logging at INFO level\n",
      "2016-09-21 00:51:59 DEBUG:Pimp.extra.initialisePiMPLogging:Logging at DEBUG level\n",
      "2016-09-21 00:52:00 INFO:PeakML.Isotope.plotSamples:OS type: x86_64-apple-darwin15.5.0\n",
      "2016-09-21 00:52:00 INFO:PeakML.Isotope.plotSamples:Java parameters are: -Xmx8192m\n",
      "2016-09-21 00:52:00 INFO:PeakML.Isotope.plotSamples:Using jar file /Users/joewandy/git/pimp/packrat/lib/x86_64-apple-darwin15.5.0/3.3.1/mzmatch.R/java/mzmatch-2.1-with-dependencies.jar\n",
      "2016-09-21 00:52:00 INFO:PeakML.Isotope.plotSamples:Using SWT file /Users/joewandy/git/pimp/packrat/lib/x86_64-apple-darwin15.5.0/3.3.1/mzmatch.R/java/swt-4.5-cocoa-macosx-x86_64.jar\n"
     ]
    }
   ],
   "source": [
    "pipeline = Rpy2Pipeline(analysis, project, False)"
   ]
  },
  {
   "cell_type": "code",
   "execution_count": 6,
   "metadata": {
    "collapsed": false
   },
   "outputs": [
    {
     "name": "stderr",
     "output_type": "stream",
     "text": [
      "/Users/joewandy/git/pimp/venv/lib/python2.7/site-packages/rpy2/robjects/functions.py:106: UserWarning: Loading required package: RUnit\n",
      "\n",
      "  res = super(Function, self).__call__(*new_args, **new_kwargs)\n",
      "\n",
      "WARNING 2016-09-21 00:52:00,200 functions.py:106 | /Users/joewandy/git/pimp/venv/lib/python2.7/site-packages/rpy2/robjects/functions.py:106: UserWarning: Loading required package: RUnit\n",
      "\n",
      "  res = super(Function, self).__call__(*new_args, **new_kwargs)\n",
      "\n",
      "/Users/joewandy/git/pimp/venv/lib/python2.7/site-packages/rpy2/robjects/functions.py:106: UserWarning: Loading required package: DBI\n",
      "\n",
      "  res = super(Function, self).__call__(*new_args, **new_kwargs)\n",
      "\n",
      "WARNING 2016-09-21 00:52:00,220 functions.py:106 | /Users/joewandy/git/pimp/venv/lib/python2.7/site-packages/rpy2/robjects/functions.py:106: UserWarning: Loading required package: DBI\n",
      "\n",
      "  res = super(Function, self).__call__(*new_args, **new_kwargs)\n",
      "\n",
      "/Users/joewandy/git/pimp/venv/lib/python2.7/site-packages/rpy2/robjects/functions.py:106: UserWarning: Setting analysis directory to: analysis_9\n",
      "\n",
      "  res = super(Function, self).__call__(*new_args, **new_kwargs)\n",
      "\n"
     ]
    },
    {
     "name": "stdout",
     "output_type": "stream",
     "text": [
      "Setup called\n",
      "2016-09-21 00:52:00 INFO:Pimp.getPimpWd:Data dir: /Users/joewandy/git/pimp/django_projects/pimp_data/projects\n",
      "2016-09-21 00:52:00 INFO:Pimp.getPimpWd:Project dir: /Users/joewandy/git/pimp/django_projects/pimp_data/projects/9\n",
      "2016-09-21 00:52:00 INFO:Pimp.extra.setPiMPLoggerAnalysisID:Setting analysis ID in logger to 9\n",
      "2016-09-21 00:52:00 9:INFO:Pimp.extra.setPiMPLoggerAnalysisID:Analysis id set\n",
      "2016-09-21 00:52:00 9:INFO:Pimp.validateInput:Input validated correctly!\n",
      "2016-09-21 00:52:00 9:INFO:Pimp.extra.setPiMPLoggerAnalysisID:Setting analysis ID in logger to 9\n",
      "2016-09-21 00:52:00 9:INFO:Pimp.extra.setPiMPLoggerAnalysisID:Analysis id set\n",
      "2016-09-21 00:52:00 9:INFO:Pimp.getAnalysisParams:Setting params\n",
      "2016-09-21 00:52:00 9:DEBUG:Pimp.getAnalysisParams:Name: iqr Value: 0.5\n",
      "2016-09-21 00:52:00 9:DEBUG:Pimp.getAnalysisParams:Name: rsd Value: 0.5\n",
      "2016-09-21 00:52:00 9:DEBUG:Pimp.getAnalysisParams:Name: noise Value: 0.8\n",
      "2016-09-21 00:52:00 9:DEBUG:Pimp.getAnalysisParams:Name: ppm Value: 3\n",
      "2016-09-21 00:52:00 9:DEBUG:Pimp.getAnalysisParams:Name: mindetections Value: 3\n",
      "2016-09-21 00:52:00 9:DEBUG:Pimp.getAnalysisParams:Name: minintensity Value: 5000\n",
      "2016-09-21 00:52:00 9:DEBUG:Pimp.getAnalysisParams:Name: rtwindow Value: 0.05\n",
      "2016-09-21 00:52:00 9:DEBUG:Pimp.getAnalysisParams:Name: rt.alignment Value: NA\n",
      "2016-09-21 00:52:00 9:DEBUG:Pimp.getAnalysisParams:Name: noise Value: 0.8\n",
      "2016-09-21 00:52:00 9:DEBUG:Pimp.getAnalysisParams:Name: rtwindow Value: 0.05\n",
      "2016-09-21 00:52:00 9:INFO:Pimp.extra.setPiMPLoggerAnalysisID:Setting analysis ID in logger to 9\n",
      "2016-09-21 00:52:00 9:INFO:Pimp.extra.setPiMPLoggerAnalysisID:Analysis id set\n"
     ]
    },
    {
     "name": "stderr",
     "output_type": "stream",
     "text": [
      "WARNING 2016-09-21 00:52:00,474 functions.py:106 | /Users/joewandy/git/pimp/venv/lib/python2.7/site-packages/rpy2/robjects/functions.py:106: UserWarning: Setting analysis directory to: analysis_9\n",
      "\n",
      "  res = super(Function, self).__call__(*new_args, **new_kwargs)\n",
      "\n"
     ]
    },
    {
     "name": "stdout",
     "output_type": "stream",
     "text": [
      "2016-09-21 00:52:00 9:INFO:Pimp.createAnalysisDir:Analysis dir created at analysis_9\n",
      "2016-09-21 00:52:00 9:INFO:Pimp.stds.createAnnotationFile:Creating annotation file from calibration_samples/standard/Std1_1_20150422_150810.csv,calibration_samples/standard/Std2_1_20150422_150711.csv,calibration_samples/standard/Std3_1_20150422_150553.csv, outputting to analysis_9/stds_db.xml\n",
      "2016-09-21 00:52:00 9:INFO:Pimp.stds.createAnnotationFile.parseStandardsFiles:Parsing standards files\n",
      "2016-09-21 00:52:00 9:INFO:Pimp.stds.createAnnotationFile.determineFileParser:Parser for calibration_samples/standard/Std1_1_20150422_150810.csv is .parse.toxid.file\n",
      "2016-09-21 00:52:00 9:INFO:Pimp.stds.createAnnotationFile.parse.toxid.file:Parsing toxid file: calibration_samples/standard/Std1_1_20150422_150810.csv\n",
      "2016-09-21 00:52:00 9:INFO:Pimp.stds.createAnnotationFile.determineFileParser:Parser for calibration_samples/standard/Std2_1_20150422_150711.csv is .parse.toxid.file\n",
      "2016-09-21 00:52:00 9:INFO:Pimp.stds.createAnnotationFile.parse.toxid.file:Parsing toxid file: calibration_samples/standard/Std2_1_20150422_150711.csv\n",
      "2016-09-21 00:52:00 9:INFO:Pimp.stds.createAnnotationFile.determineFileParser:Parser for calibration_samples/standard/Std3_1_20150422_150553.csv is .parse.toxid.file\n",
      "2016-09-21 00:52:00 9:INFO:Pimp.stds.createAnnotationFile.parse.toxid.file:Parsing toxid file: calibration_samples/standard/Std3_1_20150422_150553.csv\n",
      "2016-09-21 00:52:00 9:INFO:Pimp.stds.createAnnotationFile:Matching names to standard2InChIKey database\n"
     ]
    }
   ],
   "source": [
    "pipeline.setup()"
   ]
  },
  {
   "cell_type": "code",
   "execution_count": 7,
   "metadata": {
    "collapsed": false
   },
   "outputs": [],
   "source": [
    "xcms_params = pipeline.get_value(pipeline.pimp_params, 'xcms.params')            \n",
    "mzmatch_params = pipeline.get_value(pipeline.pimp_params, 'mzmatch.params')\n",
    "peakml_params = pipeline.get_value(pipeline.pimp_params, 'peakml.params')\n",
    "mzmatch_outputs = pipeline.get_value(pipeline.pimp_params, 'mzmatch.outputs')\n",
    "mzmatch_filters = pipeline.get_value(pipeline.pimp_params, 'mzmatch.filters')\n",
    "n_slaves = multiprocessing.cpu_count()"
   ]
  },
  {
   "cell_type": "code",
   "execution_count": 8,
   "metadata": {
    "collapsed": false
   },
   "outputs": [],
   "source": [
    "raw_data_dict = {}\n",
    "groups_dict = {}\n",
    "polarity_pos, polarity_neg = pipeline.metadata.files.keys()"
   ]
  },
  {
   "cell_type": "markdown",
   "metadata": {
    "collapsed": true
   },
   "source": [
    "## Process positive raw data"
   ]
  },
  {
   "cell_type": "code",
   "execution_count": 9,
   "metadata": {
    "collapsed": false,
    "scrolled": true
   },
   "outputs": [
    {
     "name": "stderr",
     "output_type": "stream",
     "text": [
      "/Users/joewandy/git/pimp/venv/lib/python2.7/site-packages/rpy2/robjects/functions.py:106: UserWarning: \n",
      "Attaching package: ‘snow’\n",
      "\n",
      "\n",
      "  res = super(Function, self).__call__(*new_args, **new_kwargs)\n",
      "\n",
      "WARNING 2016-09-21 00:52:02,186 functions.py:106 | /Users/joewandy/git/pimp/venv/lib/python2.7/site-packages/rpy2/robjects/functions.py:106: UserWarning: \n",
      "Attaching package: ‘snow’\n",
      "\n",
      "\n",
      "  res = super(Function, self).__call__(*new_args, **new_kwargs)\n",
      "\n",
      "/Users/joewandy/git/pimp/venv/lib/python2.7/site-packages/rpy2/robjects/functions.py:106: UserWarning: The following objects are masked from ‘package:BiocGenerics’:\n",
      "\n",
      "    clusterApply, clusterApplyLB, clusterCall, clusterEvalQ,\n",
      "    clusterExport, clusterMap, clusterSplit, parApply, parCapply,\n",
      "    parLapply, parRapply, parSapply\n",
      "\n",
      "\n",
      "  res = super(Function, self).__call__(*new_args, **new_kwargs)\n",
      "\n",
      "WARNING 2016-09-21 00:52:02,190 functions.py:106 | /Users/joewandy/git/pimp/venv/lib/python2.7/site-packages/rpy2/robjects/functions.py:106: UserWarning: The following objects are masked from ‘package:BiocGenerics’:\n",
      "\n",
      "    clusterApply, clusterApplyLB, clusterCall, clusterEvalQ,\n",
      "    clusterExport, clusterMap, clusterSplit, parApply, parCapply,\n",
      "    parLapply, parRapply, parSapply\n",
      "\n",
      "\n",
      "  res = super(Function, self).__call__(*new_args, **new_kwargs)\n",
      "\n",
      "/Users/joewandy/git/pimp/venv/lib/python2.7/site-packages/rpy2/robjects/functions.py:106: UserWarning: The following objects are masked from ‘package:parallel’:\n",
      "\n",
      "    clusterApply, clusterApplyLB, clusterCall, clusterEvalQ,\n",
      "    clusterExport, clusterMap, clusterSplit, makeCluster, parApply,\n",
      "    parCapply, parLapply, parRapply, parSapply, splitIndices,\n",
      "    stopCluster\n",
      "\n",
      "\n",
      "  res = super(Function, self).__call__(*new_args, **new_kwargs)\n",
      "\n",
      "WARNING 2016-09-21 00:52:02,194 functions.py:106 | /Users/joewandy/git/pimp/venv/lib/python2.7/site-packages/rpy2/robjects/functions.py:106: UserWarning: The following objects are masked from ‘package:parallel’:\n",
      "\n",
      "    clusterApply, clusterApplyLB, clusterCall, clusterEvalQ,\n",
      "    clusterExport, clusterMap, clusterSplit, makeCluster, parApply,\n",
      "    parCapply, parLapply, parRapply, parSapply, splitIndices,\n",
      "    stopCluster\n",
      "\n",
      "\n",
      "  res = super(Function, self).__call__(*new_args, **new_kwargs)\n",
      "\n"
     ]
    },
    {
     "name": "stdout",
     "output_type": "stream",
     "text": [
      "Creating /Users/joewandy/git/pimp/django_projects/pimp_data/projects/9/analysis_9/positive\n",
      "Creating /Users/joewandy/git/pimp/django_projects/pimp_data/projects/9/analysis_9/positive/combined\n",
      "------------------------------------------------\n",
      "positive /Users/joewandy/git/pimp/django_projects/pimp_data/projects/9/analysis_9/positive /Users/joewandy/git/pimp/django_projects/pimp_data/projects/9/analysis_9/positive/combined\n",
      "------------------------------------------------\n",
      "Starting snow cluster with 8 local sockets.\n",
      "Detecting features in file # 1 : Beer_4_full1.mzXML \n",
      "Detecting features in file # 2 : Beer_4_full2.mzXML \n",
      "Detecting features in file # 3 : Beer_4_full3.mzXML \n",
      "Detecting features in file # 4 : Beer_1_full1.mzXML \n",
      "Detecting features in file # 5 : Beer_1_full2.mzXML \n",
      "Detecting features in file # 6 : Beer_1_full3.mzXML \n",
      "Detecting features in file # 7 : Beer_2_full1.mzXML \n",
      "Detecting features in file # 8 : Beer_2_full2.mzXML \n",
      "Detecting features in file # 9 : Beer_2_full3.mzXML \n",
      "Detecting features in file # 10 : Beer_3_full1.mzXML \n",
      "Detecting features in file # 11 : Beer_3_full2.mzXML \n",
      "Detecting features in file # 12 : Beer_3_full3.mzXML \n",
      "center sample:  Beer_1_full2 \n",
      "Processing: Beer_4_full1  Beer_4_full2  Beer_4_full3  Beer_1_full1  Beer_1_full3  Beer_2_full1  Beer_2_full2  Beer_2_full3  Beer_3_full1  Beer_3_full2  Beer_3_full3  \n",
      "Now creating /Users/joewandy/git/pimp/django_projects/pimp_data/projects/9/analysis_9/positive/Beer_4_full1.peakml\n",
      "2016-09-21 01:02:05 9:INFO:PeakML.xcms.write.SingleInstance:positive\n",
      "2016-09-21 01:02:05 9:INFO:PeakML.xcms.write.SingleInstance:retrieving raw data\n",
      "2016-09-21 01:02:05 9:INFO:PeakML.xcms.write.SingleInstance:- /Users/joewandy/git/pimp/django_projects/pimp_data/projects/9/samples/POS/Beer_1_full1.mzXML\n",
      "2016-09-21 01:02:28 9:INFO::11539 peaks exported.\n",
      "Now creating /Users/joewandy/git/pimp/django_projects/pimp_data/projects/9/analysis_9/positive/Beer_4_full2.peakml\n",
      "2016-09-21 01:02:28 9:INFO:PeakML.xcms.write.SingleInstance:positive\n",
      "2016-09-21 01:02:28 9:INFO:PeakML.xcms.write.SingleInstance:retrieving raw data\n",
      "2016-09-21 01:02:28 9:INFO:PeakML.xcms.write.SingleInstance:- /Users/joewandy/git/pimp/django_projects/pimp_data/projects/9/samples/POS/Beer_1_full2.mzXML\n",
      "2016-09-21 01:02:54 9:INFO::11471 peaks exported.\n",
      "Now creating /Users/joewandy/git/pimp/django_projects/pimp_data/projects/9/analysis_9/positive/Beer_4_full3.peakml\n",
      "2016-09-21 01:02:55 9:INFO:PeakML.xcms.write.SingleInstance:positive\n",
      "2016-09-21 01:02:55 9:INFO:PeakML.xcms.write.SingleInstance:retrieving raw data\n",
      "2016-09-21 01:02:55 9:INFO:PeakML.xcms.write.SingleInstance:- /Users/joewandy/git/pimp/django_projects/pimp_data/projects/9/samples/POS/Beer_1_full3.mzXML\n",
      "2016-09-21 01:03:17 9:INFO::11522 peaks exported.\n",
      "Now creating /Users/joewandy/git/pimp/django_projects/pimp_data/projects/9/analysis_9/positive/Beer_1_full1.peakml\n",
      "2016-09-21 01:03:18 9:INFO:PeakML.xcms.write.SingleInstance:positive\n",
      "2016-09-21 01:03:18 9:INFO:PeakML.xcms.write.SingleInstance:retrieving raw data\n",
      "2016-09-21 01:03:18 9:INFO:PeakML.xcms.write.SingleInstance:- /Users/joewandy/git/pimp/django_projects/pimp_data/projects/9/samples/POS/Beer_2_full1.mzXML\n",
      "2016-09-21 01:03:39 9:INFO::11382 peaks exported.\n",
      "Now creating /Users/joewandy/git/pimp/django_projects/pimp_data/projects/9/analysis_9/positive/Beer_1_full2.peakml\n",
      "2016-09-21 01:03:40 9:INFO:PeakML.xcms.write.SingleInstance:positive\n",
      "2016-09-21 01:03:40 9:INFO:PeakML.xcms.write.SingleInstance:retrieving raw data\n",
      "2016-09-21 01:03:40 9:INFO:PeakML.xcms.write.SingleInstance:- /Users/joewandy/git/pimp/django_projects/pimp_data/projects/9/samples/POS/Beer_2_full2.mzXML\n",
      "2016-09-21 01:04:03 9:INFO::12014 peaks exported.\n",
      "Now creating /Users/joewandy/git/pimp/django_projects/pimp_data/projects/9/analysis_9/positive/Beer_1_full3.peakml\n",
      "2016-09-21 01:04:04 9:INFO:PeakML.xcms.write.SingleInstance:positive\n",
      "2016-09-21 01:04:04 9:INFO:PeakML.xcms.write.SingleInstance:retrieving raw data\n",
      "2016-09-21 01:04:04 9:INFO:PeakML.xcms.write.SingleInstance:- /Users/joewandy/git/pimp/django_projects/pimp_data/projects/9/samples/POS/Beer_2_full3.mzXML\n",
      "2016-09-21 01:04:28 9:INFO::12288 peaks exported.\n",
      "Now creating /Users/joewandy/git/pimp/django_projects/pimp_data/projects/9/analysis_9/positive/Beer_2_full1.peakml\n",
      "2016-09-21 01:04:28 9:INFO:PeakML.xcms.write.SingleInstance:positive\n",
      "2016-09-21 01:04:29 9:INFO:PeakML.xcms.write.SingleInstance:retrieving raw data\n",
      "2016-09-21 01:04:29 9:INFO:PeakML.xcms.write.SingleInstance:- /Users/joewandy/git/pimp/django_projects/pimp_data/projects/9/samples/POS/Beer_3_full1.mzXML\n",
      "2016-09-21 01:04:52 9:INFO::12153 peaks exported.\n",
      "Now creating /Users/joewandy/git/pimp/django_projects/pimp_data/projects/9/analysis_9/positive/Beer_2_full2.peakml\n",
      "2016-09-21 01:04:53 9:INFO:PeakML.xcms.write.SingleInstance:positive\n",
      "2016-09-21 01:04:53 9:INFO:PeakML.xcms.write.SingleInstance:retrieving raw data\n",
      "2016-09-21 01:04:53 9:INFO:PeakML.xcms.write.SingleInstance:- /Users/joewandy/git/pimp/django_projects/pimp_data/projects/9/samples/POS/Beer_3_full2.mzXML\n",
      "2016-09-21 01:05:17 9:INFO::12390 peaks exported.\n",
      "Now creating /Users/joewandy/git/pimp/django_projects/pimp_data/projects/9/analysis_9/positive/Beer_2_full3.peakml\n",
      "2016-09-21 01:05:17 9:INFO:PeakML.xcms.write.SingleInstance:positive\n",
      "2016-09-21 01:05:17 9:INFO:PeakML.xcms.write.SingleInstance:retrieving raw data\n",
      "2016-09-21 01:05:17 9:INFO:PeakML.xcms.write.SingleInstance:- /Users/joewandy/git/pimp/django_projects/pimp_data/projects/9/samples/POS/Beer_3_full3.mzXML\n",
      "2016-09-21 01:05:40 9:INFO::11874 peaks exported.\n",
      "Now creating /Users/joewandy/git/pimp/django_projects/pimp_data/projects/9/analysis_9/positive/Beer_3_full1.peakml\n",
      "2016-09-21 01:05:41 9:INFO:PeakML.xcms.write.SingleInstance:positive\n",
      "2016-09-21 01:05:41 9:INFO:PeakML.xcms.write.SingleInstance:retrieving raw data\n",
      "2016-09-21 01:05:41 9:INFO:PeakML.xcms.write.SingleInstance:- /Users/joewandy/git/pimp/django_projects/pimp_data/projects/9/samples/POS/Beer_4_full1.mzXML\n",
      "2016-09-21 01:06:07 9:INFO::11896 peaks exported.\n",
      "Now creating /Users/joewandy/git/pimp/django_projects/pimp_data/projects/9/analysis_9/positive/Beer_3_full2.peakml\n",
      "2016-09-21 01:06:07 9:INFO:PeakML.xcms.write.SingleInstance:positive\n",
      "2016-09-21 01:06:07 9:INFO:PeakML.xcms.write.SingleInstance:retrieving raw data\n",
      "2016-09-21 01:06:07 9:INFO:PeakML.xcms.write.SingleInstance:- /Users/joewandy/git/pimp/django_projects/pimp_data/projects/9/samples/POS/Beer_4_full2.mzXML\n",
      "2016-09-21 01:06:30 9:INFO::11729 peaks exported.\n",
      "Now creating /Users/joewandy/git/pimp/django_projects/pimp_data/projects/9/analysis_9/positive/Beer_3_full3.peakml\n",
      "2016-09-21 01:06:31 9:INFO:PeakML.xcms.write.SingleInstance:positive\n",
      "2016-09-21 01:06:31 9:INFO:PeakML.xcms.write.SingleInstance:retrieving raw data\n",
      "2016-09-21 01:06:31 9:INFO:PeakML.xcms.write.SingleInstance:- /Users/joewandy/git/pimp/django_projects/pimp_data/projects/9/samples/POS/Beer_4_full3.mzXML\n",
      "2016-09-21 01:06:55 9:INFO::10883 peaks exported.\n",
      "[beer_smell with 2 levels, beer_colour with 2 levels, beer_taste with 3 levels]\n",
      "beer_smell\n",
      " - smell_good ['Beer_1_full1', 'Beer_1_full2', 'Beer_1_full3', 'Beer_2_full1', 'Beer_2_full2', 'Beer_2_full3', 'Beer_3_full1', 'Beer_3_full2', 'Beer_3_full3']\n",
      " - smell_bad ['Beer_4_full1', 'Beer_4_full2', 'Beer_4_full3']\n",
      "beer_colour\n",
      " - colour_dark ['Beer_1_full1', 'Beer_1_full2', 'Beer_1_full3', 'Beer_2_full1', 'Beer_2_full2', 'Beer_2_full3']\n",
      " - colour_light ['Beer_3_full1', 'Beer_3_full2', 'Beer_3_full3', 'Beer_4_full1', 'Beer_4_full2', 'Beer_4_full3']\n",
      "beer_taste\n",
      " - taste_delicious ['Beer_1_full1', 'Beer_1_full2', 'Beer_1_full3', 'Beer_2_full1', 'Beer_2_full2', 'Beer_2_full3']\n",
      " - taste_okay ['Beer_3_full1', 'Beer_3_full2', 'Beer_3_full3']\n",
      " - taste_awful ['Beer_4_full1', 'Beer_4_full2', 'Beer_4_full3']\n",
      "(2, 2, 3)\n",
      "('group_0', (0, 0, 0), 'smell_good,colour_dark,taste_delicious', ['Beer_1_full2', 'Beer_1_full3', 'Beer_1_full1', 'Beer_2_full1', 'Beer_2_full3', 'Beer_2_full2'])\n",
      "('group_1', (0, 0, 1), 'smell_good,colour_dark,taste_okay', [])\n",
      "('group_2', (0, 0, 2), 'smell_good,colour_dark,taste_awful', [])\n",
      "('group_3', (0, 1, 0), 'smell_good,colour_light,taste_delicious', [])\n",
      "('group_4', (0, 1, 1), 'smell_good,colour_light,taste_okay', ['Beer_3_full1', 'Beer_3_full2', 'Beer_3_full3'])\n",
      "('group_5', (0, 1, 2), 'smell_good,colour_light,taste_awful', [])\n",
      "('group_6', (1, 0, 0), 'smell_bad,colour_dark,taste_delicious', [])\n",
      "('group_7', (1, 0, 1), 'smell_bad,colour_dark,taste_okay', [])\n",
      "('group_8', (1, 0, 2), 'smell_bad,colour_dark,taste_awful', [])\n",
      "('group_9', (1, 1, 0), 'smell_bad,colour_light,taste_delicious', [])\n",
      "('group_10', (1, 1, 1), 'smell_bad,colour_light,taste_okay', [])\n",
      "('group_11', (1, 1, 2), 'smell_bad,colour_light,taste_awful', ['Beer_4_full3', 'Beer_4_full2', 'Beer_4_full1'])\n",
      "Processing /Users/joewandy/git/pimp/django_projects/pimp_data/projects/9/analysis_9/positive/combined/group_0\n",
      "2016-09-21 01:06:55 9:INFO:PuMP.callToArgList.dispatchCall:mzmatch.ipeak.Combine -i /Users/joewandy/git/pimp/django_projects/pimp_data/projects/9/analysis_9/positive/combined/group_0/Beer_1_full1.peakml,/Users/joewandy/git/pimp/django_projects/pimp_data/projects/9/analysis_9/positive/combined/group_0/Beer_1_full2.peakml,/Users/joewandy/git/pimp/django_projects/pimp_data/projects/9/analysis_9/positive/combined/group_0/Beer_1_full3.peakml,/Users/joewandy/git/pimp/django_projects/pimp_data/projects/9/analysis_9/positive/combined/group_0/Beer_2_full1.peakml,/Users/joewandy/git/pimp/django_projects/pimp_data/projects/9/analysis_9/positive/combined/group_0/Beer_2_full2.peakml,/Users/joewandy/git/pimp/django_projects/pimp_data/projects/9/analysis_9/positive/combined/group_0/Beer_2_full3.peakml -o /Users/joewandy/git/pimp/django_projects/pimp_data/projects/9/analysis_9/positive/combined/group_0.peakml -label group_0 -ppm 3 -rtwindow 30 -combination set\n",
      "Nothing to combine in /Users/joewandy/git/pimp/django_projects/pimp_data/projects/9/analysis_9/positive/combined/group_1\n",
      "Nothing to combine in /Users/joewandy/git/pimp/django_projects/pimp_data/projects/9/analysis_9/positive/combined/group_2\n",
      "Nothing to combine in /Users/joewandy/git/pimp/django_projects/pimp_data/projects/9/analysis_9/positive/combined/group_3\n",
      "Processing /Users/joewandy/git/pimp/django_projects/pimp_data/projects/9/analysis_9/positive/combined/group_4\n",
      "2016-09-21 01:07:07 9:INFO:PuMP.callToArgList.dispatchCall:mzmatch.ipeak.Combine -i /Users/joewandy/git/pimp/django_projects/pimp_data/projects/9/analysis_9/positive/combined/group_4/Beer_3_full1.peakml,/Users/joewandy/git/pimp/django_projects/pimp_data/projects/9/analysis_9/positive/combined/group_4/Beer_3_full2.peakml,/Users/joewandy/git/pimp/django_projects/pimp_data/projects/9/analysis_9/positive/combined/group_4/Beer_3_full3.peakml -o /Users/joewandy/git/pimp/django_projects/pimp_data/projects/9/analysis_9/positive/combined/group_4.peakml -label group_4 -ppm 3 -rtwindow 30 -combination set\n",
      "Nothing to combine in /Users/joewandy/git/pimp/django_projects/pimp_data/projects/9/analysis_9/positive/combined/group_5\n",
      "Nothing to combine in /Users/joewandy/git/pimp/django_projects/pimp_data/projects/9/analysis_9/positive/combined/group_6\n",
      "Nothing to combine in /Users/joewandy/git/pimp/django_projects/pimp_data/projects/9/analysis_9/positive/combined/group_7\n",
      "Nothing to combine in /Users/joewandy/git/pimp/django_projects/pimp_data/projects/9/analysis_9/positive/combined/group_8\n",
      "Nothing to combine in /Users/joewandy/git/pimp/django_projects/pimp_data/projects/9/analysis_9/positive/combined/group_9\n",
      "Nothing to combine in /Users/joewandy/git/pimp/django_projects/pimp_data/projects/9/analysis_9/positive/combined/group_10\n",
      "Processing /Users/joewandy/git/pimp/django_projects/pimp_data/projects/9/analysis_9/positive/combined/group_11\n",
      "2016-09-21 01:07:13 9:INFO:PuMP.callToArgList.dispatchCall:mzmatch.ipeak.Combine -i /Users/joewandy/git/pimp/django_projects/pimp_data/projects/9/analysis_9/positive/combined/group_11/Beer_4_full1.peakml,/Users/joewandy/git/pimp/django_projects/pimp_data/projects/9/analysis_9/positive/combined/group_11/Beer_4_full2.peakml,/Users/joewandy/git/pimp/django_projects/pimp_data/projects/9/analysis_9/positive/combined/group_11/Beer_4_full3.peakml -o /Users/joewandy/git/pimp/django_projects/pimp_data/projects/9/analysis_9/positive/combined/group_11.peakml -label group_11 -ppm 3 -rtwindow 30 -combination set\n",
      "2016-09-21 01:07:19 9:INFO:PuMP.callToArgList.dispatchCall:mzmatch.ipeak.filter.RSDFilter -i /Users/joewandy/git/pimp/django_projects/pimp_data/projects/9/analysis_9/positive/combined/group_0.peakml -o /Users/joewandy/git/pimp/django_projects/pimp_data/projects/9/analysis_9/positive/combined/group_0_rsd.peakml -rejected /Users/joewandy/git/pimp/django_projects/pimp_data/projects/9/analysis_9/positive/combined/group_0_rsdrej.peakml -rsd 0.5\n",
      "2016-09-21 01:07:28 9:INFO:PuMP.callToArgList.dispatchCall:mzmatch.ipeak.filter.RSDFilter -i /Users/joewandy/git/pimp/django_projects/pimp_data/projects/9/analysis_9/positive/combined/group_11.peakml -o /Users/joewandy/git/pimp/django_projects/pimp_data/projects/9/analysis_9/positive/combined/group_11_rsd.peakml -rejected /Users/joewandy/git/pimp/django_projects/pimp_data/projects/9/analysis_9/positive/combined/group_11_rsdrej.peakml -rsd 0.5\n",
      "2016-09-21 01:07:33 9:INFO:PuMP.callToArgList.dispatchCall:mzmatch.ipeak.filter.RSDFilter -i /Users/joewandy/git/pimp/django_projects/pimp_data/projects/9/analysis_9/positive/combined/group_4.peakml -o /Users/joewandy/git/pimp/django_projects/pimp_data/projects/9/analysis_9/positive/combined/group_4_rsd.peakml -rejected /Users/joewandy/git/pimp/django_projects/pimp_data/projects/9/analysis_9/positive/combined/group_4_rsdrej.peakml -rsd 0.5\n",
      "2016-09-21 01:07:38 9:INFO:PuMP.callToArgList.dispatchCall:mzmatch.ipeak.Combine -i /Users/joewandy/git/pimp/django_projects/pimp_data/projects/9/analysis_9/positive/combined/group_0_rsd.peakml,/Users/joewandy/git/pimp/django_projects/pimp_data/projects/9/analysis_9/positive/combined/group_11_rsd.peakml,/Users/joewandy/git/pimp/django_projects/pimp_data/projects/9/analysis_9/positive/combined/group_4_rsd.peakml -o /Users/joewandy/git/pimp/django_projects/pimp_data/projects/9/analysis_9/positive/final_combined.peakml -label  -ppm 3 -rtwindow 30 -combination set\n",
      "2016-09-21 01:07:44 9:INFO:PuMP.callToArgList.dispatchCall:mzmatch.ipeak.filter.NoiseFilter -i /Users/joewandy/git/pimp/django_projects/pimp_data/projects/9/analysis_9/positive/final_combined.peakml -o /Users/joewandy/git/pimp/django_projects/pimp_data/projects/9/analysis_9/positive/final_combined_nf.peakml -codadw 0.8\n",
      "2016-09-21 01:07:49 9:INFO:PuMP.callToArgList.dispatchCall:mzmatch.ipeak.filter.SimpleFilter -i /Users/joewandy/git/pimp/django_projects/pimp_data/projects/9/analysis_9/positive/final_combined_nf.peakml -o /Users/joewandy/git/pimp/django_projects/pimp_data/projects/9/analysis_9/positive/final.combined_sf.peakml -ppm 3 -mindetections 3 -minintensity 5000\n",
      "2016-09-21 01:07:55 9:INFO:PeakML.Methods.getRawDataPaths:Raw data file located at: /Users/joewandy/git/pimp/django_projects/pimp_data/projects/9/samples/POS/Beer_2_full1.mzXML,/Users/joewandy/git/pimp/django_projects/pimp_data/projects/9/samples/POS/Beer_2_full2.mzXML,/Users/joewandy/git/pimp/django_projects/pimp_data/projects/9/samples/POS/Beer_2_full3.mzXML,/Users/joewandy/git/pimp/django_projects/pimp_data/projects/9/samples/POS/Beer_3_full1.mzXML,/Users/joewandy/git/pimp/django_projects/pimp_data/projects/9/samples/POS/Beer_3_full2.mzXML,/Users/joewandy/git/pimp/django_projects/pimp_data/projects/9/samples/POS/Beer_3_full3.mzXML,/Users/joewandy/git/pimp/django_projects/pimp_data/projects/9/samples/POS/Beer_1_full1.mzXML,/Users/joewandy/git/pimp/django_projects/pimp_data/projects/9/samples/POS/Beer_1_full2.mzXML,/Users/joewandy/git/pimp/django_projects/pimp_data/projects/9/samples/POS/Beer_1_full3.mzXML,/Users/joewandy/git/pimp/django_projects/pimp_data/projects/9/samples/POS/Beer_4_full1.mzXML,/Users/joewandy/git/pimp/django_projects/pimp_data/projects/9/samples/POS/Beer_4_full2.mzXML,/Users/joewandy/git/pimp/django_projects/pimp_data/projects/9/samples/POS/Beer_4_full3.mzXML\n",
      "2016-09-21 01:07:58 9:INFO:PeakML.Methods.getChromData:Loading peakML file in memory (it can take some time, sorry)\n",
      "2016-09-21 01:08:01 9:INFO:PeakML.Methods.getChromData:Done in: 2.05799999999999 s\n",
      "2016-09-21 01:08:26 9:INFO:PeakML.Methods.getPeakData:Extracting peak data from PeakMl file,\n",
      "2016-09-21 01:08:50 9:INFO:PeakML.Methods.getPeakData:Peak data created in 23.3349999999999 s\n",
      "2016-09-21 01:09:17 9:INFO:PeakML.GapFiller:Working on file: /Users/joewandy/git/pimp/django_projects/pimp_data/projects/9/samples/POS/Beer_2_full1.mzXML\n",
      "2016-09-21 01:09:36 9:INFO:PeakML.GapFiller:Working on file: /Users/joewandy/git/pimp/django_projects/pimp_data/projects/9/samples/POS/Beer_2_full2.mzXML\n",
      "2016-09-21 01:09:56 9:INFO:PeakML.GapFiller:Working on file: /Users/joewandy/git/pimp/django_projects/pimp_data/projects/9/samples/POS/Beer_2_full3.mzXML\n",
      "2016-09-21 01:10:15 9:INFO:PeakML.GapFiller:Working on file: /Users/joewandy/git/pimp/django_projects/pimp_data/projects/9/samples/POS/Beer_3_full1.mzXML\n",
      "2016-09-21 01:10:35 9:INFO:PeakML.GapFiller:Working on file: /Users/joewandy/git/pimp/django_projects/pimp_data/projects/9/samples/POS/Beer_3_full2.mzXML\n",
      "2016-09-21 01:10:55 9:INFO:PeakML.GapFiller:Working on file: /Users/joewandy/git/pimp/django_projects/pimp_data/projects/9/samples/POS/Beer_3_full3.mzXML\n",
      "2016-09-21 01:11:14 9:INFO:PeakML.GapFiller:Working on file: /Users/joewandy/git/pimp/django_projects/pimp_data/projects/9/samples/POS/Beer_1_full1.mzXML\n",
      "2016-09-21 01:11:34 9:INFO:PeakML.GapFiller:Working on file: /Users/joewandy/git/pimp/django_projects/pimp_data/projects/9/samples/POS/Beer_1_full2.mzXML\n",
      "2016-09-21 01:11:54 9:INFO:PeakML.GapFiller:Working on file: /Users/joewandy/git/pimp/django_projects/pimp_data/projects/9/samples/POS/Beer_1_full3.mzXML\n",
      "2016-09-21 01:12:13 9:INFO:PeakML.GapFiller:Working on file: /Users/joewandy/git/pimp/django_projects/pimp_data/projects/9/samples/POS/Beer_4_full1.mzXML\n",
      "2016-09-21 01:12:32 9:INFO:PeakML.GapFiller:Working on file: /Users/joewandy/git/pimp/django_projects/pimp_data/projects/9/samples/POS/Beer_4_full2.mzXML\n",
      "2016-09-21 01:12:52 9:INFO:PeakML.GapFiller:Working on file: /Users/joewandy/git/pimp/django_projects/pimp_data/projects/9/samples/POS/Beer_4_full3.mzXML\n",
      "2016-09-21 01:13:35 9:INFO:PuMP.callToArgList.dispatchCall:mzmatch.ipeak.sort.RelatedPeaks -i /Users/joewandy/git/pimp/django_projects/pimp_data/projects/9/analysis_9/positive/final_combined_gapfilled.peakml -o /Users/joewandy/git/pimp/django_projects/pimp_data/projects/9/analysis_9/positive/final_combined_related.peakml -basepeaks /Users/joewandy/git/pimp/django_projects/pimp_data/projects/9/analysis_9/positive/final_combined_basepeaks.peakml -ppm 3 -rtwindow 30\n",
      "2016-09-21 01:14:02 9:INFO:PuMP.callToArgList.dispatchCall:mzmatch.ipeak.util.Identify -i analysis_9/positive/final_combined_related.peakml -o analysis_9/positive/final_combined_related_identified_hmdb.peakml -ppm 3 -databases /Users/joewandy/git/pimp/packrat/lib/x86_64-apple-darwin15.5.0/3.3.1/PiMP/dbs/hmdb.xml -rtwindowrelative FALSE -adducts M+H,M+ACN+Na,M+Na,M+K,M+ACN+H\n",
      "2016-09-21 01:14:17 9:INFO:PuMP.callToArgList.dispatchCall:mzmatch.ipeak.convert.ConvertToText -i analysis_9/positive/final_combined_related_identified_hmdb.peakml -o analysis_9/positive/mzmatch_output_hmdb.txt -annotations identification,ppm,adduct,relation.id,relation.ship,codadw,charge\n",
      "2016-09-21 01:14:21 9:INFO:PuMP.callToArgList.dispatchCall:mzmatch.ipeak.util.Identify -i analysis_9/positive/final_combined_related.peakml -o analysis_9/positive/final_combined_related_identified_kegg.peakml -ppm 3 -databases /Users/joewandy/git/pimp/packrat/lib/x86_64-apple-darwin15.5.0/3.3.1/PiMP/dbs/kegg.xml -rtwindowrelative FALSE -adducts M+H,M+ACN+Na,M+Na,M+K,M+ACN+H\n",
      "2016-09-21 01:14:32 9:INFO:PuMP.callToArgList.dispatchCall:mzmatch.ipeak.convert.ConvertToText -i analysis_9/positive/final_combined_related_identified_kegg.peakml -o analysis_9/positive/mzmatch_output_kegg.txt -annotations identification,ppm,adduct,relation.id,relation.ship,codadw,charge\n",
      "2016-09-21 01:14:36 9:INFO:PuMP.callToArgList.dispatchCall:mzmatch.ipeak.util.Identify -i analysis_9/positive/final_combined_related.peakml -o analysis_9/positive/final_combined_related_identified_lipidmaps.peakml -ppm 3 -databases /Users/joewandy/git/pimp/packrat/lib/x86_64-apple-darwin15.5.0/3.3.1/PiMP/dbs/lipidmaps.xml -rtwindowrelative FALSE -adducts M+H,M+ACN+Na,M+Na,M+K,M+ACN+H\n",
      "2016-09-21 01:14:50 9:INFO:PuMP.callToArgList.dispatchCall:mzmatch.ipeak.convert.ConvertToText -i analysis_9/positive/final_combined_related_identified_lipidmaps.peakml -o analysis_9/positive/mzmatch_output_lipidmaps.txt -annotations identification,ppm,adduct,relation.id,relation.ship,codadw,charge\n",
      "2016-09-21 01:14:54 9:INFO:PuMP.callToArgList.dispatchCall:mzmatch.ipeak.util.Identify -i analysis_9/positive/final_combined_related.peakml -o analysis_9/positive/final_combined_related_identified_stds_db.peakml -ppm 3 -databases analysis_9/stds_db.xml -rtwindow 0.05 -rtwindowrelative TRUE -adducts M+H\n",
      "2016-09-21 01:15:03 9:INFO:PuMP.callToArgList.dispatchCall:mzmatch.ipeak.convert.ConvertToText -i analysis_9/positive/final_combined_related_identified_stds_db.peakml -o analysis_9/positive/mzmatch_output_stds_db.txt -annotations identification,ppm,adduct,relation.id,relation.ship,codadw,charge\n"
     ]
    }
   ],
   "source": [
    "raw_data_pos, groups_pos = pipeline.process_raw_data(polarity_pos, xcms_params, mzmatch_params, \n",
    "                                         peakml_params, mzmatch_outputs, mzmatch_filters, n_slaves)"
   ]
  },
  {
   "cell_type": "code",
   "execution_count": 10,
   "metadata": {
    "collapsed": true
   },
   "outputs": [],
   "source": [
    "raw_data_dict['positive'] = raw_data_pos\n",
    "groups_dict['positive'] = groups_pos"
   ]
  },
  {
   "cell_type": "markdown",
   "metadata": {},
   "source": [
    "## Process negative raw data"
   ]
  },
  {
   "cell_type": "code",
   "execution_count": 11,
   "metadata": {
    "collapsed": false
   },
   "outputs": [
    {
     "name": "stdout",
     "output_type": "stream",
     "text": [
      "Creating /Users/joewandy/git/pimp/django_projects/pimp_data/projects/9/analysis_9/negative\n",
      "Creating /Users/joewandy/git/pimp/django_projects/pimp_data/projects/9/analysis_9/negative/combined\n",
      "------------------------------------------------\n",
      "negative /Users/joewandy/git/pimp/django_projects/pimp_data/projects/9/analysis_9/negative /Users/joewandy/git/pimp/django_projects/pimp_data/projects/9/analysis_9/negative/combined\n",
      "------------------------------------------------\n",
      "Starting snow cluster with 8 local sockets.\n",
      "Detecting features in file # 1 : Beer_4_full1.mzXML \n",
      "Detecting features in file # 2 : Beer_4_full2.mzXML \n",
      "Detecting features in file # 3 : Beer_4_full3.mzXML \n",
      "Detecting features in file # 4 : Beer_1_full1.mzXML \n",
      "Detecting features in file # 5 : Beer_1_full2.mzXML \n",
      "Detecting features in file # 6 : Beer_1_full3.mzXML \n",
      "Detecting features in file # 7 : Beer_2_full1.mzXML \n",
      "Detecting features in file # 8 : Beer_2_full2.mzXML \n",
      "Detecting features in file # 9 : Beer_2_full3.mzXML \n",
      "Detecting features in file # 10 : Beer_3_full1.mzXML \n",
      "Detecting features in file # 11 : Beer_3_full2.mzXML \n",
      "Detecting features in file # 12 : Beer_3_full3.mzXML \n",
      "center sample:  Beer_2_full3 \n",
      "Processing: Beer_4_full1  Beer_4_full2  Beer_4_full3  Beer_1_full1  Beer_1_full2  Beer_1_full3  Beer_2_full1  Beer_2_full2  Beer_3_full1  Beer_3_full2  Beer_3_full3  \n",
      "Now creating /Users/joewandy/git/pimp/django_projects/pimp_data/projects/9/analysis_9/negative/Beer_4_full1.peakml\n",
      "2016-09-21 01:22:45 9:INFO:PeakML.xcms.write.SingleInstance:negative\n",
      "2016-09-21 01:22:45 9:INFO:PeakML.xcms.write.SingleInstance:retrieving raw data\n",
      "2016-09-21 01:22:45 9:INFO:PeakML.xcms.write.SingleInstance:- /Users/joewandy/git/pimp/django_projects/pimp_data/projects/9/samples/NEG/Beer_1_full1.mzXML\n",
      "2016-09-21 01:22:57 9:INFO::7284 peaks exported.\n",
      "Now creating /Users/joewandy/git/pimp/django_projects/pimp_data/projects/9/analysis_9/negative/Beer_4_full2.peakml\n",
      "2016-09-21 01:22:58 9:INFO:PeakML.xcms.write.SingleInstance:negative\n",
      "2016-09-21 01:22:58 9:INFO:PeakML.xcms.write.SingleInstance:retrieving raw data\n",
      "2016-09-21 01:22:58 9:INFO:PeakML.xcms.write.SingleInstance:- /Users/joewandy/git/pimp/django_projects/pimp_data/projects/9/samples/NEG/Beer_1_full2.mzXML\n",
      "2016-09-21 01:23:10 9:INFO::7633 peaks exported.\n",
      "Now creating /Users/joewandy/git/pimp/django_projects/pimp_data/projects/9/analysis_9/negative/Beer_4_full3.peakml\n",
      "2016-09-21 01:23:11 9:INFO:PeakML.xcms.write.SingleInstance:negative\n",
      "2016-09-21 01:23:11 9:INFO:PeakML.xcms.write.SingleInstance:retrieving raw data\n",
      "2016-09-21 01:23:11 9:INFO:PeakML.xcms.write.SingleInstance:- /Users/joewandy/git/pimp/django_projects/pimp_data/projects/9/samples/NEG/Beer_1_full3.mzXML\n",
      "2016-09-21 01:23:23 9:INFO::7719 peaks exported.\n",
      "Now creating /Users/joewandy/git/pimp/django_projects/pimp_data/projects/9/analysis_9/negative/Beer_1_full1.peakml\n",
      "2016-09-21 01:23:24 9:INFO:PeakML.xcms.write.SingleInstance:negative\n",
      "2016-09-21 01:23:24 9:INFO:PeakML.xcms.write.SingleInstance:retrieving raw data\n",
      "2016-09-21 01:23:24 9:INFO:PeakML.xcms.write.SingleInstance:- /Users/joewandy/git/pimp/django_projects/pimp_data/projects/9/samples/NEG/Beer_2_full1.mzXML\n",
      "2016-09-21 01:23:38 9:INFO::8087 peaks exported.\n",
      "Now creating /Users/joewandy/git/pimp/django_projects/pimp_data/projects/9/analysis_9/negative/Beer_1_full2.peakml\n",
      "2016-09-21 01:23:38 9:INFO:PeakML.xcms.write.SingleInstance:negative\n",
      "2016-09-21 01:23:38 9:INFO:PeakML.xcms.write.SingleInstance:retrieving raw data\n",
      "2016-09-21 01:23:38 9:INFO:PeakML.xcms.write.SingleInstance:- /Users/joewandy/git/pimp/django_projects/pimp_data/projects/9/samples/NEG/Beer_2_full2.mzXML\n",
      "2016-09-21 01:23:52 9:INFO::8104 peaks exported.\n",
      "Now creating /Users/joewandy/git/pimp/django_projects/pimp_data/projects/9/analysis_9/negative/Beer_1_full3.peakml\n",
      "2016-09-21 01:23:53 9:INFO:PeakML.xcms.write.SingleInstance:negative\n",
      "2016-09-21 01:23:53 9:INFO:PeakML.xcms.write.SingleInstance:retrieving raw data\n",
      "2016-09-21 01:23:53 9:INFO:PeakML.xcms.write.SingleInstance:- /Users/joewandy/git/pimp/django_projects/pimp_data/projects/9/samples/NEG/Beer_2_full3.mzXML\n",
      "2016-09-21 01:24:07 9:INFO::7570 peaks exported.\n",
      "Now creating /Users/joewandy/git/pimp/django_projects/pimp_data/projects/9/analysis_9/negative/Beer_2_full1.peakml\n",
      "2016-09-21 01:24:07 9:INFO:PeakML.xcms.write.SingleInstance:negative\n",
      "2016-09-21 01:24:08 9:INFO:PeakML.xcms.write.SingleInstance:retrieving raw data\n",
      "2016-09-21 01:24:08 9:INFO:PeakML.xcms.write.SingleInstance:- /Users/joewandy/git/pimp/django_projects/pimp_data/projects/9/samples/NEG/Beer_3_full1.mzXML\n",
      "2016-09-21 01:24:21 9:INFO::8076 peaks exported.\n",
      "Now creating /Users/joewandy/git/pimp/django_projects/pimp_data/projects/9/analysis_9/negative/Beer_2_full2.peakml\n",
      "2016-09-21 01:24:21 9:INFO:PeakML.xcms.write.SingleInstance:negative\n",
      "2016-09-21 01:24:21 9:INFO:PeakML.xcms.write.SingleInstance:retrieving raw data\n",
      "2016-09-21 01:24:21 9:INFO:PeakML.xcms.write.SingleInstance:- /Users/joewandy/git/pimp/django_projects/pimp_data/projects/9/samples/NEG/Beer_3_full2.mzXML\n",
      "2016-09-21 01:24:35 9:INFO::8072 peaks exported.\n",
      "Now creating /Users/joewandy/git/pimp/django_projects/pimp_data/projects/9/analysis_9/negative/Beer_2_full3.peakml\n",
      "2016-09-21 01:24:35 9:INFO:PeakML.xcms.write.SingleInstance:negative\n",
      "2016-09-21 01:24:36 9:INFO:PeakML.xcms.write.SingleInstance:retrieving raw data\n",
      "2016-09-21 01:24:36 9:INFO:PeakML.xcms.write.SingleInstance:- /Users/joewandy/git/pimp/django_projects/pimp_data/projects/9/samples/NEG/Beer_3_full3.mzXML\n",
      "2016-09-21 01:24:49 9:INFO::7895 peaks exported.\n",
      "Now creating /Users/joewandy/git/pimp/django_projects/pimp_data/projects/9/analysis_9/negative/Beer_3_full1.peakml\n",
      "2016-09-21 01:24:49 9:INFO:PeakML.xcms.write.SingleInstance:negative\n",
      "2016-09-21 01:24:49 9:INFO:PeakML.xcms.write.SingleInstance:retrieving raw data\n",
      "2016-09-21 01:24:49 9:INFO:PeakML.xcms.write.SingleInstance:- /Users/joewandy/git/pimp/django_projects/pimp_data/projects/9/samples/NEG/Beer_4_full1.mzXML\n",
      "2016-09-21 01:25:02 9:INFO::7665 peaks exported.\n",
      "Now creating /Users/joewandy/git/pimp/django_projects/pimp_data/projects/9/analysis_9/negative/Beer_3_full2.peakml\n",
      "2016-09-21 01:25:02 9:INFO:PeakML.xcms.write.SingleInstance:negative\n",
      "2016-09-21 01:25:02 9:INFO:PeakML.xcms.write.SingleInstance:retrieving raw data\n",
      "2016-09-21 01:25:02 9:INFO:PeakML.xcms.write.SingleInstance:- /Users/joewandy/git/pimp/django_projects/pimp_data/projects/9/samples/NEG/Beer_4_full2.mzXML\n",
      "2016-09-21 01:25:15 9:INFO::7528 peaks exported.\n",
      "Now creating /Users/joewandy/git/pimp/django_projects/pimp_data/projects/9/analysis_9/negative/Beer_3_full3.peakml\n",
      "2016-09-21 01:25:15 9:INFO:PeakML.xcms.write.SingleInstance:negative\n",
      "2016-09-21 01:25:16 9:INFO:PeakML.xcms.write.SingleInstance:retrieving raw data\n",
      "2016-09-21 01:25:16 9:INFO:PeakML.xcms.write.SingleInstance:- /Users/joewandy/git/pimp/django_projects/pimp_data/projects/9/samples/NEG/Beer_4_full3.mzXML\n",
      "2016-09-21 01:25:28 9:INFO::7319 peaks exported.\n",
      "[beer_smell with 2 levels, beer_colour with 2 levels, beer_taste with 3 levels]\n",
      "beer_smell\n",
      " - smell_good ['Beer_1_full1', 'Beer_1_full2', 'Beer_1_full3', 'Beer_2_full1', 'Beer_2_full2', 'Beer_2_full3', 'Beer_3_full1', 'Beer_3_full2', 'Beer_3_full3']\n",
      " - smell_bad ['Beer_4_full1', 'Beer_4_full2', 'Beer_4_full3']\n",
      "beer_colour\n",
      " - colour_dark ['Beer_1_full1', 'Beer_1_full2', 'Beer_1_full3', 'Beer_2_full1', 'Beer_2_full2', 'Beer_2_full3']\n",
      " - colour_light ['Beer_3_full1', 'Beer_3_full2', 'Beer_3_full3', 'Beer_4_full1', 'Beer_4_full2', 'Beer_4_full3']\n",
      "beer_taste\n",
      " - taste_delicious ['Beer_1_full1', 'Beer_1_full2', 'Beer_1_full3', 'Beer_2_full1', 'Beer_2_full2', 'Beer_2_full3']\n",
      " - taste_okay ['Beer_3_full1', 'Beer_3_full2', 'Beer_3_full3']\n",
      " - taste_awful ['Beer_4_full1', 'Beer_4_full2', 'Beer_4_full3']\n",
      "(2, 2, 3)\n",
      "('group_0', (0, 0, 0), 'smell_good,colour_dark,taste_delicious', ['Beer_1_full2', 'Beer_1_full3', 'Beer_1_full1', 'Beer_2_full1', 'Beer_2_full3', 'Beer_2_full2'])\n",
      "('group_1', (0, 0, 1), 'smell_good,colour_dark,taste_okay', [])\n",
      "('group_2', (0, 0, 2), 'smell_good,colour_dark,taste_awful', [])\n",
      "('group_3', (0, 1, 0), 'smell_good,colour_light,taste_delicious', [])\n",
      "('group_4', (0, 1, 1), 'smell_good,colour_light,taste_okay', ['Beer_3_full1', 'Beer_3_full2', 'Beer_3_full3'])\n",
      "('group_5', (0, 1, 2), 'smell_good,colour_light,taste_awful', [])\n",
      "('group_6', (1, 0, 0), 'smell_bad,colour_dark,taste_delicious', [])\n",
      "('group_7', (1, 0, 1), 'smell_bad,colour_dark,taste_okay', [])\n",
      "('group_8', (1, 0, 2), 'smell_bad,colour_dark,taste_awful', [])\n",
      "('group_9', (1, 1, 0), 'smell_bad,colour_light,taste_delicious', [])\n",
      "('group_10', (1, 1, 1), 'smell_bad,colour_light,taste_okay', [])\n",
      "('group_11', (1, 1, 2), 'smell_bad,colour_light,taste_awful', ['Beer_4_full3', 'Beer_4_full2', 'Beer_4_full1'])\n",
      "Processing /Users/joewandy/git/pimp/django_projects/pimp_data/projects/9/analysis_9/negative/combined/group_0\n",
      "2016-09-21 01:25:28 9:INFO:PuMP.callToArgList.dispatchCall:mzmatch.ipeak.Combine -i /Users/joewandy/git/pimp/django_projects/pimp_data/projects/9/analysis_9/negative/combined/group_0/Beer_1_full1.peakml,/Users/joewandy/git/pimp/django_projects/pimp_data/projects/9/analysis_9/negative/combined/group_0/Beer_1_full2.peakml,/Users/joewandy/git/pimp/django_projects/pimp_data/projects/9/analysis_9/negative/combined/group_0/Beer_1_full3.peakml,/Users/joewandy/git/pimp/django_projects/pimp_data/projects/9/analysis_9/negative/combined/group_0/Beer_2_full1.peakml,/Users/joewandy/git/pimp/django_projects/pimp_data/projects/9/analysis_9/negative/combined/group_0/Beer_2_full2.peakml,/Users/joewandy/git/pimp/django_projects/pimp_data/projects/9/analysis_9/negative/combined/group_0/Beer_2_full3.peakml -o /Users/joewandy/git/pimp/django_projects/pimp_data/projects/9/analysis_9/negative/combined/group_0.peakml -label group_0 -ppm 3 -rtwindow 30 -combination set\n",
      "Nothing to combine in /Users/joewandy/git/pimp/django_projects/pimp_data/projects/9/analysis_9/negative/combined/group_1\n",
      "Nothing to combine in /Users/joewandy/git/pimp/django_projects/pimp_data/projects/9/analysis_9/negative/combined/group_2\n",
      "Nothing to combine in /Users/joewandy/git/pimp/django_projects/pimp_data/projects/9/analysis_9/negative/combined/group_3\n",
      "Processing /Users/joewandy/git/pimp/django_projects/pimp_data/projects/9/analysis_9/negative/combined/group_4\n",
      "2016-09-21 01:25:35 9:INFO:PuMP.callToArgList.dispatchCall:mzmatch.ipeak.Combine -i /Users/joewandy/git/pimp/django_projects/pimp_data/projects/9/analysis_9/negative/combined/group_4/Beer_3_full1.peakml,/Users/joewandy/git/pimp/django_projects/pimp_data/projects/9/analysis_9/negative/combined/group_4/Beer_3_full2.peakml,/Users/joewandy/git/pimp/django_projects/pimp_data/projects/9/analysis_9/negative/combined/group_4/Beer_3_full3.peakml -o /Users/joewandy/git/pimp/django_projects/pimp_data/projects/9/analysis_9/negative/combined/group_4.peakml -label group_4 -ppm 3 -rtwindow 30 -combination set\n",
      "Nothing to combine in /Users/joewandy/git/pimp/django_projects/pimp_data/projects/9/analysis_9/negative/combined/group_5\n",
      "Nothing to combine in /Users/joewandy/git/pimp/django_projects/pimp_data/projects/9/analysis_9/negative/combined/group_6\n",
      "Nothing to combine in /Users/joewandy/git/pimp/django_projects/pimp_data/projects/9/analysis_9/negative/combined/group_7\n",
      "Nothing to combine in /Users/joewandy/git/pimp/django_projects/pimp_data/projects/9/analysis_9/negative/combined/group_8\n",
      "Nothing to combine in /Users/joewandy/git/pimp/django_projects/pimp_data/projects/9/analysis_9/negative/combined/group_9\n",
      "Nothing to combine in /Users/joewandy/git/pimp/django_projects/pimp_data/projects/9/analysis_9/negative/combined/group_10\n",
      "Processing /Users/joewandy/git/pimp/django_projects/pimp_data/projects/9/analysis_9/negative/combined/group_11\n",
      "2016-09-21 01:25:39 9:INFO:PuMP.callToArgList.dispatchCall:mzmatch.ipeak.Combine -i /Users/joewandy/git/pimp/django_projects/pimp_data/projects/9/analysis_9/negative/combined/group_11/Beer_4_full1.peakml,/Users/joewandy/git/pimp/django_projects/pimp_data/projects/9/analysis_9/negative/combined/group_11/Beer_4_full2.peakml,/Users/joewandy/git/pimp/django_projects/pimp_data/projects/9/analysis_9/negative/combined/group_11/Beer_4_full3.peakml -o /Users/joewandy/git/pimp/django_projects/pimp_data/projects/9/analysis_9/negative/combined/group_11.peakml -label group_11 -ppm 3 -rtwindow 30 -combination set\n",
      "2016-09-21 01:25:42 9:INFO:PuMP.callToArgList.dispatchCall:mzmatch.ipeak.filter.RSDFilter -i /Users/joewandy/git/pimp/django_projects/pimp_data/projects/9/analysis_9/negative/combined/group_0.peakml -o /Users/joewandy/git/pimp/django_projects/pimp_data/projects/9/analysis_9/negative/combined/group_0_rsd.peakml -rejected /Users/joewandy/git/pimp/django_projects/pimp_data/projects/9/analysis_9/negative/combined/group_0_rsdrej.peakml -rsd 0.5\n",
      "2016-09-21 01:25:47 9:INFO:PuMP.callToArgList.dispatchCall:mzmatch.ipeak.filter.RSDFilter -i /Users/joewandy/git/pimp/django_projects/pimp_data/projects/9/analysis_9/negative/combined/group_11.peakml -o /Users/joewandy/git/pimp/django_projects/pimp_data/projects/9/analysis_9/negative/combined/group_11_rsd.peakml -rejected /Users/joewandy/git/pimp/django_projects/pimp_data/projects/9/analysis_9/negative/combined/group_11_rsdrej.peakml -rsd 0.5\n",
      "2016-09-21 01:25:50 9:INFO:PuMP.callToArgList.dispatchCall:mzmatch.ipeak.filter.RSDFilter -i /Users/joewandy/git/pimp/django_projects/pimp_data/projects/9/analysis_9/negative/combined/group_4.peakml -o /Users/joewandy/git/pimp/django_projects/pimp_data/projects/9/analysis_9/negative/combined/group_4_rsd.peakml -rejected /Users/joewandy/git/pimp/django_projects/pimp_data/projects/9/analysis_9/negative/combined/group_4_rsdrej.peakml -rsd 0.5\n",
      "2016-09-21 01:25:53 9:INFO:PuMP.callToArgList.dispatchCall:mzmatch.ipeak.Combine -i /Users/joewandy/git/pimp/django_projects/pimp_data/projects/9/analysis_9/negative/combined/group_0_rsd.peakml,/Users/joewandy/git/pimp/django_projects/pimp_data/projects/9/analysis_9/negative/combined/group_11_rsd.peakml,/Users/joewandy/git/pimp/django_projects/pimp_data/projects/9/analysis_9/negative/combined/group_4_rsd.peakml -o /Users/joewandy/git/pimp/django_projects/pimp_data/projects/9/analysis_9/negative/final_combined.peakml -label  -ppm 3 -rtwindow 30 -combination set\n",
      "2016-09-21 01:25:57 9:INFO:PuMP.callToArgList.dispatchCall:mzmatch.ipeak.filter.NoiseFilter -i /Users/joewandy/git/pimp/django_projects/pimp_data/projects/9/analysis_9/negative/final_combined.peakml -o /Users/joewandy/git/pimp/django_projects/pimp_data/projects/9/analysis_9/negative/final_combined_nf.peakml -codadw 0.8\n",
      "2016-09-21 01:26:00 9:INFO:PuMP.callToArgList.dispatchCall:mzmatch.ipeak.filter.SimpleFilter -i /Users/joewandy/git/pimp/django_projects/pimp_data/projects/9/analysis_9/negative/final_combined_nf.peakml -o /Users/joewandy/git/pimp/django_projects/pimp_data/projects/9/analysis_9/negative/final.combined_sf.peakml -ppm 3 -mindetections 3 -minintensity 5000\n",
      "2016-09-21 01:26:03 9:INFO:PeakML.Methods.getRawDataPaths:Raw data file located at: /Users/joewandy/git/pimp/django_projects/pimp_data/projects/9/samples/NEG/Beer_2_full1.mzXML,/Users/joewandy/git/pimp/django_projects/pimp_data/projects/9/samples/NEG/Beer_2_full2.mzXML,/Users/joewandy/git/pimp/django_projects/pimp_data/projects/9/samples/NEG/Beer_2_full3.mzXML,/Users/joewandy/git/pimp/django_projects/pimp_data/projects/9/samples/NEG/Beer_3_full1.mzXML,/Users/joewandy/git/pimp/django_projects/pimp_data/projects/9/samples/NEG/Beer_3_full2.mzXML,/Users/joewandy/git/pimp/django_projects/pimp_data/projects/9/samples/NEG/Beer_3_full3.mzXML,/Users/joewandy/git/pimp/django_projects/pimp_data/projects/9/samples/NEG/Beer_1_full1.mzXML,/Users/joewandy/git/pimp/django_projects/pimp_data/projects/9/samples/NEG/Beer_1_full2.mzXML,/Users/joewandy/git/pimp/django_projects/pimp_data/projects/9/samples/NEG/Beer_1_full3.mzXML,/Users/joewandy/git/pimp/django_projects/pimp_data/projects/9/samples/NEG/Beer_4_full1.mzXML,/Users/joewandy/git/pimp/django_projects/pimp_data/projects/9/samples/NEG/Beer_4_full2.mzXML,/Users/joewandy/git/pimp/django_projects/pimp_data/projects/9/samples/NEG/Beer_4_full3.mzXML\n",
      "2016-09-21 01:26:05 9:INFO:PeakML.Methods.getChromData:Loading peakML file in memory (it can take some time, sorry)\n",
      "2016-09-21 01:26:07 9:INFO:PeakML.Methods.getChromData:Done in: 1.26200000000017 s\n",
      "2016-09-21 01:26:24 9:INFO:PeakML.Methods.getPeakData:Extracting peak data from PeakMl file,\n",
      "2016-09-21 01:26:34 9:INFO:PeakML.Methods.getPeakData:Peak data created in 9.68499999999995 s\n",
      "2016-09-21 01:26:53 9:INFO:PeakML.GapFiller:Working on file: /Users/joewandy/git/pimp/django_projects/pimp_data/projects/9/samples/NEG/Beer_2_full1.mzXML\n",
      "2016-09-21 01:27:04 9:INFO:PeakML.GapFiller:Working on file: /Users/joewandy/git/pimp/django_projects/pimp_data/projects/9/samples/NEG/Beer_2_full2.mzXML\n",
      "2016-09-21 01:27:15 9:INFO:PeakML.GapFiller:Working on file: /Users/joewandy/git/pimp/django_projects/pimp_data/projects/9/samples/NEG/Beer_2_full3.mzXML\n",
      "2016-09-21 01:27:28 9:INFO:PeakML.GapFiller:Working on file: /Users/joewandy/git/pimp/django_projects/pimp_data/projects/9/samples/NEG/Beer_3_full1.mzXML\n",
      "2016-09-21 01:27:39 9:INFO:PeakML.GapFiller:Working on file: /Users/joewandy/git/pimp/django_projects/pimp_data/projects/9/samples/NEG/Beer_3_full2.mzXML\n",
      "2016-09-21 01:27:51 9:INFO:PeakML.GapFiller:Working on file: /Users/joewandy/git/pimp/django_projects/pimp_data/projects/9/samples/NEG/Beer_3_full3.mzXML\n",
      "2016-09-21 01:28:02 9:INFO:PeakML.GapFiller:Working on file: /Users/joewandy/git/pimp/django_projects/pimp_data/projects/9/samples/NEG/Beer_1_full1.mzXML\n",
      "2016-09-21 01:28:13 9:INFO:PeakML.GapFiller:Working on file: /Users/joewandy/git/pimp/django_projects/pimp_data/projects/9/samples/NEG/Beer_1_full2.mzXML\n",
      "2016-09-21 01:28:25 9:INFO:PeakML.GapFiller:Working on file: /Users/joewandy/git/pimp/django_projects/pimp_data/projects/9/samples/NEG/Beer_1_full3.mzXML\n",
      "2016-09-21 01:28:36 9:INFO:PeakML.GapFiller:Working on file: /Users/joewandy/git/pimp/django_projects/pimp_data/projects/9/samples/NEG/Beer_4_full1.mzXML\n",
      "2016-09-21 01:28:47 9:INFO:PeakML.GapFiller:Working on file: /Users/joewandy/git/pimp/django_projects/pimp_data/projects/9/samples/NEG/Beer_4_full2.mzXML\n",
      "2016-09-21 01:28:58 9:INFO:PeakML.GapFiller:Working on file: /Users/joewandy/git/pimp/django_projects/pimp_data/projects/9/samples/NEG/Beer_4_full3.mzXML\n",
      "2016-09-21 01:29:25 9:INFO:PuMP.callToArgList.dispatchCall:mzmatch.ipeak.sort.RelatedPeaks -i /Users/joewandy/git/pimp/django_projects/pimp_data/projects/9/analysis_9/negative/final_combined_gapfilled.peakml -o /Users/joewandy/git/pimp/django_projects/pimp_data/projects/9/analysis_9/negative/final_combined_related.peakml -basepeaks /Users/joewandy/git/pimp/django_projects/pimp_data/projects/9/analysis_9/negative/final_combined_basepeaks.peakml -ppm 3 -rtwindow 30\n",
      "2016-09-21 01:29:37 9:INFO:PuMP.callToArgList.dispatchCall:mzmatch.ipeak.util.Identify -i analysis_9/negative/final_combined_related.peakml -o analysis_9/negative/final_combined_related_identified_hmdb.peakml -ppm 3 -databases /Users/joewandy/git/pimp/packrat/lib/x86_64-apple-darwin15.5.0/3.3.1/PiMP/dbs/hmdb.xml -rtwindowrelative FALSE -adducts M-H,M-ACN+Na,M-Na,M-K,M-ACN+H\n",
      "2016-09-21 01:29:48 9:INFO:PuMP.callToArgList.dispatchCall:mzmatch.ipeak.convert.ConvertToText -i analysis_9/negative/final_combined_related_identified_hmdb.peakml -o analysis_9/negative/mzmatch_output_hmdb.txt -annotations identification,ppm,adduct,relation.id,relation.ship,codadw,charge\n",
      "2016-09-21 01:29:51 9:INFO:PuMP.callToArgList.dispatchCall:mzmatch.ipeak.util.Identify -i analysis_9/negative/final_combined_related.peakml -o analysis_9/negative/final_combined_related_identified_kegg.peakml -ppm 3 -databases /Users/joewandy/git/pimp/packrat/lib/x86_64-apple-darwin15.5.0/3.3.1/PiMP/dbs/kegg.xml -rtwindowrelative FALSE -adducts M-H,M-ACN+Na,M-Na,M-K,M-ACN+H\n",
      "2016-09-21 01:29:58 9:INFO:PuMP.callToArgList.dispatchCall:mzmatch.ipeak.convert.ConvertToText -i analysis_9/negative/final_combined_related_identified_kegg.peakml -o analysis_9/negative/mzmatch_output_kegg.txt -annotations identification,ppm,adduct,relation.id,relation.ship,codadw,charge\n",
      "2016-09-21 01:30:01 9:INFO:PuMP.callToArgList.dispatchCall:mzmatch.ipeak.util.Identify -i analysis_9/negative/final_combined_related.peakml -o analysis_9/negative/final_combined_related_identified_lipidmaps.peakml -ppm 3 -databases /Users/joewandy/git/pimp/packrat/lib/x86_64-apple-darwin15.5.0/3.3.1/PiMP/dbs/lipidmaps.xml -rtwindowrelative FALSE -adducts M-H,M-ACN+Na,M-Na,M-K,M-ACN+H\n",
      "2016-09-21 01:30:11 9:INFO:PuMP.callToArgList.dispatchCall:mzmatch.ipeak.convert.ConvertToText -i analysis_9/negative/final_combined_related_identified_lipidmaps.peakml -o analysis_9/negative/mzmatch_output_lipidmaps.txt -annotations identification,ppm,adduct,relation.id,relation.ship,codadw,charge\n",
      "2016-09-21 01:30:13 9:INFO:PuMP.callToArgList.dispatchCall:mzmatch.ipeak.util.Identify -i analysis_9/negative/final_combined_related.peakml -o analysis_9/negative/final_combined_related_identified_stds_db.peakml -ppm 3 -databases analysis_9/stds_db.xml -rtwindow 0.05 -rtwindowrelative TRUE -adducts M-H\n",
      "2016-09-21 01:30:19 9:INFO:PuMP.callToArgList.dispatchCall:mzmatch.ipeak.convert.ConvertToText -i analysis_9/negative/final_combined_related_identified_stds_db.peakml -o analysis_9/negative/mzmatch_output_stds_db.txt -annotations identification,ppm,adduct,relation.id,relation.ship,codadw,charge\n"
     ]
    }
   ],
   "source": [
    "raw_data_neg, groups_neg = pipeline.process_raw_data(polarity_neg, xcms_params, mzmatch_params, \n",
    "                                         peakml_params, mzmatch_outputs, mzmatch_filters, n_slaves)"
   ]
  },
  {
   "cell_type": "code",
   "execution_count": 12,
   "metadata": {
    "collapsed": true
   },
   "outputs": [],
   "source": [
    "raw_data_dict['negative'] = raw_data_neg\n",
    "groups_dict['negative'] = groups_neg"
   ]
  },
  {
   "cell_type": "markdown",
   "metadata": {},
   "source": [
    "### Run stats"
   ]
  },
  {
   "cell_type": "code",
   "execution_count": 15,
   "metadata": {
    "collapsed": false
   },
   "outputs": [
    {
     "name": "stdout",
     "output_type": "stream",
     "text": [
      "$group_0\n",
      "[1] \"Beer_1_full2\" \"Beer_1_full3\" \"Beer_1_full1\" \"Beer_2_full1\" \"Beer_2_full3\"\n",
      "[6] \"Beer_2_full2\"\n",
      "\n",
      "$group_11\n",
      "[1] \"Beer_4_full3\" \"Beer_4_full2\" \"Beer_4_full1\"\n",
      "\n",
      "$group_4\n",
      "[1] \"Beer_3_full1\" \"Beer_3_full2\" \"Beer_3_full3\"\n",
      "\n",
      "\n"
     ]
    }
   ],
   "source": [
    "print groups_dict['positive']"
   ]
  },
  {
   "cell_type": "code",
   "execution_count": 16,
   "metadata": {
    "collapsed": false
   },
   "outputs": [
    {
     "name": "stdout",
     "output_type": "stream",
     "text": [
      "$group_0\n",
      "[1] \"Beer_1_full2\" \"Beer_1_full3\" \"Beer_1_full1\" \"Beer_2_full1\" \"Beer_2_full3\"\n",
      "[6] \"Beer_2_full2\"\n",
      "\n",
      "$group_11\n",
      "[1] \"Beer_4_full3\" \"Beer_4_full2\" \"Beer_4_full1\"\n",
      "\n",
      "$group_4\n",
      "[1] \"Beer_3_full1\" \"Beer_3_full2\" \"Beer_3_full3\"\n",
      "\n",
      "\n"
     ]
    }
   ],
   "source": [
    "print groups_dict['negative']"
   ]
  },
  {
   "cell_type": "code",
   "execution_count": 17,
   "metadata": {
    "collapsed": false
   },
   "outputs": [],
   "source": [
    "save_fixtures = True\n",
    "pipeline.run_stats(raw_data_dict, pipeline.analysis.id, groups_dict, pipeline.metadata.r_groups,\n",
    "                   pipeline.metadata.r_contrasts, pipeline.metadata.r_names, \n",
    "                   pipeline.metadata.r_databases, pipeline.metadata.r_dbs, \n",
    "                   mzmatch_outputs, save_fixtures, pipeline.working_dir)"
   ]
  },
  {
   "cell_type": "code",
   "execution_count": null,
   "metadata": {
    "collapsed": true
   },
   "outputs": [],
   "source": []
  }
 ],
 "metadata": {
  "kernelspec": {
   "display_name": "Django Shell-Plus",
   "language": "python",
   "name": "django_extensions"
  },
  "language_info": {
   "codemirror_mode": {
    "name": "ipython",
    "version": 2
   },
   "file_extension": ".py",
   "mimetype": "text/x-python",
   "name": "python",
   "nbconvert_exporter": "python",
   "pygments_lexer": "ipython2",
   "version": "2.7.10"
  }
 },
 "nbformat": 4,
 "nbformat_minor": 1
}
