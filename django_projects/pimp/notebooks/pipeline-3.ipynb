{
 "cells": [
  {
   "cell_type": "markdown",
   "metadata": {},
   "source": [
    "# Experimental new pipeline"
   ]
  },
  {
   "cell_type": "code",
   "execution_count": 11,
   "metadata": {
    "collapsed": false
   },
   "outputs": [
    {
     "name": "stdout",
     "output_type": "stream",
     "text": [
      "The autoreload extension is already loaded. To reload it, use:\n",
      "  %reload_ext autoreload\n"
     ]
    }
   ],
   "source": [
    "%load_ext autoreload\n",
    "%autoreload 2"
   ]
  },
  {
   "cell_type": "code",
   "execution_count": 12,
   "metadata": {
    "collapsed": true
   },
   "outputs": [],
   "source": [
    "from experiments.pipelines.pipeline_rpy2 import Rpy2Pipeline\n",
    "import multiprocessing\n",
    "\n",
    "import pandas as pd\n",
    "from IPython.display import display, HTML\n",
    "from pandas import DataFrame"
   ]
  },
  {
   "cell_type": "markdown",
   "metadata": {},
   "source": [
    "## Load analysis and project"
   ]
  },
  {
   "cell_type": "code",
   "execution_count": 13,
   "metadata": {
    "collapsed": false,
    "scrolled": false
   },
   "outputs": [
    {
     "name": "stderr",
     "output_type": "stream",
     "text": [
      "DEBUG 2016-09-22 13:56:51,535 utils.py:91 | (0.001) SELECT `experiments_analysis`.`id`, `experiments_analysis`.`created`, `experiments_analysis`.`submited`, `experiments_analysis`.`owner`, `experiments_analysis`.`experiment_id`, `experiments_analysis`.`params_id`, `experiments_analysis`.`status` FROM `experiments_analysis` WHERE `experiments_analysis`.`id` = 4 LIMIT 21; args=(4,)\n"
     ]
    }
   ],
   "source": [
    "analysis = Analysis.objects.get_or_create(id=4)[0]"
   ]
  },
  {
   "cell_type": "code",
   "execution_count": 14,
   "metadata": {
    "collapsed": false,
    "scrolled": false
   },
   "outputs": [
    {
     "name": "stderr",
     "output_type": "stream",
     "text": [
      "DEBUG 2016-09-22 13:56:51,755 utils.py:91 | (0.000) SELECT `projects_project`.`id`, `projects_project`.`title`, `projects_project`.`user_owner_id`, `projects_project`.`description`, `projects_project`.`created`, `projects_project`.`modified` FROM `projects_project` WHERE `projects_project`.`id` = 4 LIMIT 21; args=(4,)\n"
     ]
    }
   ],
   "source": [
    "project = Project.objects.get_or_create(id=4)[0]"
   ]
  },
  {
   "cell_type": "markdown",
   "metadata": {},
   "source": [
    "## Get files etc"
   ]
  },
  {
   "cell_type": "code",
   "execution_count": 17,
   "metadata": {
    "collapsed": false
   },
   "outputs": [],
   "source": [
    "def remove_first_two(path):\n",
    "    tokens = path.split('/')\n",
    "    new_path = '/'.join(tokens[2:])\n",
    "    return new_path\n",
    "    \n",
    "def strip_project_from_path(path_list):\n",
    "    processed = []\n",
    "    for path in path_list:\n",
    "        if type(path) is tuple:\n",
    "            first = remove_first_two(path[0])\n",
    "            second = remove_first_two(path[1])\n",
    "            new_path = (first, second)\n",
    "        else:\n",
    "            new_path = remove_first_two(path)\n",
    "        processed.append(new_path)\n",
    "    return processed"
   ]
  },
  {
   "cell_type": "code",
   "execution_count": 18,
   "metadata": {
    "collapsed": false
   },
   "outputs": [
    {
     "name": "stderr",
     "output_type": "stream",
     "text": [
      "DEBUG 2016-09-22 13:57:26,431 utils.py:91 | (0.001) SELECT `fileupload_picture`.`file` FROM `fileupload_picture` INNER JOIN `fileupload_samplefilegroup` ON ( `fileupload_picture`.`id` = `fileupload_samplefilegroup`.`posdata_id` ) INNER JOIN `fileupload_sample` ON ( `fileupload_samplefilegroup`.`id` = `fileupload_sample`.`samplefile_id` ) WHERE (`fileupload_sample`.`id`) IN (SELECT DISTINCT U0.`id` FROM `fileupload_sample` U0 INNER JOIN `groups_sampleattribute` U1 ON ( U0.`id` = U1.`sample_id` ) INNER JOIN `groups_attribute` U2 ON ( U1.`attribute_id` = U2.`id` ) INNER JOIN `experiments_attributecomparison` U3 ON ( U2.`id` = U3.`attribute_id` ) INNER JOIN `experiments_comparison` U4 ON ( U3.`comparison_id` = U4.`id` ) WHERE U4.`experiment_id` = 4); args=(4,)\n",
      "DEBUG 2016-09-22 13:57:26,434 utils.py:91 | (0.001) SELECT `fileupload_picture`.`file` FROM `fileupload_picture` INNER JOIN `fileupload_samplefilegroup` ON ( `fileupload_picture`.`id` = `fileupload_samplefilegroup`.`negdata_id` ) INNER JOIN `fileupload_sample` ON ( `fileupload_samplefilegroup`.`id` = `fileupload_sample`.`samplefile_id` ) WHERE (`fileupload_sample`.`id`) IN (SELECT DISTINCT U0.`id` FROM `fileupload_sample` U0 INNER JOIN `groups_sampleattribute` U1 ON ( U0.`id` = U1.`sample_id` ) INNER JOIN `groups_attribute` U2 ON ( U1.`attribute_id` = U2.`id` ) INNER JOIN `experiments_attributecomparison` U3 ON ( U2.`id` = U3.`attribute_id` ) INNER JOIN `experiments_comparison` U4 ON ( U3.`comparison_id` = U4.`id` ) WHERE U4.`experiment_id` = 4); args=(4,)\n"
     ]
    },
    {
     "name": "stdout",
     "output_type": "stream",
     "text": [
      "[u'samples/POS/Beer_1_full1.mzXML', u'samples/POS/Beer_1_full2.mzXML', u'samples/POS/Beer_1_full3.mzXML', u'samples/POS/Beer_2_full1.mzXML', u'samples/POS/Beer_2_full2.mzXML', u'samples/POS/Beer_2_full3.mzXML', u'samples/POS/Beer_3_full1.mzXML', u'samples/POS/Beer_3_full2.mzXML', u'samples/POS/Beer_3_full3.mzXML', u'samples/POS/Beer_4_full1.mzXML', u'samples/POS/Beer_4_full2.mzXML', u'samples/POS/Beer_4_full3.mzXML']\n",
      "[u'samples/NEG/Beer_1_full1.mzXML', u'samples/NEG/Beer_1_full2.mzXML', u'samples/NEG/Beer_1_full3.mzXML', u'samples/NEG/Beer_2_full1.mzXML', u'samples/NEG/Beer_2_full2.mzXML', u'samples/NEG/Beer_2_full3.mzXML', u'samples/NEG/Beer_3_full1.mzXML', u'samples/NEG/Beer_3_full2.mzXML', u'samples/NEG/Beer_3_full3.mzXML', u'samples/NEG/Beer_4_full1.mzXML', u'samples/NEG/Beer_4_full2.mzXML', u'samples/NEG/Beer_4_full3.mzXML']\n"
     ]
    }
   ],
   "source": [
    "from fileupload.models import Sample\n",
    "\n",
    "experiment = analysis.experiment\n",
    "samples = Sample.objects.filter(attribute__comparison__experiment = experiment.id).distinct()\n",
    "pos_samples = Picture.objects.filter(posdata__sample__in=samples).values_list('file', flat=True)\n",
    "neg_samples = Picture.objects.filter(negdata__sample__in=samples).values_list('file', flat=True)\n",
    "\n",
    "print strip_project_from_path(pos_samples)\n",
    "print strip_project_from_path(neg_samples)"
   ]
  },
  {
   "cell_type": "markdown",
   "metadata": {},
   "source": [
    "## Get groups"
   ]
  },
  {
   "cell_type": "code",
   "execution_count": 19,
   "metadata": {
    "collapsed": false,
    "scrolled": true
   },
   "outputs": [
    {
     "name": "stderr",
     "output_type": "stream",
     "text": [
      "DEBUG 2016-09-22 13:57:28,987 utils.py:91 | (0.001) SELECT `groups_group`.`name`, `groups_attribute`.`name`, `fileupload_sample`.`name` FROM `groups_group` INNER JOIN `groups_attribute` ON ( `groups_group`.`id` = `groups_attribute`.`group_id` ) INNER JOIN `experiments_attributecomparison` ON ( `groups_attribute`.`id` = `experiments_attributecomparison`.`attribute_id` ) INNER JOIN `experiments_comparison` ON ( `experiments_attributecomparison`.`comparison_id` = `experiments_comparison`.`id` ) LEFT OUTER JOIN `groups_sampleattribute` ON ( `groups_attribute`.`id` = `groups_sampleattribute`.`attribute_id` ) LEFT OUTER JOIN `fileupload_sample` ON ( `groups_sampleattribute`.`sample_id` = `fileupload_sample`.`id` ) WHERE `experiments_comparison`.`experiment_id` = 4; args=(4,)\n"
     ]
    },
    {
     "data": {
      "text/html": [
       "<div>\n",
       "<table border=\"1\" class=\"dataframe\">\n",
       "  <thead>\n",
       "    <tr style=\"text-align: right;\">\n",
       "      <th></th>\n",
       "      <th>factor</th>\n",
       "      <th>level</th>\n",
       "      <th>sample</th>\n",
       "    </tr>\n",
       "  </thead>\n",
       "  <tbody>\n",
       "    <tr>\n",
       "      <th>0</th>\n",
       "      <td>beer_colour</td>\n",
       "      <td>colour_dark</td>\n",
       "      <td>Beer_1_full1.mzXML</td>\n",
       "    </tr>\n",
       "    <tr>\n",
       "      <th>1</th>\n",
       "      <td>beer_colour</td>\n",
       "      <td>colour_dark</td>\n",
       "      <td>Beer_1_full2.mzXML</td>\n",
       "    </tr>\n",
       "    <tr>\n",
       "      <th>2</th>\n",
       "      <td>beer_colour</td>\n",
       "      <td>colour_dark</td>\n",
       "      <td>Beer_1_full3.mzXML</td>\n",
       "    </tr>\n",
       "    <tr>\n",
       "      <th>3</th>\n",
       "      <td>beer_colour</td>\n",
       "      <td>colour_dark</td>\n",
       "      <td>Beer_2_full1.mzXML</td>\n",
       "    </tr>\n",
       "    <tr>\n",
       "      <th>4</th>\n",
       "      <td>beer_colour</td>\n",
       "      <td>colour_dark</td>\n",
       "      <td>Beer_2_full2.mzXML</td>\n",
       "    </tr>\n",
       "    <tr>\n",
       "      <th>5</th>\n",
       "      <td>beer_colour</td>\n",
       "      <td>colour_dark</td>\n",
       "      <td>Beer_2_full3.mzXML</td>\n",
       "    </tr>\n",
       "    <tr>\n",
       "      <th>6</th>\n",
       "      <td>beer_colour</td>\n",
       "      <td>colour_light</td>\n",
       "      <td>Beer_3_full1.mzXML</td>\n",
       "    </tr>\n",
       "    <tr>\n",
       "      <th>7</th>\n",
       "      <td>beer_colour</td>\n",
       "      <td>colour_light</td>\n",
       "      <td>Beer_3_full2.mzXML</td>\n",
       "    </tr>\n",
       "    <tr>\n",
       "      <th>8</th>\n",
       "      <td>beer_colour</td>\n",
       "      <td>colour_light</td>\n",
       "      <td>Beer_3_full3.mzXML</td>\n",
       "    </tr>\n",
       "    <tr>\n",
       "      <th>9</th>\n",
       "      <td>beer_colour</td>\n",
       "      <td>colour_light</td>\n",
       "      <td>Beer_4_full1.mzXML</td>\n",
       "    </tr>\n",
       "    <tr>\n",
       "      <th>10</th>\n",
       "      <td>beer_colour</td>\n",
       "      <td>colour_light</td>\n",
       "      <td>Beer_4_full2.mzXML</td>\n",
       "    </tr>\n",
       "    <tr>\n",
       "      <th>11</th>\n",
       "      <td>beer_colour</td>\n",
       "      <td>colour_light</td>\n",
       "      <td>Beer_4_full3.mzXML</td>\n",
       "    </tr>\n",
       "    <tr>\n",
       "      <th>12</th>\n",
       "      <td>beer_taste</td>\n",
       "      <td>taste_awful</td>\n",
       "      <td>Beer_4_full1.mzXML</td>\n",
       "    </tr>\n",
       "    <tr>\n",
       "      <th>13</th>\n",
       "      <td>beer_taste</td>\n",
       "      <td>taste_awful</td>\n",
       "      <td>Beer_4_full2.mzXML</td>\n",
       "    </tr>\n",
       "    <tr>\n",
       "      <th>14</th>\n",
       "      <td>beer_taste</td>\n",
       "      <td>taste_awful</td>\n",
       "      <td>Beer_4_full3.mzXML</td>\n",
       "    </tr>\n",
       "    <tr>\n",
       "      <th>15</th>\n",
       "      <td>beer_taste</td>\n",
       "      <td>taste_delicious</td>\n",
       "      <td>Beer_1_full1.mzXML</td>\n",
       "    </tr>\n",
       "    <tr>\n",
       "      <th>16</th>\n",
       "      <td>beer_taste</td>\n",
       "      <td>taste_delicious</td>\n",
       "      <td>Beer_1_full2.mzXML</td>\n",
       "    </tr>\n",
       "    <tr>\n",
       "      <th>17</th>\n",
       "      <td>beer_taste</td>\n",
       "      <td>taste_delicious</td>\n",
       "      <td>Beer_1_full3.mzXML</td>\n",
       "    </tr>\n",
       "    <tr>\n",
       "      <th>18</th>\n",
       "      <td>beer_taste</td>\n",
       "      <td>taste_delicious</td>\n",
       "      <td>Beer_2_full1.mzXML</td>\n",
       "    </tr>\n",
       "    <tr>\n",
       "      <th>19</th>\n",
       "      <td>beer_taste</td>\n",
       "      <td>taste_delicious</td>\n",
       "      <td>Beer_2_full2.mzXML</td>\n",
       "    </tr>\n",
       "    <tr>\n",
       "      <th>20</th>\n",
       "      <td>beer_taste</td>\n",
       "      <td>taste_delicious</td>\n",
       "      <td>Beer_2_full3.mzXML</td>\n",
       "    </tr>\n",
       "    <tr>\n",
       "      <th>21</th>\n",
       "      <td>beer_taste</td>\n",
       "      <td>taste_okay</td>\n",
       "      <td>Beer_3_full1.mzXML</td>\n",
       "    </tr>\n",
       "    <tr>\n",
       "      <th>22</th>\n",
       "      <td>beer_taste</td>\n",
       "      <td>taste_okay</td>\n",
       "      <td>Beer_3_full2.mzXML</td>\n",
       "    </tr>\n",
       "    <tr>\n",
       "      <th>23</th>\n",
       "      <td>beer_taste</td>\n",
       "      <td>taste_okay</td>\n",
       "      <td>Beer_3_full3.mzXML</td>\n",
       "    </tr>\n",
       "  </tbody>\n",
       "</table>\n",
       "</div>"
      ],
      "text/plain": [
       "         factor            level              sample\n",
       "0   beer_colour      colour_dark  Beer_1_full1.mzXML\n",
       "1   beer_colour      colour_dark  Beer_1_full2.mzXML\n",
       "2   beer_colour      colour_dark  Beer_1_full3.mzXML\n",
       "3   beer_colour      colour_dark  Beer_2_full1.mzXML\n",
       "4   beer_colour      colour_dark  Beer_2_full2.mzXML\n",
       "5   beer_colour      colour_dark  Beer_2_full3.mzXML\n",
       "6   beer_colour     colour_light  Beer_3_full1.mzXML\n",
       "7   beer_colour     colour_light  Beer_3_full2.mzXML\n",
       "8   beer_colour     colour_light  Beer_3_full3.mzXML\n",
       "9   beer_colour     colour_light  Beer_4_full1.mzXML\n",
       "10  beer_colour     colour_light  Beer_4_full2.mzXML\n",
       "11  beer_colour     colour_light  Beer_4_full3.mzXML\n",
       "12   beer_taste      taste_awful  Beer_4_full1.mzXML\n",
       "13   beer_taste      taste_awful  Beer_4_full2.mzXML\n",
       "14   beer_taste      taste_awful  Beer_4_full3.mzXML\n",
       "15   beer_taste  taste_delicious  Beer_1_full1.mzXML\n",
       "16   beer_taste  taste_delicious  Beer_1_full2.mzXML\n",
       "17   beer_taste  taste_delicious  Beer_1_full3.mzXML\n",
       "18   beer_taste  taste_delicious  Beer_2_full1.mzXML\n",
       "19   beer_taste  taste_delicious  Beer_2_full2.mzXML\n",
       "20   beer_taste  taste_delicious  Beer_2_full3.mzXML\n",
       "21   beer_taste       taste_okay  Beer_3_full1.mzXML\n",
       "22   beer_taste       taste_okay  Beer_3_full2.mzXML\n",
       "23   beer_taste       taste_okay  Beer_3_full3.mzXML"
      ]
     },
     "metadata": {},
     "output_type": "display_data"
    }
   ],
   "source": [
    "res = Group.objects.filter(attribute__comparison__experiment = experiment).values_list('name','attribute__name','attribute__sample__name')\n",
    "data = [row for row in res]\n",
    "\n",
    "headers = ['factor', 'level', 'sample']\n",
    "df = DataFrame(data, columns=headers)\n",
    "display(df)"
   ]
  },
  {
   "cell_type": "code",
   "execution_count": 20,
   "metadata": {
    "collapsed": false
   },
   "outputs": [
    {
     "name": "stdout",
     "output_type": "stream",
     "text": [
      "[u'colour_dark' u'colour_light']\n"
     ]
    }
   ],
   "source": [
    "f = 'beer_colour'\n",
    "selected = df.loc[df['factor'] == f]\n",
    "print selected.level.unique()"
   ]
  },
  {
   "cell_type": "code",
   "execution_count": 21,
   "metadata": {
    "collapsed": false
   },
   "outputs": [
    {
     "name": "stdout",
     "output_type": "stream",
     "text": [
      "beer_colour\n",
      "[u'colour_dark', u'colour_light']\n",
      "{u'colour_dark': [u'Beer_1_full1', u'Beer_1_full2', u'Beer_1_full3', u'Beer_2_full1', u'Beer_2_full2', u'Beer_2_full3'], u'colour_light': [u'Beer_3_full1', u'Beer_3_full2', u'Beer_3_full3', u'Beer_4_full1', u'Beer_4_full2', u'Beer_4_full3']}\n"
     ]
    }
   ],
   "source": [
    "from experiments.pipelines.pipeline_rpy2 import Factor\n",
    "import os\n",
    "\n",
    "factors = []\n",
    "fs = df.factor.unique()\n",
    "for f_label in fs:\n",
    "    factor = Factor(f_label)\n",
    "    factor_df = df.loc[df['factor'] == f_label]\n",
    "    levels = factor_df.level.unique()\n",
    "    for level_label in levels:\n",
    "        level_df = factor_df.loc[factor_df['level'] == level_label]\n",
    "        samples = level_df[['sample']].values.flatten().tolist()\n",
    "        \n",
    "        # strip the extension from samples\n",
    "        processed = []\n",
    "        for samp in samples:\n",
    "            filename, file_extension = os.path.splitext(samp)\n",
    "            processed.append(filename)\n",
    "        \n",
    "        factor.add_level(level_label, processed)\n",
    "    factors.append(factor)\n",
    "        \n",
    "for factor in factors:\n",
    "    print factor.label\n",
    "    print factor.levels\n",
    "    print factor.level_files\n",
    "    break"
   ]
  },
  {
   "cell_type": "markdown",
   "metadata": {},
   "source": [
    "## Get standard files"
   ]
  },
  {
   "cell_type": "code",
   "execution_count": 22,
   "metadata": {
    "collapsed": false,
    "scrolled": true
   },
   "outputs": [
    {
     "name": "stderr",
     "output_type": "stream",
     "text": [
      "DEBUG 2016-09-22 13:57:43,619 utils.py:91 | (0.001) SELECT `fileupload_projfile`.`file` FROM `fileupload_calibrationsample` INNER JOIN `groups_projfileattribute` ON ( `fileupload_calibrationsample`.`id` = `groups_projfileattribute`.`calibrationsample_id` ) INNER JOIN `groups_attribute` ON ( `groups_projfileattribute`.`attribute_id` = `groups_attribute`.`id` ) LEFT OUTER JOIN `fileupload_standardfilegroup` ON ( `fileupload_calibrationsample`.`standardFile_id` = `fileupload_standardfilegroup`.`id` ) LEFT OUTER JOIN `fileupload_projfile` ON ( `fileupload_standardfilegroup`.`data_id` = `fileupload_projfile`.`id` ) WHERE (`fileupload_calibrationsample`.`project_id` = 4 AND `groups_attribute`.`name` = 'standard'); args=(4, 'standard')\n"
     ]
    },
    {
     "name": "stdout",
     "output_type": "stream",
     "text": [
      "[u'calibration_samples/standard/Std1_1_20150422_150810.csv', u'calibration_samples/standard/Std2_1_20150422_150711.csv', u'calibration_samples/standard/Std3_1_20150422_150553.csv']\n"
     ]
    }
   ],
   "source": [
    "standards = CalibrationSample.objects.filter(project=project, attribute__name='standard').values_list('standardFile__data__file', flat=True)\n",
    "print strip_project_from_path(standards)"
   ]
  },
  {
   "cell_type": "code",
   "execution_count": 23,
   "metadata": {
    "collapsed": false,
    "scrolled": false
   },
   "outputs": [
    {
     "name": "stderr",
     "output_type": "stream",
     "text": [
      "DEBUG 2016-09-22 13:57:43,794 utils.py:91 | (0.001) SELECT `fileupload_projfile`.`file`, T7.`file` FROM `fileupload_calibrationsample` INNER JOIN `groups_projfileattribute` ON ( `fileupload_calibrationsample`.`id` = `groups_projfileattribute`.`calibrationsample_id` ) INNER JOIN `groups_attribute` ON ( `groups_projfileattribute`.`attribute_id` = `groups_attribute`.`id` ) LEFT OUTER JOIN `fileupload_standardfilegroup` ON ( `fileupload_calibrationsample`.`standardFile_id` = `fileupload_standardfilegroup`.`id` ) LEFT OUTER JOIN `fileupload_projfile` ON ( `fileupload_standardfilegroup`.`posdata_id` = `fileupload_projfile`.`id` ) LEFT OUTER JOIN `fileupload_projfile` T7 ON ( `fileupload_standardfilegroup`.`negdata_id` = T7.`id` ) WHERE (`fileupload_calibrationsample`.`project_id` = 4 AND `groups_attribute`.`name` = 'qc'); args=(4, 'qc')\n"
     ]
    },
    {
     "name": "stdout",
     "output_type": "stream",
     "text": [
      "[(u'calibration_samples/POS/Beer_PoolB_full_f.mzXML', u'calibration_samples/NEG/Beer_PoolB_full_f.mzXML'), (u'calibration_samples/POS/Beer_PoolB_full_g.mzXML', u'calibration_samples/NEG/Beer_PoolB_full_g.mzXML'), (u'calibration_samples/POS/Beer_PoolB_full_h.mzXML', u'calibration_samples/NEG/Beer_PoolB_full_h.mzXML'), (u'calibration_samples/POS/Beer_PoolB_full_i.mzXML', u'calibration_samples/NEG/Beer_PoolB_full_i.mzXML')]\n"
     ]
    }
   ],
   "source": [
    "qc = CalibrationSample.objects.filter(project=project, attribute__name='qc').values_list('standardFile__posdata__file', 'standardFile__negdata__file')\n",
    "print strip_project_from_path(qc)"
   ]
  },
  {
   "cell_type": "code",
   "execution_count": 24,
   "metadata": {
    "collapsed": false
   },
   "outputs": [
    {
     "name": "stderr",
     "output_type": "stream",
     "text": [
      "DEBUG 2016-09-22 13:57:44,294 utils.py:91 | (0.001) SELECT `fileupload_projfile`.`file`, T7.`file` FROM `fileupload_calibrationsample` INNER JOIN `groups_projfileattribute` ON ( `fileupload_calibrationsample`.`id` = `groups_projfileattribute`.`calibrationsample_id` ) INNER JOIN `groups_attribute` ON ( `groups_projfileattribute`.`attribute_id` = `groups_attribute`.`id` ) LEFT OUTER JOIN `fileupload_standardfilegroup` ON ( `fileupload_calibrationsample`.`standardFile_id` = `fileupload_standardfilegroup`.`id` ) LEFT OUTER JOIN `fileupload_projfile` ON ( `fileupload_standardfilegroup`.`posdata_id` = `fileupload_projfile`.`id` ) LEFT OUTER JOIN `fileupload_projfile` T7 ON ( `fileupload_standardfilegroup`.`negdata_id` = T7.`id` ) WHERE (`fileupload_calibrationsample`.`project_id` = 4 AND `groups_attribute`.`name` = 'blank'); args=(4, 'blank')\n"
     ]
    },
    {
     "name": "stdout",
     "output_type": "stream",
     "text": [
      "[]\n"
     ]
    }
   ],
   "source": [
    "blank = CalibrationSample.objects.filter(project=project, attribute__name='blank').values_list('standardFile__posdata__file', 'standardFile__negdata__file')\n",
    "print strip_project_from_path(blank)"
   ]
  },
  {
   "cell_type": "markdown",
   "metadata": {},
   "source": [
    "## Get comparisons"
   ]
  },
  {
   "cell_type": "code",
   "execution_count": 25,
   "metadata": {
    "collapsed": false,
    "scrolled": true
   },
   "outputs": [
    {
     "name": "stderr",
     "output_type": "stream",
     "text": [
      "DEBUG 2016-09-22 13:57:46,263 utils.py:91 | (0.001) SELECT `experiments_comparison`.`name`, `groups_group`.`name`, `groups_attribute`.`name`, `experiments_attributecomparison`.`group` FROM `experiments_comparison` LEFT OUTER JOIN `experiments_attributecomparison` ON ( `experiments_comparison`.`id` = `experiments_attributecomparison`.`comparison_id` ) LEFT OUTER JOIN `groups_attribute` ON ( `experiments_attributecomparison`.`attribute_id` = `groups_attribute`.`id` ) LEFT OUTER JOIN `groups_group` ON ( `groups_attribute`.`group_id` = `groups_group`.`id` ) WHERE `experiments_comparison`.`experiment_id` = 4 LIMIT 21; args=(4,)\n",
      "DEBUG 2016-09-22 13:57:46,265 utils.py:91 | (0.000) SELECT `experiments_comparison`.`name`, `groups_group`.`name`, `groups_attribute`.`name`, `experiments_attributecomparison`.`group` FROM `experiments_comparison` LEFT OUTER JOIN `experiments_attributecomparison` ON ( `experiments_comparison`.`id` = `experiments_attributecomparison`.`comparison_id` ) LEFT OUTER JOIN `groups_attribute` ON ( `experiments_attributecomparison`.`attribute_id` = `groups_attribute`.`id` ) LEFT OUTER JOIN `groups_group` ON ( `groups_attribute`.`group_id` = `groups_group`.`id` ) WHERE `experiments_comparison`.`experiment_id` = 4; args=(4,)\n"
     ]
    },
    {
     "name": "stdout",
     "output_type": "stream",
     "text": [
      "[(u'beer_colour_comparison', u'beer_colour', u'colour_dark', 0L), (u'beer_colour_comparison', u'beer_colour', u'colour_light', 1L), (u'beer_taste_comparison', u'beer_taste', u'taste_awful', 0L), (u'beer_taste_comparison', u'beer_taste', u'taste_delicious', 1L), (u'beer_taste_comparison', u'beer_taste', u'taste_okay', 1L)]\n"
     ]
    },
    {
     "data": {
      "text/html": [
       "<div>\n",
       "<table border=\"1\" class=\"dataframe\">\n",
       "  <thead>\n",
       "    <tr style=\"text-align: right;\">\n",
       "      <th></th>\n",
       "      <th>comparison</th>\n",
       "      <th>factor</th>\n",
       "      <th>level</th>\n",
       "      <th>group</th>\n",
       "    </tr>\n",
       "  </thead>\n",
       "  <tbody>\n",
       "    <tr>\n",
       "      <th>0</th>\n",
       "      <td>beer_colour_comparison</td>\n",
       "      <td>beer_colour</td>\n",
       "      <td>colour_dark</td>\n",
       "      <td>0</td>\n",
       "    </tr>\n",
       "    <tr>\n",
       "      <th>1</th>\n",
       "      <td>beer_colour_comparison</td>\n",
       "      <td>beer_colour</td>\n",
       "      <td>colour_light</td>\n",
       "      <td>1</td>\n",
       "    </tr>\n",
       "    <tr>\n",
       "      <th>2</th>\n",
       "      <td>beer_taste_comparison</td>\n",
       "      <td>beer_taste</td>\n",
       "      <td>taste_awful</td>\n",
       "      <td>0</td>\n",
       "    </tr>\n",
       "    <tr>\n",
       "      <th>3</th>\n",
       "      <td>beer_taste_comparison</td>\n",
       "      <td>beer_taste</td>\n",
       "      <td>taste_delicious</td>\n",
       "      <td>1</td>\n",
       "    </tr>\n",
       "    <tr>\n",
       "      <th>4</th>\n",
       "      <td>beer_taste_comparison</td>\n",
       "      <td>beer_taste</td>\n",
       "      <td>taste_okay</td>\n",
       "      <td>1</td>\n",
       "    </tr>\n",
       "  </tbody>\n",
       "</table>\n",
       "</div>"
      ],
      "text/plain": [
       "               comparison       factor            level  group\n",
       "0  beer_colour_comparison  beer_colour      colour_dark      0\n",
       "1  beer_colour_comparison  beer_colour     colour_light      1\n",
       "2   beer_taste_comparison   beer_taste      taste_awful      0\n",
       "3   beer_taste_comparison   beer_taste  taste_delicious      1\n",
       "4   beer_taste_comparison   beer_taste       taste_okay      1"
      ]
     },
     "metadata": {},
     "output_type": "display_data"
    }
   ],
   "source": [
    "comparisons = Comparison.objects.filter(experiment=experiment).values_list(\n",
    "    'name', 'attribute__group__name', 'attribute__name', 'attributecomparison__group')\n",
    "print comparisons\n",
    "\n",
    "data = [list(row) for row in comparisons]\n",
    "headers = ['comparison', 'factor', 'level', 'group']\n",
    "df = pd.DataFrame(data, columns=headers)\n",
    "display(df)"
   ]
  },
  {
   "cell_type": "markdown",
   "metadata": {},
   "source": [
    "## Get analysis parameters"
   ]
  },
  {
   "cell_type": "code",
   "execution_count": null,
   "metadata": {
    "collapsed": false
   },
   "outputs": [],
   "source": [
    "databases = Database.objects.filter(params__analysis=analysis).values_list('name', flat=True)\n",
    "print type(databases)\n",
    "print type(list(databases))"
   ]
  },
  {
   "cell_type": "code",
   "execution_count": null,
   "metadata": {
    "collapsed": false
   },
   "outputs": [],
   "source": [
    "params = Parameter.objects.filter(params__analysis=analysis).values_list('name', 'value', 'state')\n",
    "print params"
   ]
  },
  {
   "cell_type": "markdown",
   "metadata": {},
   "source": [
    "## Start the pipeline"
   ]
  },
  {
   "cell_type": "code",
   "execution_count": 27,
   "metadata": {
    "collapsed": false,
    "scrolled": false
   },
   "outputs": [
    {
     "name": "stdout",
     "output_type": "stream",
     "text": [
      "******************************************\n",
      "Setup rpy2 connection\n",
      "******************************************\n"
     ]
    },
    {
     "name": "stderr",
     "output_type": "stream",
     "text": [
      "DEBUG 2016-09-22 13:59:12,567 utils.py:91 | (0.001) SELECT `fileupload_picture`.`file` FROM `fileupload_picture` INNER JOIN `fileupload_samplefilegroup` ON ( `fileupload_picture`.`id` = `fileupload_samplefilegroup`.`posdata_id` ) INNER JOIN `fileupload_sample` ON ( `fileupload_samplefilegroup`.`id` = `fileupload_sample`.`samplefile_id` ) WHERE (`fileupload_sample`.`id`) IN (SELECT DISTINCT U0.`id` FROM `fileupload_sample` U0 INNER JOIN `groups_sampleattribute` U1 ON ( U0.`id` = U1.`sample_id` ) INNER JOIN `groups_attribute` U2 ON ( U1.`attribute_id` = U2.`id` ) INNER JOIN `experiments_attributecomparison` U3 ON ( U2.`id` = U3.`attribute_id` ) INNER JOIN `experiments_comparison` U4 ON ( U3.`comparison_id` = U4.`id` ) WHERE U4.`experiment_id` = 4); args=(4,)\n",
      "DEBUG 2016-09-22 13:59:12,569 utils.py:91 | (0.001) SELECT `fileupload_picture`.`file` FROM `fileupload_picture` INNER JOIN `fileupload_samplefilegroup` ON ( `fileupload_picture`.`id` = `fileupload_samplefilegroup`.`negdata_id` ) INNER JOIN `fileupload_sample` ON ( `fileupload_samplefilegroup`.`id` = `fileupload_sample`.`samplefile_id` ) WHERE (`fileupload_sample`.`id`) IN (SELECT DISTINCT U0.`id` FROM `fileupload_sample` U0 INNER JOIN `groups_sampleattribute` U1 ON ( U0.`id` = U1.`sample_id` ) INNER JOIN `groups_attribute` U2 ON ( U1.`attribute_id` = U2.`id` ) INNER JOIN `experiments_attributecomparison` U3 ON ( U2.`id` = U3.`attribute_id` ) INNER JOIN `experiments_comparison` U4 ON ( U3.`comparison_id` = U4.`id` ) WHERE U4.`experiment_id` = 4); args=(4,)\n",
      "DEBUG 2016-09-22 13:59:12,572 utils.py:91 | (0.001) SELECT `groups_group`.`name`, `groups_attribute`.`name`, `fileupload_sample`.`name` FROM `groups_group` INNER JOIN `groups_attribute` ON ( `groups_group`.`id` = `groups_attribute`.`group_id` ) INNER JOIN `experiments_attributecomparison` ON ( `groups_attribute`.`id` = `experiments_attributecomparison`.`attribute_id` ) INNER JOIN `experiments_comparison` ON ( `experiments_attributecomparison`.`comparison_id` = `experiments_comparison`.`id` ) LEFT OUTER JOIN `groups_sampleattribute` ON ( `groups_attribute`.`id` = `groups_sampleattribute`.`attribute_id` ) LEFT OUTER JOIN `fileupload_sample` ON ( `groups_sampleattribute`.`sample_id` = `fileupload_sample`.`id` ) WHERE `experiments_comparison`.`experiment_id` = 4; args=(4,)\n",
      "DEBUG 2016-09-22 13:59:12,582 utils.py:91 | (0.001) SELECT `fileupload_projfile`.`file` FROM `fileupload_calibrationsample` INNER JOIN `groups_projfileattribute` ON ( `fileupload_calibrationsample`.`id` = `groups_projfileattribute`.`calibrationsample_id` ) INNER JOIN `groups_attribute` ON ( `groups_projfileattribute`.`attribute_id` = `groups_attribute`.`id` ) LEFT OUTER JOIN `fileupload_standardfilegroup` ON ( `fileupload_calibrationsample`.`standardFile_id` = `fileupload_standardfilegroup`.`id` ) LEFT OUTER JOIN `fileupload_projfile` ON ( `fileupload_standardfilegroup`.`data_id` = `fileupload_projfile`.`id` ) WHERE (`fileupload_calibrationsample`.`project_id` = 4 AND `groups_attribute`.`name` = 'standard'); args=(4, 'standard')\n",
      "DEBUG 2016-09-22 13:59:12,584 utils.py:91 | (0.000) SELECT `experiments_comparison`.`name`, `groups_group`.`name`, `groups_attribute`.`name`, `experiments_attributecomparison`.`group` FROM `experiments_comparison` LEFT OUTER JOIN `experiments_attributecomparison` ON ( `experiments_comparison`.`id` = `experiments_attributecomparison`.`comparison_id` ) LEFT OUTER JOIN `groups_attribute` ON ( `experiments_attributecomparison`.`attribute_id` = `groups_attribute`.`id` ) LEFT OUTER JOIN `groups_group` ON ( `groups_attribute`.`group_id` = `groups_group`.`id` ) WHERE `experiments_comparison`.`experiment_id` = 4; args=(4,)\n",
      "DEBUG 2016-09-22 13:59:12,588 utils.py:91 | (0.000) SELECT `experiments_database`.`name` FROM `experiments_database` INNER JOIN `experiments_params_databases` ON ( `experiments_database`.`id` = `experiments_params_databases`.`database_id` ) INNER JOIN `experiments_params` ON ( `experiments_params_databases`.`params_id` = `experiments_params`.`id` ) INNER JOIN `experiments_analysis` ON ( `experiments_params`.`id` = `experiments_analysis`.`params_id` ) WHERE `experiments_analysis`.`id` = 4; args=(4,)\n"
     ]
    },
    {
     "name": "stdout",
     "output_type": "stream",
     "text": [
      "2016-09-22 13:59:12 INFO:PeakML.Isotope.plotSamples:OS type: x86_64-apple-darwin15.5.0\n",
      "2016-09-22 13:59:12 INFO:PeakML.Isotope.plotSamples:Java parameters are: -Xmx8192m\n",
      "2016-09-22 13:59:12 INFO:PeakML.Isotope.plotSamples:Using jar file /Users/joewandy/git/pimp/packrat/lib/x86_64-apple-darwin15.5.0/3.3.1/mzmatch.R/java/mzmatch-2.1-with-dependencies.jar\n",
      "2016-09-22 13:59:12 INFO:PeakML.Isotope.plotSamples:Using SWT file /Users/joewandy/git/pimp/packrat/lib/x86_64-apple-darwin15.5.0/3.3.1/mzmatch.R/java/swt-4.5-cocoa-macosx-x86_64.jar\n"
     ]
    }
   ],
   "source": [
    "pipeline = Rpy2Pipeline(analysis, project, False)"
   ]
  },
  {
   "cell_type": "code",
   "execution_count": 28,
   "metadata": {
    "collapsed": false
   },
   "outputs": [
    {
     "name": "stderr",
     "output_type": "stream",
     "text": [
      "/Users/joewandy/git/pimp/venv/lib/python2.7/site-packages/rpy2/robjects/functions.py:106: UserWarning: Loading required package: RUnit\n",
      "\n",
      "  res = super(Function, self).__call__(*new_args, **new_kwargs)\n",
      "\n",
      "WARNING 2016-09-22 13:59:12,642 functions.py:106 | /Users/joewandy/git/pimp/venv/lib/python2.7/site-packages/rpy2/robjects/functions.py:106: UserWarning: Loading required package: RUnit\n",
      "\n",
      "  res = super(Function, self).__call__(*new_args, **new_kwargs)\n",
      "\n",
      "/Users/joewandy/git/pimp/venv/lib/python2.7/site-packages/rpy2/robjects/functions.py:106: UserWarning: Loading required package: DBI\n",
      "\n",
      "  res = super(Function, self).__call__(*new_args, **new_kwargs)\n",
      "\n",
      "WARNING 2016-09-22 13:59:12,670 functions.py:106 | /Users/joewandy/git/pimp/venv/lib/python2.7/site-packages/rpy2/robjects/functions.py:106: UserWarning: Loading required package: DBI\n",
      "\n",
      "  res = super(Function, self).__call__(*new_args, **new_kwargs)\n",
      "\n",
      "/Users/joewandy/git/pimp/venv/lib/python2.7/site-packages/rpy2/robjects/functions.py:106: UserWarning: Setting analysis directory to: analysis_4\n",
      "\n",
      "  res = super(Function, self).__call__(*new_args, **new_kwargs)\n",
      "\n"
     ]
    },
    {
     "name": "stdout",
     "output_type": "stream",
     "text": [
      "Setup called\n",
      "2016-09-22 13:59:12 INFO:Pimp.getPimpWd:Data dir: /Users/joewandy/git/pimp/django_projects/pimp_data/projects\n",
      "2016-09-22 13:59:12 INFO:Pimp.getPimpWd:Project dir: /Users/joewandy/git/pimp/django_projects/pimp_data/projects/4\n",
      "2016-09-22 13:59:12 INFO:Pimp.extra.setPiMPLoggerAnalysisID:Setting analysis ID in logger to 4\n",
      "2016-09-22 13:59:12 4:INFO:Pimp.extra.setPiMPLoggerAnalysisID:Analysis id set\n",
      "2016-09-22 13:59:12 4:INFO:Pimp.validateInput:Input validated correctly!\n",
      "2016-09-22 13:59:12 4:INFO:Pimp.extra.setPiMPLoggerAnalysisID:Setting analysis ID in logger to 4\n",
      "2016-09-22 13:59:12 4:INFO:Pimp.extra.setPiMPLoggerAnalysisID:Analysis id set\n",
      "2016-09-22 13:59:12 4:INFO:Pimp.getAnalysisParams:Setting params\n",
      "2016-09-22 13:59:12 4:DEBUG:Pimp.getAnalysisParams:Name: iqr Value: 0.5\n",
      "2016-09-22 13:59:12 4:DEBUG:Pimp.getAnalysisParams:Name: rsd Value: 0.5\n",
      "2016-09-22 13:59:12 4:DEBUG:Pimp.getAnalysisParams:Name: noise Value: 0.8\n",
      "2016-09-22 13:59:12 4:DEBUG:Pimp.getAnalysisParams:Name: ppm Value: 3\n",
      "2016-09-22 13:59:12 4:DEBUG:Pimp.getAnalysisParams:Name: mindetections Value: 3\n",
      "2016-09-22 13:59:12 4:DEBUG:Pimp.getAnalysisParams:Name: minintensity Value: 5000\n",
      "2016-09-22 13:59:12 4:DEBUG:Pimp.getAnalysisParams:Name: rtwindow Value: 0.05\n",
      "2016-09-22 13:59:12 4:DEBUG:Pimp.getAnalysisParams:Name: rt.alignment Value: NA\n",
      "2016-09-22 13:59:12 4:DEBUG:Pimp.getAnalysisParams:Name: noise Value: 0.8\n",
      "2016-09-22 13:59:12 4:DEBUG:Pimp.getAnalysisParams:Name: rtwindow Value: 0.05\n",
      "2016-09-22 13:59:12 4:INFO:Pimp.extra.setPiMPLoggerAnalysisID:Setting analysis ID in logger to 4\n",
      "2016-09-22 13:59:12 4:INFO:Pimp.extra.setPiMPLoggerAnalysisID:Analysis id set\n"
     ]
    },
    {
     "name": "stderr",
     "output_type": "stream",
     "text": [
      "WARNING 2016-09-22 13:59:12,927 functions.py:106 | /Users/joewandy/git/pimp/venv/lib/python2.7/site-packages/rpy2/robjects/functions.py:106: UserWarning: Setting analysis directory to: analysis_4\n",
      "\n",
      "  res = super(Function, self).__call__(*new_args, **new_kwargs)\n",
      "\n"
     ]
    },
    {
     "name": "stdout",
     "output_type": "stream",
     "text": [
      "2016-09-22 13:59:12 4:INFO:Pimp.createAnalysisDir:Analysis dir created at analysis_4\n",
      "2016-09-22 13:59:12 4:INFO:Pimp.stds.createAnnotationFile:Creating annotation file from calibration_samples/standard/Std1_1_20150422_150810.csv,calibration_samples/standard/Std2_1_20150422_150711.csv,calibration_samples/standard/Std3_1_20150422_150553.csv, outputting to analysis_4/stds_db.xml\n",
      "2016-09-22 13:59:12 4:INFO:Pimp.stds.createAnnotationFile.parseStandardsFiles:Parsing standards files\n",
      "2016-09-22 13:59:12 4:INFO:Pimp.stds.createAnnotationFile.determineFileParser:Parser for calibration_samples/standard/Std1_1_20150422_150810.csv is .parse.toxid.file\n",
      "2016-09-22 13:59:12 4:INFO:Pimp.stds.createAnnotationFile.parse.toxid.file:Parsing toxid file: calibration_samples/standard/Std1_1_20150422_150810.csv\n",
      "2016-09-22 13:59:12 4:INFO:Pimp.stds.createAnnotationFile.determineFileParser:Parser for calibration_samples/standard/Std2_1_20150422_150711.csv is .parse.toxid.file\n",
      "2016-09-22 13:59:12 4:INFO:Pimp.stds.createAnnotationFile.parse.toxid.file:Parsing toxid file: calibration_samples/standard/Std2_1_20150422_150711.csv\n",
      "2016-09-22 13:59:12 4:INFO:Pimp.stds.createAnnotationFile.determineFileParser:Parser for calibration_samples/standard/Std3_1_20150422_150553.csv is .parse.toxid.file\n",
      "2016-09-22 13:59:12 4:INFO:Pimp.stds.createAnnotationFile.parse.toxid.file:Parsing toxid file: calibration_samples/standard/Std3_1_20150422_150553.csv\n",
      "2016-09-22 13:59:12 4:INFO:Pimp.stds.createAnnotationFile:Matching names to standard2InChIKey database\n"
     ]
    }
   ],
   "source": [
    "pipeline.setup()"
   ]
  },
  {
   "cell_type": "code",
   "execution_count": 29,
   "metadata": {
    "collapsed": false
   },
   "outputs": [],
   "source": [
    "xcms_params = pipeline.get_value(pipeline.pimp_params, 'xcms.params')            \n",
    "mzmatch_params = pipeline.get_value(pipeline.pimp_params, 'mzmatch.params')\n",
    "peakml_params = pipeline.get_value(pipeline.pimp_params, 'peakml.params')\n",
    "mzmatch_outputs = pipeline.get_value(pipeline.pimp_params, 'mzmatch.outputs')\n",
    "mzmatch_filters = pipeline.get_value(pipeline.pimp_params, 'mzmatch.filters')\n",
    "n_slaves = multiprocessing.cpu_count()"
   ]
  },
  {
   "cell_type": "code",
   "execution_count": 30,
   "metadata": {
    "collapsed": false
   },
   "outputs": [],
   "source": [
    "raw_data_dict = {}\n",
    "groups_dict = {}\n",
    "polarity_pos, polarity_neg = pipeline.metadata.files.keys()"
   ]
  },
  {
   "cell_type": "code",
   "execution_count": 33,
   "metadata": {
    "collapsed": false,
    "scrolled": true
   },
   "outputs": [
    {
     "name": "stderr",
     "output_type": "stream",
     "text": [
      "DEBUG 2016-09-22 13:59:56,704 utils.py:91 | (0.001) SELECT `fileupload_picture`.`file` FROM `fileupload_picture` INNER JOIN `fileupload_samplefilegroup` ON ( `fileupload_picture`.`id` = `fileupload_samplefilegroup`.`posdata_id` ) INNER JOIN `fileupload_sample` ON ( `fileupload_samplefilegroup`.`id` = `fileupload_sample`.`samplefile_id` ) WHERE (`fileupload_sample`.`id`) IN (SELECT DISTINCT U0.`id` FROM `fileupload_sample` U0 INNER JOIN `groups_sampleattribute` U1 ON ( U0.`id` = U1.`sample_id` ) INNER JOIN `groups_attribute` U2 ON ( U1.`attribute_id` = U2.`id` ) INNER JOIN `experiments_attributecomparison` U3 ON ( U2.`id` = U3.`attribute_id` ) INNER JOIN `experiments_comparison` U4 ON ( U3.`comparison_id` = U4.`id` ) WHERE U4.`experiment_id` = 4); args=(4,)\n",
      "DEBUG 2016-09-22 13:59:56,707 utils.py:91 | (0.001) SELECT `fileupload_picture`.`file` FROM `fileupload_picture` INNER JOIN `fileupload_samplefilegroup` ON ( `fileupload_picture`.`id` = `fileupload_samplefilegroup`.`negdata_id` ) INNER JOIN `fileupload_sample` ON ( `fileupload_samplefilegroup`.`id` = `fileupload_sample`.`samplefile_id` ) WHERE (`fileupload_sample`.`id`) IN (SELECT DISTINCT U0.`id` FROM `fileupload_sample` U0 INNER JOIN `groups_sampleattribute` U1 ON ( U0.`id` = U1.`sample_id` ) INNER JOIN `groups_attribute` U2 ON ( U1.`attribute_id` = U2.`id` ) INNER JOIN `experiments_attributecomparison` U3 ON ( U2.`id` = U3.`attribute_id` ) INNER JOIN `experiments_comparison` U4 ON ( U3.`comparison_id` = U4.`id` ) WHERE U4.`experiment_id` = 4); args=(4,)\n"
     ]
    },
    {
     "name": "stdout",
     "output_type": "stream",
     "text": [
      "{'positive': [u'samples/POS/Beer_1_full1.mzXML', u'samples/POS/Beer_1_full2.mzXML', u'samples/POS/Beer_1_full3.mzXML', u'samples/POS/Beer_2_full1.mzXML', u'samples/POS/Beer_2_full2.mzXML', u'samples/POS/Beer_2_full3.mzXML', u'samples/POS/Beer_3_full1.mzXML', u'samples/POS/Beer_3_full2.mzXML', u'samples/POS/Beer_3_full3.mzXML', u'samples/POS/Beer_4_full1.mzXML', u'samples/POS/Beer_4_full2.mzXML', u'samples/POS/Beer_4_full3.mzXML'], 'negative': [u'samples/NEG/Beer_1_full1.mzXML', u'samples/NEG/Beer_1_full2.mzXML', u'samples/NEG/Beer_1_full3.mzXML', u'samples/NEG/Beer_2_full1.mzXML', u'samples/NEG/Beer_2_full2.mzXML', u'samples/NEG/Beer_2_full3.mzXML', u'samples/NEG/Beer_3_full1.mzXML', u'samples/NEG/Beer_3_full2.mzXML', u'samples/NEG/Beer_3_full3.mzXML', u'samples/NEG/Beer_4_full1.mzXML', u'samples/NEG/Beer_4_full2.mzXML', u'samples/NEG/Beer_4_full3.mzXML']}\n"
     ]
    }
   ],
   "source": [
    "print pipeline.metadata.get_files()"
   ]
  },
  {
   "cell_type": "code",
   "execution_count": 37,
   "metadata": {
    "collapsed": false
   },
   "outputs": [
    {
     "name": "stderr",
     "output_type": "stream",
     "text": [
      "DEBUG 2016-09-22 14:00:51,823 utils.py:91 | (0.001) SELECT `groups_group`.`name`, `groups_attribute`.`name`, `fileupload_sample`.`name` FROM `groups_group` INNER JOIN `groups_attribute` ON ( `groups_group`.`id` = `groups_attribute`.`group_id` ) INNER JOIN `experiments_attributecomparison` ON ( `groups_attribute`.`id` = `experiments_attributecomparison`.`attribute_id` ) INNER JOIN `experiments_comparison` ON ( `experiments_attributecomparison`.`comparison_id` = `experiments_comparison`.`id` ) LEFT OUTER JOIN `groups_sampleattribute` ON ( `groups_attribute`.`id` = `groups_sampleattribute`.`attribute_id` ) LEFT OUTER JOIN `fileupload_sample` ON ( `groups_sampleattribute`.`sample_id` = `fileupload_sample`.`id` ) WHERE `experiments_comparison`.`experiment_id` = 4; args=(4,)\n",
      "DEBUG 2016-09-22 14:00:51,835 utils.py:91 | (0.001) SELECT `fileupload_projfile`.`file` FROM `fileupload_calibrationsample` INNER JOIN `groups_projfileattribute` ON ( `fileupload_calibrationsample`.`id` = `groups_projfileattribute`.`calibrationsample_id` ) INNER JOIN `groups_attribute` ON ( `groups_projfileattribute`.`attribute_id` = `groups_attribute`.`id` ) LEFT OUTER JOIN `fileupload_standardfilegroup` ON ( `fileupload_calibrationsample`.`standardFile_id` = `fileupload_standardfilegroup`.`id` ) LEFT OUTER JOIN `fileupload_projfile` ON ( `fileupload_standardfilegroup`.`data_id` = `fileupload_projfile`.`id` ) WHERE (`fileupload_calibrationsample`.`project_id` = 4 AND `groups_attribute`.`name` = 'standard'); args=(4, 'standard')\n",
      "DEBUG 2016-09-22 14:00:51,840 utils.py:91 | (0.002) SELECT `experiments_comparison`.`name`, `groups_group`.`name`, `groups_attribute`.`name`, `experiments_attributecomparison`.`group` FROM `experiments_comparison` LEFT OUTER JOIN `experiments_attributecomparison` ON ( `experiments_comparison`.`id` = `experiments_attributecomparison`.`comparison_id` ) LEFT OUTER JOIN `groups_attribute` ON ( `experiments_attributecomparison`.`attribute_id` = `groups_attribute`.`id` ) LEFT OUTER JOIN `groups_group` ON ( `groups_attribute`.`group_id` = `groups_group`.`id` ) WHERE `experiments_comparison`.`experiment_id` = 4; args=(4,)\n"
     ]
    },
    {
     "name": "stdout",
     "output_type": "stream",
     "text": [
      "[beer_colour with 2 levels, beer_taste with 3 levels]\n",
      "[u'calibration_samples/standard/Std1_1_20150422_150810.csv', u'calibration_samples/standard/Std2_1_20150422_150711.csv', u'calibration_samples/standard/Std3_1_20150422_150553.csv']\n",
      "               comparison       factor            level  group\n",
      "0  beer_colour_comparison  beer_colour      colour_dark      0\n",
      "1  beer_colour_comparison  beer_colour     colour_light      1\n",
      "2   beer_taste_comparison   beer_taste      taste_awful      0\n",
      "3   beer_taste_comparison   beer_taste  taste_delicious      1\n",
      "4   beer_taste_comparison   beer_taste       taste_okay      1\n"
     ]
    }
   ],
   "source": [
    "print pipeline.metadata.get_groups()\n",
    "print pipeline.metadata.get_standards()\n",
    "print pipeline.metadata.get_comparisons()"
   ]
  },
  {
   "cell_type": "markdown",
   "metadata": {
    "collapsed": true
   },
   "source": [
    "## Process positive raw data"
   ]
  },
  {
   "cell_type": "code",
   "execution_count": 38,
   "metadata": {
    "collapsed": false,
    "scrolled": true
   },
   "outputs": [
    {
     "name": "stderr",
     "output_type": "stream",
     "text": [
      "DEBUG 2016-09-22 14:01:28,306 utils.py:91 | (0.001) SELECT `groups_group`.`name`, `groups_attribute`.`name`, `fileupload_sample`.`name` FROM `groups_group` INNER JOIN `groups_attribute` ON ( `groups_group`.`id` = `groups_attribute`.`group_id` ) INNER JOIN `experiments_attributecomparison` ON ( `groups_attribute`.`id` = `experiments_attributecomparison`.`attribute_id` ) INNER JOIN `experiments_comparison` ON ( `experiments_attributecomparison`.`comparison_id` = `experiments_comparison`.`id` ) LEFT OUTER JOIN `groups_sampleattribute` ON ( `groups_attribute`.`id` = `groups_sampleattribute`.`attribute_id` ) LEFT OUTER JOIN `fileupload_sample` ON ( `groups_sampleattribute`.`sample_id` = `fileupload_sample`.`id` ) WHERE `experiments_comparison`.`experiment_id` = 4; args=(4,)\n",
      "DEBUG 2016-09-22 14:01:28,321 utils.py:91 | (0.001) SELECT `fileupload_picture`.`file` FROM `fileupload_picture` INNER JOIN `fileupload_samplefilegroup` ON ( `fileupload_picture`.`id` = `fileupload_samplefilegroup`.`posdata_id` ) INNER JOIN `fileupload_sample` ON ( `fileupload_samplefilegroup`.`id` = `fileupload_sample`.`samplefile_id` ) WHERE (`fileupload_sample`.`id`) IN (SELECT DISTINCT U0.`id` FROM `fileupload_sample` U0 INNER JOIN `groups_sampleattribute` U1 ON ( U0.`id` = U1.`sample_id` ) INNER JOIN `groups_attribute` U2 ON ( U1.`attribute_id` = U2.`id` ) INNER JOIN `experiments_attributecomparison` U3 ON ( U2.`id` = U3.`attribute_id` ) INNER JOIN `experiments_comparison` U4 ON ( U3.`comparison_id` = U4.`id` ) WHERE U4.`experiment_id` = 4); args=(4,)\n",
      "DEBUG 2016-09-22 14:01:28,324 utils.py:91 | (0.002) SELECT `fileupload_picture`.`file` FROM `fileupload_picture` INNER JOIN `fileupload_samplefilegroup` ON ( `fileupload_picture`.`id` = `fileupload_samplefilegroup`.`negdata_id` ) INNER JOIN `fileupload_sample` ON ( `fileupload_samplefilegroup`.`id` = `fileupload_sample`.`samplefile_id` ) WHERE (`fileupload_sample`.`id`) IN (SELECT DISTINCT U0.`id` FROM `fileupload_sample` U0 INNER JOIN `groups_sampleattribute` U1 ON ( U0.`id` = U1.`sample_id` ) INNER JOIN `groups_attribute` U2 ON ( U1.`attribute_id` = U2.`id` ) INNER JOIN `experiments_attributecomparison` U3 ON ( U2.`id` = U3.`attribute_id` ) INNER JOIN `experiments_comparison` U4 ON ( U3.`comparison_id` = U4.`id` ) WHERE U4.`experiment_id` = 4); args=(4,)\n"
     ]
    },
    {
     "name": "stdout",
     "output_type": "stream",
     "text": [
      "Creating /Users/joewandy/git/pimp/django_projects/pimp_data/projects/4/analysis_4/positive/combined\n",
      "------------------------------------------------\n",
      "positive /Users/joewandy/git/pimp/django_projects/pimp_data/projects/4/analysis_4/positive /Users/joewandy/git/pimp/django_projects/pimp_data/projects/4/analysis_4/positive/combined\n",
      "------------------------------------------------\n",
      "[beer_colour with 2 levels, beer_taste with 3 levels]\n",
      "beer_colour\n",
      " - colour_dark [u'Beer_1_full1', u'Beer_1_full2', u'Beer_1_full3', u'Beer_2_full1', u'Beer_2_full2', u'Beer_2_full3']\n",
      " - colour_light [u'Beer_3_full1', u'Beer_3_full2', u'Beer_3_full3', u'Beer_4_full1', u'Beer_4_full2', u'Beer_4_full3']\n",
      "beer_taste\n",
      " - taste_awful [u'Beer_4_full1', u'Beer_4_full2', u'Beer_4_full3']\n",
      " - taste_delicious [u'Beer_1_full1', u'Beer_1_full2', u'Beer_1_full3', u'Beer_2_full1', u'Beer_2_full2', u'Beer_2_full3']\n",
      " - taste_okay [u'Beer_3_full1', u'Beer_3_full2', u'Beer_3_full3']\n",
      "(2, 3)\n",
      "('group_0', (0, 0), 'colour_dark,taste_awful', [])\n",
      "('group_1', (0, 1), 'colour_dark,taste_delicious', [u'Beer_1_full2', u'Beer_1_full3', u'Beer_1_full1', u'Beer_2_full1', u'Beer_2_full3', u'Beer_2_full2'])\n",
      "('group_2', (0, 2), 'colour_dark,taste_okay', [])\n",
      "('group_3', (1, 0), 'colour_light,taste_awful', [u'Beer_4_full3', u'Beer_4_full2', u'Beer_4_full1'])\n",
      "('group_4', (1, 1), 'colour_light,taste_delicious', [])\n",
      "('group_5', (1, 2), 'colour_light,taste_okay', [u'Beer_3_full1', u'Beer_3_full2', u'Beer_3_full3'])\n",
      "Nothing to combine in /Users/joewandy/git/pimp/django_projects/pimp_data/projects/4/analysis_4/positive/combined/group_0\n",
      "Processing /Users/joewandy/git/pimp/django_projects/pimp_data/projects/4/analysis_4/positive/combined/group_1\n",
      "2016-09-22 14:01:28 4:INFO:PuMP.callToArgList.dispatchCall:mzmatch.ipeak.Combine -i /Users/joewandy/git/pimp/django_projects/pimp_data/projects/4/analysis_4/positive/combined/group_1/Beer_1_full1.peakml,/Users/joewandy/git/pimp/django_projects/pimp_data/projects/4/analysis_4/positive/combined/group_1/Beer_1_full2.peakml,/Users/joewandy/git/pimp/django_projects/pimp_data/projects/4/analysis_4/positive/combined/group_1/Beer_1_full3.peakml,/Users/joewandy/git/pimp/django_projects/pimp_data/projects/4/analysis_4/positive/combined/group_1/Beer_2_full1.peakml,/Users/joewandy/git/pimp/django_projects/pimp_data/projects/4/analysis_4/positive/combined/group_1/Beer_2_full2.peakml,/Users/joewandy/git/pimp/django_projects/pimp_data/projects/4/analysis_4/positive/combined/group_1/Beer_2_full3.peakml -o /Users/joewandy/git/pimp/django_projects/pimp_data/projects/4/analysis_4/positive/combined/group_1.peakml -label group_1 -ppm 3 -rtwindow 30 -combination set\n",
      "Nothing to combine in /Users/joewandy/git/pimp/django_projects/pimp_data/projects/4/analysis_4/positive/combined/group_2\n",
      "Processing /Users/joewandy/git/pimp/django_projects/pimp_data/projects/4/analysis_4/positive/combined/group_3\n",
      "2016-09-22 14:01:43 4:INFO:PuMP.callToArgList.dispatchCall:mzmatch.ipeak.Combine -i /Users/joewandy/git/pimp/django_projects/pimp_data/projects/4/analysis_4/positive/combined/group_3/Beer_4_full1.peakml,/Users/joewandy/git/pimp/django_projects/pimp_data/projects/4/analysis_4/positive/combined/group_3/Beer_4_full2.peakml,/Users/joewandy/git/pimp/django_projects/pimp_data/projects/4/analysis_4/positive/combined/group_3/Beer_4_full3.peakml -o /Users/joewandy/git/pimp/django_projects/pimp_data/projects/4/analysis_4/positive/combined/group_3.peakml -label group_3 -ppm 3 -rtwindow 30 -combination set\n",
      "Nothing to combine in /Users/joewandy/git/pimp/django_projects/pimp_data/projects/4/analysis_4/positive/combined/group_4\n",
      "Processing /Users/joewandy/git/pimp/django_projects/pimp_data/projects/4/analysis_4/positive/combined/group_5\n",
      "2016-09-22 14:01:49 4:INFO:PuMP.callToArgList.dispatchCall:mzmatch.ipeak.Combine -i /Users/joewandy/git/pimp/django_projects/pimp_data/projects/4/analysis_4/positive/combined/group_5/Beer_3_full1.peakml,/Users/joewandy/git/pimp/django_projects/pimp_data/projects/4/analysis_4/positive/combined/group_5/Beer_3_full2.peakml,/Users/joewandy/git/pimp/django_projects/pimp_data/projects/4/analysis_4/positive/combined/group_5/Beer_3_full3.peakml -o /Users/joewandy/git/pimp/django_projects/pimp_data/projects/4/analysis_4/positive/combined/group_5.peakml -label group_5 -ppm 3 -rtwindow 30 -combination set\n",
      "2016-09-22 14:01:56 4:INFO:PuMP.callToArgList.dispatchCall:mzmatch.ipeak.filter.RSDFilter -i /Users/joewandy/git/pimp/django_projects/pimp_data/projects/4/analysis_4/positive/combined/group_1.peakml -o /Users/joewandy/git/pimp/django_projects/pimp_data/projects/4/analysis_4/positive/combined/group_1_rsd.peakml -rejected /Users/joewandy/git/pimp/django_projects/pimp_data/projects/4/analysis_4/positive/combined/group_1_rsdrej.peakml -rsd 0.5\n",
      "2016-09-22 14:02:06 4:INFO:PuMP.callToArgList.dispatchCall:mzmatch.ipeak.filter.RSDFilter -i /Users/joewandy/git/pimp/django_projects/pimp_data/projects/4/analysis_4/positive/combined/group_3.peakml -o /Users/joewandy/git/pimp/django_projects/pimp_data/projects/4/analysis_4/positive/combined/group_3_rsd.peakml -rejected /Users/joewandy/git/pimp/django_projects/pimp_data/projects/4/analysis_4/positive/combined/group_3_rsdrej.peakml -rsd 0.5\n",
      "2016-09-22 14:02:11 4:INFO:PuMP.callToArgList.dispatchCall:mzmatch.ipeak.filter.RSDFilter -i /Users/joewandy/git/pimp/django_projects/pimp_data/projects/4/analysis_4/positive/combined/group_5.peakml -o /Users/joewandy/git/pimp/django_projects/pimp_data/projects/4/analysis_4/positive/combined/group_5_rsd.peakml -rejected /Users/joewandy/git/pimp/django_projects/pimp_data/projects/4/analysis_4/positive/combined/group_5_rsdrej.peakml -rsd 0.5\n",
      "2016-09-22 14:02:17 4:INFO:PuMP.callToArgList.dispatchCall:mzmatch.ipeak.Combine -i /Users/joewandy/git/pimp/django_projects/pimp_data/projects/4/analysis_4/positive/combined/group_1_rsd.peakml,/Users/joewandy/git/pimp/django_projects/pimp_data/projects/4/analysis_4/positive/combined/group_3_rsd.peakml,/Users/joewandy/git/pimp/django_projects/pimp_data/projects/4/analysis_4/positive/combined/group_5_rsd.peakml -o /Users/joewandy/git/pimp/django_projects/pimp_data/projects/4/analysis_4/positive/final_combined.peakml -label  -ppm 3 -rtwindow 30 -combination set\n",
      "2016-09-22 14:02:24 4:INFO:PuMP.callToArgList.dispatchCall:mzmatch.ipeak.filter.NoiseFilter -i /Users/joewandy/git/pimp/django_projects/pimp_data/projects/4/analysis_4/positive/final_combined.peakml -o /Users/joewandy/git/pimp/django_projects/pimp_data/projects/4/analysis_4/positive/final_combined_nf.peakml -codadw 0.8\n",
      "2016-09-22 14:02:29 4:INFO:PuMP.callToArgList.dispatchCall:mzmatch.ipeak.filter.SimpleFilter -i /Users/joewandy/git/pimp/django_projects/pimp_data/projects/4/analysis_4/positive/final_combined_nf.peakml -o /Users/joewandy/git/pimp/django_projects/pimp_data/projects/4/analysis_4/positive/final.combined_sf.peakml -ppm 3 -mindetections 3 -minintensity 5000\n",
      "2016-09-22 14:02:34 4:INFO:PuMP.callToArgList.dispatchCall:mzmatch.ipeak.sort.RelatedPeaks -i /Users/joewandy/git/pimp/django_projects/pimp_data/projects/4/analysis_4/positive/final.combined_sf.peakml -o /Users/joewandy/git/pimp/django_projects/pimp_data/projects/4/analysis_4/positive/final_combined_related.peakml -basepeaks /Users/joewandy/git/pimp/django_projects/pimp_data/projects/4/analysis_4/positive/final_combined_basepeaks.peakml -ppm 3 -rtwindow 30\n",
      "2016-09-22 14:02:44 4:INFO:PuMP.callToArgList.dispatchCall:mzmatch.ipeak.util.Identify -i analysis_4/positive/final_combined_related.peakml -o analysis_4/positive/final_combined_related_identified_hmdb.peakml -ppm 3 -databases /Users/joewandy/git/pimp/packrat/lib/x86_64-apple-darwin15.5.0/3.3.1/PiMP/dbs/hmdb.xml -rtwindowrelative FALSE -adducts M+H,M+ACN+Na,M+Na,M+K,M+ACN+H\n",
      "2016-09-22 14:02:57 4:INFO:PuMP.callToArgList.dispatchCall:mzmatch.ipeak.convert.ConvertToText -i analysis_4/positive/final_combined_related_identified_hmdb.peakml -o analysis_4/positive/mzmatch_output_hmdb.txt -annotations identification,ppm,adduct,relation.id,relation.ship,codadw,charge\n",
      "2016-09-22 14:03:00 4:INFO:PuMP.callToArgList.dispatchCall:mzmatch.ipeak.util.Identify -i analysis_4/positive/final_combined_related.peakml -o analysis_4/positive/final_combined_related_identified_kegg.peakml -ppm 3 -databases /Users/joewandy/git/pimp/packrat/lib/x86_64-apple-darwin15.5.0/3.3.1/PiMP/dbs/kegg.xml -rtwindowrelative FALSE -adducts M+H,M+ACN+Na,M+Na,M+K,M+ACN+H\n",
      "2016-09-22 14:03:07 4:INFO:PuMP.callToArgList.dispatchCall:mzmatch.ipeak.convert.ConvertToText -i analysis_4/positive/final_combined_related_identified_kegg.peakml -o analysis_4/positive/mzmatch_output_kegg.txt -annotations identification,ppm,adduct,relation.id,relation.ship,codadw,charge\n",
      "2016-09-22 14:03:10 4:INFO:PuMP.callToArgList.dispatchCall:mzmatch.ipeak.util.Identify -i analysis_4/positive/final_combined_related.peakml -o analysis_4/positive/final_combined_related_identified_lipidmaps.peakml -ppm 3 -databases /Users/joewandy/git/pimp/packrat/lib/x86_64-apple-darwin15.5.0/3.3.1/PiMP/dbs/lipidmaps.xml -rtwindowrelative FALSE -adducts M+H,M+ACN+Na,M+Na,M+K,M+ACN+H\n",
      "2016-09-22 14:03:21 4:INFO:PuMP.callToArgList.dispatchCall:mzmatch.ipeak.convert.ConvertToText -i analysis_4/positive/final_combined_related_identified_lipidmaps.peakml -o analysis_4/positive/mzmatch_output_lipidmaps.txt -annotations identification,ppm,adduct,relation.id,relation.ship,codadw,charge\n",
      "2016-09-22 14:03:24 4:INFO:PuMP.callToArgList.dispatchCall:mzmatch.ipeak.util.Identify -i analysis_4/positive/final_combined_related.peakml -o analysis_4/positive/final_combined_related_identified_stds_db.peakml -ppm 3 -databases analysis_4/stds_db.xml -rtwindow 0.05 -rtwindowrelative TRUE -adducts M+H\n",
      "2016-09-22 14:03:29 4:INFO:PuMP.callToArgList.dispatchCall:mzmatch.ipeak.convert.ConvertToText -i analysis_4/positive/final_combined_related_identified_stds_db.peakml -o analysis_4/positive/mzmatch_output_stds_db.txt -annotations identification,ppm,adduct,relation.id,relation.ship,codadw,charge\n"
     ]
    }
   ],
   "source": [
    "raw_data_pos, groups_pos = pipeline.process_raw_data(polarity_pos, xcms_params, mzmatch_params, \n",
    "                                         peakml_params, mzmatch_outputs, mzmatch_filters, n_slaves)"
   ]
  },
  {
   "cell_type": "code",
   "execution_count": 39,
   "metadata": {
    "collapsed": false
   },
   "outputs": [],
   "source": [
    "raw_data_dict['positive'] = raw_data_pos\n",
    "groups_dict['positive'] = groups_pos"
   ]
  },
  {
   "cell_type": "markdown",
   "metadata": {},
   "source": [
    "## Process negative raw data"
   ]
  },
  {
   "cell_type": "code",
   "execution_count": 40,
   "metadata": {
    "collapsed": false
   },
   "outputs": [
    {
     "name": "stderr",
     "output_type": "stream",
     "text": [
      "DEBUG 2016-09-22 14:03:32,214 utils.py:91 | (0.001) SELECT `groups_group`.`name`, `groups_attribute`.`name`, `fileupload_sample`.`name` FROM `groups_group` INNER JOIN `groups_attribute` ON ( `groups_group`.`id` = `groups_attribute`.`group_id` ) INNER JOIN `experiments_attributecomparison` ON ( `groups_attribute`.`id` = `experiments_attributecomparison`.`attribute_id` ) INNER JOIN `experiments_comparison` ON ( `experiments_attributecomparison`.`comparison_id` = `experiments_comparison`.`id` ) LEFT OUTER JOIN `groups_sampleattribute` ON ( `groups_attribute`.`id` = `groups_sampleattribute`.`attribute_id` ) LEFT OUTER JOIN `fileupload_sample` ON ( `groups_sampleattribute`.`sample_id` = `fileupload_sample`.`id` ) WHERE `experiments_comparison`.`experiment_id` = 4; args=(4,)\n",
      "DEBUG 2016-09-22 14:03:32,230 utils.py:91 | (0.001) SELECT `fileupload_picture`.`file` FROM `fileupload_picture` INNER JOIN `fileupload_samplefilegroup` ON ( `fileupload_picture`.`id` = `fileupload_samplefilegroup`.`posdata_id` ) INNER JOIN `fileupload_sample` ON ( `fileupload_samplefilegroup`.`id` = `fileupload_sample`.`samplefile_id` ) WHERE (`fileupload_sample`.`id`) IN (SELECT DISTINCT U0.`id` FROM `fileupload_sample` U0 INNER JOIN `groups_sampleattribute` U1 ON ( U0.`id` = U1.`sample_id` ) INNER JOIN `groups_attribute` U2 ON ( U1.`attribute_id` = U2.`id` ) INNER JOIN `experiments_attributecomparison` U3 ON ( U2.`id` = U3.`attribute_id` ) INNER JOIN `experiments_comparison` U4 ON ( U3.`comparison_id` = U4.`id` ) WHERE U4.`experiment_id` = 4); args=(4,)\n",
      "DEBUG 2016-09-22 14:03:32,232 utils.py:91 | (0.001) SELECT `fileupload_picture`.`file` FROM `fileupload_picture` INNER JOIN `fileupload_samplefilegroup` ON ( `fileupload_picture`.`id` = `fileupload_samplefilegroup`.`negdata_id` ) INNER JOIN `fileupload_sample` ON ( `fileupload_samplefilegroup`.`id` = `fileupload_sample`.`samplefile_id` ) WHERE (`fileupload_sample`.`id`) IN (SELECT DISTINCT U0.`id` FROM `fileupload_sample` U0 INNER JOIN `groups_sampleattribute` U1 ON ( U0.`id` = U1.`sample_id` ) INNER JOIN `groups_attribute` U2 ON ( U1.`attribute_id` = U2.`id` ) INNER JOIN `experiments_attributecomparison` U3 ON ( U2.`id` = U3.`attribute_id` ) INNER JOIN `experiments_comparison` U4 ON ( U3.`comparison_id` = U4.`id` ) WHERE U4.`experiment_id` = 4); args=(4,)\n"
     ]
    },
    {
     "name": "stdout",
     "output_type": "stream",
     "text": [
      "Creating /Users/joewandy/git/pimp/django_projects/pimp_data/projects/4/analysis_4/negative/combined\n",
      "------------------------------------------------\n",
      "negative /Users/joewandy/git/pimp/django_projects/pimp_data/projects/4/analysis_4/negative /Users/joewandy/git/pimp/django_projects/pimp_data/projects/4/analysis_4/negative/combined\n",
      "------------------------------------------------\n",
      "[beer_colour with 2 levels, beer_taste with 3 levels]\n",
      "beer_colour\n",
      " - colour_dark [u'Beer_1_full1', u'Beer_1_full2', u'Beer_1_full3', u'Beer_2_full1', u'Beer_2_full2', u'Beer_2_full3']\n",
      " - colour_light [u'Beer_3_full1', u'Beer_3_full2', u'Beer_3_full3', u'Beer_4_full1', u'Beer_4_full2', u'Beer_4_full3']\n",
      "beer_taste\n",
      " - taste_awful [u'Beer_4_full1', u'Beer_4_full2', u'Beer_4_full3']\n",
      " - taste_delicious [u'Beer_1_full1', u'Beer_1_full2', u'Beer_1_full3', u'Beer_2_full1', u'Beer_2_full2', u'Beer_2_full3']\n",
      " - taste_okay [u'Beer_3_full1', u'Beer_3_full2', u'Beer_3_full3']\n",
      "(2, 3)\n",
      "('group_0', (0, 0), 'colour_dark,taste_awful', [])\n",
      "('group_1', (0, 1), 'colour_dark,taste_delicious', [u'Beer_1_full2', u'Beer_1_full3', u'Beer_1_full1', u'Beer_2_full1', u'Beer_2_full3', u'Beer_2_full2'])\n",
      "('group_2', (0, 2), 'colour_dark,taste_okay', [])\n",
      "('group_3', (1, 0), 'colour_light,taste_awful', [u'Beer_4_full3', u'Beer_4_full2', u'Beer_4_full1'])\n",
      "('group_4', (1, 1), 'colour_light,taste_delicious', [])\n",
      "('group_5', (1, 2), 'colour_light,taste_okay', [u'Beer_3_full1', u'Beer_3_full2', u'Beer_3_full3'])\n",
      "Nothing to combine in /Users/joewandy/git/pimp/django_projects/pimp_data/projects/4/analysis_4/negative/combined/group_0\n",
      "Processing /Users/joewandy/git/pimp/django_projects/pimp_data/projects/4/analysis_4/negative/combined/group_1\n",
      "2016-09-22 14:03:32 4:INFO:PuMP.callToArgList.dispatchCall:mzmatch.ipeak.Combine -i /Users/joewandy/git/pimp/django_projects/pimp_data/projects/4/analysis_4/negative/combined/group_1/Beer_1_full1.peakml,/Users/joewandy/git/pimp/django_projects/pimp_data/projects/4/analysis_4/negative/combined/group_1/Beer_1_full2.peakml,/Users/joewandy/git/pimp/django_projects/pimp_data/projects/4/analysis_4/negative/combined/group_1/Beer_1_full3.peakml,/Users/joewandy/git/pimp/django_projects/pimp_data/projects/4/analysis_4/negative/combined/group_1/Beer_2_full1.peakml,/Users/joewandy/git/pimp/django_projects/pimp_data/projects/4/analysis_4/negative/combined/group_1/Beer_2_full2.peakml,/Users/joewandy/git/pimp/django_projects/pimp_data/projects/4/analysis_4/negative/combined/group_1/Beer_2_full3.peakml -o /Users/joewandy/git/pimp/django_projects/pimp_data/projects/4/analysis_4/negative/combined/group_1.peakml -label group_1 -ppm 3 -rtwindow 30 -combination set\n",
      "Nothing to combine in /Users/joewandy/git/pimp/django_projects/pimp_data/projects/4/analysis_4/negative/combined/group_2\n",
      "Processing /Users/joewandy/git/pimp/django_projects/pimp_data/projects/4/analysis_4/negative/combined/group_3\n",
      "2016-09-22 14:03:41 4:INFO:PuMP.callToArgList.dispatchCall:mzmatch.ipeak.Combine -i /Users/joewandy/git/pimp/django_projects/pimp_data/projects/4/analysis_4/negative/combined/group_3/Beer_4_full1.peakml,/Users/joewandy/git/pimp/django_projects/pimp_data/projects/4/analysis_4/negative/combined/group_3/Beer_4_full2.peakml,/Users/joewandy/git/pimp/django_projects/pimp_data/projects/4/analysis_4/negative/combined/group_3/Beer_4_full3.peakml -o /Users/joewandy/git/pimp/django_projects/pimp_data/projects/4/analysis_4/negative/combined/group_3.peakml -label group_3 -ppm 3 -rtwindow 30 -combination set\n",
      "Nothing to combine in /Users/joewandy/git/pimp/django_projects/pimp_data/projects/4/analysis_4/negative/combined/group_4\n",
      "Processing /Users/joewandy/git/pimp/django_projects/pimp_data/projects/4/analysis_4/negative/combined/group_5\n",
      "2016-09-22 14:03:45 4:INFO:PuMP.callToArgList.dispatchCall:mzmatch.ipeak.Combine -i /Users/joewandy/git/pimp/django_projects/pimp_data/projects/4/analysis_4/negative/combined/group_5/Beer_3_full1.peakml,/Users/joewandy/git/pimp/django_projects/pimp_data/projects/4/analysis_4/negative/combined/group_5/Beer_3_full2.peakml,/Users/joewandy/git/pimp/django_projects/pimp_data/projects/4/analysis_4/negative/combined/group_5/Beer_3_full3.peakml -o /Users/joewandy/git/pimp/django_projects/pimp_data/projects/4/analysis_4/negative/combined/group_5.peakml -label group_5 -ppm 3 -rtwindow 30 -combination set\n",
      "2016-09-22 14:03:49 4:INFO:PuMP.callToArgList.dispatchCall:mzmatch.ipeak.filter.RSDFilter -i /Users/joewandy/git/pimp/django_projects/pimp_data/projects/4/analysis_4/negative/combined/group_1.peakml -o /Users/joewandy/git/pimp/django_projects/pimp_data/projects/4/analysis_4/negative/combined/group_1_rsd.peakml -rejected /Users/joewandy/git/pimp/django_projects/pimp_data/projects/4/analysis_4/negative/combined/group_1_rsdrej.peakml -rsd 0.5\n",
      "2016-09-22 14:03:55 4:INFO:PuMP.callToArgList.dispatchCall:mzmatch.ipeak.filter.RSDFilter -i /Users/joewandy/git/pimp/django_projects/pimp_data/projects/4/analysis_4/negative/combined/group_3.peakml -o /Users/joewandy/git/pimp/django_projects/pimp_data/projects/4/analysis_4/negative/combined/group_3_rsd.peakml -rejected /Users/joewandy/git/pimp/django_projects/pimp_data/projects/4/analysis_4/negative/combined/group_3_rsdrej.peakml -rsd 0.5\n",
      "2016-09-22 14:03:59 4:INFO:PuMP.callToArgList.dispatchCall:mzmatch.ipeak.filter.RSDFilter -i /Users/joewandy/git/pimp/django_projects/pimp_data/projects/4/analysis_4/negative/combined/group_5.peakml -o /Users/joewandy/git/pimp/django_projects/pimp_data/projects/4/analysis_4/negative/combined/group_5_rsd.peakml -rejected /Users/joewandy/git/pimp/django_projects/pimp_data/projects/4/analysis_4/negative/combined/group_5_rsdrej.peakml -rsd 0.5\n",
      "2016-09-22 14:04:03 4:INFO:PuMP.callToArgList.dispatchCall:mzmatch.ipeak.Combine -i /Users/joewandy/git/pimp/django_projects/pimp_data/projects/4/analysis_4/negative/combined/group_1_rsd.peakml,/Users/joewandy/git/pimp/django_projects/pimp_data/projects/4/analysis_4/negative/combined/group_3_rsd.peakml,/Users/joewandy/git/pimp/django_projects/pimp_data/projects/4/analysis_4/negative/combined/group_5_rsd.peakml -o /Users/joewandy/git/pimp/django_projects/pimp_data/projects/4/analysis_4/negative/final_combined.peakml -label  -ppm 3 -rtwindow 30 -combination set\n",
      "2016-09-22 14:04:07 4:INFO:PuMP.callToArgList.dispatchCall:mzmatch.ipeak.filter.NoiseFilter -i /Users/joewandy/git/pimp/django_projects/pimp_data/projects/4/analysis_4/negative/final_combined.peakml -o /Users/joewandy/git/pimp/django_projects/pimp_data/projects/4/analysis_4/negative/final_combined_nf.peakml -codadw 0.8\n",
      "2016-09-22 14:04:11 4:INFO:PuMP.callToArgList.dispatchCall:mzmatch.ipeak.filter.SimpleFilter -i /Users/joewandy/git/pimp/django_projects/pimp_data/projects/4/analysis_4/negative/final_combined_nf.peakml -o /Users/joewandy/git/pimp/django_projects/pimp_data/projects/4/analysis_4/negative/final.combined_sf.peakml -ppm 3 -mindetections 3 -minintensity 5000\n",
      "2016-09-22 14:04:15 4:INFO:PuMP.callToArgList.dispatchCall:mzmatch.ipeak.sort.RelatedPeaks -i /Users/joewandy/git/pimp/django_projects/pimp_data/projects/4/analysis_4/negative/final.combined_sf.peakml -o /Users/joewandy/git/pimp/django_projects/pimp_data/projects/4/analysis_4/negative/final_combined_related.peakml -basepeaks /Users/joewandy/git/pimp/django_projects/pimp_data/projects/4/analysis_4/negative/final_combined_basepeaks.peakml -ppm 3 -rtwindow 30\n",
      "2016-09-22 14:04:21 4:INFO:PuMP.callToArgList.dispatchCall:mzmatch.ipeak.util.Identify -i analysis_4/negative/final_combined_related.peakml -o analysis_4/negative/final_combined_related_identified_hmdb.peakml -ppm 3 -databases /Users/joewandy/git/pimp/packrat/lib/x86_64-apple-darwin15.5.0/3.3.1/PiMP/dbs/hmdb.xml -rtwindowrelative FALSE -adducts M-H,M-ACN+Na,M-Na,M-K,M-ACN+H\n",
      "2016-09-22 14:04:30 4:INFO:PuMP.callToArgList.dispatchCall:mzmatch.ipeak.convert.ConvertToText -i analysis_4/negative/final_combined_related_identified_hmdb.peakml -o analysis_4/negative/mzmatch_output_hmdb.txt -annotations identification,ppm,adduct,relation.id,relation.ship,codadw,charge\n",
      "2016-09-22 14:04:33 4:INFO:PuMP.callToArgList.dispatchCall:mzmatch.ipeak.util.Identify -i analysis_4/negative/final_combined_related.peakml -o analysis_4/negative/final_combined_related_identified_kegg.peakml -ppm 3 -databases /Users/joewandy/git/pimp/packrat/lib/x86_64-apple-darwin15.5.0/3.3.1/PiMP/dbs/kegg.xml -rtwindowrelative FALSE -adducts M-H,M-ACN+Na,M-Na,M-K,M-ACN+H\n",
      "2016-09-22 14:04:38 4:INFO:PuMP.callToArgList.dispatchCall:mzmatch.ipeak.convert.ConvertToText -i analysis_4/negative/final_combined_related_identified_kegg.peakml -o analysis_4/negative/mzmatch_output_kegg.txt -annotations identification,ppm,adduct,relation.id,relation.ship,codadw,charge\n",
      "2016-09-22 14:04:40 4:INFO:PuMP.callToArgList.dispatchCall:mzmatch.ipeak.util.Identify -i analysis_4/negative/final_combined_related.peakml -o analysis_4/negative/final_combined_related_identified_lipidmaps.peakml -ppm 3 -databases /Users/joewandy/git/pimp/packrat/lib/x86_64-apple-darwin15.5.0/3.3.1/PiMP/dbs/lipidmaps.xml -rtwindowrelative FALSE -adducts M-H,M-ACN+Na,M-Na,M-K,M-ACN+H\n",
      "2016-09-22 14:04:49 4:INFO:PuMP.callToArgList.dispatchCall:mzmatch.ipeak.convert.ConvertToText -i analysis_4/negative/final_combined_related_identified_lipidmaps.peakml -o analysis_4/negative/mzmatch_output_lipidmaps.txt -annotations identification,ppm,adduct,relation.id,relation.ship,codadw,charge\n",
      "2016-09-22 14:04:50 4:INFO:PuMP.callToArgList.dispatchCall:mzmatch.ipeak.util.Identify -i analysis_4/negative/final_combined_related.peakml -o analysis_4/negative/final_combined_related_identified_stds_db.peakml -ppm 3 -databases analysis_4/stds_db.xml -rtwindow 0.05 -rtwindowrelative TRUE -adducts M-H\n",
      "2016-09-22 14:04:54 4:INFO:PuMP.callToArgList.dispatchCall:mzmatch.ipeak.convert.ConvertToText -i analysis_4/negative/final_combined_related_identified_stds_db.peakml -o analysis_4/negative/mzmatch_output_stds_db.txt -annotations identification,ppm,adduct,relation.id,relation.ship,codadw,charge\n"
     ]
    }
   ],
   "source": [
    "raw_data_neg, groups_neg = pipeline.process_raw_data(polarity_neg, xcms_params, mzmatch_params, \n",
    "                                         peakml_params, mzmatch_outputs, mzmatch_filters, n_slaves)"
   ]
  },
  {
   "cell_type": "code",
   "execution_count": 41,
   "metadata": {
    "collapsed": false
   },
   "outputs": [],
   "source": [
    "raw_data_dict['negative'] = raw_data_neg\n",
    "groups_dict['negative'] = groups_neg"
   ]
  },
  {
   "cell_type": "markdown",
   "metadata": {},
   "source": [
    "### Run stats"
   ]
  },
  {
   "cell_type": "code",
   "execution_count": 42,
   "metadata": {
    "collapsed": false
   },
   "outputs": [
    {
     "name": "stdout",
     "output_type": "stream",
     "text": [
      "$group_3\n",
      "[1] \"Beer_4_full3\" \"Beer_4_full2\" \"Beer_4_full1\"\n",
      "\n",
      "$group_1\n",
      "[1] \"Beer_1_full2\" \"Beer_1_full3\" \"Beer_1_full1\" \"Beer_2_full1\" \"Beer_2_full3\"\n",
      "[6] \"Beer_2_full2\"\n",
      "\n",
      "$group_5\n",
      "[1] \"Beer_3_full1\" \"Beer_3_full2\" \"Beer_3_full3\"\n",
      "\n",
      "\n"
     ]
    }
   ],
   "source": [
    "print groups_dict['positive']"
   ]
  },
  {
   "cell_type": "code",
   "execution_count": 43,
   "metadata": {
    "collapsed": false
   },
   "outputs": [
    {
     "name": "stdout",
     "output_type": "stream",
     "text": [
      "$group_3\n",
      "[1] \"Beer_4_full3\" \"Beer_4_full2\" \"Beer_4_full1\"\n",
      "\n",
      "$group_1\n",
      "[1] \"Beer_1_full2\" \"Beer_1_full3\" \"Beer_1_full1\" \"Beer_2_full1\" \"Beer_2_full3\"\n",
      "[6] \"Beer_2_full2\"\n",
      "\n",
      "$group_5\n",
      "[1] \"Beer_3_full1\" \"Beer_3_full2\" \"Beer_3_full3\"\n",
      "\n",
      "\n"
     ]
    }
   ],
   "source": [
    "print groups_dict['negative']"
   ]
  },
  {
   "cell_type": "code",
   "execution_count": 44,
   "metadata": {
    "collapsed": false
   },
   "outputs": [
    {
     "name": "stderr",
     "output_type": "stream",
     "text": [
      "DEBUG 2016-09-22 14:04:56,501 utils.py:91 | (0.001) SELECT `groups_group`.`name`, `groups_attribute`.`name`, `fileupload_sample`.`name` FROM `groups_group` INNER JOIN `groups_attribute` ON ( `groups_group`.`id` = `groups_attribute`.`group_id` ) INNER JOIN `experiments_attributecomparison` ON ( `groups_attribute`.`id` = `experiments_attributecomparison`.`attribute_id` ) INNER JOIN `experiments_comparison` ON ( `experiments_attributecomparison`.`comparison_id` = `experiments_comparison`.`id` ) LEFT OUTER JOIN `groups_sampleattribute` ON ( `groups_attribute`.`id` = `groups_sampleattribute`.`attribute_id` ) LEFT OUTER JOIN `fileupload_sample` ON ( `groups_sampleattribute`.`sample_id` = `fileupload_sample`.`id` ) WHERE `experiments_comparison`.`experiment_id` = 4; args=(4,)\n"
     ]
    }
   ],
   "source": [
    "save_fixtures = True\n",
    "pipeline.run_stats(raw_data_dict, groups_dict, mzmatch_outputs, mzmatch_params, save_fixtures)"
   ]
  },
  {
   "cell_type": "code",
   "execution_count": null,
   "metadata": {
    "collapsed": true
   },
   "outputs": [],
   "source": []
  }
 ],
 "metadata": {
  "kernelspec": {
   "display_name": "Django Shell-Plus",
   "language": "python",
   "name": "django_extensions"
  },
  "language_info": {
   "codemirror_mode": {
    "name": "ipython",
    "version": 2
   },
   "file_extension": ".py",
   "mimetype": "text/x-python",
   "name": "python",
   "nbconvert_exporter": "python",
   "pygments_lexer": "ipython2",
   "version": "2.7.10"
  }
 },
 "nbformat": 4,
 "nbformat_minor": 1
}
