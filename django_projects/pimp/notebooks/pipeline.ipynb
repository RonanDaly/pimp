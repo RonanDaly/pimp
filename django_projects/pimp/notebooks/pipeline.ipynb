{
 "cells": [
  {
   "cell_type": "markdown",
   "metadata": {},
   "source": [
    "# Experimental new pipeline"
   ]
  },
  {
   "cell_type": "code",
   "execution_count": 39,
   "metadata": {
    "collapsed": false
   },
   "outputs": [
    {
     "name": "stdout",
     "output_type": "stream",
     "text": [
      "The autoreload extension is already loaded. To reload it, use:\n",
      "  %reload_ext autoreload\n"
     ]
    }
   ],
   "source": [
    "%load_ext autoreload\n",
    "%autoreload 2"
   ]
  },
  {
   "cell_type": "code",
   "execution_count": 191,
   "metadata": {
    "collapsed": true
   },
   "outputs": [],
   "source": [
    "import rpy2.robjects as robjects\n",
    "import multiprocessing\n",
    "import re\n",
    "import os\n",
    "\n",
    "import numpy as np\n",
    "from shutil import copyfile\n",
    "\n",
    "from experiments.pipelines.pipeline_rpy2 import Rpy2Pipeline, Tree\n",
    "from pimp.settings import getString"
   ]
  },
  {
   "cell_type": "markdown",
   "metadata": {},
   "source": [
    "## Load analysis and project"
   ]
  },
  {
   "cell_type": "code",
   "execution_count": 41,
   "metadata": {
    "collapsed": false,
    "scrolled": false
   },
   "outputs": [
    {
     "name": "stderr",
     "output_type": "stream",
     "text": [
      "DEBUG 2016-09-14 11:24:04,551 utils.py:91 | (0.000) SELECT `experiments_analysis`.`id`, `experiments_analysis`.`created`, `experiments_analysis`.`submited`, `experiments_analysis`.`owner`, `experiments_analysis`.`experiment_id`, `experiments_analysis`.`params_id`, `experiments_analysis`.`status` FROM `experiments_analysis` WHERE `experiments_analysis`.`id` = 9 LIMIT 21; args=(9,)\n"
     ]
    }
   ],
   "source": [
    "analysis = Analysis.objects.get_or_create(id=9)[0]"
   ]
  },
  {
   "cell_type": "code",
   "execution_count": 42,
   "metadata": {
    "collapsed": false,
    "scrolled": true
   },
   "outputs": [
    {
     "name": "stderr",
     "output_type": "stream",
     "text": [
      "DEBUG 2016-09-14 11:24:04,735 utils.py:91 | (0.000) SELECT `projects_project`.`id`, `projects_project`.`title`, `projects_project`.`user_owner_id`, `projects_project`.`description`, `projects_project`.`created`, `projects_project`.`modified` FROM `projects_project` WHERE `projects_project`.`id` = 9 LIMIT 21; args=(9,)\n"
     ]
    }
   ],
   "source": [
    "project = Project.objects.get_or_create(id=9)[0]"
   ]
  },
  {
   "cell_type": "code",
   "execution_count": 43,
   "metadata": {
    "collapsed": false,
    "scrolled": true
   },
   "outputs": [
    {
     "name": "stdout",
     "output_type": "stream",
     "text": [
      "******************************************\n",
      "Setup rpy2 connection\n",
      "******************************************\n"
     ]
    }
   ],
   "source": [
    "pipeline = Rpy2Pipeline(analysis, project, False)"
   ]
  },
  {
   "cell_type": "code",
   "execution_count": 6,
   "metadata": {
    "collapsed": false
   },
   "outputs": [
    {
     "name": "stderr",
     "output_type": "stream",
     "text": [
      "/Users/joewandy/git/pimp/venv/lib/python2.7/site-packages/rpy2/robjects/functions.py:106: UserWarning: Loading required package: RUnit\n",
      "\n",
      "  res = super(Function, self).__call__(*new_args, **new_kwargs)\n",
      "\n",
      "WARNING 2016-09-14 11:02:22,439 functions.py:106 | /Users/joewandy/git/pimp/venv/lib/python2.7/site-packages/rpy2/robjects/functions.py:106: UserWarning: Loading required package: RUnit\n",
      "\n",
      "  res = super(Function, self).__call__(*new_args, **new_kwargs)\n",
      "\n",
      "/Users/joewandy/git/pimp/venv/lib/python2.7/site-packages/rpy2/robjects/functions.py:106: UserWarning: Loading required package: DBI\n",
      "\n",
      "  res = super(Function, self).__call__(*new_args, **new_kwargs)\n",
      "\n",
      "WARNING 2016-09-14 11:02:22,479 functions.py:106 | /Users/joewandy/git/pimp/venv/lib/python2.7/site-packages/rpy2/robjects/functions.py:106: UserWarning: Loading required package: DBI\n",
      "\n",
      "  res = super(Function, self).__call__(*new_args, **new_kwargs)\n",
      "\n",
      "/Users/joewandy/git/pimp/venv/lib/python2.7/site-packages/rpy2/robjects/functions.py:106: UserWarning: Setting analysis directory to: analysis_9\n",
      "\n",
      "  res = super(Function, self).__call__(*new_args, **new_kwargs)\n",
      "\n"
     ]
    },
    {
     "name": "stdout",
     "output_type": "stream",
     "text": [
      "Setup called\n",
      "2016-09-14 11:02:22 INFO:Pimp.getPimpWd:Data dir: /Users/joewandy/git/pimp/django_projects/pimp_data/projects\n",
      "2016-09-14 11:02:22 INFO:Pimp.getPimpWd:Project dir: /Users/joewandy/git/pimp/django_projects/pimp_data/projects/9\n",
      "2016-09-14 11:02:22 INFO:Pimp.extra.setPiMPLoggerAnalysisID:Setting analysis ID in logger to 9\n",
      "2016-09-14 11:02:22 9:INFO:Pimp.extra.setPiMPLoggerAnalysisID:Analysis id set\n",
      "2016-09-14 11:02:22 9:INFO:Pimp.validateInput:Input validated correctly!\n",
      "2016-09-14 11:02:22 9:INFO:Pimp.extra.setPiMPLoggerAnalysisID:Setting analysis ID in logger to 9\n",
      "2016-09-14 11:02:22 9:INFO:Pimp.extra.setPiMPLoggerAnalysisID:Analysis id set\n",
      "2016-09-14 11:02:22 9:INFO:Pimp.getAnalysisParams:Setting params\n",
      "2016-09-14 11:02:22 9:DEBUG:Pimp.getAnalysisParams:Name: iqr Value: 0.5\n",
      "2016-09-14 11:02:22 9:DEBUG:Pimp.getAnalysisParams:Name: rsd Value: 0.5\n",
      "2016-09-14 11:02:22 9:DEBUG:Pimp.getAnalysisParams:Name: noise Value: 0.8\n",
      "2016-09-14 11:02:22 9:DEBUG:Pimp.getAnalysisParams:Name: ppm Value: 3\n",
      "2016-09-14 11:02:22 9:DEBUG:Pimp.getAnalysisParams:Name: mindetections Value: 3\n",
      "2016-09-14 11:02:22 9:DEBUG:Pimp.getAnalysisParams:Name: minintensity Value: 5000\n",
      "2016-09-14 11:02:22 9:DEBUG:Pimp.getAnalysisParams:Name: rtwindow Value: 0.05\n",
      "2016-09-14 11:02:22 9:DEBUG:Pimp.getAnalysisParams:Name: rt.alignment Value: NA\n",
      "2016-09-14 11:02:22 9:DEBUG:Pimp.getAnalysisParams:Name: noise Value: 0.8\n",
      "2016-09-14 11:02:22 9:DEBUG:Pimp.getAnalysisParams:Name: rtwindow Value: 0.05\n",
      "2016-09-14 11:02:22 9:INFO:Pimp.extra.setPiMPLoggerAnalysisID:Setting analysis ID in logger to 9\n",
      "2016-09-14 11:02:22 9:INFO:Pimp.extra.setPiMPLoggerAnalysisID:Analysis id set\n"
     ]
    },
    {
     "name": "stderr",
     "output_type": "stream",
     "text": [
      "WARNING 2016-09-14 11:02:22,757 functions.py:106 | /Users/joewandy/git/pimp/venv/lib/python2.7/site-packages/rpy2/robjects/functions.py:106: UserWarning: Setting analysis directory to: analysis_9\n",
      "\n",
      "  res = super(Function, self).__call__(*new_args, **new_kwargs)\n",
      "\n"
     ]
    },
    {
     "name": "stdout",
     "output_type": "stream",
     "text": [
      "2016-09-14 11:02:22 9:INFO:Pimp.createAnalysisDir:Analysis dir created at analysis_9\n"
     ]
    }
   ],
   "source": [
    "pipeline.setup()"
   ]
  },
  {
   "cell_type": "markdown",
   "metadata": {},
   "source": [
    "## Peak detection"
   ]
  },
  {
   "cell_type": "code",
   "execution_count": 7,
   "metadata": {
    "collapsed": false
   },
   "outputs": [],
   "source": [
    "def get_value(r_vect, key):\n",
    "    return r_vect[r_vect.names.index(key)]"
   ]
  },
  {
   "cell_type": "code",
   "execution_count": 8,
   "metadata": {
    "collapsed": true
   },
   "outputs": [],
   "source": [
    "def get_formatted_value(r_vect, key, analysis_id=None, subst=None):\n",
    "\n",
    "    str_vect = get_value(r_vect, key)\n",
    "    my_str = str_vect[0]\n",
    "    \n",
    "    # replace 'analysis' with 'analysis_%d'\n",
    "    if analysis_id is not None:\n",
    "        my_str = my_str.replace('analysis', 'analysis_%d' % analysis_id)\n",
    "    \n",
    "    # replace the 'polarity' bit\n",
    "    if subst is not None:\n",
    "        my_str = my_str % subst\n",
    "\n",
    "    return my_str"
   ]
  },
  {
   "cell_type": "code",
   "execution_count": 9,
   "metadata": {
    "collapsed": false
   },
   "outputs": [],
   "source": [
    "def peak_detection(files, xcms_params, n_slaves):\n",
    "\n",
    "    # collect the parameters\n",
    "    args = {\n",
    "        'files'           : files,\n",
    "        'method'          : get_value(xcms_params, 'method'),\n",
    "        'ppm'             : get_value(xcms_params, 'ppm'),\n",
    "        'peakwidth'       : get_value(xcms_params, 'peakwidth'),\n",
    "        'snthresh'        : get_value(xcms_params, 'snthresh'),\n",
    "        'prefilter'       : get_value(xcms_params, 'prefilter'),\n",
    "        'integrate'       : get_value(xcms_params, 'integrate'),\n",
    "        'mzdiff'          : get_value(xcms_params, 'mzdiff'),\n",
    "        'verbose.columns' : get_value(xcms_params, 'verbose.columns'),\n",
    "        'fitgauss'        : get_value(xcms_params, 'fitgauss'),\n",
    "        'nSlaves'         : n_slaves\n",
    "    }\n",
    "\n",
    "    # call centwave\n",
    "    xcms_set = robjects.r['xcmsSet']    \n",
    "    xset = xcms_set(**args)\n",
    "    return xset"
   ]
  },
  {
   "cell_type": "code",
   "execution_count": 10,
   "metadata": {
    "collapsed": false
   },
   "outputs": [
    {
     "name": "stdout",
     "output_type": "stream",
     "text": [
      " [1] \"samples/POS/Beer_4_full1.mzXML\" \"samples/POS/Beer_4_full2.mzXML\"\n",
      " [3] \"samples/POS/Beer_4_full3.mzXML\" \"samples/POS/Beer_1_full1.mzXML\"\n",
      " [5] \"samples/POS/Beer_1_full2.mzXML\" \"samples/POS/Beer_1_full3.mzXML\"\n",
      " [7] \"samples/POS/Beer_2_full1.mzXML\" \"samples/POS/Beer_2_full2.mzXML\"\n",
      " [9] \"samples/POS/Beer_2_full3.mzXML\" \"samples/POS/Beer_3_full1.mzXML\"\n",
      "[11] \"samples/POS/Beer_3_full2.mzXML\" \"samples/POS/Beer_3_full3.mzXML\"\n",
      " $method\n",
      "[1] \"centWave\"\n",
      "\n",
      "$ppm\n",
      "[1] 3\n",
      "\n",
      "$peakwidth\n",
      "[1]   5 100\n",
      "\n",
      "$snthresh\n",
      "[1] 2\n",
      "\n",
      "$prefilter\n",
      "[1]   2 500\n",
      "\n",
      "$integrate\n",
      "[1] 1\n",
      "\n",
      "$mzdiff\n",
      "[1] 0.001\n",
      "\n",
      "$verbose.columns\n",
      "[1] TRUE\n",
      "\n",
      "$fitgauss\n",
      "[1] FALSE\n",
      "\n",
      " 7\n"
     ]
    }
   ],
   "source": [
    "positive_files = get_value(pipeline.metadata.r_files, 'positive')\n",
    "xcms_params = get_value(pipeline.pimp_params, 'xcms.params')\n",
    "n_slaves = multiprocessing.cpu_count()-1\n",
    "\n",
    "print positive_files, xcms_params, n_slaves"
   ]
  },
  {
   "cell_type": "code",
   "execution_count": 11,
   "metadata": {
    "collapsed": false
   },
   "outputs": [
    {
     "name": "stderr",
     "output_type": "stream",
     "text": [
      "/Users/joewandy/git/pimp/venv/lib/python2.7/site-packages/rpy2/robjects/functions.py:106: UserWarning: \n",
      "Attaching package: ‘snow’\n",
      "\n",
      "\n",
      "  res = super(Function, self).__call__(*new_args, **new_kwargs)\n",
      "\n",
      "WARNING 2016-09-14 11:02:57,444 functions.py:106 | /Users/joewandy/git/pimp/venv/lib/python2.7/site-packages/rpy2/robjects/functions.py:106: UserWarning: \n",
      "Attaching package: ‘snow’\n",
      "\n",
      "\n",
      "  res = super(Function, self).__call__(*new_args, **new_kwargs)\n",
      "\n",
      "/Users/joewandy/git/pimp/venv/lib/python2.7/site-packages/rpy2/robjects/functions.py:106: UserWarning: The following objects are masked from ‘package:BiocGenerics’:\n",
      "\n",
      "    clusterApply, clusterApplyLB, clusterCall, clusterEvalQ,\n",
      "    clusterExport, clusterMap, clusterSplit, parApply, parCapply,\n",
      "    parLapply, parRapply, parSapply\n",
      "\n",
      "\n",
      "  res = super(Function, self).__call__(*new_args, **new_kwargs)\n",
      "\n",
      "WARNING 2016-09-14 11:02:57,447 functions.py:106 | /Users/joewandy/git/pimp/venv/lib/python2.7/site-packages/rpy2/robjects/functions.py:106: UserWarning: The following objects are masked from ‘package:BiocGenerics’:\n",
      "\n",
      "    clusterApply, clusterApplyLB, clusterCall, clusterEvalQ,\n",
      "    clusterExport, clusterMap, clusterSplit, parApply, parCapply,\n",
      "    parLapply, parRapply, parSapply\n",
      "\n",
      "\n",
      "  res = super(Function, self).__call__(*new_args, **new_kwargs)\n",
      "\n",
      "/Users/joewandy/git/pimp/venv/lib/python2.7/site-packages/rpy2/robjects/functions.py:106: UserWarning: The following objects are masked from ‘package:parallel’:\n",
      "\n",
      "    clusterApply, clusterApplyLB, clusterCall, clusterEvalQ,\n",
      "    clusterExport, clusterMap, clusterSplit, makeCluster, parApply,\n",
      "    parCapply, parLapply, parRapply, parSapply, splitIndices,\n",
      "    stopCluster\n",
      "\n",
      "\n",
      "  res = super(Function, self).__call__(*new_args, **new_kwargs)\n",
      "\n",
      "WARNING 2016-09-14 11:02:57,451 functions.py:106 | /Users/joewandy/git/pimp/venv/lib/python2.7/site-packages/rpy2/robjects/functions.py:106: UserWarning: The following objects are masked from ‘package:parallel’:\n",
      "\n",
      "    clusterApply, clusterApplyLB, clusterCall, clusterEvalQ,\n",
      "    clusterExport, clusterMap, clusterSplit, makeCluster, parApply,\n",
      "    parCapply, parLapply, parRapply, parSapply, splitIndices,\n",
      "    stopCluster\n",
      "\n",
      "\n",
      "  res = super(Function, self).__call__(*new_args, **new_kwargs)\n",
      "\n"
     ]
    },
    {
     "name": "stdout",
     "output_type": "stream",
     "text": [
      "Starting snow cluster with 7 local sockets.\n",
      "Detecting features in file # 1 : Beer_4_full1.mzXML \n",
      "Detecting features in file # 2 : Beer_4_full2.mzXML \n",
      "Detecting features in file # 3 : Beer_4_full3.mzXML \n",
      "Detecting features in file # 4 : Beer_1_full1.mzXML \n",
      "Detecting features in file # 5 : Beer_1_full2.mzXML \n",
      "Detecting features in file # 6 : Beer_1_full3.mzXML \n",
      "Detecting features in file # 7 : Beer_2_full1.mzXML \n",
      "Detecting features in file # 8 : Beer_2_full2.mzXML \n",
      "Detecting features in file # 9 : Beer_2_full3.mzXML \n",
      "Detecting features in file # 10 : Beer_3_full1.mzXML \n",
      "Detecting features in file # 11 : Beer_3_full2.mzXML \n",
      "Detecting features in file # 12 : Beer_3_full3.mzXML \n"
     ]
    }
   ],
   "source": [
    "xset_pos = peak_detection(positive_files, xcms_params, n_slaves)"
   ]
  },
  {
   "cell_type": "markdown",
   "metadata": {},
   "source": [
    "## Peak alignment"
   ]
  },
  {
   "cell_type": "code",
   "execution_count": 12,
   "metadata": {
    "collapsed": false
   },
   "outputs": [
    {
     "name": "stdout",
     "output_type": "stream",
     "text": [
      "obiwarp\n"
     ]
    }
   ],
   "source": [
    "mzmatch_params = get_value(pipeline.pimp_params, 'mzmatch.params')\n",
    "peakml_params = get_value(pipeline.pimp_params, 'peakml.params')\n",
    "mzmatch_outputs = get_value(pipeline.pimp_params, 'mzmatch.outputs')\n",
    "method = get_formatted_value(mzmatch_params, 'rt.alignment')\n",
    "print method"
   ]
  },
  {
   "cell_type": "code",
   "execution_count": 13,
   "metadata": {
    "collapsed": false
   },
   "outputs": [
    {
     "name": "stdout",
     "output_type": "stream",
     "text": [
      "$rsd\n",
      "[1] 0.5\n",
      "\n",
      "$iqr\n",
      "[1] 0.5\n",
      "\n",
      "$rt.alignment\n",
      "[1] \"obiwarp\"\n",
      "\n",
      "$noise\n",
      "[1] 0.8\n",
      "\n",
      "$ppm\n",
      "[1] 3\n",
      "\n",
      "$order\n",
      "[1] 3\n",
      "\n",
      "$maxrt\n",
      "[1] 120\n",
      "\n",
      "$rtwindow\n",
      "[1] 30\n",
      "\n",
      "$id.rtwindow\n",
      "[1] 0.05\n",
      "\n",
      "$combination\n",
      "[1] \"set\"\n",
      "\n",
      "$mindetections\n",
      "[1] 3\n",
      "\n",
      "$minintensity\n",
      "[1] 5000\n",
      "\n",
      "$adducts.positive\n",
      "[1] \"M+H,M+ACN+Na,M+Na,M+K,M+ACN+H\"\n",
      "\n",
      "$adducts.negative\n",
      "[1] \"M-H,M-ACN+Na,M-Na,M-K,M-ACN+H\"\n",
      "\n",
      "\n"
     ]
    }
   ],
   "source": [
    "print mzmatch_params"
   ]
  },
  {
   "cell_type": "code",
   "execution_count": 14,
   "metadata": {
    "collapsed": false
   },
   "outputs": [
    {
     "name": "stdout",
     "output_type": "stream",
     "text": [
      "$alignment.folder\n",
      "[1] \"analysis/%s/combined_rt.alignment\"\n",
      "\n",
      "$combined.folder\n",
      "[1] \"analysis/%s/combined\"\n",
      "\n",
      "$combined.rsd.filtered.folder\n",
      "[1] \"analysis/%s/combined_RSD_filtered\"\n",
      "\n",
      "$combined.rsd.rejected.folder\n",
      "[1] \"analysis/%s/combined_RSD_rejected\"\n",
      "\n",
      "$final.combined.peakml.file\n",
      "[1] \"analysis/%s/final_combined.peakml\"\n",
      "\n",
      "$final.combined.noise.filtered.file\n",
      "[1] \"analysis/%s/final_combined_nf.peakml\"\n",
      "\n",
      "$final.combined.simple.filtered.file\n",
      "[1] \"analysis/%s/final.combined_sf.peakml\"\n",
      "\n",
      "$final.combined.gapfilled.file\n",
      "[1] \"analysis/%s/final_combined_gapfilled.peakml\"\n",
      "\n",
      "$final.combined.related.file\n",
      "[1] \"analysis/%s/final_combined_related.peakml\"\n",
      "\n",
      "$final.combined.basepeaks.file\n",
      "[1] \"analysis/%s/final_combined_basepeaks.peakml\"\n",
      "\n",
      "$final.combined.related.id.file\n",
      "[1] \"analysis/%s/final_combined_related_identified.peakml\"\n",
      "\n",
      "$final.combined.related.stds.id.file\n",
      "[1] \"analysis/%s/final_combined_related_stds_identified.peakml\"\n",
      "\n",
      "$final.combined.basepeaks.id.file\n",
      "[1] \"analysis/%s/final_combined_basepeaks_identified.peakml\"\n",
      "\n",
      "$final.combined.related.id.txt\n",
      "[1] \"analysis/%s/mzmatch_output.txt\"\n",
      "\n",
      "$final.combined.related.stds.id.txt\n",
      "[1] \"analysis/%s/mzmatch_output_stds.txt\"\n",
      "\n",
      "$stds.xml.db\n",
      "[1] \"analysis/stds_db.xml\"\n",
      "\n",
      "$analysis.folder\n",
      "[1] \"analysis\"\n",
      "\n",
      "$polarity.folder\n",
      "[1] \"analysis/%s\"\n",
      "\n",
      "\n"
     ]
    }
   ],
   "source": [
    "print mzmatch_outputs"
   ]
  },
  {
   "cell_type": "code",
   "execution_count": 15,
   "metadata": {
    "collapsed": false
   },
   "outputs": [],
   "source": [
    "method = get_value(mzmatch_params, 'rt.alignment')[0]"
   ]
  },
  {
   "cell_type": "code",
   "execution_count": 16,
   "metadata": {
    "collapsed": true
   },
   "outputs": [],
   "source": [
    "xset = xset_pos"
   ]
  },
  {
   "cell_type": "code",
   "execution_count": 17,
   "metadata": {
    "collapsed": true
   },
   "outputs": [],
   "source": [
    "def rt_correct(xset, method, peakml_params, mzmatch_outputs, n_slaves, verbose):\n",
    "    \n",
    "    if method == 'obiwarp':\n",
    "        retcor = robjects.r['retcor']\n",
    "        xset_aln = retcor(xset, method='obiwarp', profStep=0.01)        \n",
    "    elif method == 'loess':\n",
    "        retcor = robjects.r['retcor']\n",
    "        xset_aln = retcor(xset, method='loess', family=\"symmetric\")\n",
    "    else:\n",
    "        xset_aln = xset\n",
    "        \n",
    "    filepaths = robjects.r['filepaths']\n",
    "    fp = filepaths(xset_aln)\n",
    "\n",
    "    split = robjects.r['split']\n",
    "    xseto = split(xset_aln, fp)\n",
    "    return fp, xseto"
   ]
  },
  {
   "cell_type": "code",
   "execution_count": 18,
   "metadata": {
    "collapsed": false
   },
   "outputs": [
    {
     "name": "stdout",
     "output_type": "stream",
     "text": [
      "center sample:  Beer_1_full2 \n",
      "Processing: Beer_4_full1  Beer_4_full2  Beer_4_full3  Beer_1_full1  Beer_1_full3  Beer_2_full1  Beer_2_full2  Beer_2_full3  Beer_3_full1  Beer_3_full2  Beer_3_full3  \n"
     ]
    }
   ],
   "source": [
    "fp, xseto = rt_correct(xset, method, peakml_params, mzmatch_outputs, n_slaves, True)"
   ]
  },
  {
   "cell_type": "markdown",
   "metadata": {},
   "source": [
    "#### get java heapsize"
   ]
  },
  {
   "cell_type": "code",
   "execution_count": 19,
   "metadata": {
    "collapsed": false
   },
   "outputs": [
    {
     "name": "stdout",
     "output_type": "stream",
     "text": [
      "-Xmx8192m\n",
      "8192\n"
     ]
    }
   ],
   "source": [
    "xmx = getString('PIMP_JAVA_PARAMETERS', '')\n",
    "print xmx\n",
    "\n",
    "found = re.findall(r'\\d+', xmx)\n",
    "heapsize = int(found[0])\n",
    "print heapsize"
   ]
  },
  {
   "cell_type": "markdown",
   "metadata": {},
   "source": [
    "#### initialize mzmatch"
   ]
  },
  {
   "cell_type": "code",
   "execution_count": 20,
   "metadata": {
    "collapsed": false
   },
   "outputs": [
    {
     "name": "stdout",
     "output_type": "stream",
     "text": [
      "2016-09-14 11:13:28 9:INFO:PeakML.Isotope.plotSamples:OS type: x86_64-apple-darwin15.5.0\n",
      "2016-09-14 11:13:28 9:INFO:PeakML.Isotope.plotSamples:Java parameters are: -Xmx8192m\n",
      "2016-09-14 11:13:28 9:INFO:PeakML.Isotope.plotSamples:Using jar file /Users/joewandy/git/pimp/packrat/lib/x86_64-apple-darwin15.5.0/3.3.1/mzmatch.R/java/mzmatch-2.1-with-dependencies.jar\n",
      "2016-09-14 11:13:28 9:INFO:PeakML.Isotope.plotSamples:Using SWT file /Users/joewandy/git/pimp/packrat/lib/x86_64-apple-darwin15.5.0/3.3.1/mzmatch.R/java/swt-4.5-cocoa-macosx-x86_64.jar\n"
     ]
    },
    {
     "data": {
      "text/plain": [
       "<BoolVector - Python:0x115407320 / R:0x7fff40f73ff8>\n",
       "[       0]"
      ]
     },
     "execution_count": 20,
     "metadata": {},
     "output_type": "execute_result"
    }
   ],
   "source": [
    "# I think this should be called only once??\n",
    "args = {\n",
    "    'memorysize' : heapsize,\n",
    "    'version.1'  : False\n",
    "}\n",
    "mzmatch_init = robjects.r['mzmatch.init']\n",
    "mzmatch_init(**args)"
   ]
  },
  {
   "cell_type": "code",
   "execution_count": 21,
   "metadata": {
    "collapsed": true
   },
   "outputs": [],
   "source": [
    "write_peakml = robjects.r['PeakML.xcms.write.SingleInstance']"
   ]
  },
  {
   "cell_type": "code",
   "execution_count": 22,
   "metadata": {
    "collapsed": false
   },
   "outputs": [],
   "source": [
    "polarity_folder = get_formatted_value(mzmatch_outputs, 'polarity.folder', analysis_id=analysis.id, subst='pos')"
   ]
  },
  {
   "cell_type": "code",
   "execution_count": 23,
   "metadata": {
    "collapsed": false
   },
   "outputs": [],
   "source": [
    "ionisation = get_value(peakml_params, 'ionisation')\n",
    "add_scans = get_value(peakml_params, 'addscans')\n",
    "write_rejected = get_value(peakml_params, 'writeRejected')\n",
    "apodisation_filter = get_value(peakml_params, 'ApodisationFilter')\n",
    "ppm = get_value(peakml_params, 'ppm') # not set inside peakml_params ..?\n",
    "if ppm == 0:\n",
    "    ppm = 5"
   ]
  },
  {
   "cell_type": "code",
   "execution_count": 24,
   "metadata": {
    "collapsed": false
   },
   "outputs": [],
   "source": [
    "peakml_files = []\n",
    "regex = re.compile(re.escape('mzxml'), re.IGNORECASE)\n",
    "for single_fp in fp:\n",
    "    replaced = regex.sub('peakml', single_fp)\n",
    "    outfile = os.path.join(polarity_folder, os.path.basename(replaced))\n",
    "    peakml_files.append(outfile)"
   ]
  },
  {
   "cell_type": "code",
   "execution_count": 25,
   "metadata": {
    "collapsed": false
   },
   "outputs": [
    {
     "name": "stdout",
     "output_type": "stream",
     "text": [
      "['analysis_9/pos/Beer_4_full1.peakml', 'analysis_9/pos/Beer_4_full2.peakml', 'analysis_9/pos/Beer_4_full3.peakml', 'analysis_9/pos/Beer_1_full1.peakml', 'analysis_9/pos/Beer_1_full2.peakml', 'analysis_9/pos/Beer_1_full3.peakml', 'analysis_9/pos/Beer_2_full1.peakml', 'analysis_9/pos/Beer_2_full2.peakml', 'analysis_9/pos/Beer_2_full3.peakml', 'analysis_9/pos/Beer_3_full1.peakml', 'analysis_9/pos/Beer_3_full2.peakml', 'analysis_9/pos/Beer_3_full3.peakml']\n"
     ]
    }
   ],
   "source": [
    "print peakml_files"
   ]
  },
  {
   "cell_type": "code",
   "execution_count": 26,
   "metadata": {
    "collapsed": false
   },
   "outputs": [],
   "source": [
    "directory = os.path.dirname(peakml_files[0])\n",
    "if not os.path.exists(directory):\n",
    "    os.makedirs(directory)"
   ]
  },
  {
   "cell_type": "code",
   "execution_count": 27,
   "metadata": {
    "collapsed": false
   },
   "outputs": [
    {
     "name": "stdout",
     "output_type": "stream",
     "text": [
      "Now creating analysis_9/pos/Beer_4_full1.peakml\n",
      "2016-09-14 11:13:28 9:INFO:PeakML.xcms.write.SingleInstance:positive\n",
      "2016-09-14 11:13:29 9:INFO:PeakML.xcms.write.SingleInstance:retrieving raw data\n",
      "2016-09-14 11:13:29 9:INFO:PeakML.xcms.write.SingleInstance:- /Users/joewandy/git/pimp/django_projects/pimp_data/projects/9/samples/POS/Beer_1_full1.mzXML\n",
      "2016-09-14 11:13:51 9:INFO::11539 peaks exported.\n",
      "Now creating analysis_9/pos/Beer_4_full2.peakml\n",
      "2016-09-14 11:13:51 9:INFO:PeakML.xcms.write.SingleInstance:positive\n",
      "2016-09-14 11:13:51 9:INFO:PeakML.xcms.write.SingleInstance:retrieving raw data\n",
      "2016-09-14 11:13:51 9:INFO:PeakML.xcms.write.SingleInstance:- /Users/joewandy/git/pimp/django_projects/pimp_data/projects/9/samples/POS/Beer_1_full2.mzXML\n",
      "2016-09-14 11:14:17 9:INFO::11471 peaks exported.\n",
      "Now creating analysis_9/pos/Beer_4_full3.peakml\n",
      "2016-09-14 11:14:18 9:INFO:PeakML.xcms.write.SingleInstance:positive\n",
      "2016-09-14 11:14:18 9:INFO:PeakML.xcms.write.SingleInstance:retrieving raw data\n",
      "2016-09-14 11:14:18 9:INFO:PeakML.xcms.write.SingleInstance:- /Users/joewandy/git/pimp/django_projects/pimp_data/projects/9/samples/POS/Beer_1_full3.mzXML\n",
      "2016-09-14 11:14:40 9:INFO::11522 peaks exported.\n",
      "Now creating analysis_9/pos/Beer_1_full1.peakml\n",
      "2016-09-14 11:14:41 9:INFO:PeakML.xcms.write.SingleInstance:positive\n",
      "2016-09-14 11:14:41 9:INFO:PeakML.xcms.write.SingleInstance:retrieving raw data\n",
      "2016-09-14 11:14:41 9:INFO:PeakML.xcms.write.SingleInstance:- /Users/joewandy/git/pimp/django_projects/pimp_data/projects/9/samples/POS/Beer_2_full1.mzXML\n",
      "2016-09-14 11:15:02 9:INFO::11382 peaks exported.\n",
      "Now creating analysis_9/pos/Beer_1_full2.peakml\n",
      "2016-09-14 11:15:03 9:INFO:PeakML.xcms.write.SingleInstance:positive\n",
      "2016-09-14 11:15:03 9:INFO:PeakML.xcms.write.SingleInstance:retrieving raw data\n",
      "2016-09-14 11:15:03 9:INFO:PeakML.xcms.write.SingleInstance:- /Users/joewandy/git/pimp/django_projects/pimp_data/projects/9/samples/POS/Beer_2_full2.mzXML\n",
      "2016-09-14 11:15:24 9:INFO::12014 peaks exported.\n",
      "Now creating analysis_9/pos/Beer_1_full3.peakml\n",
      "2016-09-14 11:15:25 9:INFO:PeakML.xcms.write.SingleInstance:positive\n",
      "2016-09-14 11:15:25 9:INFO:PeakML.xcms.write.SingleInstance:retrieving raw data\n",
      "2016-09-14 11:15:25 9:INFO:PeakML.xcms.write.SingleInstance:- /Users/joewandy/git/pimp/django_projects/pimp_data/projects/9/samples/POS/Beer_2_full3.mzXML\n",
      "2016-09-14 11:15:49 9:INFO::12288 peaks exported.\n",
      "Now creating analysis_9/pos/Beer_2_full1.peakml\n",
      "2016-09-14 11:15:50 9:INFO:PeakML.xcms.write.SingleInstance:positive\n",
      "2016-09-14 11:15:50 9:INFO:PeakML.xcms.write.SingleInstance:retrieving raw data\n",
      "2016-09-14 11:15:50 9:INFO:PeakML.xcms.write.SingleInstance:- /Users/joewandy/git/pimp/django_projects/pimp_data/projects/9/samples/POS/Beer_3_full1.mzXML\n",
      "2016-09-14 11:16:13 9:INFO::12153 peaks exported.\n",
      "Now creating analysis_9/pos/Beer_2_full2.peakml\n",
      "2016-09-14 11:16:14 9:INFO:PeakML.xcms.write.SingleInstance:positive\n",
      "2016-09-14 11:16:14 9:INFO:PeakML.xcms.write.SingleInstance:retrieving raw data\n",
      "2016-09-14 11:16:14 9:INFO:PeakML.xcms.write.SingleInstance:- /Users/joewandy/git/pimp/django_projects/pimp_data/projects/9/samples/POS/Beer_3_full2.mzXML\n",
      "2016-09-14 11:16:38 9:INFO::12390 peaks exported.\n",
      "Now creating analysis_9/pos/Beer_2_full3.peakml\n",
      "2016-09-14 11:16:38 9:INFO:PeakML.xcms.write.SingleInstance:positive\n",
      "2016-09-14 11:16:38 9:INFO:PeakML.xcms.write.SingleInstance:retrieving raw data\n",
      "2016-09-14 11:16:38 9:INFO:PeakML.xcms.write.SingleInstance:- /Users/joewandy/git/pimp/django_projects/pimp_data/projects/9/samples/POS/Beer_3_full3.mzXML\n",
      "2016-09-14 11:17:02 9:INFO::11874 peaks exported.\n",
      "Now creating analysis_9/pos/Beer_3_full1.peakml\n",
      "2016-09-14 11:17:02 9:INFO:PeakML.xcms.write.SingleInstance:positive\n",
      "2016-09-14 11:17:02 9:INFO:PeakML.xcms.write.SingleInstance:retrieving raw data\n",
      "2016-09-14 11:17:02 9:INFO:PeakML.xcms.write.SingleInstance:- /Users/joewandy/git/pimp/django_projects/pimp_data/projects/9/samples/POS/Beer_4_full1.mzXML\n",
      "2016-09-14 11:17:25 9:INFO::11896 peaks exported.\n",
      "Now creating analysis_9/pos/Beer_3_full2.peakml\n",
      "2016-09-14 11:17:26 9:INFO:PeakML.xcms.write.SingleInstance:positive\n",
      "2016-09-14 11:17:26 9:INFO:PeakML.xcms.write.SingleInstance:retrieving raw data\n",
      "2016-09-14 11:17:26 9:INFO:PeakML.xcms.write.SingleInstance:- /Users/joewandy/git/pimp/django_projects/pimp_data/projects/9/samples/POS/Beer_4_full2.mzXML\n",
      "2016-09-14 11:17:49 9:INFO::11729 peaks exported.\n",
      "Now creating analysis_9/pos/Beer_3_full3.peakml\n",
      "2016-09-14 11:17:49 9:INFO:PeakML.xcms.write.SingleInstance:positive\n",
      "2016-09-14 11:17:50 9:INFO:PeakML.xcms.write.SingleInstance:retrieving raw data\n",
      "2016-09-14 11:17:50 9:INFO:PeakML.xcms.write.SingleInstance:- /Users/joewandy/git/pimp/django_projects/pimp_data/projects/9/samples/POS/Beer_4_full3.mzXML\n",
      "2016-09-14 11:18:09 9:INFO::10883 peaks exported.\n"
     ]
    }
   ],
   "source": [
    "for i in range(len(peakml_files)):\n",
    "    print 'Now creating %s' % peakml_files[i]\n",
    "    write_peakml(xseto[i], outputfile=peakml_files[i], ionisation=ionisation, \n",
    "                 addscans=add_scans, writeRejected=write_rejected, \n",
    "                 ApodisationFilter=apodisation_filter, ppm=ppm)"
   ]
  },
  {
   "cell_type": "markdown",
   "metadata": {
    "collapsed": true
   },
   "source": [
    "## Combine"
   ]
  },
  {
   "cell_type": "markdown",
   "metadata": {},
   "source": [
    "Combine files by group, RSD filter if required (Not convinced we should be using this filter) and combine group files"
   ]
  },
  {
   "cell_type": "code",
   "execution_count": 140,
   "metadata": {
    "collapsed": false
   },
   "outputs": [],
   "source": [
    "combined_dir = os.path.join(directory, 'combined')"
   ]
  },
  {
   "cell_type": "code",
   "execution_count": 141,
   "metadata": {
    "collapsed": true
   },
   "outputs": [],
   "source": [
    "if not os.path.exists(combined_dir):\n",
    "    os.makedirs(combined_dir)"
   ]
  },
  {
   "cell_type": "code",
   "execution_count": 142,
   "metadata": {
    "collapsed": false
   },
   "outputs": [],
   "source": [
    "factors = pipeline.get_groups()"
   ]
  },
  {
   "cell_type": "code",
   "execution_count": 143,
   "metadata": {
    "collapsed": false
   },
   "outputs": [
    {
     "name": "stdout",
     "output_type": "stream",
     "text": [
      "[beer_smell with 2 levels, beer_colour with 2 levels, beer_taste with 3 levels]\n"
     ]
    }
   ],
   "source": [
    "print factors"
   ]
  },
  {
   "cell_type": "code",
   "execution_count": 144,
   "metadata": {
    "collapsed": false,
    "scrolled": true
   },
   "outputs": [
    {
     "name": "stdout",
     "output_type": "stream",
     "text": [
      "beer_smell\n",
      " - smell_good ['Beer_1_full1', 'Beer_1_full2', 'Beer_1_full3', 'Beer_2_full1', 'Beer_2_full2', 'Beer_2_full3', 'Beer_3_full1', 'Beer_3_full2', 'Beer_3_full3']\n",
      " - smell_bad ['Beer_4_full1', 'Beer_4_full2', 'Beer_4_full3']\n",
      "beer_colour\n",
      " - colour_dark ['Beer_1_full1', 'Beer_1_full2', 'Beer_1_full3', 'Beer_2_full1', 'Beer_2_full2', 'Beer_2_full3']\n",
      " - colour_light ['Beer_3_full1', 'Beer_3_full2', 'Beer_3_full3', 'Beer_4_full1', 'Beer_4_full2', 'Beer_4_full3']\n",
      "beer_taste\n",
      " - taste_delicious ['Beer_1_full1', 'Beer_1_full2', 'Beer_1_full3', 'Beer_2_full1', 'Beer_2_full2', 'Beer_2_full3']\n",
      " - taste_okay ['Beer_3_full1', 'Beer_3_full2', 'Beer_3_full3']\n",
      " - taste_awful ['Beer_4_full1', 'Beer_4_full2', 'Beer_4_full3']\n"
     ]
    }
   ],
   "source": [
    "dims = []\n",
    "for f in factors:\n",
    "    print f.label\n",
    "    for lev in f.levels:\n",
    "        print ' -', lev, f.level_files[lev]\n",
    "    dims.append(len(f.levels))"
   ]
  },
  {
   "cell_type": "code",
   "execution_count": 145,
   "metadata": {
    "collapsed": false
   },
   "outputs": [],
   "source": [
    "all_pos_files = pipeline.get_short_names('positive')"
   ]
  },
  {
   "cell_type": "code",
   "execution_count": 146,
   "metadata": {
    "collapsed": false
   },
   "outputs": [
    {
     "name": "stdout",
     "output_type": "stream",
     "text": [
      "(2, 2, 3)\n"
     ]
    }
   ],
   "source": [
    "mat = np.empty(dims, dtype=object)\n",
    "print mat.shape"
   ]
  },
  {
   "cell_type": "code",
   "execution_count": 147,
   "metadata": {
    "collapsed": false
   },
   "outputs": [],
   "source": [
    "def populate_tree(parent, factors):\n",
    "    depth = parent.depth + 1\n",
    "    if depth > len(factors)-1:\n",
    "        return\n",
    "    factor = factors[depth]\n",
    "    nodes = []\n",
    "    for level in factor.levels:\n",
    "        node = Tree(factor, level, depth, parent)\n",
    "        populate_tree(node, factors)\n",
    "        \n",
    "parent = Tree(None, 'root', -1, None)\n",
    "parent.level_files = set(pipeline.get_short_names('positive'))\n",
    "populate_tree(parent, factors)"
   ]
  },
  {
   "cell_type": "code",
   "execution_count": 148,
   "metadata": {
    "collapsed": false
   },
   "outputs": [
    {
     "name": "stdout",
     "output_type": "stream",
     "text": [
      "-1 None root : set(['Beer_3_full1', 'Beer_1_full2', 'Beer_1_full3', 'Beer_3_full2', 'Beer_1_full1', 'Beer_3_full3', 'Beer_4_full3', 'Beer_4_full2', 'Beer_4_full1', 'Beer_2_full1', 'Beer_2_full3', 'Beer_2_full2']) at []\n",
      "0 beer_smell with 2 levels smell_good : set(['Beer_2_full2', 'Beer_1_full3', 'Beer_1_full2', 'Beer_3_full1', 'Beer_3_full2', 'Beer_3_full3', 'Beer_2_full1', 'Beer_2_full3', 'Beer_1_full1']) at [0]\n",
      "\t1 beer_colour with 2 levels colour_dark : set(['Beer_1_full2', 'Beer_1_full3', 'Beer_1_full1', 'Beer_2_full1', 'Beer_2_full3', 'Beer_2_full2']) at [0, 0]\n",
      "\t\t2 beer_taste with 3 levels taste_delicious : set(['Beer_1_full2', 'Beer_1_full3', 'Beer_1_full1', 'Beer_2_full1', 'Beer_2_full3', 'Beer_2_full2']) at [0, 0, 0]\n",
      "\t\t2 beer_taste with 3 levels taste_okay : set([]) at [0, 0, 1]\n",
      "\t\t2 beer_taste with 3 levels taste_awful : set([]) at [0, 0, 2]\n",
      "\t1 beer_colour with 2 levels colour_light : set(['Beer_3_full1', 'Beer_3_full2', 'Beer_3_full3']) at [0, 1]\n",
      "\t\t2 beer_taste with 3 levels taste_delicious : set([]) at [0, 1, 0]\n",
      "\t\t2 beer_taste with 3 levels taste_okay : set(['Beer_3_full1', 'Beer_3_full2', 'Beer_3_full3']) at [0, 1, 1]\n",
      "\t\t2 beer_taste with 3 levels taste_awful : set([]) at [0, 1, 2]\n",
      "0 beer_smell with 2 levels smell_bad : set(['Beer_4_full3', 'Beer_4_full2', 'Beer_4_full1']) at [1]\n",
      "\t1 beer_colour with 2 levels colour_dark : set([]) at [1, 0]\n",
      "\t\t2 beer_taste with 3 levels taste_delicious : set([]) at [1, 0, 0]\n",
      "\t\t2 beer_taste with 3 levels taste_okay : set([]) at [1, 0, 1]\n",
      "\t\t2 beer_taste with 3 levels taste_awful : set([]) at [1, 0, 2]\n",
      "\t1 beer_colour with 2 levels colour_light : set(['Beer_4_full3', 'Beer_4_full2', 'Beer_4_full1']) at [1, 1]\n",
      "\t\t2 beer_taste with 3 levels taste_delicious : set([]) at [1, 1, 0]\n",
      "\t\t2 beer_taste with 3 levels taste_okay : set([]) at [1, 1, 1]\n",
      "\t\t2 beer_taste with 3 levels taste_awful : set(['Beer_4_full3', 'Beer_4_full2', 'Beer_4_full1']) at [1, 1, 2]\n",
      "\n"
     ]
    }
   ],
   "source": [
    "def print_tree(node, mat, coord):\n",
    "    if node.level_idx is not None:\n",
    "        coord.append(node.level_idx)\n",
    "    output = ''.join(['\\t' for i in range(node.depth)])\n",
    "    output += '%d %s %s : %s at %s\\n' % (node.depth, node.factor, node.level_label, \n",
    "                                         node.level_files, coord)\n",
    "    mat[tuple(coord)] = node.level_files # coord must be a tuple\n",
    "    for child in node.children:\n",
    "        new_coord = list(coord) # copy\n",
    "        output += print_tree(child, mat, new_coord)\n",
    "    return output\n",
    "\n",
    "output = print_tree(parent, mat, [])\n",
    "print output"
   ]
  },
  {
   "cell_type": "code",
   "execution_count": 149,
   "metadata": {
    "collapsed": false
   },
   "outputs": [
    {
     "name": "stdout",
     "output_type": "stream",
     "text": [
      "[[[ set(['Beer_1_full2', 'Beer_1_full3', 'Beer_1_full1', 'Beer_2_full1', 'Beer_2_full3', 'Beer_2_full2'])\n",
      "   set([]) set([])]\n",
      "  [set([]) set(['Beer_3_full1', 'Beer_3_full2', 'Beer_3_full3']) set([])]]\n",
      "\n",
      " [[set([]) set([]) set([])]\n",
      "  [set([]) set([]) set(['Beer_4_full3', 'Beer_4_full2', 'Beer_4_full1'])]]]\n"
     ]
    }
   ],
   "source": [
    "print mat"
   ]
  },
  {
   "cell_type": "code",
   "execution_count": 171,
   "metadata": {
    "collapsed": true
   },
   "outputs": [],
   "source": [
    "def index_to_string(factors, index):\n",
    "    assert len(factors) == len(index)\n",
    "    output = []\n",
    "    for d in range(len(factors)):\n",
    "        f = factors[d]\n",
    "        idx = index[d]\n",
    "        output.append(f.levels[idx])\n",
    "    return ','.join(output)"
   ]
  },
  {
   "cell_type": "code",
   "execution_count": 182,
   "metadata": {
    "collapsed": false
   },
   "outputs": [],
   "source": [
    "def write_combinations(factors, mat, out_file):\n",
    "    rows = []\n",
    "    with open(out_file, 'w') as f:    \n",
    "        i = 0\n",
    "        for index, files in np.ndenumerate(mat):\n",
    "\n",
    "            combi = 'combi_%s' % i\n",
    "            row = (combi, index, index_to_string(factors, index), list(files))\n",
    "            rows.append(row)\n",
    "            \n",
    "            s = '%s\\t%s\\t%s\\t%s\\n' % row\n",
    "            f.write(s)\n",
    "            i += 1\n",
    "    return rows"
   ]
  },
  {
   "cell_type": "code",
   "execution_count": 183,
   "metadata": {
    "collapsed": false
   },
   "outputs": [],
   "source": [
    "out_file = os.path.join(combined_dir, 'combined.tsv')\n",
    "rows = write_combinations(factors, mat, out_file)"
   ]
  },
  {
   "cell_type": "code",
   "execution_count": 190,
   "metadata": {
    "collapsed": false
   },
   "outputs": [
    {
     "name": "stdout",
     "output_type": "stream",
     "text": [
      "('combi_0', (0, 0, 0), 'smell_good,colour_dark,taste_delicious', ['Beer_1_full2', 'Beer_1_full3', 'Beer_1_full1', 'Beer_2_full1', 'Beer_2_full3', 'Beer_2_full2'])\n",
      "/Users/joewandy/git/pimp/django_projects/pimp_data/projects/9/analysis_9/pos/Beer_1_full2.peakml ---> analysis_9/pos/combined/combi_0\n",
      "/Users/joewandy/git/pimp/django_projects/pimp_data/projects/9/analysis_9/pos/Beer_1_full3.peakml ---> analysis_9/pos/combined/combi_0\n",
      "/Users/joewandy/git/pimp/django_projects/pimp_data/projects/9/analysis_9/pos/Beer_1_full1.peakml ---> analysis_9/pos/combined/combi_0\n",
      "/Users/joewandy/git/pimp/django_projects/pimp_data/projects/9/analysis_9/pos/Beer_2_full1.peakml ---> analysis_9/pos/combined/combi_0\n",
      "/Users/joewandy/git/pimp/django_projects/pimp_data/projects/9/analysis_9/pos/Beer_2_full3.peakml ---> analysis_9/pos/combined/combi_0\n",
      "/Users/joewandy/git/pimp/django_projects/pimp_data/projects/9/analysis_9/pos/Beer_2_full2.peakml ---> analysis_9/pos/combined/combi_0\n",
      "('combi_1', (0, 0, 1), 'smell_good,colour_dark,taste_okay', [])\n",
      "('combi_2', (0, 0, 2), 'smell_good,colour_dark,taste_awful', [])\n",
      "('combi_3', (0, 1, 0), 'smell_good,colour_light,taste_delicious', [])\n",
      "('combi_4', (0, 1, 1), 'smell_good,colour_light,taste_okay', ['Beer_3_full1', 'Beer_3_full2', 'Beer_3_full3'])\n",
      "/Users/joewandy/git/pimp/django_projects/pimp_data/projects/9/analysis_9/pos/Beer_3_full1.peakml ---> analysis_9/pos/combined/combi_4\n",
      "/Users/joewandy/git/pimp/django_projects/pimp_data/projects/9/analysis_9/pos/Beer_3_full2.peakml ---> analysis_9/pos/combined/combi_4\n",
      "/Users/joewandy/git/pimp/django_projects/pimp_data/projects/9/analysis_9/pos/Beer_3_full3.peakml ---> analysis_9/pos/combined/combi_4\n",
      "('combi_5', (0, 1, 2), 'smell_good,colour_light,taste_awful', [])\n",
      "('combi_6', (1, 0, 0), 'smell_bad,colour_dark,taste_delicious', [])\n",
      "('combi_7', (1, 0, 1), 'smell_bad,colour_dark,taste_okay', [])\n",
      "('combi_8', (1, 0, 2), 'smell_bad,colour_dark,taste_awful', [])\n",
      "('combi_9', (1, 1, 0), 'smell_bad,colour_light,taste_delicious', [])\n",
      "('combi_10', (1, 1, 1), 'smell_bad,colour_light,taste_okay', [])\n",
      "('combi_11', (1, 1, 2), 'smell_bad,colour_light,taste_awful', ['Beer_4_full3', 'Beer_4_full2', 'Beer_4_full1'])\n",
      "/Users/joewandy/git/pimp/django_projects/pimp_data/projects/9/analysis_9/pos/Beer_4_full3.peakml ---> analysis_9/pos/combined/combi_11\n",
      "/Users/joewandy/git/pimp/django_projects/pimp_data/projects/9/analysis_9/pos/Beer_4_full2.peakml ---> analysis_9/pos/combined/combi_11\n",
      "/Users/joewandy/git/pimp/django_projects/pimp_data/projects/9/analysis_9/pos/Beer_4_full1.peakml ---> analysis_9/pos/combined/combi_11\n"
     ]
    }
   ],
   "source": [
    "for row in rows:\n",
    "    \n",
    "    print row\n",
    "    combi_label, coord, description, files = row\n",
    "    \n",
    "    combi_dir = os.path.join(combined_dir, combi_label)\n",
    "    if not os.path.exists(combi_dir):\n",
    "        os.makedirs(combi_dir)\n",
    "    \n",
    "    # copy files\n",
    "    for f_name in files:\n",
    "        abs_dir = os.path.abspath(directory)\n",
    "        source = os.path.join(abs_dir, f_name + '.peakml')\n",
    "        target = combi_dir\n",
    "        copyfile()\n",
    "        print f_path, '--->', target\n",
    "    "
   ]
  },
  {
   "cell_type": "code",
   "execution_count": null,
   "metadata": {
    "collapsed": true
   },
   "outputs": [],
   "source": []
  }
 ],
 "metadata": {
  "kernelspec": {
   "display_name": "Django Shell-Plus",
   "language": "python",
   "name": "django_extensions"
  },
  "language_info": {
   "codemirror_mode": {
    "name": "ipython",
    "version": 2
   },
   "file_extension": ".py",
   "mimetype": "text/x-python",
   "name": "python",
   "nbconvert_exporter": "python",
   "pygments_lexer": "ipython2",
   "version": "2.7.10"
  }
 },
 "nbformat": 4,
 "nbformat_minor": 1
}
