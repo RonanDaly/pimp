{
 "cells": [
  {
   "cell_type": "markdown",
   "metadata": {},
   "source": [
    "# Experimental new pipeline"
   ]
  },
  {
   "cell_type": "code",
   "execution_count": 1,
   "metadata": {
    "collapsed": false
   },
   "outputs": [],
   "source": [
    "%load_ext autoreload\n",
    "%autoreload 2"
   ]
  },
  {
   "cell_type": "code",
   "execution_count": 2,
   "metadata": {
    "collapsed": true
   },
   "outputs": [],
   "source": [
    "import rpy2.robjects as robjects\n",
    "import multiprocessing\n",
    "import re\n",
    "import os\n",
    "\n",
    "import numpy as np\n",
    "import shutil\n",
    "\n",
    "from experiments.pipelines.pipeline_rpy2 import Rpy2Pipeline, Tree\n",
    "from pimp.settings import getString"
   ]
  },
  {
   "cell_type": "markdown",
   "metadata": {},
   "source": [
    "## Load analysis and project"
   ]
  },
  {
   "cell_type": "code",
   "execution_count": 3,
   "metadata": {
    "collapsed": false,
    "scrolled": false
   },
   "outputs": [
    {
     "name": "stderr",
     "output_type": "stream",
     "text": [
      "DEBUG 2016-09-16 12:15:01,970 utils.py:91 | (0.000) SET SQL_AUTO_IS_NULL = 0; args=None\n",
      "DEBUG 2016-09-16 12:15:01,980 utils.py:91 | (0.009) SELECT `experiments_analysis`.`id`, `experiments_analysis`.`created`, `experiments_analysis`.`submited`, `experiments_analysis`.`owner`, `experiments_analysis`.`experiment_id`, `experiments_analysis`.`params_id`, `experiments_analysis`.`status` FROM `experiments_analysis` WHERE `experiments_analysis`.`id` = 9 LIMIT 21; args=(9,)\n"
     ]
    }
   ],
   "source": [
    "analysis = Analysis.objects.get_or_create(id=9)[0]"
   ]
  },
  {
   "cell_type": "code",
   "execution_count": 4,
   "metadata": {
    "collapsed": false,
    "scrolled": true
   },
   "outputs": [
    {
     "name": "stderr",
     "output_type": "stream",
     "text": [
      "DEBUG 2016-09-16 12:15:02,530 utils.py:91 | (0.013) SELECT `projects_project`.`id`, `projects_project`.`title`, `projects_project`.`user_owner_id`, `projects_project`.`description`, `projects_project`.`created`, `projects_project`.`modified` FROM `projects_project` WHERE `projects_project`.`id` = 9 LIMIT 21; args=(9,)\n"
     ]
    }
   ],
   "source": [
    "project = Project.objects.get_or_create(id=9)[0]"
   ]
  },
  {
   "cell_type": "code",
   "execution_count": 5,
   "metadata": {
    "collapsed": false,
    "scrolled": true
   },
   "outputs": [
    {
     "name": "stdout",
     "output_type": "stream",
     "text": [
      "******************************************\n",
      "Setup rpy2 connection\n",
      "******************************************\n",
      "[1] \"Initialising PuMP logging\"\n",
      "[1] \"PuMP log level set to DEBUG\"\n",
      "2016-09-16 12:15:06 ERROR:pump.misc.initialisePuMPLogging:Logging at ERROR level\n",
      "2016-09-16 12:15:06 WARNING:pump.misc.initialisePuMPLogging:Logging at WARNING level\n",
      "2016-09-16 12:15:06 INFO:pump.misc.initialisePuMPLogging:Logging at INFO level\n",
      "2016-09-16 12:15:06 DEBUG:pump.misc.initialisePuMPLogging:Logging at DEBUG level\n",
      "2016-09-16 12:15:07 INFO:PeakML.Isotope.plotSamples:OS type: x86_64-apple-darwin15.5.0\n",
      "2016-09-16 12:15:07 INFO:PeakML.Isotope.plotSamples:Java parameters are: -Xmx512m\n",
      "2016-09-16 12:15:07 INFO:PeakML.Isotope.plotSamples:Using jar file /Users/joewandy/git/pimp/packrat/lib/x86_64-apple-darwin15.5.0/3.3.1/mzmatch.R/java/mzmatch-2.1-with-dependencies.jar\n",
      "2016-09-16 12:15:07 INFO:PeakML.Isotope.plotSamples:Using SWT file /Users/joewandy/git/pimp/packrat/lib/x86_64-apple-darwin15.5.0/3.3.1/mzmatch.R/java/swt-4.5-cocoa-macosx-x86_64.jar\n",
      "[1] \"Initialising PiMP logging\"\n",
      "[1] \"PiMP log level set to DEBUG\"\n",
      "2016-09-16 12:15:07 ERROR:Pimp.extra.initialisePiMPLogging:Logging at ERROR level\n",
      "2016-09-16 12:15:07 WARNING:Pimp.extra.initialisePiMPLogging:Logging at WARNING level\n",
      "2016-09-16 12:15:07 INFO:Pimp.extra.initialisePiMPLogging:Logging at INFO level\n",
      "2016-09-16 12:15:07 DEBUG:Pimp.extra.initialisePiMPLogging:Logging at DEBUG level\n"
     ]
    }
   ],
   "source": [
    "pipeline = Rpy2Pipeline(analysis, project, False)"
   ]
  },
  {
   "cell_type": "code",
   "execution_count": 6,
   "metadata": {
    "collapsed": false
   },
   "outputs": [
    {
     "name": "stderr",
     "output_type": "stream",
     "text": [
      "/Users/joewandy/git/pimp/venv/lib/python2.7/site-packages/rpy2/robjects/functions.py:106: UserWarning: Loading required package: RUnit\n",
      "\n",
      "  res = super(Function, self).__call__(*new_args, **new_kwargs)\n",
      "\n",
      "WARNING 2016-09-16 12:15:08,158 functions.py:106 | /Users/joewandy/git/pimp/venv/lib/python2.7/site-packages/rpy2/robjects/functions.py:106: UserWarning: Loading required package: RUnit\n",
      "\n",
      "  res = super(Function, self).__call__(*new_args, **new_kwargs)\n",
      "\n",
      "/Users/joewandy/git/pimp/venv/lib/python2.7/site-packages/rpy2/robjects/functions.py:106: UserWarning: Loading required package: DBI\n",
      "\n",
      "  res = super(Function, self).__call__(*new_args, **new_kwargs)\n",
      "\n",
      "WARNING 2016-09-16 12:15:08,186 functions.py:106 | /Users/joewandy/git/pimp/venv/lib/python2.7/site-packages/rpy2/robjects/functions.py:106: UserWarning: Loading required package: DBI\n",
      "\n",
      "  res = super(Function, self).__call__(*new_args, **new_kwargs)\n",
      "\n",
      "/Users/joewandy/git/pimp/venv/lib/python2.7/site-packages/rpy2/robjects/functions.py:106: UserWarning: Setting analysis directory to: analysis_9\n",
      "\n",
      "  res = super(Function, self).__call__(*new_args, **new_kwargs)\n",
      "\n"
     ]
    },
    {
     "name": "stdout",
     "output_type": "stream",
     "text": [
      "Setup called\n",
      "2016-09-16 12:15:08 INFO:Pimp.getPimpWd:Data dir: /Users/joewandy/git/pimp/django_projects/pimp_data/projects\n",
      "2016-09-16 12:15:08 INFO:Pimp.getPimpWd:Project dir: /Users/joewandy/git/pimp/django_projects/pimp_data/projects/9\n",
      "2016-09-16 12:15:08 INFO:Pimp.extra.setPiMPLoggerAnalysisID:Setting analysis ID in logger to 9\n",
      "2016-09-16 12:15:08 9:INFO:Pimp.extra.setPiMPLoggerAnalysisID:Analysis id set\n",
      "2016-09-16 12:15:08 9:INFO:Pimp.validateInput:Input validated correctly!\n",
      "2016-09-16 12:15:08 9:INFO:Pimp.extra.setPiMPLoggerAnalysisID:Setting analysis ID in logger to 9\n",
      "2016-09-16 12:15:08 9:INFO:Pimp.extra.setPiMPLoggerAnalysisID:Analysis id set\n",
      "2016-09-16 12:15:08 9:INFO:Pimp.getAnalysisParams:Setting params\n",
      "2016-09-16 12:15:08 9:DEBUG:Pimp.getAnalysisParams:Name: iqr Value: 0.5\n",
      "2016-09-16 12:15:08 9:DEBUG:Pimp.getAnalysisParams:Name: rsd Value: 0.5\n",
      "2016-09-16 12:15:08 9:DEBUG:Pimp.getAnalysisParams:Name: noise Value: 0.8\n",
      "2016-09-16 12:15:08 9:DEBUG:Pimp.getAnalysisParams:Name: ppm Value: 3\n",
      "2016-09-16 12:15:08 9:DEBUG:Pimp.getAnalysisParams:Name: mindetections Value: 3\n",
      "2016-09-16 12:15:08 9:DEBUG:Pimp.getAnalysisParams:Name: minintensity Value: 5000\n",
      "2016-09-16 12:15:08 9:DEBUG:Pimp.getAnalysisParams:Name: rtwindow Value: 0.05\n",
      "2016-09-16 12:15:08 9:DEBUG:Pimp.getAnalysisParams:Name: rt.alignment Value: NA\n",
      "2016-09-16 12:15:08 9:DEBUG:Pimp.getAnalysisParams:Name: noise Value: 0.8\n",
      "2016-09-16 12:15:08 9:DEBUG:Pimp.getAnalysisParams:Name: rtwindow Value: 0.05\n",
      "2016-09-16 12:15:08 9:INFO:Pimp.extra.setPiMPLoggerAnalysisID:Setting analysis ID in logger to 9\n",
      "2016-09-16 12:15:08 9:INFO:Pimp.extra.setPiMPLoggerAnalysisID:Analysis id set\n"
     ]
    },
    {
     "name": "stderr",
     "output_type": "stream",
     "text": [
      "WARNING 2016-09-16 12:15:08,461 functions.py:106 | /Users/joewandy/git/pimp/venv/lib/python2.7/site-packages/rpy2/robjects/functions.py:106: UserWarning: Setting analysis directory to: analysis_9\n",
      "\n",
      "  res = super(Function, self).__call__(*new_args, **new_kwargs)\n",
      "\n"
     ]
    },
    {
     "name": "stdout",
     "output_type": "stream",
     "text": [
      "2016-09-16 12:15:08 9:INFO:Pimp.createAnalysisDir:Analysis dir created at analysis_9\n"
     ]
    }
   ],
   "source": [
    "pipeline.setup()"
   ]
  },
  {
   "cell_type": "markdown",
   "metadata": {},
   "source": [
    "## Peak detection"
   ]
  },
  {
   "cell_type": "code",
   "execution_count": 7,
   "metadata": {
    "collapsed": false
   },
   "outputs": [],
   "source": [
    "def get_value(r_vect, key):\n",
    "    return r_vect[r_vect.names.index(key)]"
   ]
  },
  {
   "cell_type": "code",
   "execution_count": 8,
   "metadata": {
    "collapsed": true
   },
   "outputs": [],
   "source": [
    "def get_formatted_value(r_vect, key, analysis_id=None, subst=None):\n",
    "\n",
    "    str_vect = get_value(r_vect, key)\n",
    "    my_str = str_vect[0]\n",
    "    \n",
    "    # replace 'analysis' with 'analysis_%d'\n",
    "    if analysis_id is not None:\n",
    "        my_str = my_str.replace('analysis', 'analysis_%d' % analysis_id)\n",
    "    \n",
    "    # replace the 'polarity' bit\n",
    "    if subst is not None:\n",
    "        my_str = my_str % subst\n",
    "\n",
    "    return my_str"
   ]
  },
  {
   "cell_type": "code",
   "execution_count": 9,
   "metadata": {
    "collapsed": false
   },
   "outputs": [],
   "source": [
    "def peak_detection(files, xcms_params, n_slaves):\n",
    "\n",
    "    # collect the parameters\n",
    "    args = {\n",
    "        'files'           : files,\n",
    "        'method'          : get_value(xcms_params, 'method'),\n",
    "        'ppm'             : get_value(xcms_params, 'ppm'),\n",
    "        'peakwidth'       : get_value(xcms_params, 'peakwidth'),\n",
    "        'snthresh'        : get_value(xcms_params, 'snthresh'),\n",
    "        'prefilter'       : get_value(xcms_params, 'prefilter'),\n",
    "        'integrate'       : get_value(xcms_params, 'integrate'),\n",
    "        'mzdiff'          : get_value(xcms_params, 'mzdiff'),\n",
    "        'verbose.columns' : get_value(xcms_params, 'verbose.columns'),\n",
    "        'fitgauss'        : get_value(xcms_params, 'fitgauss'),\n",
    "        'nSlaves'         : n_slaves\n",
    "    }\n",
    "\n",
    "    # call centwave\n",
    "    xcms_set = robjects.r['xcmsSet']    \n",
    "    xset = xcms_set(**args)\n",
    "    return xset"
   ]
  },
  {
   "cell_type": "code",
   "execution_count": 10,
   "metadata": {
    "collapsed": false
   },
   "outputs": [
    {
     "name": "stdout",
     "output_type": "stream",
     "text": [
      " [1] \"samples/POS/Beer_4_full1.mzXML\" \"samples/POS/Beer_4_full2.mzXML\"\n",
      " [3] \"samples/POS/Beer_4_full3.mzXML\" \"samples/POS/Beer_1_full1.mzXML\"\n",
      " [5] \"samples/POS/Beer_1_full2.mzXML\" \"samples/POS/Beer_1_full3.mzXML\"\n",
      " [7] \"samples/POS/Beer_2_full1.mzXML\" \"samples/POS/Beer_2_full2.mzXML\"\n",
      " [9] \"samples/POS/Beer_2_full3.mzXML\" \"samples/POS/Beer_3_full1.mzXML\"\n",
      "[11] \"samples/POS/Beer_3_full2.mzXML\" \"samples/POS/Beer_3_full3.mzXML\"\n",
      " $method\n",
      "[1] \"centWave\"\n",
      "\n",
      "$ppm\n",
      "[1] 3\n",
      "\n",
      "$peakwidth\n",
      "[1]   5 100\n",
      "\n",
      "$snthresh\n",
      "[1] 2\n",
      "\n",
      "$prefilter\n",
      "[1]   2 500\n",
      "\n",
      "$integrate\n",
      "[1] 1\n",
      "\n",
      "$mzdiff\n",
      "[1] 0.001\n",
      "\n",
      "$verbose.columns\n",
      "[1] TRUE\n",
      "\n",
      "$fitgauss\n",
      "[1] FALSE\n",
      "\n",
      " 7\n"
     ]
    }
   ],
   "source": [
    "positive_files = get_value(pipeline.metadata.r_files, 'positive')\n",
    "xcms_params = get_value(pipeline.pimp_params, 'xcms.params')\n",
    "n_slaves = multiprocessing.cpu_count()-1\n",
    "\n",
    "print positive_files, xcms_params, n_slaves"
   ]
  },
  {
   "cell_type": "code",
   "execution_count": 11,
   "metadata": {
    "collapsed": false
   },
   "outputs": [
    {
     "name": "stderr",
     "output_type": "stream",
     "text": [
      "/Users/joewandy/git/pimp/venv/lib/python2.7/site-packages/rpy2/robjects/functions.py:106: UserWarning: \n",
      "Attaching package: ‘snow’\n",
      "\n",
      "\n",
      "  res = super(Function, self).__call__(*new_args, **new_kwargs)\n",
      "\n",
      "WARNING 2016-09-16 12:15:25,246 functions.py:106 | /Users/joewandy/git/pimp/venv/lib/python2.7/site-packages/rpy2/robjects/functions.py:106: UserWarning: \n",
      "Attaching package: ‘snow’\n",
      "\n",
      "\n",
      "  res = super(Function, self).__call__(*new_args, **new_kwargs)\n",
      "\n",
      "/Users/joewandy/git/pimp/venv/lib/python2.7/site-packages/rpy2/robjects/functions.py:106: UserWarning: The following objects are masked from ‘package:BiocGenerics’:\n",
      "\n",
      "    clusterApply, clusterApplyLB, clusterCall, clusterEvalQ,\n",
      "    clusterExport, clusterMap, clusterSplit, parApply, parCapply,\n",
      "    parLapply, parRapply, parSapply\n",
      "\n",
      "\n",
      "  res = super(Function, self).__call__(*new_args, **new_kwargs)\n",
      "\n",
      "WARNING 2016-09-16 12:15:25,248 functions.py:106 | /Users/joewandy/git/pimp/venv/lib/python2.7/site-packages/rpy2/robjects/functions.py:106: UserWarning: The following objects are masked from ‘package:BiocGenerics’:\n",
      "\n",
      "    clusterApply, clusterApplyLB, clusterCall, clusterEvalQ,\n",
      "    clusterExport, clusterMap, clusterSplit, parApply, parCapply,\n",
      "    parLapply, parRapply, parSapply\n",
      "\n",
      "\n",
      "  res = super(Function, self).__call__(*new_args, **new_kwargs)\n",
      "\n",
      "/Users/joewandy/git/pimp/venv/lib/python2.7/site-packages/rpy2/robjects/functions.py:106: UserWarning: The following objects are masked from ‘package:parallel’:\n",
      "\n",
      "    clusterApply, clusterApplyLB, clusterCall, clusterEvalQ,\n",
      "    clusterExport, clusterMap, clusterSplit, makeCluster, parApply,\n",
      "    parCapply, parLapply, parRapply, parSapply, splitIndices,\n",
      "    stopCluster\n",
      "\n",
      "\n",
      "  res = super(Function, self).__call__(*new_args, **new_kwargs)\n",
      "\n",
      "WARNING 2016-09-16 12:15:25,252 functions.py:106 | /Users/joewandy/git/pimp/venv/lib/python2.7/site-packages/rpy2/robjects/functions.py:106: UserWarning: The following objects are masked from ‘package:parallel’:\n",
      "\n",
      "    clusterApply, clusterApplyLB, clusterCall, clusterEvalQ,\n",
      "    clusterExport, clusterMap, clusterSplit, makeCluster, parApply,\n",
      "    parCapply, parLapply, parRapply, parSapply, splitIndices,\n",
      "    stopCluster\n",
      "\n",
      "\n",
      "  res = super(Function, self).__call__(*new_args, **new_kwargs)\n",
      "\n"
     ]
    },
    {
     "name": "stdout",
     "output_type": "stream",
     "text": [
      "Starting snow cluster with 7 local sockets.\n",
      "Detecting features in file # 1 : Beer_4_full1.mzXML \n",
      "Detecting features in file # 2 : Beer_4_full2.mzXML \n",
      "Detecting features in file # 3 : Beer_4_full3.mzXML \n",
      "Detecting features in file # 4 : Beer_1_full1.mzXML \n",
      "Detecting features in file # 5 : Beer_1_full2.mzXML \n",
      "Detecting features in file # 6 : Beer_1_full3.mzXML \n",
      "Detecting features in file # 7 : Beer_2_full1.mzXML \n",
      "Detecting features in file # 8 : Beer_2_full2.mzXML \n",
      "Detecting features in file # 9 : Beer_2_full3.mzXML \n",
      "Detecting features in file # 10 : Beer_3_full1.mzXML \n",
      "Detecting features in file # 11 : Beer_3_full2.mzXML \n",
      "Detecting features in file # 12 : Beer_3_full3.mzXML \n"
     ]
    }
   ],
   "source": [
    "xset_pos = peak_detection(positive_files, xcms_params, n_slaves)"
   ]
  },
  {
   "cell_type": "markdown",
   "metadata": {},
   "source": [
    "## Peak alignment"
   ]
  },
  {
   "cell_type": "code",
   "execution_count": 12,
   "metadata": {
    "collapsed": false
   },
   "outputs": [
    {
     "name": "stdout",
     "output_type": "stream",
     "text": [
      "obiwarp\n"
     ]
    }
   ],
   "source": [
    "mzmatch_params = get_value(pipeline.pimp_params, 'mzmatch.params')\n",
    "peakml_params = get_value(pipeline.pimp_params, 'peakml.params')\n",
    "mzmatch_outputs = get_value(pipeline.pimp_params, 'mzmatch.outputs')\n",
    "method = get_formatted_value(mzmatch_params, 'rt.alignment')\n",
    "print method"
   ]
  },
  {
   "cell_type": "code",
   "execution_count": 13,
   "metadata": {
    "collapsed": false
   },
   "outputs": [
    {
     "name": "stdout",
     "output_type": "stream",
     "text": [
      "$rsd\n",
      "[1] 0.5\n",
      "\n",
      "$iqr\n",
      "[1] 0.5\n",
      "\n",
      "$rt.alignment\n",
      "[1] \"obiwarp\"\n",
      "\n",
      "$noise\n",
      "[1] 0.8\n",
      "\n",
      "$ppm\n",
      "[1] 3\n",
      "\n",
      "$order\n",
      "[1] 3\n",
      "\n",
      "$maxrt\n",
      "[1] 120\n",
      "\n",
      "$rtwindow\n",
      "[1] 30\n",
      "\n",
      "$id.rtwindow\n",
      "[1] 0.05\n",
      "\n",
      "$combination\n",
      "[1] \"set\"\n",
      "\n",
      "$mindetections\n",
      "[1] 3\n",
      "\n",
      "$minintensity\n",
      "[1] 5000\n",
      "\n",
      "$adducts.positive\n",
      "[1] \"M+H,M+ACN+Na,M+Na,M+K,M+ACN+H\"\n",
      "\n",
      "$adducts.negative\n",
      "[1] \"M-H,M-ACN+Na,M-Na,M-K,M-ACN+H\"\n",
      "\n",
      "\n"
     ]
    }
   ],
   "source": [
    "print mzmatch_params"
   ]
  },
  {
   "cell_type": "code",
   "execution_count": 14,
   "metadata": {
    "collapsed": false
   },
   "outputs": [
    {
     "name": "stdout",
     "output_type": "stream",
     "text": [
      "$alignment.folder\n",
      "[1] \"analysis/%s/combined_rt.alignment\"\n",
      "\n",
      "$combined.folder\n",
      "[1] \"analysis/%s/combined\"\n",
      "\n",
      "$combined.rsd.filtered.folder\n",
      "[1] \"analysis/%s/combined_RSD_filtered\"\n",
      "\n",
      "$combined.rsd.rejected.folder\n",
      "[1] \"analysis/%s/combined_RSD_rejected\"\n",
      "\n",
      "$final.combined.peakml.file\n",
      "[1] \"analysis/%s/final_combined.peakml\"\n",
      "\n",
      "$final.combined.noise.filtered.file\n",
      "[1] \"analysis/%s/final_combined_nf.peakml\"\n",
      "\n",
      "$final.combined.simple.filtered.file\n",
      "[1] \"analysis/%s/final.combined_sf.peakml\"\n",
      "\n",
      "$final.combined.gapfilled.file\n",
      "[1] \"analysis/%s/final_combined_gapfilled.peakml\"\n",
      "\n",
      "$final.combined.related.file\n",
      "[1] \"analysis/%s/final_combined_related.peakml\"\n",
      "\n",
      "$final.combined.basepeaks.file\n",
      "[1] \"analysis/%s/final_combined_basepeaks.peakml\"\n",
      "\n",
      "$final.combined.related.id.file\n",
      "[1] \"analysis/%s/final_combined_related_identified.peakml\"\n",
      "\n",
      "$final.combined.related.stds.id.file\n",
      "[1] \"analysis/%s/final_combined_related_stds_identified.peakml\"\n",
      "\n",
      "$final.combined.basepeaks.id.file\n",
      "[1] \"analysis/%s/final_combined_basepeaks_identified.peakml\"\n",
      "\n",
      "$final.combined.related.id.txt\n",
      "[1] \"analysis/%s/mzmatch_output.txt\"\n",
      "\n",
      "$final.combined.related.stds.id.txt\n",
      "[1] \"analysis/%s/mzmatch_output_stds.txt\"\n",
      "\n",
      "$stds.xml.db\n",
      "[1] \"analysis/stds_db.xml\"\n",
      "\n",
      "$analysis.folder\n",
      "[1] \"analysis\"\n",
      "\n",
      "$polarity.folder\n",
      "[1] \"analysis/%s\"\n",
      "\n",
      "\n"
     ]
    }
   ],
   "source": [
    "print mzmatch_outputs"
   ]
  },
  {
   "cell_type": "code",
   "execution_count": 15,
   "metadata": {
    "collapsed": false
   },
   "outputs": [
    {
     "name": "stdout",
     "output_type": "stream",
     "text": [
      "obiwarp\n"
     ]
    }
   ],
   "source": [
    "method = get_value(mzmatch_params, 'rt.alignment')[0]\n",
    "print method"
   ]
  },
  {
   "cell_type": "code",
   "execution_count": 16,
   "metadata": {
    "collapsed": true
   },
   "outputs": [],
   "source": [
    "xset = xset_pos"
   ]
  },
  {
   "cell_type": "code",
   "execution_count": 17,
   "metadata": {
    "collapsed": true
   },
   "outputs": [],
   "source": [
    "def rt_correct(xset, method, peakml_params, mzmatch_outputs, n_slaves, verbose):\n",
    "    \n",
    "    if method == 'obiwarp':\n",
    "        retcor = robjects.r['retcor']\n",
    "        xset_aln = retcor(xset, method='obiwarp', profStep=0.01)        \n",
    "    elif method == 'loess':\n",
    "        retcor = robjects.r['retcor']\n",
    "        xset_aln = retcor(xset, method='loess', family=\"symmetric\")\n",
    "    else:\n",
    "        xset_aln = xset\n",
    "        \n",
    "    filepaths = robjects.r['filepaths']\n",
    "    fp = filepaths(xset_aln)\n",
    "\n",
    "    split = robjects.r['split']\n",
    "    xseto = split(xset_aln, fp)\n",
    "    return fp, xseto"
   ]
  },
  {
   "cell_type": "code",
   "execution_count": 18,
   "metadata": {
    "collapsed": false
   },
   "outputs": [
    {
     "name": "stdout",
     "output_type": "stream",
     "text": [
      "center sample:  Beer_1_full2 \n",
      "Processing: Beer_4_full1  Beer_4_full2  Beer_4_full3  Beer_1_full1  Beer_1_full3  Beer_2_full1  Beer_2_full2  Beer_2_full3  Beer_3_full1  Beer_3_full2  Beer_3_full3  \n"
     ]
    }
   ],
   "source": [
    "fp, xseto = rt_correct(xset, method, peakml_params, mzmatch_outputs, n_slaves, True)"
   ]
  },
  {
   "cell_type": "markdown",
   "metadata": {},
   "source": [
    "#### get java heapsize"
   ]
  },
  {
   "cell_type": "code",
   "execution_count": 19,
   "metadata": {
    "collapsed": false
   },
   "outputs": [
    {
     "name": "stdout",
     "output_type": "stream",
     "text": [
      "-Xmx8192m\n",
      "8192\n"
     ]
    }
   ],
   "source": [
    "xmx = getString('PIMP_JAVA_PARAMETERS', '')\n",
    "print xmx\n",
    "\n",
    "found = re.findall(r'\\d+', xmx)\n",
    "heapsize = int(found[0])\n",
    "print heapsize"
   ]
  },
  {
   "cell_type": "markdown",
   "metadata": {},
   "source": [
    "#### initialize mzmatch"
   ]
  },
  {
   "cell_type": "code",
   "execution_count": 20,
   "metadata": {
    "collapsed": false
   },
   "outputs": [
    {
     "name": "stdout",
     "output_type": "stream",
     "text": [
      "2016-09-16 12:25:39 9:INFO:PeakML.Isotope.plotSamples:OS type: x86_64-apple-darwin15.5.0\n",
      "2016-09-16 12:25:39 9:INFO:PeakML.Isotope.plotSamples:Java parameters are: -Xmx8192m\n",
      "2016-09-16 12:25:39 9:INFO:PeakML.Isotope.plotSamples:Using jar file /Users/joewandy/git/pimp/packrat/lib/x86_64-apple-darwin15.5.0/3.3.1/mzmatch.R/java/mzmatch-2.1-with-dependencies.jar\n",
      "2016-09-16 12:25:39 9:INFO:PeakML.Isotope.plotSamples:Using SWT file /Users/joewandy/git/pimp/packrat/lib/x86_64-apple-darwin15.5.0/3.3.1/mzmatch.R/java/swt-4.5-cocoa-macosx-x86_64.jar\n"
     ]
    },
    {
     "data": {
      "text/plain": [
       "<BoolVector - Python:0x129debe18 / R:0x7fb3c217a3f8>\n",
       "[       0]"
      ]
     },
     "execution_count": 20,
     "metadata": {},
     "output_type": "execute_result"
    }
   ],
   "source": [
    "# I think this should be called only once??\n",
    "args = {\n",
    "    'memorysize' : heapsize,\n",
    "    'version.1'  : False\n",
    "}\n",
    "mzmatch_init = robjects.r['mzmatch.init']\n",
    "mzmatch_init(**args)"
   ]
  },
  {
   "cell_type": "code",
   "execution_count": 21,
   "metadata": {
    "collapsed": true
   },
   "outputs": [],
   "source": [
    "write_peakml = robjects.r['PeakML.xcms.write.SingleInstance']"
   ]
  },
  {
   "cell_type": "code",
   "execution_count": 22,
   "metadata": {
    "collapsed": false
   },
   "outputs": [],
   "source": [
    "polarity_folder = get_formatted_value(mzmatch_outputs, 'polarity.folder', analysis_id=analysis.id, subst='pos')"
   ]
  },
  {
   "cell_type": "code",
   "execution_count": 23,
   "metadata": {
    "collapsed": false
   },
   "outputs": [],
   "source": [
    "ionisation = get_value(peakml_params, 'ionisation')\n",
    "add_scans = get_value(peakml_params, 'addscans')\n",
    "write_rejected = get_value(peakml_params, 'writeRejected')\n",
    "apodisation_filter = get_value(peakml_params, 'ApodisationFilter')\n",
    "ppm = get_value(peakml_params, 'ppm') # this doesn't seem to be set inside peakml_params ..?\n",
    "if ppm == 0:\n",
    "    ppm = 5"
   ]
  },
  {
   "cell_type": "code",
   "execution_count": 24,
   "metadata": {
    "collapsed": false
   },
   "outputs": [],
   "source": [
    "peakml_files = []\n",
    "regex = re.compile(re.escape('mzxml'), re.IGNORECASE)\n",
    "for single_fp in fp:\n",
    "    replaced = regex.sub('peakml', single_fp)\n",
    "    outfile = os.path.join(polarity_folder, os.path.basename(replaced))\n",
    "    peakml_files.append(outfile)"
   ]
  },
  {
   "cell_type": "code",
   "execution_count": 25,
   "metadata": {
    "collapsed": false
   },
   "outputs": [
    {
     "name": "stdout",
     "output_type": "stream",
     "text": [
      "['analysis_9/pos/Beer_4_full1.peakml', 'analysis_9/pos/Beer_4_full2.peakml', 'analysis_9/pos/Beer_4_full3.peakml', 'analysis_9/pos/Beer_1_full1.peakml', 'analysis_9/pos/Beer_1_full2.peakml', 'analysis_9/pos/Beer_1_full3.peakml', 'analysis_9/pos/Beer_2_full1.peakml', 'analysis_9/pos/Beer_2_full2.peakml', 'analysis_9/pos/Beer_2_full3.peakml', 'analysis_9/pos/Beer_3_full1.peakml', 'analysis_9/pos/Beer_3_full2.peakml', 'analysis_9/pos/Beer_3_full3.peakml']\n"
     ]
    }
   ],
   "source": [
    "print peakml_files"
   ]
  },
  {
   "cell_type": "code",
   "execution_count": 82,
   "metadata": {
    "collapsed": false
   },
   "outputs": [
    {
     "name": "stdout",
     "output_type": "stream",
     "text": [
      "analysis_9/pos\n",
      "analysis_9/pos\n"
     ]
    }
   ],
   "source": [
    "print polarity_dir\n",
    "print polarity_folder"
   ]
  },
  {
   "cell_type": "code",
   "execution_count": 26,
   "metadata": {
    "collapsed": false
   },
   "outputs": [],
   "source": [
    "polarity_dir = os.path.dirname(peakml_files[0])\n",
    "if not os.path.exists(polarity_dir):\n",
    "    os.makedirs(polarity_dir)"
   ]
  },
  {
   "cell_type": "code",
   "execution_count": 27,
   "metadata": {
    "collapsed": false
   },
   "outputs": [
    {
     "name": "stdout",
     "output_type": "stream",
     "text": [
      "Now creating analysis_9/pos/Beer_4_full1.peakml\n",
      "2016-09-16 12:25:40 9:INFO:PeakML.xcms.write.SingleInstance:positive\n",
      "2016-09-16 12:25:40 9:INFO:PeakML.xcms.write.SingleInstance:retrieving raw data\n",
      "2016-09-16 12:25:40 9:INFO:PeakML.xcms.write.SingleInstance:- /Users/joewandy/git/pimp/django_projects/pimp_data/projects/9/samples/POS/Beer_1_full1.mzXML\n",
      "2016-09-16 12:26:02 9:INFO::11539 peaks exported.\n",
      "Now creating analysis_9/pos/Beer_4_full2.peakml\n",
      "2016-09-16 12:26:03 9:INFO:PeakML.xcms.write.SingleInstance:positive\n",
      "2016-09-16 12:26:03 9:INFO:PeakML.xcms.write.SingleInstance:retrieving raw data\n",
      "2016-09-16 12:26:03 9:INFO:PeakML.xcms.write.SingleInstance:- /Users/joewandy/git/pimp/django_projects/pimp_data/projects/9/samples/POS/Beer_1_full2.mzXML\n",
      "2016-09-16 12:26:28 9:INFO::11471 peaks exported.\n",
      "Now creating analysis_9/pos/Beer_4_full3.peakml\n",
      "2016-09-16 12:26:29 9:INFO:PeakML.xcms.write.SingleInstance:positive\n",
      "2016-09-16 12:26:29 9:INFO:PeakML.xcms.write.SingleInstance:retrieving raw data\n",
      "2016-09-16 12:26:29 9:INFO:PeakML.xcms.write.SingleInstance:- /Users/joewandy/git/pimp/django_projects/pimp_data/projects/9/samples/POS/Beer_1_full3.mzXML\n",
      "2016-09-16 12:26:51 9:INFO::11522 peaks exported.\n",
      "Now creating analysis_9/pos/Beer_1_full1.peakml\n",
      "2016-09-16 12:26:51 9:INFO:PeakML.xcms.write.SingleInstance:positive\n",
      "2016-09-16 12:26:52 9:INFO:PeakML.xcms.write.SingleInstance:retrieving raw data\n",
      "2016-09-16 12:26:52 9:INFO:PeakML.xcms.write.SingleInstance:- /Users/joewandy/git/pimp/django_projects/pimp_data/projects/9/samples/POS/Beer_2_full1.mzXML\n",
      "2016-09-16 12:27:13 9:INFO::11382 peaks exported.\n",
      "Now creating analysis_9/pos/Beer_1_full2.peakml\n",
      "2016-09-16 12:27:13 9:INFO:PeakML.xcms.write.SingleInstance:positive\n",
      "2016-09-16 12:27:14 9:INFO:PeakML.xcms.write.SingleInstance:retrieving raw data\n",
      "2016-09-16 12:27:14 9:INFO:PeakML.xcms.write.SingleInstance:- /Users/joewandy/git/pimp/django_projects/pimp_data/projects/9/samples/POS/Beer_2_full2.mzXML\n",
      "2016-09-16 12:27:36 9:INFO::12014 peaks exported.\n",
      "Now creating analysis_9/pos/Beer_1_full3.peakml\n",
      "2016-09-16 12:27:37 9:INFO:PeakML.xcms.write.SingleInstance:positive\n",
      "2016-09-16 12:27:37 9:INFO:PeakML.xcms.write.SingleInstance:retrieving raw data\n",
      "2016-09-16 12:27:37 9:INFO:PeakML.xcms.write.SingleInstance:- /Users/joewandy/git/pimp/django_projects/pimp_data/projects/9/samples/POS/Beer_2_full3.mzXML\n",
      "2016-09-16 12:28:00 9:INFO::12288 peaks exported.\n",
      "Now creating analysis_9/pos/Beer_2_full1.peakml\n",
      "2016-09-16 12:28:01 9:INFO:PeakML.xcms.write.SingleInstance:positive\n",
      "2016-09-16 12:28:01 9:INFO:PeakML.xcms.write.SingleInstance:retrieving raw data\n",
      "2016-09-16 12:28:01 9:INFO:PeakML.xcms.write.SingleInstance:- /Users/joewandy/git/pimp/django_projects/pimp_data/projects/9/samples/POS/Beer_3_full1.mzXML\n",
      "2016-09-16 12:28:24 9:INFO::12153 peaks exported.\n",
      "Now creating analysis_9/pos/Beer_2_full2.peakml\n",
      "2016-09-16 12:28:25 9:INFO:PeakML.xcms.write.SingleInstance:positive\n",
      "2016-09-16 12:28:25 9:INFO:PeakML.xcms.write.SingleInstance:retrieving raw data\n",
      "2016-09-16 12:28:25 9:INFO:PeakML.xcms.write.SingleInstance:- /Users/joewandy/git/pimp/django_projects/pimp_data/projects/9/samples/POS/Beer_3_full2.mzXML\n",
      "2016-09-16 12:28:48 9:INFO::12390 peaks exported.\n",
      "Now creating analysis_9/pos/Beer_2_full3.peakml\n",
      "2016-09-16 12:28:49 9:INFO:PeakML.xcms.write.SingleInstance:positive\n",
      "2016-09-16 12:28:49 9:INFO:PeakML.xcms.write.SingleInstance:retrieving raw data\n",
      "2016-09-16 12:28:49 9:INFO:PeakML.xcms.write.SingleInstance:- /Users/joewandy/git/pimp/django_projects/pimp_data/projects/9/samples/POS/Beer_3_full3.mzXML\n",
      "2016-09-16 12:29:11 9:INFO::11874 peaks exported.\n",
      "Now creating analysis_9/pos/Beer_3_full1.peakml\n",
      "2016-09-16 12:29:12 9:INFO:PeakML.xcms.write.SingleInstance:positive\n",
      "2016-09-16 12:29:12 9:INFO:PeakML.xcms.write.SingleInstance:retrieving raw data\n",
      "2016-09-16 12:29:12 9:INFO:PeakML.xcms.write.SingleInstance:- /Users/joewandy/git/pimp/django_projects/pimp_data/projects/9/samples/POS/Beer_4_full1.mzXML\n",
      "2016-09-16 12:29:35 9:INFO::11896 peaks exported.\n",
      "Now creating analysis_9/pos/Beer_3_full2.peakml\n",
      "2016-09-16 12:29:35 9:INFO:PeakML.xcms.write.SingleInstance:positive\n",
      "2016-09-16 12:29:36 9:INFO:PeakML.xcms.write.SingleInstance:retrieving raw data\n",
      "2016-09-16 12:29:36 9:INFO:PeakML.xcms.write.SingleInstance:- /Users/joewandy/git/pimp/django_projects/pimp_data/projects/9/samples/POS/Beer_4_full2.mzXML\n",
      "2016-09-16 12:29:58 9:INFO::11729 peaks exported.\n",
      "Now creating analysis_9/pos/Beer_3_full3.peakml\n",
      "2016-09-16 12:29:58 9:INFO:PeakML.xcms.write.SingleInstance:positive\n",
      "2016-09-16 12:29:58 9:INFO:PeakML.xcms.write.SingleInstance:retrieving raw data\n",
      "2016-09-16 12:29:58 9:INFO:PeakML.xcms.write.SingleInstance:- /Users/joewandy/git/pimp/django_projects/pimp_data/projects/9/samples/POS/Beer_4_full3.mzXML\n",
      "2016-09-16 12:30:19 9:INFO::10883 peaks exported.\n"
     ]
    }
   ],
   "source": [
    "for i in range(len(peakml_files)):\n",
    "    print 'Now creating %s' % peakml_files[i]\n",
    "    write_peakml(xseto[i], outputfile=peakml_files[i], ionisation=ionisation, \n",
    "                 addscans=add_scans, writeRejected=write_rejected, \n",
    "                 ApodisationFilter=apodisation_filter, ppm=ppm)"
   ]
  },
  {
   "cell_type": "markdown",
   "metadata": {
    "collapsed": true
   },
   "source": [
    "## Combine"
   ]
  },
  {
   "cell_type": "markdown",
   "metadata": {},
   "source": [
    "Combine files by group, RSD filter if required (Not convinced we should be using this filter) and combine group files"
   ]
  },
  {
   "cell_type": "code",
   "execution_count": 52,
   "metadata": {
    "collapsed": false
   },
   "outputs": [
    {
     "name": "stdout",
     "output_type": "stream",
     "text": [
      "3.0 30 set\n"
     ]
    }
   ],
   "source": [
    "combine_ppm = float(get_value(mzmatch_params, 'ppm')[0])\n",
    "combine_rtwindow = int(get_value(mzmatch_params, 'rtwindow')[0])\n",
    "combine_combination = get_value(mzmatch_params, 'combination')[0]\n",
    "\n",
    "print combine_ppm, combine_rtwindow, combine_combination"
   ]
  },
  {
   "cell_type": "code",
   "execution_count": 29,
   "metadata": {
    "collapsed": true
   },
   "outputs": [],
   "source": [
    "def create_if_not_exist(directory):\n",
    "    if not os.path.exists(directory):\n",
    "        print 'Creating %s' % directory\n",
    "        os.makedirs(directory)"
   ]
  },
  {
   "cell_type": "code",
   "execution_count": 30,
   "metadata": {
    "collapsed": false
   },
   "outputs": [],
   "source": [
    "combined_dir = os.path.join(polarity_dir, 'combined')\n",
    "create_if_not_exist(combined_dir)"
   ]
  },
  {
   "cell_type": "code",
   "execution_count": 31,
   "metadata": {
    "collapsed": false
   },
   "outputs": [],
   "source": [
    "factors = pipeline.get_groups()"
   ]
  },
  {
   "cell_type": "code",
   "execution_count": 32,
   "metadata": {
    "collapsed": false
   },
   "outputs": [
    {
     "name": "stdout",
     "output_type": "stream",
     "text": [
      "[beer_smell with 2 levels, beer_colour with 2 levels, beer_taste with 3 levels]\n"
     ]
    }
   ],
   "source": [
    "print factors"
   ]
  },
  {
   "cell_type": "code",
   "execution_count": 33,
   "metadata": {
    "collapsed": false,
    "scrolled": true
   },
   "outputs": [
    {
     "name": "stdout",
     "output_type": "stream",
     "text": [
      "beer_smell\n",
      " - smell_good ['Beer_1_full1', 'Beer_1_full2', 'Beer_1_full3', 'Beer_2_full1', 'Beer_2_full2', 'Beer_2_full3', 'Beer_3_full1', 'Beer_3_full2', 'Beer_3_full3']\n",
      " - smell_bad ['Beer_4_full1', 'Beer_4_full2', 'Beer_4_full3']\n",
      "beer_colour\n",
      " - colour_dark ['Beer_1_full1', 'Beer_1_full2', 'Beer_1_full3', 'Beer_2_full1', 'Beer_2_full2', 'Beer_2_full3']\n",
      " - colour_light ['Beer_3_full1', 'Beer_3_full2', 'Beer_3_full3', 'Beer_4_full1', 'Beer_4_full2', 'Beer_4_full3']\n",
      "beer_taste\n",
      " - taste_delicious ['Beer_1_full1', 'Beer_1_full2', 'Beer_1_full3', 'Beer_2_full1', 'Beer_2_full2', 'Beer_2_full3']\n",
      " - taste_okay ['Beer_3_full1', 'Beer_3_full2', 'Beer_3_full3']\n",
      " - taste_awful ['Beer_4_full1', 'Beer_4_full2', 'Beer_4_full3']\n"
     ]
    }
   ],
   "source": [
    "dims = []\n",
    "for f in factors:\n",
    "    print f.label\n",
    "    for lev in f.levels:\n",
    "        print ' -', lev, f.level_files[lev]\n",
    "    dims.append(len(f.levels))"
   ]
  },
  {
   "cell_type": "code",
   "execution_count": 34,
   "metadata": {
    "collapsed": false
   },
   "outputs": [],
   "source": [
    "all_pos_files = pipeline.get_short_names('positive')"
   ]
  },
  {
   "cell_type": "code",
   "execution_count": 35,
   "metadata": {
    "collapsed": false
   },
   "outputs": [
    {
     "name": "stdout",
     "output_type": "stream",
     "text": [
      "(2, 2, 3)\n"
     ]
    }
   ],
   "source": [
    "mat = np.empty(dims, dtype=object)\n",
    "print mat.shape"
   ]
  },
  {
   "cell_type": "code",
   "execution_count": 36,
   "metadata": {
    "collapsed": false
   },
   "outputs": [],
   "source": [
    "def populate_tree(parent, factors):\n",
    "    depth = parent.depth + 1\n",
    "    if depth > len(factors)-1:\n",
    "        return\n",
    "    factor = factors[depth]\n",
    "    nodes = []\n",
    "    for level in factor.levels:\n",
    "        node = Tree(factor, level, depth, parent)\n",
    "        populate_tree(node, factors)\n",
    "        \n",
    "parent = Tree(None, 'root', -1, None)\n",
    "parent.level_files = set(pipeline.get_short_names('positive'))\n",
    "populate_tree(parent, factors)"
   ]
  },
  {
   "cell_type": "code",
   "execution_count": 37,
   "metadata": {
    "collapsed": false
   },
   "outputs": [
    {
     "name": "stdout",
     "output_type": "stream",
     "text": [
      "-1 None root : set(['Beer_3_full1', 'Beer_1_full2', 'Beer_1_full3', 'Beer_3_full2', 'Beer_1_full1', 'Beer_3_full3', 'Beer_4_full3', 'Beer_4_full2', 'Beer_4_full1', 'Beer_2_full1', 'Beer_2_full3', 'Beer_2_full2']) at []\n",
      "0 beer_smell with 2 levels smell_good : set(['Beer_2_full2', 'Beer_1_full3', 'Beer_1_full2', 'Beer_3_full1', 'Beer_3_full2', 'Beer_3_full3', 'Beer_2_full1', 'Beer_2_full3', 'Beer_1_full1']) at [0]\n",
      "\t1 beer_colour with 2 levels colour_dark : set(['Beer_1_full2', 'Beer_1_full3', 'Beer_1_full1', 'Beer_2_full1', 'Beer_2_full3', 'Beer_2_full2']) at [0, 0]\n",
      "\t\t2 beer_taste with 3 levels taste_delicious : set(['Beer_1_full2', 'Beer_1_full3', 'Beer_1_full1', 'Beer_2_full1', 'Beer_2_full3', 'Beer_2_full2']) at [0, 0, 0]\n",
      "\t\t2 beer_taste with 3 levels taste_okay : set([]) at [0, 0, 1]\n",
      "\t\t2 beer_taste with 3 levels taste_awful : set([]) at [0, 0, 2]\n",
      "\t1 beer_colour with 2 levels colour_light : set(['Beer_3_full1', 'Beer_3_full2', 'Beer_3_full3']) at [0, 1]\n",
      "\t\t2 beer_taste with 3 levels taste_delicious : set([]) at [0, 1, 0]\n",
      "\t\t2 beer_taste with 3 levels taste_okay : set(['Beer_3_full1', 'Beer_3_full2', 'Beer_3_full3']) at [0, 1, 1]\n",
      "\t\t2 beer_taste with 3 levels taste_awful : set([]) at [0, 1, 2]\n",
      "0 beer_smell with 2 levels smell_bad : set(['Beer_4_full3', 'Beer_4_full2', 'Beer_4_full1']) at [1]\n",
      "\t1 beer_colour with 2 levels colour_dark : set([]) at [1, 0]\n",
      "\t\t2 beer_taste with 3 levels taste_delicious : set([]) at [1, 0, 0]\n",
      "\t\t2 beer_taste with 3 levels taste_okay : set([]) at [1, 0, 1]\n",
      "\t\t2 beer_taste with 3 levels taste_awful : set([]) at [1, 0, 2]\n",
      "\t1 beer_colour with 2 levels colour_light : set(['Beer_4_full3', 'Beer_4_full2', 'Beer_4_full1']) at [1, 1]\n",
      "\t\t2 beer_taste with 3 levels taste_delicious : set([]) at [1, 1, 0]\n",
      "\t\t2 beer_taste with 3 levels taste_okay : set([]) at [1, 1, 1]\n",
      "\t\t2 beer_taste with 3 levels taste_awful : set(['Beer_4_full3', 'Beer_4_full2', 'Beer_4_full1']) at [1, 1, 2]\n",
      "\n"
     ]
    }
   ],
   "source": [
    "def print_tree(node, mat, coord):\n",
    "    if node.level_idx is not None:\n",
    "        coord.append(node.level_idx)\n",
    "    output = ''.join(['\\t' for i in range(node.depth)])\n",
    "    output += '%d %s %s : %s at %s\\n' % (node.depth, node.factor, node.level_label, \n",
    "                                         node.level_files, coord)\n",
    "    mat[tuple(coord)] = node.level_files # coord must be a tuple\n",
    "    for child in node.children:\n",
    "        new_coord = list(coord) # copy\n",
    "        output += print_tree(child, mat, new_coord)\n",
    "    return output\n",
    "\n",
    "output = print_tree(parent, mat, [])\n",
    "print output"
   ]
  },
  {
   "cell_type": "code",
   "execution_count": 38,
   "metadata": {
    "collapsed": false
   },
   "outputs": [
    {
     "name": "stdout",
     "output_type": "stream",
     "text": [
      "[[[ set(['Beer_1_full2', 'Beer_1_full3', 'Beer_1_full1', 'Beer_2_full1', 'Beer_2_full3', 'Beer_2_full2'])\n",
      "   set([]) set([])]\n",
      "  [set([]) set(['Beer_3_full1', 'Beer_3_full2', 'Beer_3_full3']) set([])]]\n",
      "\n",
      " [[set([]) set([]) set([])]\n",
      "  [set([]) set([]) set(['Beer_4_full3', 'Beer_4_full2', 'Beer_4_full1'])]]]\n"
     ]
    }
   ],
   "source": [
    "print mat"
   ]
  },
  {
   "cell_type": "code",
   "execution_count": 39,
   "metadata": {
    "collapsed": true
   },
   "outputs": [],
   "source": [
    "def index_to_string(factors, index):\n",
    "    assert len(factors) == len(index)\n",
    "    output = []\n",
    "    for d in range(len(factors)):\n",
    "        f = factors[d]\n",
    "        idx = index[d]\n",
    "        output.append(f.levels[idx])\n",
    "    return ','.join(output)"
   ]
  },
  {
   "cell_type": "code",
   "execution_count": 40,
   "metadata": {
    "collapsed": false
   },
   "outputs": [],
   "source": [
    "def write_combinations(factors, mat, out_file):\n",
    "    rows = []\n",
    "    with open(out_file, 'w') as f:    \n",
    "        i = 0\n",
    "        for index, files in np.ndenumerate(mat):\n",
    "\n",
    "            combi = 'combi_%s' % i\n",
    "            row = (combi, index, index_to_string(factors, index), list(files))\n",
    "            rows.append(row)\n",
    "            \n",
    "            s = '%s\\t%s\\t%s\\t%s\\n' % row\n",
    "            f.write(s)\n",
    "            i += 1\n",
    "    return rows"
   ]
  },
  {
   "cell_type": "code",
   "execution_count": 41,
   "metadata": {
    "collapsed": false
   },
   "outputs": [],
   "source": [
    "out_file = os.path.join(combined_dir, 'combined.tsv')\n",
    "combine_info = write_combinations(factors, mat, out_file)"
   ]
  },
  {
   "cell_type": "markdown",
   "metadata": {},
   "source": [
    "Create the various combined directories and copy the files to the right place"
   ]
  },
  {
   "cell_type": "code",
   "execution_count": 42,
   "metadata": {
    "collapsed": false
   },
   "outputs": [
    {
     "name": "stdout",
     "output_type": "stream",
     "text": [
      "analysis_9/pos\n"
     ]
    }
   ],
   "source": [
    "print polarity_dir"
   ]
  },
  {
   "cell_type": "code",
   "execution_count": 43,
   "metadata": {
    "collapsed": false
   },
   "outputs": [
    {
     "name": "stdout",
     "output_type": "stream",
     "text": [
      "('combi_0', (0, 0, 0), 'smell_good,colour_dark,taste_delicious', ['Beer_1_full2', 'Beer_1_full3', 'Beer_1_full1', 'Beer_2_full1', 'Beer_2_full3', 'Beer_2_full2'])\n",
      "('combi_1', (0, 0, 1), 'smell_good,colour_dark,taste_okay', [])\n",
      "('combi_2', (0, 0, 2), 'smell_good,colour_dark,taste_awful', [])\n",
      "('combi_3', (0, 1, 0), 'smell_good,colour_light,taste_delicious', [])\n",
      "('combi_4', (0, 1, 1), 'smell_good,colour_light,taste_okay', ['Beer_3_full1', 'Beer_3_full2', 'Beer_3_full3'])\n",
      "('combi_5', (0, 1, 2), 'smell_good,colour_light,taste_awful', [])\n",
      "('combi_6', (1, 0, 0), 'smell_bad,colour_dark,taste_delicious', [])\n",
      "('combi_7', (1, 0, 1), 'smell_bad,colour_dark,taste_okay', [])\n",
      "('combi_8', (1, 0, 2), 'smell_bad,colour_dark,taste_awful', [])\n",
      "('combi_9', (1, 1, 0), 'smell_bad,colour_light,taste_delicious', [])\n",
      "('combi_10', (1, 1, 1), 'smell_bad,colour_light,taste_okay', [])\n",
      "('combi_11', (1, 1, 2), 'smell_bad,colour_light,taste_awful', ['Beer_4_full3', 'Beer_4_full2', 'Beer_4_full1'])\n"
     ]
    }
   ],
   "source": [
    "def copy_files(polarity_dir, combined_dir, combine_info):\n",
    "\n",
    "    to_process = []\n",
    "    for row in combine_info:\n",
    "\n",
    "        print row\n",
    "        combi_label, coord, description, files = row\n",
    "\n",
    "        one_combination = os.path.join(combined_dir, combi_label)\n",
    "        if not os.path.exists(one_combination):\n",
    "            os.makedirs(one_combination)\n",
    "\n",
    "        # copy files\n",
    "        for f_name in files:\n",
    "            abs_dir = os.path.abspath(polarity_dir)\n",
    "            source = os.path.join(abs_dir, f_name + '.peakml')\n",
    "            target = one_combination\n",
    "            shutil.copy(source, target)    \n",
    "\n",
    "        to_process.append(one_combination)\n",
    "        \n",
    "    return to_process\n",
    "\n",
    "combination_paths = copy_files(polarity_dir, combined_dir, combine_info)"
   ]
  },
  {
   "cell_type": "markdown",
   "metadata": {
    "collapsed": true
   },
   "source": [
    "Start combining the files"
   ]
  },
  {
   "cell_type": "code",
   "execution_count": 80,
   "metadata": {
    "collapsed": false
   },
   "outputs": [
    {
     "ename": "LookupError",
     "evalue": "'Pimp.combineFiles' not found",
     "output_type": "error",
     "traceback": [
      "\u001b[0;31m---------------------------------------------------------------------------\u001b[0m",
      "\u001b[0;31mLookupError\u001b[0m                               Traceback (most recent call last)",
      "\u001b[0;32m<ipython-input-80-6b993520e11f>\u001b[0m in \u001b[0;36m<module>\u001b[0;34m()\u001b[0m\n\u001b[1;32m      2\u001b[0m \u001b[0;34m\u001b[0m\u001b[0m\n\u001b[1;32m      3\u001b[0m \u001b[0mimportr\u001b[0m\u001b[0;34m(\u001b[0m\u001b[0;34m'PiMP'\u001b[0m\u001b[0;34m)\u001b[0m\u001b[0;34m\u001b[0m\u001b[0m\n\u001b[0;32m----> 4\u001b[0;31m \u001b[0mcombine_peakml\u001b[0m \u001b[0;34m=\u001b[0m \u001b[0mrobjects\u001b[0m\u001b[0;34m.\u001b[0m\u001b[0mr\u001b[0m\u001b[0;34m[\u001b[0m\u001b[0;34m'Pimp.combineFiles'\u001b[0m\u001b[0;34m]\u001b[0m\u001b[0;34m\u001b[0m\u001b[0m\n\u001b[0m\u001b[1;32m      5\u001b[0m \u001b[0;31m# combine_peakml(i='a')\u001b[0m\u001b[0;34m\u001b[0m\u001b[0;34m\u001b[0m\u001b[0m\n",
      "\u001b[0;32m/Users/joewandy/git/pimp/venv/lib/python2.7/site-packages/rpy2/robjects/__init__.pyc\u001b[0m in \u001b[0;36m__getitem__\u001b[0;34m(self, item)\u001b[0m\n\u001b[1;32m    298\u001b[0m \u001b[0;34m\u001b[0m\u001b[0m\n\u001b[1;32m    299\u001b[0m     \u001b[0;32mdef\u001b[0m \u001b[0m__getitem__\u001b[0m\u001b[0;34m(\u001b[0m\u001b[0mself\u001b[0m\u001b[0;34m,\u001b[0m \u001b[0mitem\u001b[0m\u001b[0;34m)\u001b[0m\u001b[0;34m:\u001b[0m\u001b[0;34m\u001b[0m\u001b[0m\n\u001b[0;32m--> 300\u001b[0;31m         \u001b[0mres\u001b[0m \u001b[0;34m=\u001b[0m \u001b[0m_globalenv\u001b[0m\u001b[0;34m.\u001b[0m\u001b[0mget\u001b[0m\u001b[0;34m(\u001b[0m\u001b[0mitem\u001b[0m\u001b[0;34m)\u001b[0m\u001b[0;34m\u001b[0m\u001b[0m\n\u001b[0m\u001b[1;32m    301\u001b[0m         \u001b[0mres\u001b[0m \u001b[0;34m=\u001b[0m \u001b[0mconversion\u001b[0m\u001b[0;34m.\u001b[0m\u001b[0mri2ro\u001b[0m\u001b[0;34m(\u001b[0m\u001b[0mres\u001b[0m\u001b[0;34m)\u001b[0m\u001b[0;34m\u001b[0m\u001b[0m\n\u001b[1;32m    302\u001b[0m         \u001b[0;32mif\u001b[0m \u001b[0mhasattr\u001b[0m\u001b[0;34m(\u001b[0m\u001b[0mres\u001b[0m\u001b[0;34m,\u001b[0m \u001b[0;34m'__rname__'\u001b[0m\u001b[0;34m)\u001b[0m\u001b[0;34m:\u001b[0m\u001b[0;34m\u001b[0m\u001b[0m\n",
      "\u001b[0;31mLookupError\u001b[0m: 'Pimp.combineFiles' not found"
     ]
    }
   ],
   "source": [
    "from rpy2.robjects.packages import importr\n",
    "\n",
    "importr('PiMP')\n",
    "combine_peakml = robjects.r['Pimp.combineFiles']\n",
    "# combine_peakml(i='a')"
   ]
  },
  {
   "cell_type": "code",
   "execution_count": 65,
   "metadata": {
    "collapsed": false,
    "scrolled": false
   },
   "outputs": [
    {
     "ename": "LookupError",
     "evalue": "'.combinePeakmlFiles' not found",
     "output_type": "error",
     "traceback": [
      "\u001b[0;31m---------------------------------------------------------------------------\u001b[0m",
      "\u001b[0;31mLookupError\u001b[0m                               Traceback (most recent call last)",
      "\u001b[0;32m<ipython-input-65-fbd278ccb7ba>\u001b[0m in \u001b[0;36m<module>\u001b[0;34m()\u001b[0m\n\u001b[1;32m     22\u001b[0m \u001b[0mcombi_label\u001b[0m\u001b[0;34m,\u001b[0m \u001b[0mcoord\u001b[0m\u001b[0;34m,\u001b[0m \u001b[0mdescription\u001b[0m\u001b[0;34m,\u001b[0m \u001b[0mfiles\u001b[0m \u001b[0;34m=\u001b[0m \u001b[0mcombine_info\u001b[0m\u001b[0;34m[\u001b[0m\u001b[0;36m0\u001b[0m\u001b[0;34m]\u001b[0m\u001b[0;34m\u001b[0m\u001b[0m\n\u001b[1;32m     23\u001b[0m \u001b[0mone_combination\u001b[0m \u001b[0;34m=\u001b[0m \u001b[0mcombination_paths\u001b[0m\u001b[0;34m[\u001b[0m\u001b[0;36m0\u001b[0m\u001b[0;34m]\u001b[0m\u001b[0;34m\u001b[0m\u001b[0m\n\u001b[0;32m---> 24\u001b[0;31m \u001b[0mcombine_single_file\u001b[0m\u001b[0;34m(\u001b[0m\u001b[0mone_combination\u001b[0m\u001b[0;34m,\u001b[0m \u001b[0mcombined_dir\u001b[0m\u001b[0;34m,\u001b[0m \u001b[0mcombi_label\u001b[0m\u001b[0;34m,\u001b[0m \u001b[0mcombine_ppm\u001b[0m\u001b[0;34m,\u001b[0m \u001b[0mcombine_rtwindow\u001b[0m\u001b[0;34m,\u001b[0m \u001b[0mcombine_combination\u001b[0m\u001b[0;34m)\u001b[0m\u001b[0;34m\u001b[0m\u001b[0m\n\u001b[0m",
      "\u001b[0;32m<ipython-input-65-fbd278ccb7ba>\u001b[0m in \u001b[0;36mcombine_single_file\u001b[0;34m(one_combination, combined_dir, combi_label, combine_ppm, combine_rtwindow, combine_combination)\u001b[0m\n\u001b[1;32m      2\u001b[0m                         combine_ppm, combine_rtwindow, combine_combination):\n\u001b[1;32m      3\u001b[0m \u001b[0;34m\u001b[0m\u001b[0m\n\u001b[0;32m----> 4\u001b[0;31m     \u001b[0mcombine_peakml\u001b[0m \u001b[0;34m=\u001b[0m \u001b[0mrobjects\u001b[0m\u001b[0;34m.\u001b[0m\u001b[0mr\u001b[0m\u001b[0;34m[\u001b[0m\u001b[0;34m'.combinePeakmlFiles'\u001b[0m\u001b[0;34m]\u001b[0m\u001b[0;34m\u001b[0m\u001b[0m\n\u001b[0m\u001b[1;32m      5\u001b[0m \u001b[0;34m\u001b[0m\u001b[0m\n\u001b[1;32m      6\u001b[0m     \u001b[0mdir_content\u001b[0m \u001b[0;34m=\u001b[0m \u001b[0mos\u001b[0m\u001b[0;34m.\u001b[0m\u001b[0mlistdir\u001b[0m\u001b[0;34m(\u001b[0m\u001b[0mone_combination\u001b[0m\u001b[0;34m)\u001b[0m\u001b[0;34m\u001b[0m\u001b[0m\n",
      "\u001b[0;32m/Users/joewandy/git/pimp/venv/lib/python2.7/site-packages/rpy2/robjects/__init__.pyc\u001b[0m in \u001b[0;36m__getitem__\u001b[0;34m(self, item)\u001b[0m\n\u001b[1;32m    298\u001b[0m \u001b[0;34m\u001b[0m\u001b[0m\n\u001b[1;32m    299\u001b[0m     \u001b[0;32mdef\u001b[0m \u001b[0m__getitem__\u001b[0m\u001b[0;34m(\u001b[0m\u001b[0mself\u001b[0m\u001b[0;34m,\u001b[0m \u001b[0mitem\u001b[0m\u001b[0;34m)\u001b[0m\u001b[0;34m:\u001b[0m\u001b[0;34m\u001b[0m\u001b[0m\n\u001b[0;32m--> 300\u001b[0;31m         \u001b[0mres\u001b[0m \u001b[0;34m=\u001b[0m \u001b[0m_globalenv\u001b[0m\u001b[0;34m.\u001b[0m\u001b[0mget\u001b[0m\u001b[0;34m(\u001b[0m\u001b[0mitem\u001b[0m\u001b[0;34m)\u001b[0m\u001b[0;34m\u001b[0m\u001b[0m\n\u001b[0m\u001b[1;32m    301\u001b[0m         \u001b[0mres\u001b[0m \u001b[0;34m=\u001b[0m \u001b[0mconversion\u001b[0m\u001b[0;34m.\u001b[0m\u001b[0mri2ro\u001b[0m\u001b[0;34m(\u001b[0m\u001b[0mres\u001b[0m\u001b[0;34m)\u001b[0m\u001b[0;34m\u001b[0m\u001b[0m\n\u001b[1;32m    302\u001b[0m         \u001b[0;32mif\u001b[0m \u001b[0mhasattr\u001b[0m\u001b[0;34m(\u001b[0m\u001b[0mres\u001b[0m\u001b[0;34m,\u001b[0m \u001b[0;34m'__rname__'\u001b[0m\u001b[0;34m)\u001b[0m\u001b[0;34m:\u001b[0m\u001b[0;34m\u001b[0m\u001b[0m\n",
      "\u001b[0;31mLookupError\u001b[0m: '.combinePeakmlFiles' not found"
     ]
    }
   ],
   "source": [
    "def combine_single_file(one_combination, combined_dir, combi_label, \n",
    "                        combine_ppm, combine_rtwindow, combine_combination):\n",
    "    \n",
    "    combine_peakml = robjects.r['mzmatch.ipeak.Combine']\n",
    "        \n",
    "    dir_content = os.listdir(one_combination)\n",
    "    peakml_list = []\n",
    "    for item in dir_content:\n",
    "        if item.endswith(\".peakml\"):\n",
    "            full_path = os.path.abspath(item)\n",
    "            peakml_list.append(full_path)\n",
    "\n",
    "    peakml_list_str = ','.join(peakml_list)\n",
    "    out_file = os.path.join(combined_dir, combi_label + '.peakml')\n",
    "    print peakml_list_str, out_file, combi_label, combine_ppm, combine_rtwindow, combine_combination\n",
    "\n",
    "    combine_peakml(i=robjects.StrVector([peakml_list_str]))\n",
    "    \n",
    "#     combine_peakml(i=peakml_list_str, v=True, o=out_file, label=combi_label, \n",
    "#                   ppm=combine_ppm, rtwindow=combine_rtwindow, combination=combine_combination)\n",
    "        \n",
    "combi_label, coord, description, files = combine_info[0]\n",
    "one_combination = combination_paths[0]\n",
    "combine_single_file(one_combination, combined_dir, combi_label, combine_ppm, combine_rtwindow, combine_combination)"
   ]
  },
  {
   "cell_type": "code",
   "execution_count": 81,
   "metadata": {
    "collapsed": false,
    "scrolled": false
   },
   "outputs": [
    {
     "name": "stderr",
     "output_type": "stream",
     "text": [
      "/Users/joewandy/git/pimp/venv/lib/python2.7/site-packages/rpy2/robjects/functions.py:106: UserWarning: Error in as.character(matchCall[[1]]) : \n",
      "  cannot coerce type 'closure' to vector of type 'character'\n",
      "\n",
      "  res = super(Function, self).__call__(*new_args, **new_kwargs)\n",
      "\n",
      "WARNING 2016-09-16 12:10:04,593 functions.py:106 | /Users/joewandy/git/pimp/venv/lib/python2.7/site-packages/rpy2/robjects/functions.py:106: UserWarning: Error in as.character(matchCall[[1]]) : \n",
      "  cannot coerce type 'closure' to vector of type 'character'\n",
      "\n",
      "  res = super(Function, self).__call__(*new_args, **new_kwargs)\n",
      "\n",
      "/Users/joewandy/git/pimp/venv/lib/python2.7/site-packages/rpy2/robjects/functions.py:106: UserWarning: In addition: \n",
      "  res = super(Function, self).__call__(*new_args, **new_kwargs)\n",
      "\n",
      "WARNING 2016-09-16 12:10:04,595 functions.py:106 | /Users/joewandy/git/pimp/venv/lib/python2.7/site-packages/rpy2/robjects/functions.py:106: UserWarning: In addition: \n",
      "  res = super(Function, self).__call__(*new_args, **new_kwargs)\n",
      "\n",
      "/Users/joewandy/git/pimp/venv/lib/python2.7/site-packages/rpy2/robjects/functions.py:106: UserWarning: Warning messages:\n",
      "\n",
      "  res = super(Function, self).__call__(*new_args, **new_kwargs)\n",
      "\n",
      "WARNING 2016-09-16 12:10:04,597 functions.py:106 | /Users/joewandy/git/pimp/venv/lib/python2.7/site-packages/rpy2/robjects/functions.py:106: UserWarning: Warning messages:\n",
      "\n",
      "  res = super(Function, self).__call__(*new_args, **new_kwargs)\n",
      "\n",
      "/Users/joewandy/git/pimp/venv/lib/python2.7/site-packages/rpy2/robjects/functions.py:106: UserWarning: 1: \n",
      "  res = super(Function, self).__call__(*new_args, **new_kwargs)\n",
      "\n",
      "WARNING 2016-09-16 12:10:04,600 functions.py:106 | /Users/joewandy/git/pimp/venv/lib/python2.7/site-packages/rpy2/robjects/functions.py:106: UserWarning: 1: \n",
      "  res = super(Function, self).__call__(*new_args, **new_kwargs)\n",
      "\n",
      "/Users/joewandy/git/pimp/venv/lib/python2.7/site-packages/rpy2/robjects/functions.py:106: UserWarning: In .local(conn, statement, ...) :\n",
      "  res = super(Function, self).__call__(*new_args, **new_kwargs)\n",
      "\n",
      "WARNING 2016-09-16 12:10:04,602 functions.py:106 | /Users/joewandy/git/pimp/venv/lib/python2.7/site-packages/rpy2/robjects/functions.py:106: UserWarning: In .local(conn, statement, ...) :\n",
      "  res = super(Function, self).__call__(*new_args, **new_kwargs)\n",
      "\n",
      "/Users/joewandy/git/pimp/venv/lib/python2.7/site-packages/rpy2/robjects/functions.py:106: UserWarning: \n",
      " \n",
      "  res = super(Function, self).__call__(*new_args, **new_kwargs)\n",
      "\n",
      "WARNING 2016-09-16 12:10:04,604 functions.py:106 | /Users/joewandy/git/pimp/venv/lib/python2.7/site-packages/rpy2/robjects/functions.py:106: UserWarning: \n",
      " \n",
      "  res = super(Function, self).__call__(*new_args, **new_kwargs)\n",
      "\n",
      "/Users/joewandy/git/pimp/venv/lib/python2.7/site-packages/rpy2/robjects/functions.py:106: UserWarning:  Decimal MySQL column 1 imported as numeric\n",
      "\n",
      "  res = super(Function, self).__call__(*new_args, **new_kwargs)\n",
      "\n",
      "WARNING 2016-09-16 12:10:04,606 functions.py:106 | /Users/joewandy/git/pimp/venv/lib/python2.7/site-packages/rpy2/robjects/functions.py:106: UserWarning:  Decimal MySQL column 1 imported as numeric\n",
      "\n",
      "  res = super(Function, self).__call__(*new_args, **new_kwargs)\n",
      "\n",
      "/Users/joewandy/git/pimp/venv/lib/python2.7/site-packages/rpy2/robjects/functions.py:106: UserWarning: 2: \n",
      "  res = super(Function, self).__call__(*new_args, **new_kwargs)\n",
      "\n",
      "WARNING 2016-09-16 12:10:04,608 functions.py:106 | /Users/joewandy/git/pimp/venv/lib/python2.7/site-packages/rpy2/robjects/functions.py:106: UserWarning: 2: \n",
      "  res = super(Function, self).__call__(*new_args, **new_kwargs)\n",
      "\n",
      "/Users/joewandy/git/pimp/venv/lib/python2.7/site-packages/rpy2/robjects/functions.py:106: UserWarning: In dir.create(mzmatch.outputs$analysis.folder) :\n",
      "  res = super(Function, self).__call__(*new_args, **new_kwargs)\n",
      "\n",
      "WARNING 2016-09-16 12:10:04,610 functions.py:106 | /Users/joewandy/git/pimp/venv/lib/python2.7/site-packages/rpy2/robjects/functions.py:106: UserWarning: In dir.create(mzmatch.outputs$analysis.folder) :\n",
      "  res = super(Function, self).__call__(*new_args, **new_kwargs)\n",
      "\n",
      "/Users/joewandy/git/pimp/venv/lib/python2.7/site-packages/rpy2/robjects/functions.py:106: UserWarning:  'analysis_9' already exists\n",
      "\n",
      "  res = super(Function, self).__call__(*new_args, **new_kwargs)\n",
      "\n",
      "WARNING 2016-09-16 12:10:04,611 functions.py:106 | /Users/joewandy/git/pimp/venv/lib/python2.7/site-packages/rpy2/robjects/functions.py:106: UserWarning:  'analysis_9' already exists\n",
      "\n",
      "  res = super(Function, self).__call__(*new_args, **new_kwargs)\n",
      "\n",
      "/Users/joewandy/git/pimp/venv/lib/python2.7/site-packages/rpy2/robjects/functions.py:106: UserWarning: 3: \n",
      "  res = super(Function, self).__call__(*new_args, **new_kwargs)\n",
      "\n",
      "WARNING 2016-09-16 12:10:04,613 functions.py:106 | /Users/joewandy/git/pimp/venv/lib/python2.7/site-packages/rpy2/robjects/functions.py:106: UserWarning: 3: \n",
      "  res = super(Function, self).__call__(*new_args, **new_kwargs)\n",
      "\n",
      "/Users/joewandy/git/pimp/venv/lib/python2.7/site-packages/rpy2/robjects/functions.py:106: UserWarning: In which(is.na(as.numeric(as.character(data$actual_rt)))) :\n",
      "  res = super(Function, self).__call__(*new_args, **new_kwargs)\n",
      "\n",
      "WARNING 2016-09-16 12:10:04,614 functions.py:106 | /Users/joewandy/git/pimp/venv/lib/python2.7/site-packages/rpy2/robjects/functions.py:106: UserWarning: In which(is.na(as.numeric(as.character(data$actual_rt)))) :\n",
      "  res = super(Function, self).__call__(*new_args, **new_kwargs)\n",
      "\n",
      "/Users/joewandy/git/pimp/venv/lib/python2.7/site-packages/rpy2/robjects/functions.py:106: UserWarning:  NAs introduced by coercion\n",
      "\n",
      "  res = super(Function, self).__call__(*new_args, **new_kwargs)\n",
      "\n",
      "WARNING 2016-09-16 12:10:04,616 functions.py:106 | /Users/joewandy/git/pimp/venv/lib/python2.7/site-packages/rpy2/robjects/functions.py:106: UserWarning:  NAs introduced by coercion\n",
      "\n",
      "  res = super(Function, self).__call__(*new_args, **new_kwargs)\n",
      "\n",
      "/Users/joewandy/git/pimp/venv/lib/python2.7/site-packages/rpy2/robjects/functions.py:106: UserWarning: 4: \n",
      "  res = super(Function, self).__call__(*new_args, **new_kwargs)\n",
      "\n",
      "WARNING 2016-09-16 12:10:04,617 functions.py:106 | /Users/joewandy/git/pimp/venv/lib/python2.7/site-packages/rpy2/robjects/functions.py:106: UserWarning: 4: \n",
      "  res = super(Function, self).__call__(*new_args, **new_kwargs)\n",
      "\n",
      "/Users/joewandy/git/pimp/venv/lib/python2.7/site-packages/rpy2/robjects/functions.py:106: UserWarning: 5: \n",
      "  res = super(Function, self).__call__(*new_args, **new_kwargs)\n",
      "\n",
      "WARNING 2016-09-16 12:10:04,619 functions.py:106 | /Users/joewandy/git/pimp/venv/lib/python2.7/site-packages/rpy2/robjects/functions.py:106: UserWarning: 5: \n",
      "  res = super(Function, self).__call__(*new_args, **new_kwargs)\n",
      "\n"
     ]
    },
    {
     "name": "stdout",
     "output_type": "stream",
     "text": [
      "Processing analysis_9/pos/combined/combi_0\n",
      "[1] \"/Users/joewandy/git/pimp/django_projects/pimp_data/projects/9/Beer_1_full1.peakml\"\n",
      "[2] \"/Users/joewandy/git/pimp/django_projects/pimp_data/projects/9/Beer_1_full2.peakml\"\n",
      "[3] \"/Users/joewandy/git/pimp/django_projects/pimp_data/projects/9/Beer_1_full3.peakml\"\n",
      "[4] \"/Users/joewandy/git/pimp/django_projects/pimp_data/projects/9/Beer_2_full1.peakml\"\n",
      "[5] \"/Users/joewandy/git/pimp/django_projects/pimp_data/projects/9/Beer_2_full2.peakml\"\n",
      "[6] \"/Users/joewandy/git/pimp/django_projects/pimp_data/projects/9/Beer_2_full3.peakml\"\n",
      "\n"
     ]
    },
    {
     "ename": "RRuntimeError",
     "evalue": "Error in as.character(matchCall[[1]]) : \n  cannot coerce type 'closure' to vector of type 'character'\n",
     "output_type": "error",
     "traceback": [
      "\u001b[0;31m---------------------------------------------------------------------------\u001b[0m",
      "\u001b[0;31mRRuntimeError\u001b[0m                             Traceback (most recent call last)",
      "\u001b[0;32m<ipython-input-81-a4c0b57a3be9>\u001b[0m in \u001b[0;36m<module>\u001b[0;34m()\u001b[0m\n\u001b[1;32m     46\u001b[0m \u001b[0;34m\u001b[0m\u001b[0m\n\u001b[1;32m     47\u001b[0m combine_files(combine_info, combined_dir, combination_paths, \n\u001b[0;32m---> 48\u001b[0;31m               combine_ppm, combine_rtwindow, combine_combination)\n\u001b[0m",
      "\u001b[0;32m<ipython-input-81-a4c0b57a3be9>\u001b[0m in \u001b[0;36mcombine_files\u001b[0;34m(combine_info, combined_dir, combination_paths, combine_ppm, combine_rtwindow, combine_combination)\u001b[0m\n\u001b[1;32m     36\u001b[0m             \u001b[0mout_file\u001b[0m \u001b[0;34m=\u001b[0m \u001b[0mos\u001b[0m\u001b[0;34m.\u001b[0m\u001b[0mpath\u001b[0m\u001b[0;34m.\u001b[0m\u001b[0mjoin\u001b[0m\u001b[0;34m(\u001b[0m\u001b[0mcombined_dir\u001b[0m\u001b[0;34m,\u001b[0m \u001b[0mcombi_label\u001b[0m \u001b[0;34m+\u001b[0m \u001b[0;34m'.peakml'\u001b[0m\u001b[0;34m)\u001b[0m\u001b[0;34m\u001b[0m\u001b[0m\n\u001b[1;32m     37\u001b[0m             combine_peakml(i=peakml_list, v=True, o=out_file, label=combi_label, \n\u001b[0;32m---> 38\u001b[0;31m                           ppm=combine_ppm, rtwindow=combine_rtwindow, combination=combine_combination)\n\u001b[0m\u001b[1;32m     39\u001b[0m \u001b[0;34m\u001b[0m\u001b[0m\n\u001b[1;32m     40\u001b[0m             \u001b[0;32mbreak\u001b[0m\u001b[0;34m\u001b[0m\u001b[0m\n",
      "\u001b[0;32m/Users/joewandy/git/pimp/venv/lib/python2.7/site-packages/rpy2/robjects/functions.pyc\u001b[0m in \u001b[0;36m__call__\u001b[0;34m(self, *args, **kwargs)\u001b[0m\n\u001b[1;32m    176\u001b[0m                 \u001b[0mv\u001b[0m \u001b[0;34m=\u001b[0m \u001b[0mkwargs\u001b[0m\u001b[0;34m.\u001b[0m\u001b[0mpop\u001b[0m\u001b[0;34m(\u001b[0m\u001b[0mk\u001b[0m\u001b[0;34m)\u001b[0m\u001b[0;34m\u001b[0m\u001b[0m\n\u001b[1;32m    177\u001b[0m                 \u001b[0mkwargs\u001b[0m\u001b[0;34m[\u001b[0m\u001b[0mr_k\u001b[0m\u001b[0;34m]\u001b[0m \u001b[0;34m=\u001b[0m \u001b[0mv\u001b[0m\u001b[0;34m\u001b[0m\u001b[0m\n\u001b[0;32m--> 178\u001b[0;31m         \u001b[0;32mreturn\u001b[0m \u001b[0msuper\u001b[0m\u001b[0;34m(\u001b[0m\u001b[0mSignatureTranslatedFunction\u001b[0m\u001b[0;34m,\u001b[0m \u001b[0mself\u001b[0m\u001b[0;34m)\u001b[0m\u001b[0;34m.\u001b[0m\u001b[0m__call__\u001b[0m\u001b[0;34m(\u001b[0m\u001b[0;34m*\u001b[0m\u001b[0margs\u001b[0m\u001b[0;34m,\u001b[0m \u001b[0;34m**\u001b[0m\u001b[0mkwargs\u001b[0m\u001b[0;34m)\u001b[0m\u001b[0;34m\u001b[0m\u001b[0m\n\u001b[0m\u001b[1;32m    179\u001b[0m \u001b[0;34m\u001b[0m\u001b[0m\n\u001b[1;32m    180\u001b[0m \u001b[0mpattern_link\u001b[0m \u001b[0;34m=\u001b[0m \u001b[0mre\u001b[0m\u001b[0;34m.\u001b[0m\u001b[0mcompile\u001b[0m\u001b[0;34m(\u001b[0m\u001b[0;34mr'\\\\link\\{(.+?)\\}'\u001b[0m\u001b[0;34m)\u001b[0m\u001b[0;34m\u001b[0m\u001b[0m\n",
      "\u001b[0;32m/Users/joewandy/git/pimp/venv/lib/python2.7/site-packages/rpy2/robjects/functions.pyc\u001b[0m in \u001b[0;36m__call__\u001b[0;34m(self, *args, **kwargs)\u001b[0m\n\u001b[1;32m    104\u001b[0m         \u001b[0;32mfor\u001b[0m \u001b[0mk\u001b[0m\u001b[0;34m,\u001b[0m \u001b[0mv\u001b[0m \u001b[0;32min\u001b[0m \u001b[0mkwargs\u001b[0m\u001b[0;34m.\u001b[0m\u001b[0mitems\u001b[0m\u001b[0;34m(\u001b[0m\u001b[0;34m)\u001b[0m\u001b[0;34m:\u001b[0m\u001b[0;34m\u001b[0m\u001b[0m\n\u001b[1;32m    105\u001b[0m             \u001b[0mnew_kwargs\u001b[0m\u001b[0;34m[\u001b[0m\u001b[0mk\u001b[0m\u001b[0;34m]\u001b[0m \u001b[0;34m=\u001b[0m \u001b[0mconversion\u001b[0m\u001b[0;34m.\u001b[0m\u001b[0mpy2ri\u001b[0m\u001b[0;34m(\u001b[0m\u001b[0mv\u001b[0m\u001b[0;34m)\u001b[0m\u001b[0;34m\u001b[0m\u001b[0m\n\u001b[0;32m--> 106\u001b[0;31m         \u001b[0mres\u001b[0m \u001b[0;34m=\u001b[0m \u001b[0msuper\u001b[0m\u001b[0;34m(\u001b[0m\u001b[0mFunction\u001b[0m\u001b[0;34m,\u001b[0m \u001b[0mself\u001b[0m\u001b[0;34m)\u001b[0m\u001b[0;34m.\u001b[0m\u001b[0m__call__\u001b[0m\u001b[0;34m(\u001b[0m\u001b[0;34m*\u001b[0m\u001b[0mnew_args\u001b[0m\u001b[0;34m,\u001b[0m \u001b[0;34m**\u001b[0m\u001b[0mnew_kwargs\u001b[0m\u001b[0;34m)\u001b[0m\u001b[0;34m\u001b[0m\u001b[0m\n\u001b[0m\u001b[1;32m    107\u001b[0m         \u001b[0mres\u001b[0m \u001b[0;34m=\u001b[0m \u001b[0mconversion\u001b[0m\u001b[0;34m.\u001b[0m\u001b[0mri2ro\u001b[0m\u001b[0;34m(\u001b[0m\u001b[0mres\u001b[0m\u001b[0;34m)\u001b[0m\u001b[0;34m\u001b[0m\u001b[0m\n\u001b[1;32m    108\u001b[0m         \u001b[0;32mreturn\u001b[0m \u001b[0mres\u001b[0m\u001b[0;34m\u001b[0m\u001b[0m\n",
      "\u001b[0;31mRRuntimeError\u001b[0m: Error in as.character(matchCall[[1]]) : \n  cannot coerce type 'closure' to vector of type 'character'\n"
     ]
    }
   ],
   "source": [
    "def combine_files(combine_info, combined_dir, combination_paths, \n",
    "                  combine_ppm, combine_rtwindow, combine_combination):\n",
    "\n",
    "    assert len(combine_info) == len(combination_paths)    \n",
    "    for i in range(len(combine_info)):\n",
    "\n",
    "        combi_label, coord, description, files = combine_info[i]\n",
    "        one_combination = combination_paths[i]\n",
    "\n",
    "        if len(files) > 0:\n",
    "\n",
    "            print 'Processing', one_combination\n",
    "\n",
    "            out_path = get_formatted_value(mzmatch_outputs, 'combined.rsd.filtered.folder', subst='pos')\n",
    "            last = out_path.split('/')[-1]\n",
    "            filtered_dir = os.path.join(one_combination, last)\n",
    "\n",
    "            out_path = get_formatted_value(mzmatch_outputs, 'combined.rsd.rejected.folder', subst='pos')\n",
    "            last = out_path.split('/')[-1]\n",
    "            rej_dir = os.path.join(one_combination, last)\n",
    "\n",
    "            create_if_not_exist(filtered_dir)\n",
    "            create_if_not_exist(rej_dir)\n",
    "            \n",
    "            combine_single_file(one_combination, combined_dir, combi_label, \n",
    "                        combine_ppm, combine_rtwindow, combine_combination)\n",
    "            \n",
    "            break\n",
    "                    \n",
    "        else:\n",
    "            print 'Nothing to combine in', one_combination\n",
    "\n",
    "        print\n",
    "        \n",
    "combine_files(combine_info, combined_dir, combination_paths, \n",
    "              combine_ppm, combine_rtwindow, combine_combination)"
   ]
  },
  {
   "cell_type": "code",
   "execution_count": null,
   "metadata": {
    "collapsed": true
   },
   "outputs": [],
   "source": []
  }
 ],
 "metadata": {
  "kernelspec": {
   "display_name": "Django Shell-Plus",
   "language": "python",
   "name": "django_extensions"
  },
  "language_info": {
   "codemirror_mode": {
    "name": "ipython",
    "version": 2
   },
   "file_extension": ".py",
   "mimetype": "text/x-python",
   "name": "python",
   "nbconvert_exporter": "python",
   "pygments_lexer": "ipython2",
   "version": "2.7.10"
  }
 },
 "nbformat": 4,
 "nbformat_minor": 1
}
